{
 "cells": [
  {
   "attachments": {},
   "cell_type": "markdown",
   "metadata": {},
   "source": [
    "# Volume 1: Conditioning and Stability.\n",
    "    Ethan Crawford\n",
    "    Math 347\n",
    "    2/6/23\n",
    "\n",
    "Lab Objective: The condition number of a function measures how sensitive that function is to changes in the input. On the other hand, the stability of an algorithm measures how accurately that algorithm computes the value of a function from exact input. Both of these concepts are important for answering the crucial question, “is my computer telling the truth?” In this lab, I examine the conditioning of common linear algebra problems, including computing polynomial roots and matrix eigenvalues. I also present an example to demonstrate how two different algorithms for the same problem may not have the same level of stability.\n",
    "\n",
    "<hr>\n",
    "\n",
    "## Conditioning\n",
    "The *absolute condition number* of a function $f : \\R^m \\to \\R^n$ at a point $x \\in \\R^m$ is defined by \n",
    "\n",
    "$$ \\hat{\\kappa}(x) = \\lim_{\\delta \\to 0^{+}} \\sup_{\\|h\\| < \\delta} \\frac{\\|f(x+h) - f(x)\\|}{\\|h\\|} $$\n"
   ]
  },
  {
   "cell_type": "code",
   "execution_count": null,
   "metadata": {},
   "outputs": [],
   "source": []
  }
 ],
 "metadata": {
  "language_info": {
   "name": "python"
  },
  "orig_nbformat": 4
 },
 "nbformat": 4,
 "nbformat_minor": 2
}

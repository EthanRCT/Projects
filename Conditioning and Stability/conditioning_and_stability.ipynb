{
 "cells": [
  {
   "cell_type": "code",
   "execution_count": 27,
   "metadata": {},
   "outputs": [],
   "source": [
    "import numpy as np\n",
    "import sympy as sy\n",
    "import scipy.linalg as la\n",
    "import matplotlib.pyplot as plt\n",
    "import plotly.graph_objects as go\n",
    "from plotly.subplots import make_subplots\n",
    "from tqdm.auto import tqdm"
   ]
  },
  {
   "attachments": {},
   "cell_type": "markdown",
   "metadata": {},
   "source": [
    "# Volume 1: Conditioning and Stability.\n",
    "    Ethan Crawford\n",
    "    Math 347\n",
    "    2/6/23\n",
    "\n",
    "Lab Objective: The condition number of a function measures how sensitive that function is to changes in the input. On the other hand, the stability of an algorithm measures how accurately that algorithm computes the value of a function from exact input. Both of these concepts are important for answering the crucial question, “is my computer telling the truth?” In this lab, I examine the conditioning of common linear algebra problems, including computing polynomial roots and matrix eigenvalues. I also present an example to demonstrate how two different algorithms for the same problem may not have the same level of stability.\n",
    "\n",
    "<hr>\n",
    "\n",
    "## Conditioning\n",
    "\n",
    "The *absolute condition number* is a measure of how sensitive a function is to small perturbations in its input. Specifically, it is defined as the maximum ratio of the relative change in the function's output to the relative change in its input, over all possible perturbations.\n",
    "\n",
    "Mathematically, the *absolute condition number* of a function $f : \\R^m \\to \\R^n$ at a point $x \\in \\R^m$ is defined by \n",
    "\n",
    "$$ \\hat{\\kappa}(x) = \\lim_{\\delta \\to 0^{+}} \\sup_{\\|h\\| < \\delta} \\frac{\\|f(x+h) - f(x)\\|}{\\|h\\|} $$\n",
    "\n",
    "The absolute condition number measures the worst-case amplification of relative errors in the input to relative errors in the output. If the absolute condition number is very large, it means that small errors in the input can lead to very large errors in the output, and the function is said to be ill-conditioned. If the absolute condition number is close to 1, it means that small errors in the input lead to small errors in the output, and the function is said to be well-conditioned.\n",
    "\n",
    "Similarly, the *relative condition number* of $f$ is a measure of the sensitivity of a function's output to perturbations or errors in its input. It is defined as the ratio of the relative change in the output to the relative change in the input. Using the *absolute condition number* in the definition, is is defined as:\n",
    "\n",
    "$$ \\kappa(x) = \\lim_{\\delta \\to 0^{+}} \\sup_{\\|h\\| < \\delta} \\left( \\frac{\\|f(x+h) - f(x)\\|}{\\|h\\|} \\bigg/ \\frac{\\|x\\|}{\\|x\\|} \\right) = \\frac{\\|x\\|}{\\|f(x)\\|} \\hat{\\kappa}(x) $$\n",
    "\n",
    "The relative condition number tells us how much the output of a function changes relative to changes in the input, and it is often used to assess the stability and accuracy of numerical algorithms. A function with a large condition number is called *ill-conditioned*. Small changes to the input of an ill-conditioned function may produce large changes in output. It is important to know if a function is ill-conditioned because floating point representation almost always introduces some input error, and therefore the outputs of ill-conditioned functions cannot be trusted.\n",
    "\n",
    "The *condition number* of a matrix $A$, $\\kappa(A) = \\|A\\|\\|A^{-1}\\|$, is an upper bound on the condition\n",
    "number for many of the common problems associated with the matrix, such as solving the system\n",
    "$Ax = b$. If $A$ is square but not invertible, then $\\kappa(A) = \\infty$ by convention. To compute $\\kappa(A)$, we often\n",
    "use the matrix 2-norm, which is the largest singular value $\\sigma_{max}$ of $A$. Recall that if $\\sigma$ is a singular\n",
    "value of $A$, then $\\frac{1}{\\sigma}$ is a singular value of $A^{-1}$. Thus, we have that $$\\kappa(A) = \\frac{\\sigma_{max}}{\\sigma_{min}}$$ which is also a valid equation for non-square matrices.\n",
    "\n",
    "### Problem 1. \n",
    "- Write a function that accepts a matrix A and computes its condition number. Use *scipy.linalg.svd()*, or *scipy.linalg.svdvals()* to compute the singular values of $A$. If the smallest singular value is 0, return $\\infty$."
   ]
  },
  {
   "cell_type": "code",
   "execution_count": 4,
   "metadata": {},
   "outputs": [],
   "source": [
    "# Problem 1\n",
    "def matrix_cond(A):\n",
    "    \"\"\"Calculate the condition number of A with respect to the 2-norm.\"\"\"\n",
    "    # Find the eigenvalues of A\n",
    "    _, vals, _ = np.linalg.svd(A)\n",
    "\n",
    "    # Check for 0 eigenvalue being the lowest\n",
    "    if vals[-1] == 0:\n",
    "        return np.inf\n",
    "    else:\n",
    "        return vals[0]/vals[-1]"
   ]
  },
  {
   "attachments": {},
   "cell_type": "markdown",
   "metadata": {},
   "source": [
    "## The Wilkinson Polynomial\n",
    "Let $f : \\mathbb{C}^{n+1} \\to \\mathbb{C}^n$ be the function that maps a collection of $n + 1$ coefficients $(c_n, c_{n−1}, \\ldots, c_0)$ to the $n$ roots of the polynomial $c_nx^n + c_{n−1}x^{n−1} + \\ldots + c_2x^2 + c_1x + c_0$. Finding polynomial roots is an extremely ill-conditioned problem in general, so the condition number of f is likely very large. To see this, consider the Wilkinson polynomial, made famous by James H. Wilkinson in 1963:\n",
    "\n",
    "$$ w(x) = \\prod_{r=1}^{20} (x - r) = x^{20} - 210x^{19} + 20615x^{18} - 1256850x^{17} + \\cdots $$\n",
    "\n",
    "Let $\\tilde{w}(x)$ be $w(x)$ where the coefficient on $x^{19}$ is very slightly perturbed from $−210$ to $−209.9999999$.\n",
    "The following code computes and compares the roots of $\\tilde{w}(x)$ and $w(x)$ using NumPy and SymPy:"
   ]
  },
  {
   "cell_type": "code",
   "execution_count": 5,
   "metadata": {},
   "outputs": [],
   "source": [
    "def prob2():\n",
    "    \"\"\"Randomly perturb the coefficients of the Wilkinson polynomial by\n",
    "    replacing each coefficient c_i with c_i*r_i, where r_i is drawn from a\n",
    "    normal distribution centered at 1 with standard deviation 1e-10.\n",
    "    Plot the roots of 100 such experiments in a single figure, along with the\n",
    "    roots of the unperturbed polynomial w(x).\n",
    "\n",
    "    Returns:\n",
    "        (float) The average absolute condition number.\n",
    "        (float) The average relative condition number.\n",
    "    \"\"\"\n",
    "    # Get the exact Wilkinson polynomial coefficients using SymPy.\n",
    "    x, i = sy.symbols('x i')\n",
    "    w = sy.poly_from_expr(sy.product(x-i, (i, 1, 20)))[0]\n",
    "    w_coeffs = np.array(w.all_coeffs())\n",
    "\n",
    "    abs_cond = []\n",
    "    rel_cond = []\n",
    "    fig = go.Figure()\n",
    "    showlegend = False\n",
    "    for i in range(100):\n",
    "        if i == 99:\n",
    "            showlegend = True\n",
    "        # Perturb the coefficients of the Wilkinson Polynomial slightly\n",
    "        r = np.random.normal(1, 1e-10, 21)\n",
    "        c_coeffs = w_coeffs*r\n",
    "\n",
    "        # Get and sort perturbed roots\n",
    "        c_roots = np.sort(np.roots(np.poly1d(c_coeffs)))\n",
    "        new_roots = np.sort(np.roots(np.poly1d(w_coeffs)))\n",
    "\n",
    "        # Create scatter trace for perturbed roots\n",
    "        trace = go.Scatter(x=c_roots.real, y=c_roots.imag, \n",
    "                           mode='markers', \n",
    "                           marker=dict(size=5, opacity=0.4, color='#ff7f0e'),\n",
    "                           name='Perturbed', showlegend=showlegend)\n",
    "        fig.add_trace(trace)\n",
    "        \n",
    "        # Find relative and absolute condition number\n",
    "        a = np.linalg.norm((new_roots - c_roots), np.inf)/np.linalg.norm(r, np.inf)\n",
    "        abs_cond.append(a)\n",
    "        rel_cond.append(a*np.linalg.norm((w_coeffs), np.inf)/np.linalg.norm(new_roots, np.inf))\n",
    "\n",
    "    # Calculate the mean of the absolute and relative condition numbers\n",
    "    mean_abs_cond = np.mean(abs_cond)\n",
    "    mean_rel_cond = np.mean(rel_cond)\n",
    "    # Create scatter trace for unperturbed roots\n",
    "    trace = go.Scatter(x=new_roots.real, y=new_roots.imag, \n",
    "                       mode='markers', \n",
    "                       marker=dict(size=5, color='slateblue'),\n",
    "                       name='Unperturbed')\n",
    "    fig.add_trace(trace)\n",
    "    \n",
    "    # Set layout\n",
    "    fig.update_layout(title='Perturbed Wilkinson Polynomial Coefficients', \n",
    "                      showlegend=True, \n",
    "                      xaxis_title=\"x\", \n",
    "                      yaxis_title=\"y\")\n",
    "    \n",
    "    \n",
    "    fig.add_annotation(dict(font=dict(size=12),\n",
    "                                        x=-0.07,\n",
    "                                        y=-0.15,\n",
    "                                        showarrow=False,\n",
    "                                        text=f'Average Relative Condition Number: {mean_rel_cond}',\n",
    "                                        textangle=0,\n",
    "                                        xanchor='left',\n",
    "                                        xref=\"paper\",\n",
    "                                        yref=\"paper\"))\n",
    "    fig.add_annotation(dict(font=dict(size=12),\n",
    "                                        x=-0.07,\n",
    "                                        y=-0.22,\n",
    "                                        showarrow=False,\n",
    "                                        text=f'Average Absolute Condition Number: {mean_abs_cond}',\n",
    "                                        textangle=0,\n",
    "                                        xanchor='left',\n",
    "                                        xref=\"paper\",\n",
    "                                        yref=\"paper\"))\n",
    "    \n",
    "    # Show plot\n",
    "    fig.show()\n",
    "\n",
    "    return mean_abs_cond, mean_rel_cond"
   ]
  },
  {
   "cell_type": "code",
   "execution_count": 6,
   "metadata": {},
   "outputs": [
    {
     "data": {
      "application/vnd.plotly.v1+json": {
       "config": {
        "plotlyServerURL": "https://plot.ly"
       },
       "data": [
        {
         "marker": {
          "color": "#ff7f0e",
          "opacity": 0.4,
          "size": 5
         },
         "mode": "markers",
         "name": "Perturbed",
         "showlegend": false,
         "type": "scatter",
         "x": [
          0.9999999674320564,
          2.0000042885795195,
          2.9997768337752393,
          4.007163384053241,
          4.9122732099248205,
          6.299803979262403,
          6.299803979262403,
          6.584988766427076,
          7.9034862868647915,
          7.9034862868647915,
          10.038050170363817,
          10.038050170363817,
          12.918989456759935,
          12.918989456759935,
          16.349450559523298,
          16.349450559523298,
          19.503040682883043,
          19.503040682883043,
          21.23507563565191,
          21.23507563565191
         ],
         "y": [
          0,
          0,
          0,
          0,
          0,
          -0.7633757540267354,
          0.7633757540267354,
          0,
          -2.40136083268339,
          2.40136083268339,
          -3.848941916640688,
          3.848941916640688,
          -4.867501934264377,
          4.867501934264377,
          -4.88599643943551,
          4.88599643943551,
          -3.4808277299885955,
          3.4808277299885955,
          -1.1601183028831732,
          1.1601183028831732
         ]
        },
        {
         "marker": {
          "color": "#ff7f0e",
          "opacity": 0.4,
          "size": 5
         },
         "mode": "markers",
         "name": "Perturbed",
         "showlegend": false,
         "type": "scatter",
         "x": [
          1.0000000254935193,
          1.9999917517961787,
          3.0003927172578013,
          3.9951687957347484,
          4.978006521327543,
          5.920903715993953,
          5.920903715993953,
          7.354944365244849,
          7.354944365244849,
          9.30122988055577,
          9.30122988055577,
          11.76850872943747,
          11.76850872943747,
          14.739978827483998,
          14.739978827483998,
          17.714534862344063,
          17.714534862344063,
          20.098189643358914,
          20.098189643358914,
          21.229860191546635
         ],
         "y": [
          0,
          0,
          0,
          0,
          0,
          -0.6405429160137411,
          0.6405429160137411,
          -1.8956574083027422,
          1.8956574083027422,
          -3.0850705460596424,
          3.0850705460596424,
          -4.022836264890539,
          4.022836264890539,
          -4.349893666097283,
          4.349893666097283,
          -3.668660854850154,
          3.668660854850154,
          -2.1936700637349498,
          2.1936700637349498,
          0
         ]
        },
        {
         "marker": {
          "color": "#ff7f0e",
          "opacity": 0.4,
          "size": 5
         },
         "mode": "markers",
         "name": "Perturbed",
         "showlegend": false,
         "type": "scatter",
         "x": [
          1.000000009600952,
          1.9999983248926851,
          3.000187982043892,
          3.9927325628229235,
          5.217620691458101,
          5.217620691458101,
          6.463597537704729,
          6.463597537704729,
          7.954401678201201,
          7.954401678201201,
          9.994737394870015,
          9.994737394870015,
          12.75183842203997,
          12.75183842203997,
          16.108121243030453,
          16.108121243030453,
          19.54724653676913,
          19.54724653676913,
          21.96597706785481,
          21.96597706785481
         ],
         "y": [
          0,
          0,
          0,
          0,
          -0.22727063263558434,
          0.22727063263558434,
          -1.36186743886352,
          1.36186743886352,
          -2.638128468628799,
          2.638128468628799,
          -3.9875352395223445,
          3.9875352395223445,
          -5.045076595354724,
          5.045076595354724,
          -5.290999491821216,
          5.290999491821216,
          -4.227855353447066,
          4.227855353447066,
          -1.6527773516681137,
          1.6527773516681137
         ]
        },
        {
         "marker": {
          "color": "#ff7f0e",
          "opacity": 0.4,
          "size": 5
         },
         "mode": "markers",
         "name": "Perturbed",
         "showlegend": false,
         "type": "scatter",
         "x": [
          0.999999999637659,
          2.0000007834414406,
          2.999983458283546,
          4.000470152369949,
          4.9821736503241425,
          6.1530142934680825,
          6.1530142934680825,
          7.651042574973236,
          7.651042574973236,
          9.690320736805688,
          9.690320736805688,
          10.458726715258102,
          12.30563991510153,
          12.30563991510153,
          15.59734958745809,
          15.59734958745809,
          19.1722768709226,
          19.1722768709226,
          21.709678630601218,
          21.709678630601218
         ],
         "y": [
          0,
          0,
          0,
          0,
          0,
          -0.410422434678428,
          0.410422434678428,
          -1.5678779911415068,
          1.5678779911415068,
          -2.887432855925105,
          2.887432855925105,
          0,
          -4.1915987980927785,
          4.1915987980927785,
          -4.835521936250013,
          4.835521936250013,
          -4.062545510306217,
          4.062545510306217,
          -1.6056546625989108,
          1.6056546625989108
         ]
        },
        {
         "marker": {
          "color": "#ff7f0e",
          "opacity": 0.4,
          "size": 5
         },
         "mode": "markers",
         "name": "Perturbed",
         "showlegend": false,
         "type": "scatter",
         "x": [
          0.9999999878890551,
          2.0000034270289597,
          2.999827171016555,
          4.001127377581117,
          5.073289815022167,
          5.517116094513666,
          6.639585005378869,
          6.639585005378869,
          8.474787064159813,
          8.474787064159813,
          9.862885174499146,
          10.928232310805813,
          10.928232310805813,
          14.066328997959577,
          14.066328997959577,
          17.70140473724024,
          17.70140473724024,
          20.873054400223744,
          20.873054400223744,
          22.178965971002775
         ],
         "y": [
          0,
          0,
          0,
          0,
          0,
          0,
          -1.2869634604324331,
          1.2869634604324331,
          -2.6743098609161238,
          2.6743098609161238,
          0,
          -4.1269584395632775,
          4.1269584395632775,
          -5.0955361759190705,
          5.0955361759190705,
          -4.885917382438211,
          4.885917382438211,
          -3.037328193743338,
          3.037328193743338,
          0
         ]
        },
        {
         "marker": {
          "color": "#ff7f0e",
          "opacity": 0.4,
          "size": 5
         },
         "mode": "markers",
         "name": "Perturbed",
         "showlegend": false,
         "type": "scatter",
         "x": [
          0.9999999564953764,
          2.0000043609395672,
          2.9999204699564346,
          3.9970705330507483,
          5.229708039778011,
          5.229708039778011,
          6.536726393902894,
          6.536726393902894,
          8.216887475895813,
          8.216887475895813,
          10.29135027682068,
          10.29135027682068,
          12.768399710234533,
          12.768399710234533,
          15.955924396377812,
          15.955924396377812,
          19.353460187701764,
          19.353460187701764,
          21.649045820055157,
          21.649045820055157
         ],
         "y": [
          0,
          0,
          0,
          0,
          -0.16918078978068554,
          0.16918078978068554,
          -1.3758358177787795,
          1.3758358177787795,
          -2.574555632213209,
          2.574555632213209,
          -3.623347331585486,
          3.623347331585486,
          -4.541270344480879,
          4.541270344480879,
          -4.924952722391826,
          4.924952722391826,
          -3.9415285475880433,
          3.9415285475880433,
          -1.5048342601440543,
          1.5048342601440543
         ]
        },
        {
         "marker": {
          "color": "#ff7f0e",
          "opacity": 0.4,
          "size": 5
         },
         "mode": "markers",
         "name": "Perturbed",
         "showlegend": false,
         "type": "scatter",
         "x": [
          0.999999946181944,
          2.0000032476640937,
          2.999981765328878,
          4.0003300627989296,
          4.995878330959433,
          5.820195382189533,
          6.5156853469087705,
          6.5156853469087705,
          7.877156197835606,
          7.877156197835606,
          9.875652663771447,
          9.875652663771447,
          12.598783810097082,
          12.598783810097082,
          16.000956582431414,
          16.000956582431414,
          19.595351712168622,
          19.595351712168622,
          22.128219301519163,
          22.128219301519163
         ],
         "y": [
          0,
          0,
          0,
          0,
          0,
          0,
          -1.0057458682055842,
          1.0057458682055842,
          -2.4416894641409876,
          2.4416894641409876,
          -3.893509426244656,
          3.893509426244656,
          -5.055423538121218,
          5.055423538121218,
          -5.441072614464039,
          5.441072614464039,
          -4.420266267547602,
          4.420266267547602,
          -1.7355163561590135,
          1.7355163561590135
         ]
        },
        {
         "marker": {
          "color": "#ff7f0e",
          "opacity": 0.4,
          "size": 5
         },
         "mode": "markers",
         "name": "Perturbed",
         "showlegend": false,
         "type": "scatter",
         "x": [
          0.9999999938166722,
          1.9999975251579054,
          3.000288278114223,
          3.989759463950698,
          5.196271225016146,
          5.196271225016146,
          6.497673243742726,
          6.497673243742726,
          8.112096784982612,
          8.112096784982612,
          10.326668141488613,
          10.326668141488613,
          13.240430265271055,
          13.240430265271055,
          16.549853069686044,
          16.549853069686044,
          19.35994808689878,
          19.35994808689878,
          20.722036582819165,
          20.722036582819165
         ],
         "y": [
          0,
          0,
          0,
          0,
          -0.2922789827048278,
          0.2922789827048278,
          -1.416812806070097,
          1.416812806070097,
          -2.6718897133468578,
          2.6718897133468578,
          -3.908687456013833,
          3.908687456013833,
          -4.681899066651725,
          4.681899066651725,
          -4.42545180731914,
          4.42545180731914,
          -2.883235416440926,
          2.883235416440926,
          -0.846568245864966,
          0.846568245864966
         ]
        },
        {
         "marker": {
          "color": "#ff7f0e",
          "opacity": 0.4,
          "size": 5
         },
         "mode": "markers",
         "name": "Perturbed",
         "showlegend": false,
         "type": "scatter",
         "x": [
          0.9999999835965672,
          2.0000047699500847,
          2.9996088609384612,
          4.015415201454117,
          4.809789931940995,
          5.7842351920125505,
          5.7842351920125505,
          7.233757252607676,
          7.233757252607676,
          9.156350653670742,
          9.156350653670742,
          11.725678306458377,
          11.725678306458377,
          14.737200953279737,
          14.737200953279737,
          17.647988214895168,
          17.647988214895168,
          20.427814237671086,
          20.427814237671086,
          21.7491316431326
         ],
         "y": [
          0,
          0,
          0,
          0,
          0,
          -0.9199076010180529,
          0.9199076010180529,
          -2.1129186205711936,
          2.1129186205711936,
          -3.367655254160663,
          3.367655254160663,
          -4.373690458183936,
          4.373690458183936,
          -4.620776419002934,
          4.620776419002934,
          -4.107290290708039,
          4.107290290708039,
          -2.6804420916778806,
          2.6804420916778806,
          0
         ]
        },
        {
         "marker": {
          "color": "#ff7f0e",
          "opacity": 0.4,
          "size": 5
         },
         "mode": "markers",
         "name": "Perturbed",
         "showlegend": false,
         "type": "scatter",
         "x": [
          0.9999999983676962,
          2.000000471766255,
          2.9998965042124675,
          4.005230673069394,
          4.914628681510286,
          6.0368076140735365,
          6.0368076140735365,
          7.72928191012384,
          7.72928191012384,
          8.183574245387023,
          9.751255129438558,
          9.751255129438558,
          12.451432422877069,
          12.451432422877069,
          15.88704506526408,
          15.88704506526408,
          19.520720290093017,
          19.520720290093017,
          22.07179227889926,
          22.07179227889926
         ],
         "y": [
          0,
          0,
          0,
          0,
          0,
          -0.7067551262950953,
          0.7067551262950953,
          -2.0410358701312723,
          2.0410358701312723,
          0,
          -3.593703980015495,
          3.593703980015495,
          -4.8861331343652115,
          4.8861331343652115,
          -5.36907819955679,
          5.36907819955679,
          -4.388358385480153,
          4.388358385480153,
          -1.7246919307752298,
          1.7246919307752298
         ]
        },
        {
         "marker": {
          "color": "#ff7f0e",
          "opacity": 0.4,
          "size": 5
         },
         "mode": "markers",
         "name": "Perturbed",
         "showlegend": false,
         "type": "scatter",
         "x": [
          0.9999999885189299,
          1.9999983677230349,
          3.0001081981044013,
          3.9990382650859932,
          4.970143987931668,
          5.962819222451708,
          5.962819222451708,
          7.291880297232133,
          7.291880297232133,
          9.101131651557804,
          9.101131651557804,
          11.644690722755083,
          11.644690722755083,
          15.019434019202844,
          15.019434019202844,
          17.553394857111925,
          18.633740305389438,
          18.633740305389438,
          21.084961953287024,
          21.084961953287024
         ],
         "y": [
          0,
          0,
          0,
          0,
          0,
          -0.5940497915112448,
          0.5940497915112448,
          -1.815224696075898,
          1.815224696075898,
          -3.138782797449827,
          3.138782797449827,
          -4.335801311197621,
          4.335801311197621,
          -4.779221440524929,
          4.779221440524929,
          0,
          -3.734114206139795,
          3.734114206139795,
          -1.3624566783541432,
          1.3624566783541432
         ]
        },
        {
         "marker": {
          "color": "#ff7f0e",
          "opacity": 0.4,
          "size": 5
         },
         "mode": "markers",
         "name": "Perturbed",
         "showlegend": false,
         "type": "scatter",
         "x": [
          0.9999999674988089,
          2.0000076797720725,
          2.9996334241780525,
          4.00440890154463,
          5.098764545948458,
          5.376485691640194,
          6.425640511983089,
          6.425640511983089,
          8.070914209290297,
          8.070914209290297,
          10.362051578333144,
          10.362051578333144,
          13.406991278341454,
          13.406991278341454,
          17.00817122279077,
          17.01203553613168,
          17.01203553613168,
          20.215880383899684,
          20.215880383899684,
          21.525501563017727
         ],
         "y": [
          0,
          0,
          0,
          0,
          0,
          0,
          -1.381451235739887,
          1.381451235739887,
          -2.735871715473784,
          2.735871715473784,
          -4.000179196732366,
          4.000179196732366,
          -4.785566270011079,
          4.785566270011079,
          0,
          -4.46629372457493,
          4.46629372457493,
          -2.6788195191768587,
          2.6788195191768587,
          0
         ]
        },
        {
         "marker": {
          "color": "#ff7f0e",
          "opacity": 0.4,
          "size": 5
         },
         "mode": "markers",
         "name": "Perturbed",
         "showlegend": false,
         "type": "scatter",
         "x": [
          0.9999999787360973,
          2.0000029009211473,
          2.9997978499708347,
          4.011013622994275,
          4.821830763740979,
          5.738760384214719,
          5.738760384214719,
          7.145479031085799,
          7.145479031085799,
          9.0713897214433,
          9.0713897214433,
          11.677543796800197,
          11.677543796800197,
          14.766960415341584,
          14.766960415341584,
          17.80338525714152,
          17.80338525714152,
          20.51625362633142,
          20.51625362633142,
          21.72781038723958
         ],
         "y": [
          0,
          0,
          0,
          0,
          0,
          -0.9193224719609996,
          0.9193224719609996,
          -2.167475667234207,
          2.167475667234207,
          -3.4847039809010423,
          3.4847039809010423,
          -4.539973962699616,
          4.539973962699616,
          -4.820497065961612,
          4.820497065961612,
          -4.2229961833382665,
          4.2229961833382665,
          -2.633551481797213,
          2.633551481797213,
          0
         ]
        },
        {
         "marker": {
          "color": "#ff7f0e",
          "opacity": 0.4,
          "size": 5
         },
         "mode": "markers",
         "name": "Perturbed",
         "showlegend": false,
         "type": "scatter",
         "x": [
          0.9999999705535756,
          2.000007508570261,
          2.9996380375853073,
          4.007395739879229,
          4.937609224108797,
          6.093601949832886,
          6.543893770779029,
          6.543893770779029,
          7.995311766342105,
          7.995311766342105,
          9.95215549392007,
          9.95215549392007,
          12.588193990497022,
          12.588193990497022,
          15.948548324415915,
          15.948548324415915,
          19.50226448494295,
          19.50226448494295,
          21.9505059379838,
          21.9505059379838
         ],
         "y": [
          0,
          0,
          0,
          0,
          0,
          0,
          -0.858485003557602,
          0.858485003557602,
          -2.305357336727521,
          2.305357336727521,
          -3.6793465669802528,
          3.6793465669802528,
          -4.839685103099366,
          4.839685103099366,
          -5.263741800149478,
          5.263741800149478,
          -4.256165199406808,
          4.256165199406808,
          -1.6509409704958569,
          1.6509409704958569
         ]
        },
        {
         "marker": {
          "color": "#ff7f0e",
          "opacity": 0.4,
          "size": 5
         },
         "mode": "markers",
         "name": "Perturbed",
         "showlegend": false,
         "type": "scatter",
         "x": [
          1.0000000228314077,
          1.999998225145893,
          3.000025442177327,
          4.0005406838957125,
          4.981070382687514,
          6.366919265035749,
          6.366919265035749,
          7.238169680078872,
          8.124600228868315,
          8.124600228868315,
          10.115334204568867,
          10.115334204568867,
          12.77930661422183,
          12.77930661422183,
          16.00225831162815,
          16.00225831162815,
          19.181046290802172,
          19.181046290802172,
          21.32063285066929,
          21.32063285066929
         ],
         "y": [
          0,
          0,
          0,
          0,
          0,
          -0.20580019560040902,
          0.20580019560040902,
          0,
          -1.9077420434944368,
          1.9077420434944368,
          -3.3116004262468626,
          3.3116004262468626,
          -4.363693541631014,
          4.363693541631014,
          -4.591169027506241,
          4.591169027506241,
          -3.5680734869060364,
          3.5680734869060364,
          -1.3544868956379597,
          1.3544868956379597
         ]
        },
        {
         "marker": {
          "color": "#ff7f0e",
          "opacity": 0.4,
          "size": 5
         },
         "mode": "markers",
         "name": "Perturbed",
         "showlegend": false,
         "type": "scatter",
         "x": [
          0.9999999726533606,
          2.0000061159234557,
          2.9997014261691395,
          4.006509222075272,
          4.932216606726054,
          6.186124018340231,
          6.186124018340231,
          8.137889747007124,
          8.137889747007124,
          9.67024241028604,
          9.67024241028604,
          10.976995443425427,
          10.976995443425427,
          13.89584697886647,
          13.89584697886647,
          17.33291981007806,
          17.33291981007806,
          20.440064193257307,
          20.440064193257307,
          21.781401491576716
         ],
         "y": [
          0,
          0,
          0,
          0,
          0,
          -0.5551669675753695,
          0.5551669675753695,
          -1.4922681046108353,
          1.4922681046108353,
          -1.2054471844005787,
          1.2054471844005787,
          -3.1846442707429503,
          3.1846442707429503,
          -4.324858471504795,
          4.324858471504795,
          -4.324226584859944,
          4.324226584859944,
          -2.7734624402254004,
          2.7734624402254004,
          0
         ]
        },
        {
         "marker": {
          "color": "#ff7f0e",
          "opacity": 0.4,
          "size": 5
         },
         "mode": "markers",
         "name": "Perturbed",
         "showlegend": false,
         "type": "scatter",
         "x": [
          1.0000000343219806,
          1.9999957790986174,
          3.000247714716838,
          3.9924449534417525,
          5.277104229965051,
          5.277104229965051,
          6.803679058779696,
          6.803679058779696,
          8.51705755632645,
          8.697333857064937,
          8.697333857064937,
          11.039740334521051,
          11.039740334521051,
          14.086105498699563,
          14.086105498699563,
          17.680324450419228,
          17.680324450419228,
          20.968327804950253,
          20.968327804950253,
          22.385023511366114
         ],
         "y": [
          0,
          0,
          0,
          0,
          -0.12317676805386413,
          0.12317676805386413,
          -1.3332535110146846,
          1.3332535110146846,
          0,
          -2.7783283040874145,
          2.7783283040874145,
          -4.2078647993463605,
          4.2078647993463605,
          -5.151513557019249,
          5.151513557019249,
          -5.0081073003115195,
          5.0081073003115195,
          -3.2075664673254876,
          3.2075664673254876,
          0
         ]
        },
        {
         "marker": {
          "color": "#ff7f0e",
          "opacity": 0.4,
          "size": 5
         },
         "mode": "markers",
         "name": "Perturbed",
         "showlegend": false,
         "type": "scatter",
         "x": [
          0.9999999963823122,
          1.9999955600132386,
          3.000440146372751,
          3.9863990229762107,
          5.2094997523341835,
          5.2094997523341835,
          6.6235577507634105,
          6.6235577507634105,
          8.297769036976632,
          8.297769036976632,
          10.426991985090476,
          10.426991985090476,
          13.214541802451949,
          13.214541802451949,
          16.591725497321466,
          16.591725497321466,
          17.982467127835363,
          19.91645716135306,
          19.91645716135306,
          21.469612143240695
         ],
         "y": [
          0,
          0,
          0,
          0,
          -0.3107843578041123,
          0.3107843578041123,
          -1.389860751843072,
          1.389860751843072,
          -2.5029052381698205,
          2.5029052381698205,
          -3.618450773113195,
          3.618450773113195,
          -4.417354155352751,
          4.417354155352751,
          -4.327699540098269,
          4.327699540098269,
          0,
          -2.7633199545584493,
          2.7633199545584493,
          0
         ]
        },
        {
         "marker": {
          "color": "#ff7f0e",
          "opacity": 0.4,
          "size": 5
         },
         "mode": "markers",
         "name": "Perturbed",
         "showlegend": false,
         "type": "scatter",
         "x": [
          0.9999999886536551,
          2.0000021612457752,
          2.999991905670671,
          3.99790410747331,
          5.046903996387502,
          5.796196989554004,
          6.738233676085735,
          7.303577951171317,
          7.303577951171317,
          9.078418672807974,
          9.078418672807974,
          11.352709034373216,
          11.352709034373216,
          14.10686832478863,
          14.10686832478863,
          17.48441875998482,
          17.48441875998482,
          20.77100176614508,
          20.77100176614508,
          22.22677812336635
         ],
         "y": [
          0,
          0,
          0,
          0,
          0,
          0,
          0,
          -1.4215017454275938,
          1.4215017454275938,
          -2.816052483640692,
          2.816052483640692,
          -3.940636814308919,
          3.940636814308919,
          -4.730155999871166,
          4.730155999871166,
          -4.738038712688947,
          4.738038712688947,
          -3.118679892881151,
          3.118679892881151,
          0
         ]
        },
        {
         "marker": {
          "color": "#ff7f0e",
          "opacity": 0.4,
          "size": 5
         },
         "mode": "markers",
         "name": "Perturbed",
         "showlegend": false,
         "type": "scatter",
         "x": [
          1.000000010188463,
          2.0000006591684403,
          2.9997924821761806,
          4.009217185208478,
          4.87793702601637,
          5.965274578436716,
          5.965274578436716,
          7.5083147594213795,
          7.5083147594213795,
          9.222747090181125,
          9.222747090181125,
          11.458588245066752,
          11.458588245066752,
          14.478708981593401,
          14.478708981593401,
          17.877584042722145,
          17.877584042722145,
          20.46016113069947,
          20.46016113069947,
          21.17029496975558
         ],
         "y": [
          0,
          0,
          0,
          0,
          0,
          -0.7774207508948267,
          0.7774207508948267,
          -1.8015287383507603,
          1.8015287383507603,
          -2.851966567201278,
          2.851966567201278,
          -4.013940800991961,
          4.013940800991961,
          -4.690550769605567,
          4.690550769605567,
          -4.164377359266945,
          4.164377359266945,
          -2.182272655377562,
          2.182272655377562,
          0
         ]
        },
        {
         "marker": {
          "color": "#ff7f0e",
          "opacity": 0.4,
          "size": 5
         },
         "mode": "markers",
         "name": "Perturbed",
         "showlegend": false,
         "type": "scatter",
         "x": [
          0.9999999936829297,
          1.9999980515933193,
          3.0001584375999757,
          3.9933247661545566,
          5.190756702133274,
          5.190756702133274,
          6.430582305635019,
          6.430582305635019,
          8.027216769877032,
          8.027216769877032,
          10.167207155153397,
          10.167207155153397,
          12.860152509247246,
          12.860152509247246,
          16.074157426445325,
          16.074157426445325,
          19.439648549400673,
          19.439648549400673,
          21.813537956844343,
          21.813537956844343
         ],
         "y": [
          0,
          0,
          0,
          0,
          -0.2637642937681302,
          0.2637642937681302,
          -1.4329890262903802,
          1.4329890262903802,
          -2.723672865829185,
          2.723672865829185,
          -3.950731185594055,
          3.950731185594055,
          -4.846296574575569,
          4.846296574575569,
          -5.078261448573304,
          5.078261448573304,
          -4.0761401248830875,
          4.0761401248830875,
          -1.5908918809206736,
          1.5908918809206736
         ]
        },
        {
         "marker": {
          "color": "#ff7f0e",
          "opacity": 0.4,
          "size": 5
         },
         "mode": "markers",
         "name": "Perturbed",
         "showlegend": false,
         "type": "scatter",
         "x": [
          1.0000000412846388,
          1.999997491126544,
          2.9999994150194875,
          4.000580489209512,
          4.997472590544178,
          5.954090302883458,
          6.984965645862122,
          6.984965645862122,
          8.298759460807819,
          8.298759460807819,
          10.067382542519109,
          10.067382542519109,
          12.704947120621357,
          12.704947120621357,
          16.088363779632232,
          16.088363779632232,
          19.313535205182724,
          19.313535205182724,
          21.065976100226205,
          21.065976100226205
         ],
         "y": [
          0,
          0,
          0,
          0,
          0,
          0,
          -0.6235532381063095,
          0.6235532381063095,
          -1.766263235049161,
          1.766263235049161,
          -3.1554120115610726,
          3.1554120115610726,
          -4.361104842259577,
          4.361104842259577,
          -4.621597641775155,
          4.621597641775155,
          -3.349894751610404,
          3.349894751610404,
          -1.0956358420770087,
          1.0956358420770087
         ]
        },
        {
         "marker": {
          "color": "#ff7f0e",
          "opacity": 0.4,
          "size": 5
         },
         "mode": "markers",
         "name": "Perturbed",
         "showlegend": false,
         "type": "scatter",
         "x": [
          1.0000000177934452,
          1.9999945814068731,
          3.000279025197132,
          3.9965925653891508,
          4.971879478196052,
          5.931767297610998,
          5.931767297610998,
          7.405504496809011,
          7.405504496809011,
          9.537388545631217,
          9.537388545631217,
          10.645264081839152,
          12.36255184505699,
          12.36255184505699,
          15.806881991027252,
          15.806881991027252,
          19.356630423620025,
          19.356630423620025,
          21.792270521866065,
          21.792270521866065
         ],
         "y": [
          0,
          0,
          0,
          0,
          0,
          -0.6445222387372398,
          0.6445222387372398,
          -1.945786779094744,
          1.945786779094744,
          -3.3574433355776745,
          3.3574433355776745,
          0,
          -4.622427418782801,
          4.622427418782801,
          -5.087710765386549,
          5.087710765386549,
          -4.121663348192323,
          4.121663348192323,
          -1.598653455107005,
          1.598653455107005
         ]
        },
        {
         "marker": {
          "color": "#ff7f0e",
          "opacity": 0.4,
          "size": 5
         },
         "mode": "markers",
         "name": "Perturbed",
         "showlegend": false,
         "type": "scatter",
         "x": [
          0.9999999926314466,
          2.0000049874294334,
          2.999664005651783,
          4.00884815318381,
          4.914345577637174,
          6.462964674494398,
          6.462964674494398,
          6.53663338597786,
          8.233062928313199,
          8.233062928313199,
          10.637624726764003,
          10.637624726764003,
          11.86977034635255,
          13.803565760771637,
          13.803565760771637,
          17.464720369721306,
          17.464720369721306,
          20.704628487848993,
          20.704628487848993,
          22.057599671779144
         ],
         "y": [
          0,
          0,
          0,
          0,
          0,
          -0.688053260974665,
          0.688053260974665,
          0,
          -2.3238586669825825,
          2.3238586669825825,
          -3.7483288183203607,
          3.7483288183203607,
          0,
          -4.7930597972563636,
          4.7930597972563636,
          -4.72302110299123,
          4.72302110299123,
          -2.9888061911887376,
          2.9888061911887376,
          0
         ]
        },
        {
         "marker": {
          "color": "#ff7f0e",
          "opacity": 0.4,
          "size": 5
         },
         "mode": "markers",
         "name": "Perturbed",
         "showlegend": false,
         "type": "scatter",
         "x": [
          0.9999999989960313,
          1.999997672677077,
          3.00021116825001,
          3.9925139924117006,
          5.253108255697182,
          5.253108255697182,
          6.6627551013901645,
          6.6627551013901645,
          8.453303390807683,
          8.453303390807683,
          10.886766858687611,
          10.886766858687611,
          11.233274589985346,
          13.972601596738894,
          13.972601596738894,
          17.497863343821752,
          17.497863343821752,
          20.656515172972302,
          20.656515172972302,
          22.008175148998717
         ],
         "y": [
          0,
          0,
          0,
          0,
          -0.17869141401829003,
          0.17869141401829003,
          -1.3314784460090225,
          1.3314784460090225,
          -2.5495837645553565,
          2.5495837645553565,
          -3.8191549230765176,
          3.8191549230765176,
          0,
          -4.741286435553047,
          4.741286435553047,
          -4.616854344097693,
          4.616854344097693,
          -2.9369229096081497,
          2.9369229096081497,
          0
         ]
        },
        {
         "marker": {
          "color": "#ff7f0e",
          "opacity": 0.4,
          "size": 5
         },
         "mode": "markers",
         "name": "Perturbed",
         "showlegend": false,
         "type": "scatter",
         "x": [
          1.0000000145743904,
          1.99999777763042,
          3.0002566254603082,
          3.9884898696726063,
          5.170901179824082,
          5.170901179824082,
          6.49833654287815,
          6.49833654287815,
          8.11335694706141,
          8.11335694706141,
          10.152110797280205,
          10.152110797280205,
          12.871661116078213,
          12.871661116078213,
          16.222605474915543,
          16.222605474915543,
          19.47455798283086,
          19.47455798283086,
          21.50209780023308,
          21.50209780023308
         ],
         "y": [
          0,
          0,
          0,
          0,
          -0.33948364079910226,
          0.33948364079910226,
          -1.4601650163534317,
          1.4601650163534317,
          -2.6385023509462155,
          2.6385023509462155,
          -3.8478037751962235,
          3.8478037751962235,
          -4.841907634284175,
          4.841907634284175,
          -4.985685005970057,
          4.985685005970057,
          -3.7523945094149176,
          3.7523945094149176,
          -1.3668591029770392,
          1.3668591029770392
         ]
        },
        {
         "marker": {
          "color": "#ff7f0e",
          "opacity": 0.4,
          "size": 5
         },
         "mode": "markers",
         "name": "Perturbed",
         "showlegend": false,
         "type": "scatter",
         "x": [
          1.0000000031936918,
          1.9999996282315744,
          2.9999753406587075,
          4.00257349785998,
          4.944460372410959,
          6.118341561199458,
          6.118341561199458,
          7.997210143719548,
          7.997210143719548,
          8.406654747544923,
          10.39074644773643,
          10.39074644773643,
          13.568010213470973,
          13.568010213470973,
          15.074455551913761,
          17.20032713874685,
          17.20032713874685,
          20.010201401787555,
          20.010201401787555,
          21.002207041874563
         ],
         "y": [
          0,
          0,
          0,
          0,
          0,
          -0.6010043930741717,
          0.6010043930741717,
          -1.8916813520150306,
          1.8916813520150306,
          0,
          -3.340199115002892,
          3.340199115002892,
          -4.174311525954914,
          4.174311525954914,
          0,
          -3.8051557909395495,
          3.8051557909395495,
          -2.1077628608022887,
          2.1077628608022887,
          0
         ]
        },
        {
         "marker": {
          "color": "#ff7f0e",
          "opacity": 0.4,
          "size": 5
         },
         "mode": "markers",
         "name": "Perturbed",
         "showlegend": false,
         "type": "scatter",
         "x": [
          0.99999997110336,
          2.0000030931125563,
          2.999783052941217,
          4.007649130547424,
          4.898712372803388,
          6.035856412974834,
          6.035856412974834,
          7.78903670748792,
          7.78903670748792,
          8.687411556442706,
          9.913608206979596,
          9.913608206979596,
          12.587165364744852,
          12.587165364744852,
          15.869490841312786,
          15.869490841312786,
          19.29058082477696,
          19.29058082477696,
          21.717482035418683,
          21.717482035418683
         ],
         "y": [
          0,
          0,
          0,
          0,
          0,
          -0.7304790710515344,
          0.7304790710515344,
          -1.9433538263610366,
          1.9433538263610366,
          0,
          -3.3757269318071077,
          3.3757269318071077,
          -4.537248307866168,
          4.537248307866168,
          -4.929424436707104,
          4.929424436707104,
          -4.014141210791583,
          4.014141210791583,
          -1.578795435076929,
          1.578795435076929
         ]
        },
        {
         "marker": {
          "color": "#ff7f0e",
          "opacity": 0.4,
          "size": 5
         },
         "mode": "markers",
         "name": "Perturbed",
         "showlegend": false,
         "type": "scatter",
         "x": [
          0.9999999999737413,
          2.000002850581213,
          2.9997303920578298,
          4.010708450424957,
          4.854191908451094,
          5.8798116050505085,
          5.8798116050505085,
          7.453856250301502,
          7.453856250301502,
          9.619153155360586,
          9.619153155360586,
          11.264498798532209,
          12.416220058105722,
          12.416220058105722,
          15.714557116091624,
          15.714557116091624,
          19.187802903370823,
          19.187802903370823,
          21.66403270598775,
          21.66403270598775
         ],
         "y": [
          0,
          0,
          0,
          0,
          0,
          -0.8495959234992798,
          0.8495959234992798,
          -2.0406793105987733,
          2.0406793105987733,
          -3.2906572607538056,
          3.2906572607538056,
          0,
          -4.37824909886763,
          4.37824909886763,
          -4.822375870458429,
          4.822375870458429,
          -3.990436164154623,
          3.990436164154623,
          -1.5740913913662895,
          1.5740913913662895
         ]
        },
        {
         "marker": {
          "color": "#ff7f0e",
          "opacity": 0.4,
          "size": 5
         },
         "mode": "markers",
         "name": "Perturbed",
         "showlegend": false,
         "type": "scatter",
         "x": [
          1.000000010148771,
          1.9999958277127223,
          3.000365187321385,
          3.987603001629029,
          5.24160541112316,
          5.24160541112316,
          6.905638994186262,
          6.905638994186262,
          7.985220089279467,
          8.986368196146497,
          8.986368196146497,
          11.587643109127413,
          11.587643109127413,
          14.707911126440496,
          14.707911126440496,
          17.82210941049702,
          17.82210941049702,
          20.197621480783567,
          20.197621480783567,
          21.129020405588506
         ],
         "y": [
          0,
          0,
          0,
          0,
          -0.27831751261629484,
          0.27831751261629484,
          -1.4768393972622296,
          1.4768393972622296,
          0,
          -2.9544303517400743,
          2.9544303517400743,
          -4.122885430025539,
          4.122885430025539,
          -4.5081928924696735,
          4.5081928924696735,
          -3.7945929318910907,
          3.7945929318910907,
          -2.104237376687112,
          2.104237376687112,
          0
         ]
        },
        {
         "marker": {
          "color": "#ff7f0e",
          "opacity": 0.4,
          "size": 5
         },
         "mode": "markers",
         "name": "Perturbed",
         "showlegend": false,
         "type": "scatter",
         "x": [
          1.0000000010014163,
          2.0000011462760994,
          2.9997031562847756,
          4.015743850345935,
          4.802113213433805,
          5.800042811137242,
          5.800042811137242,
          7.347827850191243,
          7.347827850191243,
          9.406964397140193,
          9.406964397140193,
          12.14938178643458,
          12.14938178643458,
          13.796276803980737,
          15.582045409657304,
          15.582045409657304,
          19.0552393970185,
          19.0552393970185,
          21.35157926789607,
          21.35157926789607
         ],
         "y": [
          0,
          0,
          0,
          0,
          0,
          -0.9408570615829,
          0.9408570615829,
          -2.130337140897726,
          2.130337140897726,
          -3.3216331733736646,
          3.3216331733736646,
          -4.305133220063464,
          4.305133220063464,
          0,
          -4.648137064800121,
          4.648137064800121,
          -3.7036608085618847,
          3.7036608085618847,
          -1.4033843969041906,
          1.4033843969041906
         ]
        },
        {
         "marker": {
          "color": "#ff7f0e",
          "opacity": 0.4,
          "size": 5
         },
         "mode": "markers",
         "name": "Perturbed",
         "showlegend": false,
         "type": "scatter",
         "x": [
          0.9999999558283438,
          2.0000062950424677,
          2.999858756321182,
          3.9968540776946617,
          5.1886472835881605,
          5.1886472835881605,
          6.4250600221280045,
          6.4250600221280045,
          8.02330293731658,
          8.02330293731658,
          10.182782885039497,
          10.182782885039497,
          13.041221558515877,
          13.041221558515877,
          16.50370684429182,
          16.50370684429182,
          19.780602316081637,
          19.780602316081637,
          20.8563166219678,
          20.8563166219678
         ],
         "y": [
          0,
          0,
          0,
          0,
          -0.24675554654440685,
          0.24675554654440685,
          -1.4395749664250217,
          1.4395749664250217,
          -2.7337421642255975,
          2.7337421642255975,
          -4.007444294655648,
          4.007444294655648,
          -4.928648006731278,
          4.928648006731278,
          -4.909687047587615,
          4.909687047587615,
          -3.281165403276829,
          3.281165403276829,
          -0.35780441972787497,
          0.35780441972787497
         ]
        },
        {
         "marker": {
          "color": "#ff7f0e",
          "opacity": 0.4,
          "size": 5
         },
         "mode": "markers",
         "name": "Perturbed",
         "showlegend": false,
         "type": "scatter",
         "x": [
          1.0000000135630698,
          1.9999966675396317,
          3.0004351445830464,
          3.9823497589013286,
          5.117052052641747,
          5.117052052641747,
          6.4441971380317575,
          6.4441971380317575,
          8.145964918727858,
          8.145964918727858,
          10.352861450371144,
          10.352861450371144,
          13.027834046138885,
          13.027834046138885,
          16.122662632275432,
          16.122662632275432,
          19.32118515850558,
          19.32118515850558,
          21.47685180145326,
          21.47685180145326
         ],
         "y": [
          0,
          0,
          0,
          0,
          -0.42497915590214386,
          0.42497915590214386,
          -1.5633700286016543,
          1.5633700286016543,
          -2.7844544199690193,
          2.7844544199690193,
          -3.8914084322681726,
          3.8914084322681726,
          -4.627888190808149,
          4.627888190808149,
          -4.755863905874362,
          4.755863905874362,
          -3.7260762966532135,
          3.7260762966532135,
          -1.4032435244404078,
          1.4032435244404078
         ]
        },
        {
         "marker": {
          "color": "#ff7f0e",
          "opacity": 0.4,
          "size": 5
         },
         "mode": "markers",
         "name": "Perturbed",
         "showlegend": false,
         "type": "scatter",
         "x": [
          1.000000017340986,
          2.0000009387833475,
          2.9998789236333745,
          4.003469800609996,
          4.950395980899579,
          6.075978374229441,
          6.075978374229441,
          7.482022632781609,
          7.482022632781609,
          9.320715480758317,
          9.320715480758317,
          11.834665378637755,
          11.834665378637755,
          14.9606697329551,
          14.9606697329551,
          18.010653644322893,
          18.219493136317684,
          18.219493136317684,
          20.624255588429424,
          20.624255588429424
         ],
         "y": [
          0,
          0,
          0,
          0,
          0,
          -0.5528879444186865,
          0.5528879444186865,
          -1.6511664780286586,
          1.6511664780286586,
          -2.870992619465619,
          2.870992619465619,
          -3.884162406347584,
          3.884162406347584,
          -4.164687248749368,
          4.164687248749368,
          0,
          -3.218660886236176,
          3.218660886236176,
          -1.1651256071708276,
          1.1651256071708276
         ]
        },
        {
         "marker": {
          "color": "#ff7f0e",
          "opacity": 0.4,
          "size": 5
         },
         "mode": "markers",
         "name": "Perturbed",
         "showlegend": false,
         "type": "scatter",
         "x": [
          0.9999999880124403,
          2.000000275144623,
          2.9999795678484205,
          4.002757524936106,
          4.923566394525414,
          5.914822480711373,
          5.914822480711373,
          7.335281481734043,
          7.335281481734043,
          9.203378778363206,
          9.203378778363206,
          11.569073123521783,
          11.569073123521783,
          14.546449599352059,
          14.546449599352059,
          17.924999384861763,
          17.924999384861763,
          20.48642703205713,
          20.48642703205713,
          21.11283246675667
         ],
         "y": [
          0,
          0,
          0,
          0,
          0,
          -0.7162661124107892,
          0.7162661124107892,
          -1.9023068584383254,
          1.9023068584383254,
          -3.098049828947787,
          3.098049828947787,
          -4.128823738283427,
          4.128823738283427,
          -4.713917482339462,
          4.713917482339462,
          -4.168300477225617,
          4.168300477225617,
          -2.137880413670725,
          2.137880413670725,
          0
         ]
        },
        {
         "marker": {
          "color": "#ff7f0e",
          "opacity": 0.4,
          "size": 5
         },
         "mode": "markers",
         "name": "Perturbed",
         "showlegend": false,
         "type": "scatter",
         "x": [
          0.9999999763319151,
          2.00000301217426,
          2.999912625729694,
          3.999320001021522,
          5.1569499549644835,
          5.348113029140677,
          6.482890350585221,
          6.482890350585221,
          8.098850364999118,
          8.098850364999118,
          10.337899027320162,
          10.337899027320162,
          13.178856066904869,
          13.178856066904869,
          16.180191386163106,
          16.180191386163106,
          19.123439824065265,
          19.123439824065265,
          21.345723704561152,
          21.345723704561152
         ],
         "y": [
          0,
          0,
          0,
          0,
          0,
          0,
          -1.3360873851768131,
          1.3360873851768131,
          -2.6508905480123106,
          2.6508905480123106,
          -3.873918995216185,
          3.873918995216185,
          -4.567811896721599,
          4.567811896721599,
          -4.446379404506597,
          4.446379404506597,
          -3.5370328665807103,
          3.5370328665807103,
          -1.3956921660242927,
          1.3956921660242927
         ]
        },
        {
         "marker": {
          "color": "#ff7f0e",
          "opacity": 0.4,
          "size": 5
         },
         "mode": "markers",
         "name": "Perturbed",
         "showlegend": false,
         "type": "scatter",
         "x": [
          1.000000045690524,
          1.9999961876930898,
          3.000067210611345,
          4.000751907273014,
          4.951290244588186,
          5.949674468013859,
          5.949674468013859,
          7.305344764462518,
          7.305344764462518,
          9.093815261010185,
          9.093815261010185,
          11.368649417569493,
          11.368649417569493,
          14.257871195674898,
          14.257871195674898,
          17.69245403343054,
          17.69245403343054,
          20.79929700706938,
          20.79929700706938,
          22.11368210379232
         ],
         "y": [
          0,
          0,
          0,
          0,
          0,
          -0.6391329565909406,
          0.6391329565909406,
          -1.8321095279115274,
          1.8321095279115274,
          -3.0663543154110453,
          3.0663543154110453,
          -4.179031887294059,
          4.179031887294059,
          -4.942809966352286,
          4.942809966352286,
          -4.737562724326393,
          4.737562724326393,
          -2.9818476983866455,
          2.9818476983866455,
          0
         ]
        },
        {
         "marker": {
          "color": "#ff7f0e",
          "opacity": 0.4,
          "size": 5
         },
         "mode": "markers",
         "name": "Perturbed",
         "showlegend": false,
         "type": "scatter",
         "x": [
          1.0000000056251044,
          2.0000012423166598,
          3.000041915911468,
          3.9933375537178657,
          5.191600729133984,
          5.191600729133984,
          6.519858962696266,
          6.519858962696266,
          8.25402794043814,
          8.25402794043814,
          10.506803959605843,
          10.506803959605843,
          13.143181979540628,
          13.143181979540628,
          15.91119254423019,
          15.91119254423019,
          19.031269526496125,
          19.031269526496125,
          21.44537399327777,
          21.44537399327777
         ],
         "y": [
          0,
          0,
          0,
          0,
          -0.2808433085314986,
          0.2808433085314986,
          -1.448823481329691,
          1.448823481329691,
          -2.6617755771956815,
          2.6617755771956815,
          -3.699340040149032,
          3.699340040149032,
          -4.2556509891170995,
          4.2556509891170995,
          -4.364774470472056,
          4.364774470472056,
          -3.6936459693981405,
          3.6936459693981405,
          -1.4853558261602597,
          1.4853558261602597
         ]
        },
        {
         "marker": {
          "color": "#ff7f0e",
          "opacity": 0.4,
          "size": 5
         },
         "mode": "markers",
         "name": "Perturbed",
         "showlegend": false,
         "type": "scatter",
         "x": [
          1.000000010908813,
          1.999997660348147,
          3.0001080773886906,
          3.995145053107227,
          5.228981600526047,
          5.228981600526047,
          6.538722271537434,
          6.538722271537434,
          8.291393907443563,
          8.291393907443563,
          10.778064582787394,
          10.778064582787394,
          12.41703525057192,
          14.011718832730725,
          14.011718832730725,
          17.572759896171842,
          17.572759896171842,
          20.523900502700666,
          20.523900502700666,
          21.696630778116678
         ],
         "y": [
          0,
          0,
          0,
          0,
          -0.18563468312541975,
          0.18563468312541975,
          -1.3905757022669465,
          1.3905757022669465,
          -2.6943530189359564,
          2.6943530189359564,
          -3.939149788823744,
          3.939149788823744,
          0,
          -4.73256633731333,
          4.73256633731333,
          -4.425768222192731,
          4.425768222192731,
          -2.662076087059739,
          2.662076087059739,
          0
         ]
        },
        {
         "marker": {
          "color": "#ff7f0e",
          "opacity": 0.4,
          "size": 5
         },
         "mode": "markers",
         "name": "Perturbed",
         "showlegend": false,
         "type": "scatter",
         "x": [
          1.0000000165981184,
          1.9999981435391176,
          3.0001301408841132,
          3.9931800893028653,
          5.205800224304073,
          5.205800224304073,
          6.519987403398485,
          6.519987403398485,
          8.20185510775322,
          8.20185510775322,
          10.420448543691988,
          10.420448543691988,
          13.18420645553553,
          13.18420645553553,
          16.21587842415858,
          16.21587842415858,
          19.117815274243647,
          19.117815274243647,
          21.137354376915297,
          21.137354376915297
         ],
         "y": [
          0,
          0,
          0,
          0,
          -0.25469499474342916,
          0.25469499474342916,
          -1.415612942359535,
          1.415612942359535,
          -2.6424285270246473,
          2.6424285270246473,
          -3.765833598429473,
          3.765833598429473,
          -4.4461224249748925,
          4.4461224249748925,
          -4.35000005200985,
          4.35000005200985,
          -3.3169551422680557,
          3.3169551422680557,
          -1.25341901117983,
          1.25341901117983
         ]
        },
        {
         "marker": {
          "color": "#ff7f0e",
          "opacity": 0.4,
          "size": 5
         },
         "mode": "markers",
         "name": "Perturbed",
         "showlegend": false,
         "type": "scatter",
         "x": [
          1.0000000054900262,
          1.999999410098858,
          3.000121353287065,
          3.99416171161224,
          5.219686130218026,
          5.219686130218026,
          6.426739308925894,
          6.426739308925894,
          7.866974730797848,
          7.866974730797848,
          9.883334084650818,
          9.883334084650818,
          12.702481534102326,
          12.702481534102326,
          16.204680035600322,
          16.204680035600322,
          19.687238380458744,
          19.687238380458744,
          22.01172454839764,
          22.01172454839764
         ],
         "y": [
          0,
          0,
          0,
          0,
          -0.20360374020076055,
          0.20360374020076055,
          -1.3527562308019356,
          1.3527562308019356,
          -2.663602083619972,
          2.663602083619972,
          -4.093143877108426,
          4.093143877108426,
          -5.245341840522495,
          5.245341840522495,
          -5.480348027996882,
          5.480348027996882,
          -4.26760174959812,
          4.26760174959812,
          -1.6317227451834084,
          1.6317227451834084
         ]
        },
        {
         "marker": {
          "color": "#ff7f0e",
          "opacity": 0.4,
          "size": 5
         },
         "mode": "markers",
         "name": "Perturbed",
         "showlegend": false,
         "type": "scatter",
         "x": [
          0.9999999829900046,
          2.0000029698658266,
          2.999787077186019,
          4.007952031247519,
          4.892366730060774,
          6.0380966052856895,
          6.0380966052856895,
          7.861494866024955,
          7.861494866024955,
          8.16413485779563,
          10.052401775328107,
          10.052401775328107,
          12.784286262565656,
          12.784286262565656,
          15.951925452267844,
          15.951925452267844,
          19.212028621100814,
          19.212028621100814,
          21.56764456755924,
          21.56764456755924
         ],
         "y": [
          0,
          0,
          0,
          0,
          0,
          -0.7579353699114713,
          0.7579353699114713,
          -2.0840618525759367,
          2.0840618525759367,
          0,
          -3.508500973664934,
          3.508500973664934,
          -4.497668957046425,
          4.497668957046425,
          -4.732016097021882,
          4.732016097021882,
          -3.830832813694303,
          3.830832813694303,
          -1.5104569013691382,
          1.5104569013691382
         ]
        },
        {
         "marker": {
          "color": "#ff7f0e",
          "opacity": 0.4,
          "size": 5
         },
         "mode": "markers",
         "name": "Perturbed",
         "showlegend": false,
         "type": "scatter",
         "x": [
          0.999999989062821,
          2.0000025744800904,
          2.999849420446487,
          4.006642505427936,
          4.878546948773509,
          5.836915013764644,
          5.836915013764644,
          7.251885934661949,
          7.251885934661949,
          9.122514352718284,
          9.122514352718284,
          11.406090058339895,
          11.406090058339895,
          14.187840159735078,
          14.187840159735078,
          17.649439479971246,
          17.649439479971246,
          20.9278942299696,
          20.9278942299696,
          22.349800072710345
         ],
         "y": [
          0,
          0,
          0,
          0,
          0,
          -0.8146850958781086,
          0.8146850958781086,
          -2.0163337414755067,
          2.0163337414755067,
          -3.222508063497236,
          3.222508063497236,
          -4.22756081757719,
          4.22756081757719,
          -5.0036400192141155,
          5.0036400192141155,
          -4.927289790297746,
          4.927289790297746,
          -3.183577386625795,
          3.183577386625795,
          0
         ]
        },
        {
         "marker": {
          "color": "#ff7f0e",
          "opacity": 0.4,
          "size": 5
         },
         "mode": "markers",
         "name": "Perturbed",
         "showlegend": false,
         "type": "scatter",
         "x": [
          0.9999999947166973,
          2.0000027495169603,
          2.999880395975102,
          3.9987814683553045,
          5.228549857624429,
          5.228549857624429,
          6.489775397951123,
          6.489775397951123,
          8.137995798124464,
          8.137995798124464,
          10.291948821016975,
          10.291948821016975,
          12.963153037228217,
          12.963153037228217,
          16.162129475110603,
          16.162129475110603,
          19.358996683030334,
          19.358996683030334,
          21.368118634558694,
          21.368118634558694
         ],
         "y": [
          0,
          0,
          0,
          0,
          -0.1359164076738445,
          0.1359164076738445,
          -1.3804381596965076,
          1.3804381596965076,
          -2.6408614134194233,
          2.6408614134194233,
          -3.7905485579123144,
          3.7905485579123144,
          -4.626052363796171,
          4.626052363796171,
          -4.7666823536988145,
          4.7666823536988145,
          -3.621984079109677,
          3.621984079109677,
          -1.3111091128101373,
          1.3111091128101373
         ]
        },
        {
         "marker": {
          "color": "#ff7f0e",
          "opacity": 0.4,
          "size": 5
         },
         "mode": "markers",
         "name": "Perturbed",
         "showlegend": false,
         "type": "scatter",
         "x": [
          0.999999992593084,
          1.999999728143509,
          3.0000757934762814,
          3.9994298358732774,
          4.961515617139724,
          5.946690564720489,
          5.946690564720489,
          7.317088690404257,
          7.317088690404257,
          9.062850881673313,
          9.062850881673313,
          11.257898982488157,
          11.257898982488157,
          14.245120298205318,
          14.245120298205318,
          17.80539546029209,
          17.80539546029209,
          20.85478174947082,
          20.85478174947082,
          22.059325760574325
         ],
         "y": [
          0,
          0,
          0,
          0,
          0,
          -0.628977234673515,
          0.628977234673515,
          -1.8267738466678165,
          1.8267738466678165,
          -3.019928200392078,
          3.019928200392078,
          -4.223108645521196,
          4.223108645521196,
          -5.092744342332405,
          5.092744342332405,
          -4.809873063455921,
          4.809873063455921,
          -2.917344189524571,
          2.917344189524571,
          0
         ]
        },
        {
         "marker": {
          "color": "#ff7f0e",
          "opacity": 0.4,
          "size": 5
         },
         "mode": "markers",
         "name": "Perturbed",
         "showlegend": false,
         "type": "scatter",
         "x": [
          1.0000000026892297,
          2.0000028763242272,
          2.9996451358976506,
          4.014037488063436,
          4.839601896999384,
          5.951284135700666,
          5.951284135700666,
          7.72700244792832,
          7.72700244792832,
          8.405673540799041,
          9.89801552929593,
          9.89801552929593,
          12.679568529377239,
          12.679568529377239,
          16.046189362929873,
          16.046189362929873,
          19.41100737565874,
          19.41100737565874,
          21.657452145075126,
          21.657452145075126
         ],
         "y": [
          0,
          0,
          0,
          0,
          0,
          -0.8721207258907303,
          0.8721207258907303,
          -2.1685316843958233,
          2.1685316843958233,
          0,
          -3.632857301609839,
          3.632857301609839,
          -4.759914632911749,
          4.759914632911749,
          -5.023461206945312,
          5.023461206945312,
          -3.9354452266252986,
          3.9354452266252986,
          -1.4941327810506568,
          1.4941327810506568
         ]
        },
        {
         "marker": {
          "color": "#ff7f0e",
          "opacity": 0.4,
          "size": 5
         },
         "mode": "markers",
         "name": "Perturbed",
         "showlegend": false,
         "type": "scatter",
         "x": [
          0.9999999969043111,
          2.0000008384602297,
          2.9999281917334315,
          4.003239626527301,
          4.939665431640785,
          6.016281519813379,
          6.016281519813379,
          7.372377462644268,
          7.372377462644268,
          9.010892711212385,
          9.010892711212385,
          11.313285459511272,
          11.313285459511272,
          14.378906924475704,
          14.378906924475704,
          17.803721793134535,
          17.803721793134535,
          20.694845201780744,
          20.694845201780744,
          21.8765437640751
         ],
         "y": [
          0,
          0,
          0,
          0,
          0,
          -0.6195837069471134,
          0.6195837069471134,
          -1.69990230560575,
          1.69990230560575,
          -2.960018781337964,
          2.960018781337964,
          -4.241687520150487,
          4.241687520150487,
          -4.972916389170696,
          4.972916389170696,
          -4.56676869879115,
          4.56676869879115,
          -2.761943617544491,
          2.761943617544491,
          0
         ]
        },
        {
         "marker": {
          "color": "#ff7f0e",
          "opacity": 0.4,
          "size": 5
         },
         "mode": "markers",
         "name": "Perturbed",
         "showlegend": false,
         "type": "scatter",
         "x": [
          1.0000000116785062,
          1.9999955405688916,
          3.0001598345744447,
          3.9987582037075726,
          4.997354655620964,
          5.990353602920574,
          6.889102122424671,
          6.889102122424671,
          8.543745752984659,
          8.543745752984659,
          10.453921827185964,
          10.970834425153178,
          10.970834425153178,
          13.996614630948368,
          13.996614630948368,
          17.443576353608616,
          17.443576353608616,
          20.52205596701087,
          20.52205596701087,
          21.82759783689174
         ],
         "y": [
          0,
          0,
          0,
          0,
          0,
          0,
          -0.676331285752654,
          0.676331285752654,
          -2.1127659684130102,
          2.1127659684130102,
          0,
          -3.563029535507532,
          3.563029535507532,
          -4.527115631583301,
          4.527115631583301,
          -4.418177075737715,
          4.418177075737715,
          -2.7946631971948253,
          2.7946631971948253,
          0
         ]
        },
        {
         "marker": {
          "color": "#ff7f0e",
          "opacity": 0.4,
          "size": 5
         },
         "mode": "markers",
         "name": "Perturbed",
         "showlegend": false,
         "type": "scatter",
         "x": [
          0.9999999508924927,
          2.0000073986491205,
          2.999622732773807,
          4.013575400361238,
          4.810260295557112,
          5.707918580655241,
          5.707918580655241,
          7.020436197228489,
          7.020436197228489,
          8.796285789566754,
          8.796285789566754,
          11.282393358650285,
          11.282393358650285,
          14.55717460512421,
          14.55717460512421,
          18.18389548351675,
          18.18389548351675,
          21.020760776652793,
          21.020760776652793,
          22.03880468130088
         ],
         "y": [
          0,
          0,
          0,
          0,
          0,
          -0.9212804403546547,
          0.9212804403546547,
          -2.1661307988778193,
          2.1661307988778193,
          -3.5679942525211463,
          3.5679942525211463,
          -4.878102119413204,
          4.878102119413204,
          -5.5658770325886024,
          5.5658770325886024,
          -4.945414124746823,
          4.945414124746823,
          -2.8187315580184844,
          2.8187315580184844,
          0
         ]
        },
        {
         "marker": {
          "color": "#ff7f0e",
          "opacity": 0.4,
          "size": 5
         },
         "mode": "markers",
         "name": "Perturbed",
         "showlegend": false,
         "type": "scatter",
         "x": [
          0.9999999730039435,
          2.0000023300783654,
          3.000007140841452,
          3.999925830816588,
          4.94946742536618,
          5.850297959721727,
          5.850297959721727,
          7.1410922004735875,
          7.1410922004735875,
          8.95087980554411,
          8.95087980554411,
          11.400463900945052,
          11.400463900945052,
          14.545991077227573,
          14.545991077227573,
          18.04929764736432,
          18.04929764736432,
          20.76283143466706,
          20.76283143466706,
          21.648889234527296
         ],
         "y": [
          0,
          0,
          0,
          0,
          0,
          -0.68877400519908,
          0.68877400519908,
          -1.9702594626263439,
          1.9702594626263439,
          -3.3317883343878827,
          3.3317883343878827,
          -4.537197910382384,
          4.537197910382384,
          -5.173934711268815,
          5.173934711268815,
          -4.593342281248354,
          4.593342281248354,
          -2.5381151027652757,
          2.5381151027652757,
          0
         ]
        },
        {
         "marker": {
          "color": "#ff7f0e",
          "opacity": 0.4,
          "size": 5
         },
         "mode": "markers",
         "name": "Perturbed",
         "showlegend": false,
         "type": "scatter",
         "x": [
          1.0000000227481118,
          1.9999939111481073,
          3.000476826448181,
          3.9858122484828016,
          5.221353807804436,
          5.221353807804436,
          6.761886573020486,
          6.761886573020486,
          8.81304205908279,
          8.81304205908279,
          9.611877636392691,
          11.368391707583012,
          11.368391707583012,
          14.422681037954675,
          14.422681037954675,
          17.70165782866985,
          17.70165782866985,
          20.292999787117196,
          20.292999787117196,
          21.23781372275836
         ],
         "y": [
          0,
          0,
          0,
          0,
          -0.3091361974100936,
          0.3091361974100936,
          -1.421114936162206,
          1.421114936162206,
          -2.6456905607058547,
          2.6456905607058547,
          0,
          -3.847446733387332,
          3.847446733387332,
          -4.465115862690165,
          4.465115862690165,
          -3.983226040074855,
          3.983226040074855,
          -2.2370006608573783,
          2.2370006608573783,
          0
         ]
        },
        {
         "marker": {
          "color": "#ff7f0e",
          "opacity": 0.4,
          "size": 5
         },
         "mode": "markers",
         "name": "Perturbed",
         "showlegend": false,
         "type": "scatter",
         "x": [
          1.0000000101115099,
          2.0000012011511266,
          2.99982271103107,
          4.004439972566449,
          4.971851088006431,
          5.855392730370296,
          6.632808682647028,
          6.632808682647028,
          8.236702829975842,
          8.236702829975842,
          10.412313113417209,
          10.412313113417209,
          13.207599437242195,
          13.207599437242195,
          16.325998505659463,
          16.325998505659463,
          18.896718909808595,
          18.896718909808595,
          20.872104650788174,
          20.872104650788174
         ],
         "y": [
          0,
          0,
          0,
          0,
          0,
          0,
          -1.0254415117869426,
          1.0254415117869426,
          -2.3481656425035142,
          2.3481656425035142,
          -3.529368399861346,
          3.529368399861346,
          -4.275927697320873,
          4.275927697320873,
          -4.03622045225965,
          4.03622045225965,
          -2.9120415038301077,
          2.9120415038301077,
          -1.185990915635757,
          1.185990915635757
         ]
        },
        {
         "marker": {
          "color": "#ff7f0e",
          "opacity": 0.4,
          "size": 5
         },
         "mode": "markers",
         "name": "Perturbed",
         "showlegend": false,
         "type": "scatter",
         "x": [
          1.000000016796372,
          1.9999988234197312,
          2.999950363207571,
          4.004424069765368,
          4.921964760409078,
          6.1038553387545615,
          6.1038553387545615,
          7.669760158622055,
          7.8856800981082715,
          7.8856800981082715,
          9.948220706377818,
          9.948220706377818,
          12.638818917724315,
          12.638818917724315,
          15.9724660472644,
          15.9724660472644,
          19.40962190910166,
          19.40962190910166,
          21.743287886177754,
          21.743287886177754
         ],
         "y": [
          0,
          0,
          0,
          0,
          0,
          -0.6830440131531492,
          0.6830440131531492,
          0,
          -2.1212545165083907,
          2.1212545165083907,
          -3.5788510824624815,
          3.5788510824624815,
          -4.711812782372771,
          4.711812782372771,
          -5.063504835254926,
          5.063504835254926,
          -4.037030093274336,
          4.037030093274336,
          -1.5499084234889418,
          1.5499084234889418
         ]
        },
        {
         "marker": {
          "color": "#ff7f0e",
          "opacity": 0.4,
          "size": 5
         },
         "mode": "markers",
         "name": "Perturbed",
         "showlegend": false,
         "type": "scatter",
         "x": [
          0.99999996831533,
          2.0000036478633945,
          2.9999667107065524,
          3.996818654541012,
          5.192591999574511,
          5.357834404304046,
          6.659606668650069,
          6.659606668650069,
          8.433407181567654,
          8.433407181567654,
          10.877081199103886,
          10.877081199103886,
          11.589112687308253,
          14.01473674210316,
          14.01473674210316,
          17.5047721754591,
          17.5047721754591,
          20.530808460046067,
          20.530808460046067,
          21.822847025601767
         ],
         "y": [
          0,
          0,
          0,
          0,
          0,
          0,
          -1.2916881786535213,
          1.2916881786535213,
          -2.520610120167336,
          2.520610120167336,
          -3.771942095411153,
          3.771942095411153,
          0,
          -4.646850180208045,
          4.646850180208045,
          -4.434806828725944,
          4.434806828725944,
          -2.776937197793176,
          2.776937197793176,
          0
         ]
        },
        {
         "marker": {
          "color": "#ff7f0e",
          "opacity": 0.4,
          "size": 5
         },
         "mode": "markers",
         "name": "Perturbed",
         "showlegend": false,
         "type": "scatter",
         "x": [
          1.0000000242636966,
          1.9999943089914531,
          3.0004624378768043,
          3.9846573807601895,
          5.182815485298761,
          5.182815485298761,
          6.658856635651412,
          6.658856635651412,
          8.688327205109397,
          8.688327205109397,
          10.6649968547999,
          11.491593362730256,
          11.491593362730256,
          14.988596202905462,
          14.988596202905462,
          15.5739770640604,
          18.67206759010807,
          18.67206759010807,
          21.205699501598264,
          21.205699501598264
         ],
         "y": [
          0,
          0,
          0,
          0,
          -0.3601271602135419,
          0.3601271602135419,
          -1.495264020261188,
          1.495264020261188,
          -2.7229304039047384,
          2.7229304039047384,
          0,
          -3.893284221564327,
          3.893284221564327,
          -4.419822154725069,
          4.419822154725069,
          0,
          -3.6497060141959237,
          3.6497060141959237,
          -1.4228102085791827,
          1.4228102085791827
         ]
        },
        {
         "marker": {
          "color": "#ff7f0e",
          "opacity": 0.4,
          "size": 5
         },
         "mode": "markers",
         "name": "Perturbed",
         "showlegend": false,
         "type": "scatter",
         "x": [
          1.000000009818894,
          1.9999949440205318,
          3.000362944468522,
          3.988627563395388,
          5.205043926194407,
          5.205043926194407,
          6.578893292565854,
          6.578893292565854,
          8.294747274257723,
          8.294747274257723,
          10.51427811500606,
          10.51427811500606,
          13.271778289310515,
          13.271778289310515,
          16.50063105295488,
          16.50063105295488,
          19.116745047447786,
          19.561293723251808,
          19.561293723251808,
          21.040938218692602
         ],
         "y": [
          0,
          0,
          0,
          0,
          -0.29576232237594424,
          0.29576232237594424,
          -1.412217663573208,
          1.412217663573208,
          -2.5827607691446537,
          2.5827607691446537,
          -3.6444813534804936,
          3.6444813534804936,
          -4.321283635918465,
          4.321283635918465,
          -4.170586926525876,
          4.170586926525876,
          0,
          -2.5925796036458055,
          2.5925796036458055,
          0
         ]
        },
        {
         "marker": {
          "color": "#ff7f0e",
          "opacity": 0.4,
          "size": 5
         },
         "mode": "markers",
         "name": "Perturbed",
         "showlegend": false,
         "type": "scatter",
         "x": [
          0.9999999721305873,
          2.0000029631218994,
          2.9998748717568366,
          4.001994995771614,
          5.0061258927743335,
          5.7240174760546605,
          6.602710062648137,
          6.602710062648137,
          8.160251482629686,
          8.160251482629686,
          10.286306634183283,
          10.286306634183283,
          12.939115742778494,
          12.939115742778494,
          16.00408060269473,
          16.00408060269473,
          19.19401510859529,
          19.19401510859529,
          21.447512273792952,
          21.447512273792952
         ],
         "y": [
          0,
          0,
          0,
          0,
          0,
          0,
          -1.1068940423729239,
          1.1068940423729239,
          -2.410458225708716,
          2.410458225708716,
          -3.6168589926130226,
          3.6168589926130226,
          -4.436371987933397,
          4.436371987933397,
          -4.618973704292024,
          4.618973704292024,
          -3.699303440004479,
          3.699303440004479,
          -1.4328287409623055,
          1.4328287409623055
         ]
        },
        {
         "marker": {
          "color": "#ff7f0e",
          "opacity": 0.4,
          "size": 5
         },
         "mode": "markers",
         "name": "Perturbed",
         "showlegend": false,
         "type": "scatter",
         "x": [
          0.9999999651349982,
          2.0000064618260605,
          2.999640587566291,
          4.010200506211035,
          4.871563711290571,
          5.8791722875987915,
          5.8791722875987915,
          7.268396240973708,
          7.268396240973708,
          9.12969518561804,
          9.12969518561804,
          11.746699889330927,
          11.746699889330927,
          15.087260825109684,
          15.087260825109684,
          17.841839852445286,
          18.550248212819376,
          18.550248212819376,
          20.976901829823184,
          20.976901829823184
         ],
         "y": [
          0,
          0,
          0,
          0,
          0,
          -0.7954448444248066,
          0.7954448444248066,
          -1.9600028578172672,
          1.9600028578172672,
          -3.271528324283188,
          3.271528324283188,
          -4.395405606385008,
          4.395405606385008,
          -4.70492973647234,
          4.70492973647234,
          0,
          -3.6278487681406073,
          3.6278487681406073,
          -1.3323259291145084,
          1.3323259291145084
         ]
        },
        {
         "marker": {
          "color": "#ff7f0e",
          "opacity": 0.4,
          "size": 5
         },
         "mode": "markers",
         "name": "Perturbed",
         "showlegend": false,
         "type": "scatter",
         "x": [
          0.9999999948753342,
          2.0000021788112736,
          3.0000414558756145,
          3.994812352753344,
          5.268127086940849,
          5.268127086940849,
          6.713180229512296,
          6.713180229512296,
          8.57093940501505,
          8.57093940501505,
          9.979005662796181,
          10.983397395755965,
          10.983397395755965,
          14.070421854050053,
          14.070421854050053,
          17.641910944963083,
          17.641910944963083,
          20.750933671327537,
          20.750933671327537,
          22.028317197841353
         ],
         "y": [
          0,
          0,
          0,
          0,
          -0.11023127908950582,
          0.11023127908950582,
          -1.3132022918356856,
          1.3132022918356856,
          -2.576401007421969,
          2.576401007421969,
          0,
          -3.9653683390562273,
          3.9653683390562273,
          -4.919662637430235,
          4.919662637430235,
          -4.718315233907427,
          4.718315233907427,
          -2.9257205679142038,
          2.9257205679142038,
          0
         ]
        },
        {
         "marker": {
          "color": "#ff7f0e",
          "opacity": 0.4,
          "size": 5
         },
         "mode": "markers",
         "name": "Perturbed",
         "showlegend": false,
         "type": "scatter",
         "x": [
          1.0000000191254974,
          1.999999349101996,
          3.0000405732152524,
          3.996664995665188,
          5.246321100840731,
          5.246321100840731,
          6.5097214841987,
          6.5097214841987,
          8.093444288707158,
          8.093444288707158,
          10.179601329150039,
          10.179601329150039,
          12.822894365195618,
          12.822894365195618,
          16.015108343343023,
          16.015108343343023,
          19.384011582550876,
          19.384011582550876,
          21.750545044058903,
          21.750545044058903
         ],
         "y": [
          0,
          0,
          0,
          0,
          -0.10296827503472783,
          0.10296827503472783,
          -1.3328207714060316,
          1.3328207714060316,
          -2.5877837559915795,
          2.5877837559915795,
          -3.7953468268160777,
          3.7953468268160777,
          -4.719827658311851,
          4.719827658311851,
          -4.99228885653345,
          4.99228885653345,
          -4.02694360346348,
          4.02694360346348,
          -1.5644165472304772,
          1.5644165472304772
         ]
        },
        {
         "marker": {
          "color": "#ff7f0e",
          "opacity": 0.4,
          "size": 5
         },
         "mode": "markers",
         "name": "Perturbed",
         "showlegend": false,
         "type": "scatter",
         "x": [
          0.9999999974350887,
          2.000003255360853,
          2.9997575234073914,
          4.006136016966953,
          4.942132922593787,
          6.294421458749179,
          6.716827014824352,
          6.716827014824352,
          8.468544170337134,
          8.468544170337134,
          10.979100310338959,
          10.979100310338959,
          11.85235355005782,
          14.211320087146367,
          14.211320087146367,
          17.689454222938366,
          17.689454222938366,
          20.165891756601404,
          20.165891756601404,
          20.44292018227908
         ],
         "y": [
          0,
          0,
          0,
          0,
          0,
          0,
          -0.5803929802563556,
          0.5803929802563556,
          -2.1335034326016773,
          2.1335034326016773,
          -3.4010268347855206,
          3.4010268347855206,
          0,
          -4.18197942955383,
          4.18197942955383,
          -3.6766036528266977,
          3.6766036528266977,
          -1.6413070836229318,
          1.6413070836229318,
          0
         ]
        },
        {
         "marker": {
          "color": "#ff7f0e",
          "opacity": 0.4,
          "size": 5
         },
         "mode": "markers",
         "name": "Perturbed",
         "showlegend": false,
         "type": "scatter",
         "x": [
          0.9999999967506659,
          2.000001332750336,
          3.0000342416673087,
          3.9980011779868203,
          5.016533495570269,
          6.069576528886895,
          6.069576528886895,
          7.2858985455899985,
          7.2858985455899985,
          9.044564605839492,
          9.044564605839492,
          11.376863857259533,
          11.376863857259533,
          14.217302017430534,
          14.217302017430534,
          17.557929656989575,
          17.557929656989575,
          20.81117348167377,
          20.81117348167377,
          22.258812368499264
         ],
         "y": [
          0,
          0,
          0,
          0,
          0,
          -0.3366038930312763,
          0.3366038930312763,
          -1.659887905023928,
          1.659887905023928,
          -2.998473847997445,
          2.998473847997445,
          -4.142892336826301,
          4.142892336826301,
          -4.84438296969441,
          4.84438296969441,
          -4.764183731160335,
          4.764183731160335,
          -3.129317272541938,
          3.129317272541938,
          0
         ]
        },
        {
         "marker": {
          "color": "#ff7f0e",
          "opacity": 0.4,
          "size": 5
         },
         "mode": "markers",
         "name": "Perturbed",
         "showlegend": false,
         "type": "scatter",
         "x": [
          0.999999993376946,
          2.000004580642516,
          2.9996716833033674,
          4.010837715066965,
          4.853736257197885,
          5.815863880530536,
          5.815863880530536,
          7.162761183102494,
          7.162761183102494,
          8.953581300361618,
          8.953581300361618,
          11.416521398515037,
          11.416521398515037,
          14.546753619894861,
          14.546753619894861,
          17.966504892073132,
          17.966504892073132,
          20.772989269545604,
          20.772989269545604,
          21.865798639702135
         ],
         "y": [
          0,
          0,
          0,
          0,
          0,
          -0.8390303724943053,
          0.8390303724943053,
          -2.0289897617604202,
          2.0289897617604202,
          -3.364053768396201,
          3.364053768396201,
          -4.5670590395351525,
          4.5670590395351525,
          -5.1606925571002895,
          5.1606925571002895,
          -4.626035533882591,
          4.626035533882591,
          -2.7208825271831287,
          2.7208825271831287,
          0
         ]
        },
        {
         "marker": {
          "color": "#ff7f0e",
          "opacity": 0.4,
          "size": 5
         },
         "mode": "markers",
         "name": "Perturbed",
         "showlegend": false,
         "type": "scatter",
         "x": [
          1.0000000148215422,
          1.9999961269064122,
          3.0002816254012625,
          3.989796744952983,
          5.21491241527292,
          5.21491241527292,
          6.666610040112687,
          6.666610040112687,
          8.583894501665075,
          8.583894501665075,
          9.220496341833668,
          11.020820292272013,
          11.020820292272013,
          14.165658058488487,
          14.165658058488487,
          17.80248098726098,
          17.80248098726098,
          20.888627860090075,
          20.888627860090075,
          22.103420811689645
         ],
         "y": [
          0,
          0,
          0,
          0,
          -0.2823118244249268,
          0.2823118244249268,
          -1.446437647480096,
          1.446437647480096,
          -2.8229381559842466,
          2.8229381559842466,
          0,
          -4.2501028373702825,
          4.2501028373702825,
          -5.170205380455916,
          5.170205380455916,
          -4.877075072493553,
          4.877075072493553,
          -2.956018323361412,
          2.956018323361412,
          0
         ]
        },
        {
         "marker": {
          "color": "#ff7f0e",
          "opacity": 0.4,
          "size": 5
         },
         "mode": "markers",
         "name": "Perturbed",
         "showlegend": false,
         "type": "scatter",
         "x": [
          0.9999999834271935,
          2.000003717235225,
          2.9997374932293814,
          4.009022575596262,
          4.876594435335882,
          5.898679995003387,
          5.898679995003387,
          7.331328269785379,
          7.331328269785379,
          9.191583828119672,
          9.191583828119672,
          11.763665783898624,
          11.763665783898624,
          15.087387448361218,
          15.087387448361218,
          16.98018512853189,
          18.640187683042463,
          18.640187683042463,
          21.15439531243984,
          21.15439531243984
         ],
         "y": [
          0,
          0,
          0,
          0,
          0,
          -0.7904337078727741,
          0.7904337078727741,
          -1.9308893433441205,
          1.9308893433441205,
          -3.1833710756287386,
          3.1833710756287386,
          -4.287317794457801,
          4.287317794457801,
          -4.6492971797615015,
          4.6492971797615015,
          0,
          -3.689930750238744,
          3.689930750238744,
          -1.4127319511592236,
          1.4127319511592236
         ]
        },
        {
         "marker": {
          "color": "#ff7f0e",
          "opacity": 0.4,
          "size": 5
         },
         "mode": "markers",
         "name": "Perturbed",
         "showlegend": false,
         "type": "scatter",
         "x": [
          1.0000000213231786,
          1.9999933810118604,
          3.0004794937432675,
          3.986063377793482,
          5.187645804574965,
          5.187645804574965,
          6.522513865919524,
          6.522513865919524,
          8.103178598656962,
          8.103178598656962,
          10.22488547543501,
          10.22488547543501,
          13.188718108963021,
          13.188718108963021,
          16.877294440230223,
          16.877294440230223,
          17.313392037068613,
          20.33252656263685,
          20.33252656263685,
          21.826545951951935
         ],
         "y": [
          0,
          0,
          0,
          0,
          -0.33106913842424757,
          0.33106913842424757,
          -1.420929026685068,
          1.420929026685068,
          -2.6258037590827663,
          2.6258037590827663,
          -3.918375381622754,
          3.918375381622754,
          -4.885746388688986,
          4.885746388688986,
          -4.761626540525975,
          4.761626540525975,
          0,
          -2.993738225280924,
          2.993738225280924,
          0
         ]
        },
        {
         "marker": {
          "color": "#ff7f0e",
          "opacity": 0.4,
          "size": 5
         },
         "mode": "markers",
         "name": "Perturbed",
         "showlegend": false,
         "type": "scatter",
         "x": [
          0.9999999902285664,
          2.0000003252335006,
          3.0000460673835616,
          3.9983450116472263,
          5.0054817347045395,
          6.075608128107165,
          6.075608128107165,
          7.392334285532355,
          7.392334285532355,
          9.270753696283354,
          9.270753696283354,
          11.788366215255586,
          11.788366215255586,
          14.967753420852205,
          14.967753420852205,
          16.623683229407266,
          18.520724157883848,
          18.520724157883848,
          21.170681939055434,
          21.170681939055434
         ],
         "y": [
          0,
          0,
          0,
          0,
          0,
          -0.3938292600712451,
          0.3938292600712451,
          -1.6679621946222232,
          1.6679621946222232,
          -2.9465001021311727,
          2.9465001021311727,
          -3.9869699830375214,
          3.9869699830375214,
          -4.4014510962569195,
          4.4014510962569195,
          0,
          -3.660784924653329,
          3.660784924653329,
          -1.458067241413917,
          1.458067241413917
         ]
        },
        {
         "marker": {
          "color": "#ff7f0e",
          "opacity": 0.4,
          "size": 5
         },
         "mode": "markers",
         "name": "Perturbed",
         "showlegend": false,
         "type": "scatter",
         "x": [
          0.9999999933941983,
          2.000004469287223,
          2.999776482869494,
          4.003912878201463,
          4.958437102075884,
          6.016604304768025,
          6.016604304768025,
          7.206794643576724,
          7.206794643576724,
          8.938314621172857,
          8.938314621172857,
          11.480650975450985,
          11.480650975450985,
          14.831091731697072,
          14.831091731697072,
          18.354923622246275,
          18.354923622246275,
          19.913143472241806,
          20.73398290850234,
          20.73398290850234
         ],
         "y": [
          0,
          0,
          0,
          0,
          0,
          -0.5288627782540504,
          0.5288627782540504,
          -1.73789771373681,
          1.73789771373681,
          -3.1884977045595626,
          3.1884977045595626,
          -4.486001542048985,
          4.486001542048985,
          -5.001387226358359,
          5.001387226358359,
          -4.029182354770467,
          4.029182354770467,
          0,
          -1.5279303442492997,
          1.5279303442492997
         ]
        },
        {
         "marker": {
          "color": "#ff7f0e",
          "opacity": 0.4,
          "size": 5
         },
         "mode": "markers",
         "name": "Perturbed",
         "showlegend": false,
         "type": "scatter",
         "x": [
          1.0000000108187774,
          1.9999976002509439,
          3.000151162882942,
          3.998203595566394,
          4.97174516629428,
          5.973719592900215,
          5.973719592900215,
          7.428434317759626,
          7.428434317759626,
          9.441376538912124,
          9.441376538912124,
          12.096309697455,
          12.096309697455,
          13.936554514061442,
          15.454518822919242,
          15.454518822919242,
          18.93088337668921,
          18.93088337668921,
          21.221431633850873,
          21.221431633850873
         ],
         "y": [
          0,
          0,
          0,
          0,
          0,
          -0.6066536628650132,
          0.6066536628650132,
          -1.8386783878238993,
          1.8386783878238993,
          -3.0374185935082245,
          3.0374185935082245,
          -4.014678346774494,
          4.014678346774494,
          0,
          -4.43148815408954,
          4.43148815408954,
          -3.5803655686291815,
          3.5803655686291815,
          -1.3467200883903403,
          1.3467200883903403
         ]
        },
        {
         "marker": {
          "color": "#ff7f0e",
          "opacity": 0.4,
          "size": 5
         },
         "mode": "markers",
         "name": "Perturbed",
         "showlegend": false,
         "type": "scatter",
         "x": [
          1.0000000036977719,
          2.0000046966319087,
          2.9995687581465282,
          4.011870193534009,
          4.880030351619931,
          5.981728209124212,
          5.981728209124212,
          7.313298543467575,
          7.313298543467575,
          8.952024768648492,
          8.952024768648492,
          11.334888023760016,
          11.334888023760016,
          14.489780994463654,
          14.489780994463654,
          18.00374862955937,
          18.00374862955937,
          20.69708197007862,
          20.69708197007862,
          21.56342365460408
         ],
         "y": [
          0,
          0,
          0,
          0,
          0,
          -0.7275873657192646,
          0.7275873657192646,
          -1.7569717956668331,
          1.7569717956668331,
          -3.0895596127128133,
          3.0895596127128133,
          -4.38584767607418,
          4.38584767607418,
          -5.08366016056282,
          5.08366016056282,
          -4.517688504989718,
          4.517688504989718,
          -2.4769992273167656,
          2.4769992273167656,
          0
         ]
        },
        {
         "marker": {
          "color": "#ff7f0e",
          "opacity": 0.4,
          "size": 5
         },
         "mode": "markers",
         "name": "Perturbed",
         "showlegend": false,
         "type": "scatter",
         "x": [
          1.0000000266054117,
          1.999995270677021,
          3.000280139296027,
          3.9926146627565915,
          5.191591083898034,
          5.42667649568946,
          6.889157192659729,
          6.889157192659729,
          8.918448197415401,
          8.918448197415401,
          9.577435336191009,
          11.278157024318823,
          11.278157024318823,
          14.001926003625623,
          14.001926003625623,
          17.318507676822726,
          17.318507676822726,
          20.52608647003921,
          20.52608647003921,
          21.94684193320324
         ],
         "y": [
          0,
          0,
          0,
          0,
          0,
          0,
          -1.2094130431961276,
          1.2094130431961276,
          -2.356899256807116,
          2.356899256807116,
          0,
          -3.506267287947512,
          3.506267287947512,
          -4.3553912739567835,
          4.3553912739567835,
          -4.4242724528254405,
          4.4242724528254405,
          -2.91775696952343,
          2.91775696952343,
          0
         ]
        },
        {
         "marker": {
          "color": "#ff7f0e",
          "opacity": 0.4,
          "size": 5
         },
         "mode": "markers",
         "name": "Perturbed",
         "showlegend": false,
         "type": "scatter",
         "x": [
          1.0000000075724538,
          1.9999995472129872,
          2.9999121915147557,
          4.003954453724857,
          4.960300348199342,
          5.900301674332626,
          6.515586274696798,
          6.515586274696798,
          8.02011675713743,
          8.02011675713743,
          10.13037273476677,
          10.13037273476677,
          12.899432838273391,
          12.899432838273391,
          16.22228994788825,
          16.22228994788825,
          19.42536475559359,
          19.42536475559359,
          21.35460258851976,
          21.35460258851976
         ],
         "y": [
          0,
          0,
          0,
          0,
          0,
          0,
          -1.0202897247435503,
          1.0202897247435503,
          -2.4514175545026076,
          2.4514175545026076,
          -3.779403133421494,
          3.779403133421494,
          -4.743446499883625,
          4.743446499883625,
          -4.854318208372908,
          4.854318208372908,
          -3.607512374223444,
          3.607512374223444,
          -1.2778741701330945,
          1.2778741701330945
         ]
        },
        {
         "marker": {
          "color": "#ff7f0e",
          "opacity": 0.4,
          "size": 5
         },
         "mode": "markers",
         "name": "Perturbed",
         "showlegend": false,
         "type": "scatter",
         "x": [
          1.000000015483235,
          1.9999973457312101,
          3.0000004193687175,
          4.0048088138370925,
          4.894809045610711,
          5.8951165277999875,
          5.8951165277999875,
          7.368501504622451,
          7.368501504622451,
          9.283954874341777,
          9.283954874341777,
          11.863275044093319,
          11.863275044093319,
          15.259444911398049,
          15.259444911398049,
          15.43321275110822,
          18.8722014935281,
          18.8722014935281,
          21.29109143821809,
          21.29109143821809
         ],
         "y": [
          0,
          0,
          0,
          0,
          0,
          -0.7797857361713865,
          0.7797857361713865,
          -1.9449297759121575,
          1.9449297759121575,
          -3.1474729160667376,
          3.1474729160667376,
          -4.217358179831823,
          4.217358179831823,
          -4.629827888034711,
          4.629827888034711,
          0,
          -3.7226560916547604,
          3.7226560916547604,
          -1.418243517468987,
          1.418243517468987
         ]
        },
        {
         "marker": {
          "color": "#ff7f0e",
          "opacity": 0.4,
          "size": 5
         },
         "mode": "markers",
         "name": "Perturbed",
         "showlegend": false,
         "type": "scatter",
         "x": [
          1.0000000363319799,
          1.9999942256845702,
          3.0003355916899306,
          3.9898029399666495,
          5.222202670140829,
          5.222202670140829,
          6.615151634738417,
          6.615151634738417,
          8.367113170223416,
          8.367113170223416,
          10.720572620321986,
          10.720572620321986,
          12.824142937140746,
          13.821593521159325,
          13.821593521159325,
          17.39923775175115,
          17.39923775175115,
          20.530520199193944,
          20.530520199193944,
          21.832941184606014
         ],
         "y": [
          0,
          0,
          0,
          0,
          -0.2629209422627736,
          0.2629209422627736,
          -1.385748891045478,
          1.385748891045478,
          -2.5726736665806866,
          2.5726736665806866,
          -3.7387127167030796,
          3.7387127167030796,
          0,
          -4.602688241021765,
          4.602688241021765,
          -4.482831298458284,
          4.482831298458284,
          -2.8115373236708856,
          2.8115373236708856,
          0
         ]
        },
        {
         "marker": {
          "color": "#ff7f0e",
          "opacity": 0.4,
          "size": 5
         },
         "mode": "markers",
         "name": "Perturbed",
         "showlegend": false,
         "type": "scatter",
         "x": [
          0.9999999832131664,
          2.0000003382301106,
          3.000205134546691,
          3.989502682338888,
          5.22403106089765,
          5.22403106089765,
          6.7953341598994985,
          6.7953341598994985,
          8.713914273074803,
          8.962449748913244,
          8.962449748913244,
          11.793839995371851,
          11.793839995371851,
          13.10806409999104,
          15.39417829957478,
          15.39417829957478,
          19.171437584154532,
          19.171437584154532,
          21.75288590682957,
          21.75288590682957
         ],
         "y": [
          0,
          0,
          0,
          0,
          -0.2857654624682966,
          0.2857654624682966,
          -1.467147760790505,
          1.467147760790505,
          0,
          -2.924011600132762,
          2.924011600132762,
          -4.31511892354266,
          4.31511892354266,
          0,
          -4.999338092521268,
          4.999338092521268,
          -4.169759324990861,
          4.169759324990861,
          -1.6281802702647006,
          1.6281802702647006
         ]
        },
        {
         "marker": {
          "color": "#ff7f0e",
          "opacity": 0.4,
          "size": 5
         },
         "mode": "markers",
         "name": "Perturbed",
         "showlegend": false,
         "type": "scatter",
         "x": [
          0.9999999833911757,
          2.000000806422746,
          3.000039355352557,
          3.998724641740715,
          5.015756179734596,
          5.886835694366308,
          7.016012009896634,
          7.016012009896634,
          8.639312568377985,
          8.639312568377985,
          10.998282667337396,
          10.998282667337396,
          11.943854961610068,
          13.958244346897695,
          13.958244346897695,
          17.173052506837102,
          17.173052506837102,
          20.098276542576492,
          20.098276542576492,
          21.38842710285593
         ],
         "y": [
          0,
          0,
          0,
          0,
          0,
          0,
          -0.7120329876018666,
          0.7120329876018666,
          -1.859968085922243,
          1.859968085922243,
          -3.033010997498125,
          3.033010997498125,
          0,
          -3.85171839232814,
          3.85171839232814,
          -3.8050110374109796,
          3.8050110374109796,
          -2.4481665356551163,
          2.4481665356551163,
          0
         ]
        },
        {
         "marker": {
          "color": "#ff7f0e",
          "opacity": 0.4,
          "size": 5
         },
         "mode": "markers",
         "name": "Perturbed",
         "showlegend": false,
         "type": "scatter",
         "x": [
          1.0000000255496175,
          1.999994393691523,
          3.000263385028374,
          3.9949572801176894,
          5.028435528561868,
          5.976345312259738,
          5.976345312259738,
          7.224742392915058,
          7.224742392915058,
          9.038012323800857,
          9.038012323800857,
          11.415673212296609,
          11.415673212296609,
          14.331284873215935,
          14.331284873215935,
          17.704488319863728,
          17.704488319863728,
          20.76652763699692,
          20.76652763699692,
          22.06220123394359
         ],
         "y": [
          0,
          0,
          0,
          0,
          0,
          -0.4383347267800026,
          0.4383347267800026,
          -1.7917100721786692,
          1.7917100721786692,
          -3.131020775036847,
          3.131020775036847,
          -4.253838546129542,
          4.253838546129542,
          -4.920635494111872,
          4.920635494111872,
          -4.6749391403753044,
          4.6749391403753044,
          -2.9368748304347045,
          2.9368748304347045,
          0
         ]
        },
        {
         "marker": {
          "color": "#ff7f0e",
          "opacity": 0.4,
          "size": 5
         },
         "mode": "markers",
         "name": "Perturbed",
         "showlegend": false,
         "type": "scatter",
         "x": [
          0.9999999911199465,
          2.0000035631763105,
          2.9998413268599147,
          3.9997169201748326,
          5.202527021245499,
          5.301199971279858,
          6.576417188536806,
          6.576417188536806,
          8.399622241829483,
          8.399622241829483,
          10.980902995280093,
          10.980902995280093,
          12.450727542357631,
          14.302378767871293,
          14.302378767871293,
          17.830775293100615,
          17.830775293100615,
          20.203343379341906,
          20.331223662914887,
          20.331223662914887
         ],
         "y": [
          0,
          0,
          0,
          0,
          0,
          0,
          -1.3617814521561584,
          1.3617814521561584,
          -2.647884725698267,
          2.647884725698267,
          -3.7992936578100096,
          3.7992936578100096,
          0,
          -4.410587326597262,
          4.410587326597262,
          -3.7714148889295065,
          3.7714148889295065,
          0,
          -1.5620227386402252,
          1.5620227386402252
         ]
        },
        {
         "marker": {
          "color": "#ff7f0e",
          "opacity": 0.4,
          "size": 5
         },
         "mode": "markers",
         "name": "Perturbed",
         "showlegend": false,
         "type": "scatter",
         "x": [
          1.0000000015972603,
          2.000002974011,
          2.9998210991705943,
          4.002500410187067,
          5.011560716658013,
          5.701803783849337,
          6.629324005945016,
          6.629324005945016,
          8.144608324984201,
          8.144608324984201,
          10.033579784032364,
          10.033579784032364,
          12.566557209350758,
          12.566557209350758,
          15.894824399160793,
          15.894824399160793,
          19.44996502966989,
          19.44996502966989,
          21.92329678087726,
          21.92329678087726
         ],
         "y": [
          0,
          0,
          0,
          0,
          0,
          0,
          -1.1109237865057846,
          1.1109237865057846,
          -2.322476298939394,
          2.322476298939394,
          -3.5583037656912673,
          3.5583037656912673,
          -4.722123073706327,
          4.722123073706327,
          -5.198556986761312,
          5.198556986761312,
          -4.234250399548454,
          4.234250399548454,
          -1.6528516909822453,
          1.6528516909822453
         ]
        },
        {
         "marker": {
          "color": "#ff7f0e",
          "opacity": 0.4,
          "size": 5
         },
         "mode": "markers",
         "name": "Perturbed",
         "showlegend": false,
         "type": "scatter",
         "x": [
          0.9999999913742953,
          2.000002105879163,
          2.9999113101636885,
          4.002518330471783,
          4.9584891145348235,
          6.203898265769488,
          6.203898265769488,
          7.567743172435953,
          7.931993541734894,
          7.931993541734894,
          9.938000936614003,
          9.938000936614003,
          12.66716370992275,
          12.66716370992275,
          15.990216145052084,
          15.990216145052084,
          19.346716654133015,
          19.346716654133015,
          21.657678734551283,
          21.657678734551283
         ],
         "y": [
          0,
          0,
          0,
          0,
          0,
          -0.501669200540384,
          0.501669200540384,
          0,
          -1.9921434187601965,
          1.9921434187601965,
          -3.5098733658984336,
          3.5098733658984336,
          -4.661616844755885,
          4.661616844755885,
          -4.952914302067061,
          4.952914302067061,
          -3.935902260266538,
          3.935902260266538,
          -1.5195039264116688,
          1.5195039264116688
         ]
        },
        {
         "marker": {
          "color": "#ff7f0e",
          "opacity": 0.4,
          "size": 5
         },
         "mode": "markers",
         "name": "Perturbed",
         "showlegend": false,
         "type": "scatter",
         "x": [
          1.0000000181050626,
          1.9999940780258654,
          3.0005926551196755,
          3.978471639940775,
          5.117056313194869,
          5.117056313194869,
          6.555181576626008,
          6.555181576626008,
          8.546588025388965,
          8.546588025388965,
          10.132099715555492,
          11.232383877461768,
          11.232383877461768,
          14.555920592340463,
          14.555920592340463,
          17.972553535597243,
          17.972553535597243,
          20.372854118564383,
          20.372854118564383,
          21.18376579359679
         ],
         "y": [
          0,
          0,
          0,
          0,
          -0.452229536890854,
          0.452229536890854,
          -1.6199702639497586,
          1.6199702639497586,
          -2.941093622512085,
          2.941093622512085,
          0,
          -4.232084428455298,
          4.232084428455298,
          -4.8320774155714785,
          4.8320774155714785,
          -4.0772966973683005,
          4.0772966973683005,
          -2.1365493482629714,
          2.1365493482629714,
          0
         ]
        },
        {
         "marker": {
          "color": "#ff7f0e",
          "opacity": 0.4,
          "size": 5
         },
         "mode": "markers",
         "name": "Perturbed",
         "showlegend": false,
         "type": "scatter",
         "x": [
          0.9999999937635671,
          1.9999991954921095,
          3.000204026045295,
          3.9911792159431854,
          5.2714397466130745,
          5.2714397466130745,
          6.924740898708302,
          6.924740898708302,
          7.328070443608335,
          8.742486255284216,
          8.742486255284216,
          11.147332269676038,
          11.147332269676038,
          14.2994343852739,
          14.2994343852739,
          17.870371855096856,
          17.870371855096856,
          20.95925371975776,
          20.95925371975776,
          22.250428886526954
         ],
         "y": [
          0,
          0,
          0,
          0,
          -0.19118737740789418,
          0.19118737740789418,
          -1.5251555075764789,
          1.5251555075764789,
          0,
          -3.0923773124947433,
          3.0923773124947433,
          -4.485818617993034,
          4.485818617993034,
          -5.300774780111193,
          5.300774780111193,
          -4.9422675234814335,
          4.9422675234814335,
          -3.0549548324913176,
          3.0549548324913176,
          0
         ]
        },
        {
         "marker": {
          "color": "#ff7f0e",
          "opacity": 0.4,
          "size": 5
         },
         "mode": "markers",
         "name": "Perturbed",
         "showlegend": false,
         "type": "scatter",
         "x": [
          1.000000015399629,
          1.9999966343888913,
          3.000233269387352,
          3.991502365052514,
          5.188228717773434,
          5.188228717773434,
          6.437411407384564,
          6.437411407384564,
          7.993883188182851,
          7.993883188182851,
          10.096200070204993,
          10.096200070204993,
          12.892909150741803,
          12.892909150741803,
          16.31785450897698,
          16.31785450897698,
          19.633530830145304,
          19.633530830145304,
          21.444115994604367,
          21.444115994604367
         ],
         "y": [
          0,
          0,
          0,
          0,
          -0.2834877845570944,
          0.2834877845570944,
          -1.426495410746674,
          1.426495410746674,
          -2.706295446958056,
          2.706295446958056,
          -4.0031154363906,
          4.0031154363906,
          -4.994325552626622,
          4.994325552626622,
          -5.111722658858219,
          5.111722658858219,
          -3.7315449606581903,
          3.7315449606581903,
          -1.2343503594370422,
          1.2343503594370422
         ]
        },
        {
         "marker": {
          "color": "#ff7f0e",
          "opacity": 0.4,
          "size": 5
         },
         "mode": "markers",
         "name": "Perturbed",
         "showlegend": false,
         "type": "scatter",
         "x": [
          1.0000000356504721,
          1.9999942270574367,
          3.000171108532201,
          3.99668064192689,
          5.1254890085920035,
          5.437673504598605,
          6.547466027397375,
          6.547466027397375,
          8.14650749237741,
          8.14650749237741,
          10.313329576330622,
          10.313329576330622,
          13.013382895822499,
          13.013382895822499,
          16.111708357966968,
          16.111708357966968,
          19.239075350386425,
          19.239075350386425,
          21.348526036027828,
          21.348526036027828
         ],
         "y": [
          0,
          0,
          0,
          0,
          0,
          0,
          -1.2702689510604868,
          1.2702689510604868,
          -2.545469141512436,
          2.545469141512436,
          -3.731691135074673,
          3.731691135074673,
          -4.51417014609005,
          4.51417014609005,
          -4.612478696848232,
          4.612478696848232,
          -3.585196652541523,
          3.585196652541523,
          -1.3484740320004187,
          1.3484740320004187
         ]
        },
        {
         "marker": {
          "color": "#ff7f0e",
          "opacity": 0.4,
          "size": 5
         },
         "mode": "markers",
         "name": "Perturbed",
         "showlegend": false,
         "type": "scatter",
         "x": [
          1.0000000026038882,
          1.9999983563690342,
          3.000157453545792,
          3.9976756034382874,
          4.96164303344124,
          5.865270107235975,
          5.865270107235975,
          7.232406224435999,
          7.232406224435999,
          9.187455294834187,
          9.187455294834187,
          11.756123369090554,
          11.756123369090554,
          14.546028019508615,
          14.546028019508615,
          17.44470808278487,
          17.44470808278487,
          20.516414964662648,
          20.516414964662648,
          21.943713463107507
         ],
         "y": [
          0,
          0,
          0,
          0,
          0,
          -0.6808949279387505,
          0.6808949279387505,
          -1.9791851817694717,
          1.9791851817694717,
          -3.2754443046440564,
          3.2754443046440564,
          -4.206360864478753,
          4.206360864478753,
          -4.443923643280419,
          4.443923643280419,
          -4.28155423534816,
          4.28155423534816,
          -2.8867554768977577,
          2.8867554768977577,
          0
         ]
        },
        {
         "marker": {
          "color": "#ff7f0e",
          "opacity": 0.4,
          "size": 5
         },
         "mode": "markers",
         "name": "Perturbed",
         "showlegend": false,
         "type": "scatter",
         "x": [
          1.0000000156761693,
          2.0000010370010144,
          2.999924263223923,
          4.002478896297416,
          4.944973470250574,
          5.989131332012917,
          5.989131332012917,
          7.445327542545321,
          7.445327542545321,
          9.520639605665469,
          9.520639605665469,
          11.823266086108616,
          12.384473776146173,
          12.384473776146173,
          15.811637595712309,
          15.811637595712309,
          19.141189794436002,
          19.141189794436002,
          21.322278448940892,
          21.322278448940892
         ],
         "y": [
          0,
          0,
          0,
          0,
          0,
          -0.6349273613578799,
          0.6349273613578799,
          -1.8396333238586884,
          1.8396333238586884,
          -3.149388442932512,
          3.149388442932512,
          0,
          -4.287350437552003,
          4.287350437552003,
          -4.631714257409646,
          4.631714257409646,
          -3.617824179708765,
          3.617824179708765,
          -1.3619882348875672,
          1.3619882348875672
         ]
        },
        {
         "marker": {
          "color": "#ff7f0e",
          "opacity": 0.4,
          "size": 5
         },
         "mode": "markers",
         "name": "Perturbed",
         "showlegend": false,
         "type": "scatter",
         "x": [
          1.0000000173752837,
          1.9999984812339768,
          2.999953313901272,
          4.002419999550408,
          4.984921012999724,
          5.808993259027259,
          6.578538494165743,
          6.578538494165743,
          8.094545752967079,
          8.094545752967079,
          10.174542327467933,
          10.174542327467933,
          12.89459722388618,
          12.89459722388618,
          16.137131154831543,
          16.137131154831543,
          19.298925307725504,
          19.298925307725504,
          21.423576693886737,
          21.423576693886737
         ],
         "y": [
          0,
          0,
          0,
          0,
          0,
          0,
          -1.0525952252734445,
          1.0525952252734445,
          -2.4015777043649758,
          2.4015777043649758,
          -3.6806704592343698,
          3.6806704592343698,
          -4.626978034605786,
          4.626978034605786,
          -4.754552858693881,
          4.754552858693881,
          -3.655295975512345,
          3.655295975512345,
          -1.3869582608189825,
          1.3869582608189825
         ]
        },
        {
         "marker": {
          "color": "#ff7f0e",
          "opacity": 0.4,
          "size": 5
         },
         "mode": "markers",
         "name": "Perturbed",
         "showlegend": false,
         "type": "scatter",
         "x": [
          1.0000000285691026,
          1.9999936953088409,
          3.0003302255344244,
          3.9937554241872686,
          5.036541368867293,
          5.980192510029468,
          5.980192510029468,
          7.247221379872162,
          7.247221379872162,
          9.028065827940829,
          9.028065827940829,
          11.31974470382412,
          11.31974470382412,
          14.228389699496287,
          14.228389699496287,
          17.682057444548192,
          17.682057444548192,
          20.874852676554806,
          20.874852676554806,
          22.24833072166912
         ],
         "y": [
          0,
          0,
          0,
          0,
          0,
          -0.4265374207990602,
          0.4265374207990602,
          -1.7754403255221245,
          1.7754403255221245,
          -3.075625677211792,
          3.075625677211792,
          -4.2353266688619815,
          4.2353266688619815,
          -5.015117403526584,
          5.015117403526584,
          -4.84578133251735,
          4.84578133251735,
          -3.0948579784650696,
          3.0948579784650696,
          0
         ]
        },
        {
         "marker": {
          "color": "#ff7f0e",
          "opacity": 0.4,
          "size": 5
         },
         "mode": "markers",
         "name": "Perturbed",
         "showlegend": false,
         "type": "scatter",
         "x": [
          0.9999999789107276,
          2.000002466551402,
          2.9999273509778046,
          4.000839580098059,
          4.994884914700547,
          5.996731936928369,
          7.003037111146176,
          7.003037111146176,
          8.375007302454453,
          8.375007302454453,
          10.356102829405327,
          10.356102829405327,
          13.059815699905826,
          13.059815699905826,
          16.40096188667457,
          16.40096188667457,
          18.14953174203713,
          19.65299251351113,
          19.65299251351113,
          21.162247370215454
         ],
         "y": [
          0,
          0,
          0,
          0,
          0,
          0,
          -0.5201850147693251,
          0.5201850147693251,
          -1.788189458462697,
          1.788189458462697,
          -3.0669662423411594,
          3.0669662423411594,
          -4.0047103103478685,
          4.0047103103478685,
          -4.013915706158767,
          4.013915706158767,
          0,
          -2.50598500982578,
          2.50598500982578,
          0
         ]
        },
        {
         "marker": {
          "color": "#ff7f0e",
          "opacity": 0.4,
          "size": 5
         },
         "mode": "markers",
         "name": "Perturbed",
         "showlegend": false,
         "type": "scatter",
         "x": [
          0.9999999882610842,
          2.000004596441656,
          2.9998568616630195,
          3.998400384401983,
          5.210275995770464,
          5.322067828205876,
          6.682674403810889,
          6.682674403810889,
          8.598217049509739,
          8.598217049509739,
          9.489506025086607,
          11.047413376068175,
          11.047413376068175,
          14.101142732871683,
          14.101142732871683,
          17.62324508134617,
          17.62324508134617,
          20.830992070968435,
          20.830992070968435,
          22.212518855793903
         ],
         "y": [
          0,
          0,
          0,
          0,
          0,
          0,
          -1.3462784877661287,
          1.3462784877661287,
          -2.706941775480732,
          2.706941775480732,
          0,
          -4.092203414911887,
          4.092203414911887,
          -4.982339660613073,
          4.982339660613073,
          -4.820941445712711,
          4.820941445712711,
          -3.0797673315941516,
          3.0797673315941516,
          0
         ]
        },
        {
         "marker": {
          "color": "#ff7f0e",
          "opacity": 0.4,
          "size": 5
         },
         "mode": "markers",
         "name": "Perturbed",
         "showlegend": false,
         "type": "scatter",
         "x": [
          0.9999999914608346,
          2.0000018964069386,
          2.9998206600618356,
          4.005776465500208,
          4.936160878226458,
          6.182954886509535,
          6.508885949697726,
          6.508885949697726,
          8.025128918943551,
          8.025128918943551,
          10.12964395378604,
          10.12964395378604,
          12.954528571467016,
          12.954528571467016,
          16.43577440736229,
          16.43577440736229,
          19.75420887272854,
          19.75420887272854,
          20.062143022829414,
          21.196800850751796
         ],
         "y": [
          0,
          0,
          0,
          0,
          0,
          0,
          -0.819029303563226,
          0.819029303563226,
          -2.3475947490654967,
          2.3475947490654967,
          -3.71398663700553,
          3.71398663700553,
          -4.719724615769505,
          4.719724615769505,
          -4.764291728212669,
          4.764291728212669,
          -3.1349836784184175,
          3.1349836784184175,
          0,
          0
         ]
        },
        {
         "marker": {
          "color": "#ff7f0e",
          "opacity": 0.4,
          "size": 5
         },
         "mode": "markers",
         "name": "Perturbed",
         "showlegend": false,
         "type": "scatter",
         "x": [
          0.999999988010211,
          1.9999990239396153,
          3.000158380427403,
          3.9937098463206575,
          5.267137763336362,
          5.267137763336362,
          6.694004129802439,
          6.694004129802439,
          8.528074946319212,
          8.528074946319212,
          10.370777846867625,
          10.962751313289608,
          10.962751313289608,
          14.034389308679794,
          14.034389308679794,
          17.572202405584328,
          17.572202405584328,
          20.72718909748375,
          20.72718909748375,
          22.06385694132961
         ],
         "y": [
          0,
          0,
          0,
          0,
          -0.12220046903665265,
          0.12220046903665265,
          -1.3110656926709132,
          1.3110656926709132,
          -2.561763015465112,
          2.561763015465112,
          0,
          -3.910091989369046,
          3.910091989369046,
          -4.850563573857047,
          4.850563573857047,
          -4.696641387856212,
          4.696641387856212,
          -2.968539276418754,
          2.968539276418754,
          0
         ]
        },
        {
         "marker": {
          "color": "#ff7f0e",
          "opacity": 0.4,
          "size": 5
         },
         "mode": "markers",
         "name": "Perturbed",
         "showlegend": false,
         "type": "scatter",
         "x": [
          1.0000000019796644,
          1.9999998971490434,
          3.00002850428168,
          3.9981079850827146,
          5.061811150358167,
          5.636817360329428,
          6.847632307160438,
          6.847632307160438,
          8.826789253030054,
          8.826789253030054,
          9.318358454991378,
          11.422106154064004,
          11.422106154064004,
          14.787938977668983,
          14.787938977668983,
          16.619021577882354,
          18.5418890497059,
          18.5418890497059,
          21.256571787083708,
          21.256571787083708
         ],
         "y": [
          0,
          0,
          0,
          0,
          0,
          0,
          -1.1392243006967084,
          1.1392243006967084,
          -2.493822643239046,
          2.493822643239046,
          0,
          -3.8729141940608347,
          3.8729141940608347,
          -4.5320967877091265,
          4.5320967877091265,
          0,
          -3.80448831886028,
          3.80448831886028,
          -1.5050311584465335,
          1.5050311584465335
         ]
        },
        {
         "marker": {
          "color": "#ff7f0e",
          "opacity": 0.4,
          "size": 5
         },
         "mode": "markers",
         "name": "Perturbed",
         "showlegend": false,
         "type": "scatter",
         "x": [
          1.000000014032706,
          1.999997761852379,
          3.0000925587992735,
          4.000574887743284,
          4.935834579079654,
          5.892422249088428,
          5.892422249088428,
          7.278231431255961,
          7.278231431255961,
          9.133955561041141,
          9.133955561041141,
          11.558432331914638,
          11.558432331914638,
          14.513313796152648,
          14.513313796152648,
          17.67569646630571,
          17.67569646630571,
          20.552853431171805,
          20.552853431171805,
          21.85368967815608
         ],
         "y": [
          0,
          0,
          0,
          0,
          0,
          -0.7075908437361659,
          0.7075908437361659,
          -1.9266909948426603,
          1.9266909948426603,
          -3.1764943107476094,
          3.1764943107476094,
          -4.2384910864925045,
          4.2384910864925045,
          -4.7343748864278306,
          4.7343748864278306,
          -4.343260085993444,
          4.343260085993444,
          -2.7632985949837883,
          2.7632985949837883,
          0
         ]
        },
        {
         "marker": {
          "color": "#ff7f0e",
          "opacity": 0.4,
          "size": 5
         },
         "mode": "markers",
         "name": "Perturbed",
         "showlegend": false,
         "type": "scatter",
         "x": [
          1.00000000910821,
          2.0000010473236545,
          2.9998531777444835,
          4.005963961349444,
          4.907647323063184,
          5.971330487145849,
          5.971330487145849,
          7.462280985498113,
          7.462280985498113,
          9.391838500606287,
          9.391838500606287,
          12.03470738273748,
          12.03470738273748,
          12.713068670856076,
          15.433675585710153,
          15.433675585710153,
          19.117497483407583,
          19.117497483407583,
          21.775402479551158,
          21.775402479551158
         ],
         "y": [
          0,
          0,
          0,
          0,
          0,
          -0.7182014376163475,
          0.7182014376163475,
          -1.8366824466234652,
          1.8366824466234652,
          -3.0515019644966666,
          3.0515019644966666,
          -4.233792032803118,
          4.233792032803118,
          0,
          -4.885716093275451,
          4.885716093275451,
          -4.162179649909681,
          4.162179649909681,
          -1.6690124288820327,
          1.6690124288820327
         ]
        },
        {
         "marker": {
          "color": "#ff7f0e",
          "opacity": 0.4,
          "size": 5
         },
         "mode": "markers",
         "name": "Perturbed",
         "showlegend": false,
         "type": "scatter",
         "x": [
          0.999999999769074,
          1.9999974215130838,
          3.000365970445845,
          3.987653019696429,
          5.246295461426449,
          5.246295461426449,
          6.852020897518795,
          6.852020897518795,
          9.133454579590737,
          9.133454579590737,
          10.482799167768206,
          10.723648697464242,
          12.094032511308221,
          12.094032511308221,
          15.512270497109593,
          15.512270497109593,
          19.061544845016165,
          19.061544845016165,
          21.50314908790292,
          21.50314908790292
         ],
         "y": [
          0,
          0,
          0,
          0,
          -0.2646015814170491,
          0.2646015814170491,
          -1.3711099546228767,
          1.3711099546228767,
          -2.5525063055605535,
          2.5525063055605535,
          0,
          0,
          -3.960096126379859,
          3.960096126379859,
          -4.647713893455735,
          4.647713893455735,
          -3.860441708709117,
          3.860441708709117,
          -1.5035439768477539,
          1.5035439768477539
         ]
        },
        {
         "marker": {
          "color": "#ff7f0e",
          "opacity": 0.4,
          "size": 5
         },
         "mode": "markers",
         "name": "Perturbed",
         "showlegend": false,
         "type": "scatter",
         "x": [
          0.9999999764850449,
          2.0000046500507773,
          2.9997422919549077,
          4.007463962651107,
          4.901454788776735,
          6.0009370605840076,
          6.0009370605840076,
          7.63850606752688,
          7.63850606752688,
          9.552799583203255,
          9.793373910176566,
          9.793373910176566,
          12.508317811010139,
          12.508317811010139,
          15.845114165891538,
          15.845114165891538,
          19.296857731660225,
          19.296857731660225,
          21.686160630252957,
          21.686160630252957
         ],
         "y": [
          0,
          0,
          0,
          0,
          0,
          -0.7271581844002949,
          0.7271581844002949,
          -1.9005525258677207,
          1.9005525258677207,
          0,
          -3.2952887586640025,
          3.2952887586640025,
          -4.511846801153536,
          4.511846801153536,
          -4.939409214283614,
          4.939409214283614,
          -3.9944006249491686,
          3.9944006249491686,
          -1.553003975093711,
          1.553003975093711
         ]
        },
        {
         "marker": {
          "color": "#ff7f0e",
          "opacity": 0.4,
          "size": 5
         },
         "mode": "markers",
         "name": "Perturbed",
         "showlegend": false,
         "type": "scatter",
         "x": [
          1.0000000328000942,
          1.9999917937932385,
          3.0006579195627583,
          3.978387607923562,
          5.102268842783998,
          5.102268842783998,
          6.42979424478057,
          6.42979424478057,
          8.131653145887665,
          8.131653145887665,
          10.396391499495097,
          10.396391499495097,
          13.305871679719523,
          13.305871679719523,
          16.65664659678031,
          16.65664659678031,
          19.43724416265484,
          19.702729079003113,
          19.702729079003113,
          21.133008298066926
         ],
         "y": [
          0,
          0,
          0,
          0,
          -0.4523943720768771,
          0.4523943720768771,
          -1.586794372889422,
          1.586794372889422,
          -2.82699652256391,
          2.82699652256391,
          -3.9915907079163353,
          3.9915907079163353,
          -4.713901479746009,
          4.713901479746009,
          -4.4579320345526225,
          4.4579320345526225,
          0,
          -2.766125934682317,
          2.766125934682317,
          0
         ]
        },
        {
         "marker": {
          "color": "#ff7f0e",
          "opacity": 0.4,
          "size": 5
         },
         "mode": "markers",
         "name": "Perturbed",
         "showlegend": false,
         "type": "scatter",
         "x": [
          1.0000000258903115,
          1.9999943756433507,
          3.0003137042600003,
          3.9924960287599958,
          5.119190104626702,
          5.644442842317621,
          6.683568258100704,
          7.2096322401316435,
          7.2096322401316435,
          9.020072994858243,
          9.020072994858243,
          11.469395025415409,
          11.469395025415409,
          14.60988992075885,
          14.60988992075885,
          18.01074424134319,
          18.01074424134319,
          20.454099590271714,
          20.454099590271714,
          21.01232662441818
         ],
         "y": [
          0,
          0,
          0,
          0,
          0,
          0,
          0,
          -1.5597955916163209,
          1.5597955916163209,
          -2.99916742850306,
          2.99916742850306,
          -4.214768439553697,
          4.214768439553697,
          -4.794072237791803,
          4.794072237791803,
          -4.10871869688477,
          4.10871869688477,
          -2.0333274829979096,
          2.0333274829979096,
          0
         ]
        },
        {
         "marker": {
          "color": "#ff7f0e",
          "opacity": 0.4,
          "size": 5
         },
         "mode": "markers",
         "name": "Perturbed",
         "showlegend": true,
         "type": "scatter",
         "x": [
          0.9999999937011886,
          1.9999992591485285,
          3.0001390212999466,
          3.9936927414977412,
          5.215552190274435,
          5.215552190274435,
          6.49084777339038,
          6.49084777339038,
          8.129445997369846,
          8.129445997369846,
          10.398531775994769,
          10.398531775994769,
          13.192099961851504,
          13.192099961851504,
          16.015160033910604,
          16.015160033910604,
          19.10569617478892,
          19.10569617478892,
          21.455750577518174,
          21.455750577518174
         ],
         "y": [
          0,
          0,
          0,
          0,
          -0.2247878187342366,
          0.2247878187342366,
          -1.3936588346031846,
          1.3936588346031846,
          -2.6778154574321524,
          2.6778154574321524,
          -3.861941204135939,
          3.861941204135939,
          -4.451628653911918,
          4.451628653911918,
          -4.4394311399343644,
          4.4394311399343644,
          -3.69759269435085,
          3.69759269435085,
          -1.464077652929519,
          1.464077652929519
         ]
        },
        {
         "marker": {
          "color": "slateblue",
          "size": 5
         },
         "mode": "markers",
         "name": "Unperturbed",
         "type": "scatter",
         "x": [
          0.9999999999998084,
          2.0000000000114264,
          2.9999999998168487,
          3.999999983818672,
          5.000000688670983,
          5.999988371602095,
          7.000112910766231,
          7.999279406281878,
          9.003273831140774,
          9.989265687778465,
          11.027997558569794,
          11.94827395840048,
          13.082031971969954,
          13.906800565193148,
          15.081439299377482,
          15.942404318674466,
          17.026861831476396,
          17.99048462339055,
          19.001981084996206,
          19.999803908064397
         ],
         "y": [
          0,
          0,
          0,
          0,
          0,
          0,
          0,
          0,
          0,
          0,
          0,
          0,
          0,
          0,
          0,
          0,
          0,
          0,
          0,
          0
         ]
        }
       ],
       "layout": {
        "annotations": [
         {
          "font": {
           "size": 12
          },
          "showarrow": false,
          "text": "Average Relative Condition Number: 3.36279899070096E+18",
          "textangle": 0,
          "x": -0.07,
          "xanchor": "left",
          "xref": "paper",
          "y": -0.15,
          "yref": "paper"
         },
         {
          "font": {
           "size": 12
          },
          "showarrow": false,
          "text": "Average Absolute Condition Number: 4.872246518092125",
          "textangle": 0,
          "x": -0.07,
          "xanchor": "left",
          "xref": "paper",
          "y": -0.22,
          "yref": "paper"
         }
        ],
        "showlegend": true,
        "template": {
         "data": {
          "bar": [
           {
            "error_x": {
             "color": "#2a3f5f"
            },
            "error_y": {
             "color": "#2a3f5f"
            },
            "marker": {
             "line": {
              "color": "#E5ECF6",
              "width": 0.5
             },
             "pattern": {
              "fillmode": "overlay",
              "size": 10,
              "solidity": 0.2
             }
            },
            "type": "bar"
           }
          ],
          "barpolar": [
           {
            "marker": {
             "line": {
              "color": "#E5ECF6",
              "width": 0.5
             },
             "pattern": {
              "fillmode": "overlay",
              "size": 10,
              "solidity": 0.2
             }
            },
            "type": "barpolar"
           }
          ],
          "carpet": [
           {
            "aaxis": {
             "endlinecolor": "#2a3f5f",
             "gridcolor": "white",
             "linecolor": "white",
             "minorgridcolor": "white",
             "startlinecolor": "#2a3f5f"
            },
            "baxis": {
             "endlinecolor": "#2a3f5f",
             "gridcolor": "white",
             "linecolor": "white",
             "minorgridcolor": "white",
             "startlinecolor": "#2a3f5f"
            },
            "type": "carpet"
           }
          ],
          "choropleth": [
           {
            "colorbar": {
             "outlinewidth": 0,
             "ticks": ""
            },
            "type": "choropleth"
           }
          ],
          "contour": [
           {
            "colorbar": {
             "outlinewidth": 0,
             "ticks": ""
            },
            "colorscale": [
             [
              0,
              "#0d0887"
             ],
             [
              0.1111111111111111,
              "#46039f"
             ],
             [
              0.2222222222222222,
              "#7201a8"
             ],
             [
              0.3333333333333333,
              "#9c179e"
             ],
             [
              0.4444444444444444,
              "#bd3786"
             ],
             [
              0.5555555555555556,
              "#d8576b"
             ],
             [
              0.6666666666666666,
              "#ed7953"
             ],
             [
              0.7777777777777778,
              "#fb9f3a"
             ],
             [
              0.8888888888888888,
              "#fdca26"
             ],
             [
              1,
              "#f0f921"
             ]
            ],
            "type": "contour"
           }
          ],
          "contourcarpet": [
           {
            "colorbar": {
             "outlinewidth": 0,
             "ticks": ""
            },
            "type": "contourcarpet"
           }
          ],
          "heatmap": [
           {
            "colorbar": {
             "outlinewidth": 0,
             "ticks": ""
            },
            "colorscale": [
             [
              0,
              "#0d0887"
             ],
             [
              0.1111111111111111,
              "#46039f"
             ],
             [
              0.2222222222222222,
              "#7201a8"
             ],
             [
              0.3333333333333333,
              "#9c179e"
             ],
             [
              0.4444444444444444,
              "#bd3786"
             ],
             [
              0.5555555555555556,
              "#d8576b"
             ],
             [
              0.6666666666666666,
              "#ed7953"
             ],
             [
              0.7777777777777778,
              "#fb9f3a"
             ],
             [
              0.8888888888888888,
              "#fdca26"
             ],
             [
              1,
              "#f0f921"
             ]
            ],
            "type": "heatmap"
           }
          ],
          "heatmapgl": [
           {
            "colorbar": {
             "outlinewidth": 0,
             "ticks": ""
            },
            "colorscale": [
             [
              0,
              "#0d0887"
             ],
             [
              0.1111111111111111,
              "#46039f"
             ],
             [
              0.2222222222222222,
              "#7201a8"
             ],
             [
              0.3333333333333333,
              "#9c179e"
             ],
             [
              0.4444444444444444,
              "#bd3786"
             ],
             [
              0.5555555555555556,
              "#d8576b"
             ],
             [
              0.6666666666666666,
              "#ed7953"
             ],
             [
              0.7777777777777778,
              "#fb9f3a"
             ],
             [
              0.8888888888888888,
              "#fdca26"
             ],
             [
              1,
              "#f0f921"
             ]
            ],
            "type": "heatmapgl"
           }
          ],
          "histogram": [
           {
            "marker": {
             "pattern": {
              "fillmode": "overlay",
              "size": 10,
              "solidity": 0.2
             }
            },
            "type": "histogram"
           }
          ],
          "histogram2d": [
           {
            "colorbar": {
             "outlinewidth": 0,
             "ticks": ""
            },
            "colorscale": [
             [
              0,
              "#0d0887"
             ],
             [
              0.1111111111111111,
              "#46039f"
             ],
             [
              0.2222222222222222,
              "#7201a8"
             ],
             [
              0.3333333333333333,
              "#9c179e"
             ],
             [
              0.4444444444444444,
              "#bd3786"
             ],
             [
              0.5555555555555556,
              "#d8576b"
             ],
             [
              0.6666666666666666,
              "#ed7953"
             ],
             [
              0.7777777777777778,
              "#fb9f3a"
             ],
             [
              0.8888888888888888,
              "#fdca26"
             ],
             [
              1,
              "#f0f921"
             ]
            ],
            "type": "histogram2d"
           }
          ],
          "histogram2dcontour": [
           {
            "colorbar": {
             "outlinewidth": 0,
             "ticks": ""
            },
            "colorscale": [
             [
              0,
              "#0d0887"
             ],
             [
              0.1111111111111111,
              "#46039f"
             ],
             [
              0.2222222222222222,
              "#7201a8"
             ],
             [
              0.3333333333333333,
              "#9c179e"
             ],
             [
              0.4444444444444444,
              "#bd3786"
             ],
             [
              0.5555555555555556,
              "#d8576b"
             ],
             [
              0.6666666666666666,
              "#ed7953"
             ],
             [
              0.7777777777777778,
              "#fb9f3a"
             ],
             [
              0.8888888888888888,
              "#fdca26"
             ],
             [
              1,
              "#f0f921"
             ]
            ],
            "type": "histogram2dcontour"
           }
          ],
          "mesh3d": [
           {
            "colorbar": {
             "outlinewidth": 0,
             "ticks": ""
            },
            "type": "mesh3d"
           }
          ],
          "parcoords": [
           {
            "line": {
             "colorbar": {
              "outlinewidth": 0,
              "ticks": ""
             }
            },
            "type": "parcoords"
           }
          ],
          "pie": [
           {
            "automargin": true,
            "type": "pie"
           }
          ],
          "scatter": [
           {
            "fillpattern": {
             "fillmode": "overlay",
             "size": 10,
             "solidity": 0.2
            },
            "type": "scatter"
           }
          ],
          "scatter3d": [
           {
            "line": {
             "colorbar": {
              "outlinewidth": 0,
              "ticks": ""
             }
            },
            "marker": {
             "colorbar": {
              "outlinewidth": 0,
              "ticks": ""
             }
            },
            "type": "scatter3d"
           }
          ],
          "scattercarpet": [
           {
            "marker": {
             "colorbar": {
              "outlinewidth": 0,
              "ticks": ""
             }
            },
            "type": "scattercarpet"
           }
          ],
          "scattergeo": [
           {
            "marker": {
             "colorbar": {
              "outlinewidth": 0,
              "ticks": ""
             }
            },
            "type": "scattergeo"
           }
          ],
          "scattergl": [
           {
            "marker": {
             "colorbar": {
              "outlinewidth": 0,
              "ticks": ""
             }
            },
            "type": "scattergl"
           }
          ],
          "scattermapbox": [
           {
            "marker": {
             "colorbar": {
              "outlinewidth": 0,
              "ticks": ""
             }
            },
            "type": "scattermapbox"
           }
          ],
          "scatterpolar": [
           {
            "marker": {
             "colorbar": {
              "outlinewidth": 0,
              "ticks": ""
             }
            },
            "type": "scatterpolar"
           }
          ],
          "scatterpolargl": [
           {
            "marker": {
             "colorbar": {
              "outlinewidth": 0,
              "ticks": ""
             }
            },
            "type": "scatterpolargl"
           }
          ],
          "scatterternary": [
           {
            "marker": {
             "colorbar": {
              "outlinewidth": 0,
              "ticks": ""
             }
            },
            "type": "scatterternary"
           }
          ],
          "surface": [
           {
            "colorbar": {
             "outlinewidth": 0,
             "ticks": ""
            },
            "colorscale": [
             [
              0,
              "#0d0887"
             ],
             [
              0.1111111111111111,
              "#46039f"
             ],
             [
              0.2222222222222222,
              "#7201a8"
             ],
             [
              0.3333333333333333,
              "#9c179e"
             ],
             [
              0.4444444444444444,
              "#bd3786"
             ],
             [
              0.5555555555555556,
              "#d8576b"
             ],
             [
              0.6666666666666666,
              "#ed7953"
             ],
             [
              0.7777777777777778,
              "#fb9f3a"
             ],
             [
              0.8888888888888888,
              "#fdca26"
             ],
             [
              1,
              "#f0f921"
             ]
            ],
            "type": "surface"
           }
          ],
          "table": [
           {
            "cells": {
             "fill": {
              "color": "#EBF0F8"
             },
             "line": {
              "color": "white"
             }
            },
            "header": {
             "fill": {
              "color": "#C8D4E3"
             },
             "line": {
              "color": "white"
             }
            },
            "type": "table"
           }
          ]
         },
         "layout": {
          "annotationdefaults": {
           "arrowcolor": "#2a3f5f",
           "arrowhead": 0,
           "arrowwidth": 1
          },
          "autotypenumbers": "strict",
          "coloraxis": {
           "colorbar": {
            "outlinewidth": 0,
            "ticks": ""
           }
          },
          "colorscale": {
           "diverging": [
            [
             0,
             "#8e0152"
            ],
            [
             0.1,
             "#c51b7d"
            ],
            [
             0.2,
             "#de77ae"
            ],
            [
             0.3,
             "#f1b6da"
            ],
            [
             0.4,
             "#fde0ef"
            ],
            [
             0.5,
             "#f7f7f7"
            ],
            [
             0.6,
             "#e6f5d0"
            ],
            [
             0.7,
             "#b8e186"
            ],
            [
             0.8,
             "#7fbc41"
            ],
            [
             0.9,
             "#4d9221"
            ],
            [
             1,
             "#276419"
            ]
           ],
           "sequential": [
            [
             0,
             "#0d0887"
            ],
            [
             0.1111111111111111,
             "#46039f"
            ],
            [
             0.2222222222222222,
             "#7201a8"
            ],
            [
             0.3333333333333333,
             "#9c179e"
            ],
            [
             0.4444444444444444,
             "#bd3786"
            ],
            [
             0.5555555555555556,
             "#d8576b"
            ],
            [
             0.6666666666666666,
             "#ed7953"
            ],
            [
             0.7777777777777778,
             "#fb9f3a"
            ],
            [
             0.8888888888888888,
             "#fdca26"
            ],
            [
             1,
             "#f0f921"
            ]
           ],
           "sequentialminus": [
            [
             0,
             "#0d0887"
            ],
            [
             0.1111111111111111,
             "#46039f"
            ],
            [
             0.2222222222222222,
             "#7201a8"
            ],
            [
             0.3333333333333333,
             "#9c179e"
            ],
            [
             0.4444444444444444,
             "#bd3786"
            ],
            [
             0.5555555555555556,
             "#d8576b"
            ],
            [
             0.6666666666666666,
             "#ed7953"
            ],
            [
             0.7777777777777778,
             "#fb9f3a"
            ],
            [
             0.8888888888888888,
             "#fdca26"
            ],
            [
             1,
             "#f0f921"
            ]
           ]
          },
          "colorway": [
           "#636efa",
           "#EF553B",
           "#00cc96",
           "#ab63fa",
           "#FFA15A",
           "#19d3f3",
           "#FF6692",
           "#B6E880",
           "#FF97FF",
           "#FECB52"
          ],
          "font": {
           "color": "#2a3f5f"
          },
          "geo": {
           "bgcolor": "white",
           "lakecolor": "white",
           "landcolor": "#E5ECF6",
           "showlakes": true,
           "showland": true,
           "subunitcolor": "white"
          },
          "hoverlabel": {
           "align": "left"
          },
          "hovermode": "closest",
          "mapbox": {
           "style": "light"
          },
          "paper_bgcolor": "white",
          "plot_bgcolor": "#E5ECF6",
          "polar": {
           "angularaxis": {
            "gridcolor": "white",
            "linecolor": "white",
            "ticks": ""
           },
           "bgcolor": "#E5ECF6",
           "radialaxis": {
            "gridcolor": "white",
            "linecolor": "white",
            "ticks": ""
           }
          },
          "scene": {
           "xaxis": {
            "backgroundcolor": "#E5ECF6",
            "gridcolor": "white",
            "gridwidth": 2,
            "linecolor": "white",
            "showbackground": true,
            "ticks": "",
            "zerolinecolor": "white"
           },
           "yaxis": {
            "backgroundcolor": "#E5ECF6",
            "gridcolor": "white",
            "gridwidth": 2,
            "linecolor": "white",
            "showbackground": true,
            "ticks": "",
            "zerolinecolor": "white"
           },
           "zaxis": {
            "backgroundcolor": "#E5ECF6",
            "gridcolor": "white",
            "gridwidth": 2,
            "linecolor": "white",
            "showbackground": true,
            "ticks": "",
            "zerolinecolor": "white"
           }
          },
          "shapedefaults": {
           "line": {
            "color": "#2a3f5f"
           }
          },
          "ternary": {
           "aaxis": {
            "gridcolor": "white",
            "linecolor": "white",
            "ticks": ""
           },
           "baxis": {
            "gridcolor": "white",
            "linecolor": "white",
            "ticks": ""
           },
           "bgcolor": "#E5ECF6",
           "caxis": {
            "gridcolor": "white",
            "linecolor": "white",
            "ticks": ""
           }
          },
          "title": {
           "x": 0.05
          },
          "xaxis": {
           "automargin": true,
           "gridcolor": "white",
           "linecolor": "white",
           "ticks": "",
           "title": {
            "standoff": 15
           },
           "zerolinecolor": "white",
           "zerolinewidth": 2
          },
          "yaxis": {
           "automargin": true,
           "gridcolor": "white",
           "linecolor": "white",
           "ticks": "",
           "title": {
            "standoff": 15
           },
           "zerolinecolor": "white",
           "zerolinewidth": 2
          }
         }
        },
        "title": {
         "text": "Perturbed Wilkinson Polynomial Coefficients"
        },
        "xaxis": {
         "title": {
          "text": "x"
         }
        },
        "yaxis": {
         "title": {
          "text": "y"
         }
        }
       }
      }
     },
     "metadata": {},
     "output_type": "display_data"
    },
    {
     "data": {
      "text/plain": [
       "(4.872246518092125, 3.36279899070096e+18)"
      ]
     },
     "execution_count": 6,
     "metadata": {},
     "output_type": "execute_result"
    }
   ],
   "source": [
    "prob2()"
   ]
  },
  {
   "attachments": {},
   "cell_type": "markdown",
   "metadata": {},
   "source": [
    "## Calculating Eigenvalues\n",
    "Let $f : M_n(\\mathbb{C}) \\to \\mathbb{C}^n$ be the function that maps an $n × n$ matrix with complex entries to its $n$\n",
    "eigenvalues. This problem is well-conditioned for symmetric matrices, but it can be extremely ill-conditioned for non-symmetric matrices. Let $A$ be an $n × n$ matrix and let $\\lambda$ be the vector of the $n$ eigenvalues of $A$. If $\\tilde{A} = A + H$ is a pertubation of $A$ and $\\tilde{\\lambda}$ are its eigenvalues, then the condition numbers of $f$ can be estimated by the equations:\n",
    "\n",
    "$$ \\hat{\\kappa}(A) = \\frac{\\|\\lambda - \\tilde{\\lambda}\\|}{\\|H\\|} \\text{,} \\quad \\quad \\kappa(A) = \\frac{\\|A\\|}{\\|\\lambda\\|}\\hat{\\kappa}(A) $$\n",
    "\n",
    "where $\\|\\cdot\\|$ is the matrix 2-norm. The following code computes the condition number of $f$ for a random $n × n$ matrix $A$ and its perturbation $\\tilde{A}$."
   ]
  },
  {
   "cell_type": "code",
   "execution_count": 7,
   "metadata": {},
   "outputs": [],
   "source": [
    "# Helper function\n",
    "def reorder_eigvals(orig_eigvals, pert_eigvals):\n",
    "    \"\"\"Reorder the perturbed eigenvalues to be as close to the original eigenvalues as possible.\n",
    "    \n",
    "    Parameters:\n",
    "        orig_eigvals ((n,) ndarray) - The eigenvalues of the unperturbed matrix A\n",
    "        pert_eigvals ((n,) ndarray) - The eigenvalues of the perturbed matrix A+H\n",
    "        \n",
    "    Returns:\n",
    "        ((n,) ndarray) - the reordered eigenvalues of the perturbed matrix\n",
    "    \"\"\"\n",
    "    n = len(pert_eigvals)\n",
    "    sort_order = np.zeros(n).astype(int)\n",
    "    dists = np.abs(orig_eigvals - pert_eigvals.reshape(-1,1))\n",
    "    for _ in range(n):\n",
    "        index = np.unravel_index(np.argmin(dists), dists.shape)\n",
    "        sort_order[index[0]] = index[1]\n",
    "        dists[index[0],:] = np.inf\n",
    "        dists[:,index[1]] = np.inf\n",
    "    return pert_eigvals[sort_order]\n",
    "\n",
    "# Problem 3\n",
    "def eig_cond(A):\n",
    "    \"\"\"Approximate the condition numbers of the eigenvalue problem at A.\n",
    "\n",
    "    Parameters:\n",
    "        A ((n,n) ndarray): A square matrix.\n",
    "\n",
    "    Returns:\n",
    "        (float) The absolute condition number of the eigenvalue problem at A.\n",
    "        (float) The relative condition number of the eigenvalue problem at A.\n",
    "    \"\"\"\n",
    "    # construct a matrix with complex entries where the real \n",
    "    # and imaginary parts are drawn from normal distributions\n",
    "    reals = np.random.normal(0, 1e-10, A.shape)\n",
    "    imags = np.random.normal(0, 1e-10, A.shape)\n",
    "    H = reals + 1j*imags\n",
    "\n",
    "    # Compute eigenvalues and reorder\n",
    "    eigA = la.eigvals(A)\n",
    "    eigAH = la.eigvals(A+H)\n",
    "    eigAH = reorder_eigvals(eigA, eigAH)\n",
    "\n",
    "    # Compute absolute and relative condition numbers\n",
    "    abs_cond = la.norm((eigA - eigAH), ord=2)/la.norm(H, ord=2)\n",
    "    rel_cond = abs_cond*la.norm(A, ord=2)/la.norm(eigA, ord=2)\n",
    "\n",
    "    return abs_cond, rel_cond\n"
   ]
  },
  {
   "attachments": {},
   "cell_type": "markdown",
   "metadata": {},
   "source": [
    "### Problem 4. \n",
    "\n",
    "Write a function that accepts bounds $[x_{\\text{min}}, x_{\\text{max}}, y_{\\text{min}}, y_{\\text{max}}]$ and an integer *res*. Using the function from Problem 3, compute the relative condition number of the eigenvalue problem for the $2 × 2$ matrix\n",
    "$$\\begin{bmatrix}\n",
    "1 & x\\\\\n",
    "y & 1\n",
    "\\end{bmatrix}$$\n",
    "at every point of an evenly spaced $\\text{res} × \\text{res}$ grid over the domain $[x_{\\text{min}}, x_{\\text{max}}] \\times [y_{\\text{min}}, y_{\\text{max}}]$ and plot these estimated relative condition numbers."
   ]
  },
  {
   "cell_type": "code",
   "execution_count": 8,
   "metadata": {},
   "outputs": [],
   "source": [
    "# Problem 4\n",
    "def prob4(domain=[-100, 100, -100, 100], res=50):\n",
    "    \"\"\"Create a grid [x_min, x_max] x [y_min, y_max] with the given resolution. For each\n",
    "    entry (x,y) in the grid, find the relative condition number of the\n",
    "    eigenvalue problem, using the matrix   [[1, x], [y, 1]]  as the input.\n",
    "    Use plotly to plot the condition number over the entire grid.\n",
    "\n",
    "    Parameters:\n",
    "        domain ([x_min, x_max, y_min, y_max]):\n",
    "        res (int): number of points along each edge of the grid.\n",
    "    \"\"\"\n",
    "    # Create linspaces\n",
    "    x = np.linspace(domain[0], domain[1], res)\n",
    "    y = np.linspace(domain[2], domain[3], res)\n",
    "\n",
    "    # Init matrix\n",
    "    vals = np.empty((res,res), dtype=np.float64)\n",
    "\n",
    "    # Populate matrix\n",
    "    for i, xi in enumerate(x):\n",
    "        for j, yi in enumerate(y):\n",
    "            matrix = np.array([[1, xi], [yi, 1]], dtype=np.float64)\n",
    "            _, rel = eig_cond(matrix)\n",
    "\n",
    "            vals[i, j] = rel\n",
    "\n",
    "    fig = go.Figure(data=go.Heatmap(x=x, y=y, z=vals, colorscale=\"blackbody\"))\n",
    "    fig.update_layout(title=\"Estimated Relative Condition Numbers\")\n",
    "    fig['layout'].update(width=650, height=650, autosize=False)\n",
    "    fig.show()"
   ]
  },
  {
   "cell_type": "code",
   "execution_count": 9,
   "metadata": {},
   "outputs": [
    {
     "data": {
      "application/vnd.plotly.v1+json": {
       "config": {
        "plotlyServerURL": "https://plot.ly"
       },
       "data": [
        {
         "colorscale": [
          [
           0,
           "rgb(0,0,0)"
          ],
          [
           0.25,
           "rgb(230,0,0)"
          ],
          [
           0.5,
           "rgb(230,210,0)"
          ],
          [
           0.75,
           "rgb(255,255,255)"
          ],
          [
           1,
           "rgb(160,200,255)"
          ]
         ],
         "type": "heatmap",
         "x": [
          -100,
          -95.91836734693878,
          -91.83673469387755,
          -87.75510204081633,
          -83.6734693877551,
          -79.59183673469389,
          -75.51020408163265,
          -71.42857142857143,
          -67.34693877551021,
          -63.265306122448976,
          -59.183673469387756,
          -55.10204081632653,
          -51.0204081632653,
          -46.93877551020408,
          -42.857142857142854,
          -38.775510204081634,
          -34.69387755102041,
          -30.612244897959187,
          -26.530612244897952,
          -22.448979591836732,
          -18.367346938775512,
          -14.285714285714278,
          -10.204081632653057,
          -6.122448979591837,
          -2.040816326530603,
          2.040816326530617,
          6.122448979591837,
          10.204081632653057,
          14.285714285714292,
          18.367346938775512,
          22.448979591836732,
          26.530612244897966,
          30.612244897959187,
          34.69387755102042,
          38.77551020408163,
          42.85714285714286,
          46.938775510204096,
          51.0204081632653,
          55.102040816326536,
          59.18367346938777,
          63.265306122448976,
          67.34693877551021,
          71.42857142857144,
          75.51020408163265,
          79.59183673469389,
          83.67346938775512,
          87.75510204081633,
          91.83673469387756,
          95.9183673469388,
          100
         ],
         "y": [
          -100,
          -95.91836734693878,
          -91.83673469387755,
          -87.75510204081633,
          -83.6734693877551,
          -79.59183673469389,
          -75.51020408163265,
          -71.42857142857143,
          -67.34693877551021,
          -63.265306122448976,
          -59.183673469387756,
          -55.10204081632653,
          -51.0204081632653,
          -46.93877551020408,
          -42.857142857142854,
          -38.775510204081634,
          -34.69387755102041,
          -30.612244897959187,
          -26.530612244897952,
          -22.448979591836732,
          -18.367346938775512,
          -14.285714285714278,
          -10.204081632653057,
          -6.122448979591837,
          -2.040816326530603,
          2.040816326530617,
          6.122448979591837,
          10.204081632653057,
          14.285714285714292,
          18.367346938775512,
          22.448979591836732,
          26.530612244897966,
          30.612244897959187,
          34.69387755102042,
          38.77551020408163,
          42.85714285714286,
          46.938775510204096,
          51.0204081632653,
          55.102040816326536,
          59.18367346938777,
          63.265306122448976,
          67.34693877551021,
          71.42857142857144,
          75.51020408163265,
          79.59183673469389,
          83.67346938775512,
          87.75510204081633,
          91.83673469387756,
          95.9183673469388,
          100
         ],
         "z": [
          [
           0.6261760047101875,
           0.638123877312585,
           0.5145177331614847,
           0.6413775891978517,
           0.48773523694529974,
           0.3000281851200916,
           0.8448396345033223,
           0.4242741851953654,
           0.6900469804001336,
           0.9244536170718791,
           0.49084209689935443,
           0.3406395753835477,
           0.6181225796336725,
           0.6098766398234888,
           1.1794027145046326,
           1.0919027798814473,
           0.8706701277426919,
           0.8546854484240172,
           1.2100369733065026,
           1.7221206578325212,
           1.670255277909631,
           2.5865757334928436,
           2.353211169683409,
           5.611924739781101,
           8.38061777520385,
           17.92379628228793,
           4.640243279732638,
           2.747380305082842,
           2.849721894748564,
           1.7041454939060552,
           1.1979157738088984,
           0.7584382829057154,
           1.2371668204543045,
           0.7031180864468478,
           0.3112253412158579,
           1.0431689600435845,
           1.021216432958658,
           1.0920145579107243,
           0.8123879252349121,
           0.9860260211696128,
           0.7814684926395152,
           0.48535707499904124,
           0.8355596241666969,
           0.5518536808741678,
           0.5822342978551012,
           0.5555299963115033,
           0.4744052663220746,
           0.37916061558427416,
           0.4059067519817876,
           0.6928641064488729
          ],
          [
           0.6035787248422085,
           0.7020262172957348,
           0.6283294795607758,
           0.5728889662619004,
           0.34691281423639103,
           0.8814608077418183,
           0.3164591633387791,
           0.5889208957251265,
           0.6866722529582775,
           0.8050967229292155,
           0.5444239156390462,
           0.7746606873659092,
           0.6913254099274272,
           0.6038332653688478,
           0.4836626619597278,
           1.0086645629687498,
           0.6376861648526387,
           0.8529510662662408,
           1.2325581321248604,
           1.975876832932372,
           2.114962932608124,
           1.3496092507231015,
           4.292756541273408,
           6.231685670948343,
           8.974251751171137,
           9.705306049532053,
           3.1856296561363044,
           2.174994316735257,
           2.0975847573640367,
           1.328940719154006,
           1.4505355626040335,
           0.40648987230104855,
           1.0212127441991194,
           0.3230446360916992,
           0.4915580238873366,
           0.8784896135580972,
           1.0854804346158082,
           0.5525490561381133,
           0.8837863248681083,
           0.8014922208095352,
           0.705253064262225,
           0.699797770482272,
           0.4658845131499995,
           0.4846579028364575,
           0.6974917321395767,
           0.6315768618733743,
           0.6681131768241383,
           0.4126811219835348,
           0.5548708766850877,
           0.6405378313298968
          ],
          [
           0.6313213941068998,
           0.5052158066964976,
           0.631725827658422,
           0.5007880813030662,
           0.8282241960604443,
           0.5721428078502885,
           0.7879273707835789,
           0.583495580261524,
           0.4529304054993765,
           0.5773751137967731,
           0.9481298242871014,
           0.48784181377565583,
           0.9249768681264071,
           1.073503323756151,
           0.7366460084412082,
           0.8442231325034022,
           0.49775836225079206,
           1.528188931937898,
           1.1320938854887441,
           1.1814689115869457,
           2.1914826103669176,
           2.3436043633368873,
           1.6401302111387428,
           3.825026247947331,
           8.16124015647121,
           11.152404422574683,
           2.8148233924949273,
           2.308893276852749,
           0.5233660200739242,
           1.8084022196247744,
           1.4720680454333777,
           1.4776956062853899,
           1.2763332560167684,
           0.7198214245102901,
           1.019474265536914,
           1.071416139532489,
           0.86085903819019,
           0.9618951926883005,
           0.5639370572043969,
           0.5654658126673693,
           0.8259552680848805,
           0.5190481180677781,
           0.538161310584982,
           0.5671109235337016,
           0.3686148462833671,
           0.4580125896899989,
           0.6599864465750244,
           0.5584240962679369,
           0.6457585907566116,
           0.5054564448294008
          ],
          [
           0.5248327588626128,
           0.680260943891353,
           0.4672946948529869,
           0.4922633716624867,
           0.32149190444005415,
           0.6279141970716514,
           0.6088683106172784,
           0.7876305739384367,
           0.6425828391275239,
           0.93733574188613,
           0.7696697355984964,
           0.9868538938417133,
           0.8578259736693975,
           1.0663734007459986,
           0.6190773330581574,
           1.0605863219882015,
           1.3991031884763563,
           0.8523244575128669,
           1.0346334734215068,
           1.4481354912423512,
           1.6862629211668974,
           1.4239977763876837,
           3.3270677928770596,
           5.4268053007010195,
           10.45718116682677,
           6.055581439027505,
           2.2496692822812494,
           1.6057786928823172,
           2.060271936316077,
           1.4551951137945014,
           0.9554817286727366,
           1.4651264981349612,
           0.7578375711580737,
           0.5245914321203666,
           0.8372337028636095,
           0.7915960170820708,
           0.9674867397195305,
           0.4892212750981299,
           0.940290234180036,
           0.7503266586119363,
           0.5259709894461722,
           0.8739627161100696,
           0.19480043701755717,
           0.6100385516103805,
           0.4929195526061875,
           0.38786384723210665,
           0.5216453832143396,
           0.826234071683746,
           0.45540107542023556,
           0.698669939827309
          ],
          [
           0.4618362224474541,
           0.5839325602981782,
           0.5014714796628146,
           0.30752154240945423,
           0.6712163760332331,
           0.5718014256796724,
           0.4320124824416889,
           0.5024653693005044,
           0.4400834498773107,
           0.31004224510956957,
           0.632275704021403,
           0.6954190089580253,
           0.8917706276187297,
           0.7684939390603523,
           0.9420103753884371,
           0.8144864766956195,
           0.910148265346147,
           0.9096471792523352,
           1.3515646934108239,
           0.8639629582171159,
           1.5587388864123413,
           2.7085920942891075,
           2.4498732334093702,
           2.0182829089699723,
           11.733160313841086,
           9.210464895209041,
           1.353958093601101,
           2.178164295270776,
           1.9829493566756078,
           1.9222476011110279,
           1.6033751182798486,
           1.2390685567906474,
           0.9600732909059704,
           0.7183670817727688,
           0.9979761858838692,
           0.7614557857810013,
           0.9328584431597583,
           0.3515752874778691,
           0.642723315687176,
           0.7528727690941636,
           0.5763952201262015,
           0.6136645884130727,
           0.714615405234982,
           0.588319913543428,
           0.29484342879557995,
           0.49838526907269215,
           0.7199961381562898,
           0.5724400048661203,
           0.628883829422566,
           0.6994236238116178
          ],
          [
           0.4323796178827849,
           0.6470141818622187,
           0.5872662912156511,
           0.3929086911441272,
           0.31536354161465446,
           0.3228154299386478,
           0.6135389953293997,
           0.6090232664308836,
           0.6147608802818217,
           0.6762364912527198,
           0.7416731250455029,
           0.3520542122588724,
           0.6236926940654697,
           0.7065342647496485,
           0.632691368401426,
           0.8734682496568151,
           0.3439079400448022,
           0.6559167560175718,
           0.8545579039895577,
           1.4834788234305636,
           1.7891368766825602,
           2.0798762048584334,
           2.1495276379779056,
           4.137565446633162,
           11.88908811811395,
           9.231044535768149,
           2.641810980061721,
           2.1580583991165248,
           1.7207792391803747,
           0.8654222310322055,
           1.1014926107979746,
           0.8952355672654821,
           0.9450243429429052,
           0.9611356052249935,
           1.1597145967744826,
           0.8169965118432331,
           0.4530473763635061,
           0.6987382879341818,
           0.6867870216094526,
           0.48836628179957037,
           0.5188762714847469,
           0.7323718741178832,
           0.6372710902443713,
           0.3489667697680076,
           0.547215373986399,
           0.4608157002359595,
           0.5483342363347115,
           0.5233725461292268,
           0.609195907236231,
           0.5917913047570863
          ],
          [
           0.5860933807278107,
           0.40233616537276357,
           0.5401471127289533,
           0.617116384204138,
           0.6954381572949037,
           0.5970492922451724,
           0.5654669396764157,
           0.48546004335873577,
           0.48615881569997105,
           0.4261558984008935,
           0.419563330747893,
           0.4620414295038415,
           0.6889103678235003,
           0.7030746716772923,
           0.9253475516988776,
           0.6712008163432159,
           1.1581655337728733,
           0.6595860706463996,
           0.8603402621422944,
           1.3779988869091901,
           0.4591014948166305,
           1.4785212841230662,
           2.6757295559922922,
           1.1565580466081862,
           13.729144892168051,
           4.9128558004787815,
           3.304158707297169,
           3.3392499722386297,
           1.6208042081030527,
           1.7616801246405156,
           1.3814273497688159,
           0.5923540688095974,
           0.43268897913720894,
           0.6949334653677811,
           0.6488443168047255,
           0.6742287297153711,
           0.43257616364398344,
           0.7295005595547415,
           0.7233854471543895,
           0.3046360046926957,
           0.7861842275372314,
           0.32574808146023104,
           0.3997788806311212,
           0.6781541548854146,
           0.7755463813996502,
           0.5906758776113662,
           0.6727086799801946,
           0.4955814301718452,
           0.7666720391982691,
           0.6284685164220789
          ],
          [
           0.4599909310861262,
           0.3917459462745963,
           0.46640318103610956,
           0.6710208066513157,
           0.6614608315552674,
           0.695402326307682,
           0.37200826428466083,
           0.5265485455979959,
           0.4570958622688934,
           0.5502282000034017,
           0.509000677302449,
           0.5843881610082621,
           0.6369973132096058,
           0.8447312693169252,
           0.8557113488464037,
           0.6501509041204695,
           0.6833547725085641,
           0.746214409081048,
           0.7418762237192223,
           1.249702436503811,
           1.037918679969363,
           2.264914334130861,
           0.87993590527072,
           3.625812019973481,
           8.432108694414636,
           8.366936405359349,
           2.5211311258102467,
           2.641854428421735,
           1.6078223029603167,
           0.6495298185741424,
           1.3245074947001345,
           0.7066005265849142,
           0.9226721315944286,
           0.8795917908916334,
           0.6652289480675606,
           0.6137964765547581,
           0.6545125652757815,
           0.7765395371074685,
           0.5461826800074407,
           0.8572155821020466,
           0.42090013789617564,
           0.5068983297202951,
           0.33033751258425076,
           0.651744759498705,
           0.4026895373396581,
           0.7076509013582168,
           0.4514955094577491,
           0.4459790114892401,
           0.6556462032007823,
           0.7568623622168028
          ],
          [
           0.3528745593381275,
           0.4616478740046474,
           0.6016492024619964,
           0.7215180211421791,
           0.6279729830086713,
           0.5711792170988158,
           0.7035896730558742,
           0.5850529270333741,
           0.8229171551130061,
           0.44909905910904463,
           0.44937213822040833,
           0.6077433310685191,
           0.4730171016669481,
           0.7003406306933289,
           0.7644657629181747,
           0.7721521007705363,
           0.8088243473999738,
           0.3609382904930888,
           0.7740171699507816,
           0.8569047493012107,
           1.1060944915126643,
           1.2761561469756504,
           2.333032203858052,
           2.075244037746304,
           6.967262973643113,
           10.404651796934536,
           2.659128363151814,
           2.819673681207047,
           1.1688539872676127,
           1.173265384176879,
           0.8399093975857544,
           1.1746386179137562,
           1.1489668477880794,
           0.3614806906477348,
           0.8737973602886977,
           0.4955115274434604,
           0.5487867705956582,
           0.6913726155732687,
           0.7690364796816568,
           0.8929030271102647,
           0.5747077480439465,
           0.3849575492059242,
           0.5940904095255377,
           0.6780771253777571,
           0.38686822022977785,
           0.44881901088619736,
           0.697295536079444,
           0.8550445667117026,
           0.6408466449648189,
           0.677847081096846
          ],
          [
           0.392762365782832,
           0.7383105923196521,
           0.7538050982731219,
           0.6523507483785249,
           0.6530994878625792,
           0.354100961267386,
           0.7376907540942721,
           0.43392834337530534,
           0.4549975287515929,
           0.3778899926873003,
           0.4406561862044138,
           0.6629638519132279,
           0.6673822644028183,
           0.387447510789346,
           0.7546107701890475,
           0.6976330274508874,
           0.777341482614446,
           0.799319744552314,
           0.9330784903993063,
           1.027450806578874,
           1.397422052085051,
           1.6990868969576554,
           2.514059324013803,
           1.8978256435515677,
           13.80539811349433,
           9.72096931270853,
           3.4261108096431494,
           2.389556128306795,
           2.314861079244268,
           1.18616825185417,
           1.0169014178665567,
           0.8439228931547981,
           0.6056130492602442,
           0.7538112154076488,
           0.6914946604207645,
           0.5801278707999415,
           0.6412564930594652,
           0.6382560085452157,
           0.5852048338209279,
           0.5701059156903009,
           0.5125557108045067,
           0.4903081938465767,
           0.3050036651534947,
           0.7040735721010813,
           0.3830729210886614,
           0.6626921346071154,
           0.7119601235448925,
           0.7204893667642293,
           0.6232322340557761,
           0.8338066044601452
          ],
          [
           1.1125704834917782,
           0.782246169088392,
           0.5962201880344599,
           0.5963824381670564,
           0.7533395302528813,
           0.7590138607577114,
           0.3284827423845139,
           0.4908895778888974,
           0.722464588246953,
           0.2969845862143598,
           0.4704240781885311,
           0.2554607367541254,
           0.4877695191627938,
           0.3040687046763606,
           0.5473405865373469,
           0.5961665117291822,
           1.0810813317308907,
           0.5813882432414426,
           1.0007724066817212,
           1.1248000532999165,
           1.0937891768996753,
           0.9081882618757762,
           1.7102274595340905,
           1.1269277066614425,
           8.914672842497222,
           4.573745936063554,
           2.1743955465240123,
           2.1832520821934267,
           0.5164525010992007,
           0.4011084078086605,
           0.8781954924776469,
           0.9990592649719452,
           0.4861746079665373,
           0.5600586260598425,
           0.6378461424633565,
           0.8330800336133912,
           0.7107040609790248,
           0.48325095556087366,
           0.22546986791184923,
           0.6326004446624378,
           0.7897831834425796,
           0.09004984252947448,
           0.6231011095122737,
           0.6444998318443207,
           0.7746731934490845,
           0.6305351268715474,
           0.7519328257407041,
           0.6702856782337944,
           0.9160914455402029,
           0.6938880488505633
          ],
          [
           0.6147600953674607,
           1.0080150038777118,
           0.5766900576388028,
           0.7843910859159097,
           0.8230273975284185,
           0.23696085925989344,
           0.1362474319953083,
           0.7354963463267034,
           0.7080119617056493,
           0.4496288748620791,
           0.49017251034374065,
           0.45883282394718644,
           0.630099179220766,
           0.8502376824739829,
           0.5481135973102739,
           0.6587545089786565,
           0.9919759132108849,
           0.7969936504275186,
           0.7854799601701223,
           0.40021621173894406,
           1.3902915227898325,
           1.7475527649654508,
           1.711680646642513,
           3.4583257328000547,
           10.252939123175134,
           11.426354268830414,
           3.0261426424761577,
           1.6634861863879005,
           1.5291331105739645,
           1.0441270705552157,
           0.7430151768826342,
           0.6121046125968165,
           0.4680225884916294,
           0.7167701362726125,
           0.7206899847307315,
           0.37790415952354584,
           0.47429957004953616,
           0.6958591934036293,
           0.6299986392498491,
           0.6229819284607793,
           0.4456711825542314,
           0.5943765340329583,
           0.7111487457188372,
           0.5495181528827507,
           0.8299100212073867,
           0.6226202706055913,
           0.8101696324687362,
           0.7397862355068888,
           0.7411885891815229,
           0.8861234886077473
          ],
          [
           0.6106247777491944,
           1.0946753966094547,
           0.5577523507675842,
           0.7682425992120712,
           0.8358968129255341,
           0.807532211099167,
           0.7507537681543605,
           0.41715973924022265,
           0.7158778228835244,
           0.6017628811217869,
           0.7320835162787114,
           0.45645283474772047,
           0.5153820932327535,
           0.5995553603089635,
           0.5020730835658131,
           0.8497451400296733,
           0.5802668658694278,
           0.8330739533669839,
           0.770589632657638,
           0.8816826354208148,
           0.7844756725806629,
           0.8629268307197081,
           1.1020020046935204,
           2.7425331459121107,
           10.406447772664384,
           7.563802084275722,
           3.7847712648679774,
           1.4478517751341933,
           0.9160130686079189,
           0.5574106071542296,
           0.7124309381806503,
           0.6084698568446661,
           0.6149571204107999,
           0.6997297484836534,
           0.8002276998116706,
           0.6112346702186137,
           0.6811139095396802,
           0.32482335921419325,
           0.7251663802459628,
           0.6433895315351914,
           0.542243934783052,
           0.5131145063849568,
           0.2325307871053734,
           0.5852576494679324,
           0.7049621675432238,
           0.6428953008052904,
           0.9530924293723849,
           0.5381869987142126,
           0.9581277373884989,
           0.9200890805640087
          ],
          [
           0.6091925011885378,
           0.8483275378767924,
           0.6429056480656579,
           1.0132575157887727,
           0.7265967706343609,
           0.7219110526121134,
           0.7803304350304247,
           0.7869092080816217,
           0.4000377102182893,
           0.7433733150578857,
           0.45441043086818983,
           0.7864835886615203,
           0.4909010257324469,
           0.41934344402512624,
           0.7375717679141448,
           0.6139387121742345,
           0.7219162631282855,
           0.6879433007568685,
           0.7873294194052125,
           0.6877068533720242,
           1.0533752927565645,
           0.8788551050709501,
           1.3937083799905008,
           1.5539424819856837,
           7.225935015486233,
           10.597036996523826,
           1.9150611599462264,
           1.341137842265603,
           1.4326615305947672,
           0.9374568774708439,
           0.9953871245043213,
           0.4542623853799169,
           0.5120559254523007,
           0.8759078000130094,
           0.6695694313250318,
           0.6640412150872055,
           0.5489158617084854,
           0.5271511115495141,
           0.557626607437233,
           0.4066672705855641,
           0.6523605964081176,
           0.7754708140164179,
           0.6470669751605079,
           0.7839453771787397,
           0.4491505609291095,
           0.9758787102052139,
           0.8135236945035645,
           0.9308153376406824,
           0.9927336593203879,
           0.7969741778479549
          ],
          [
           0.6376250203503909,
           0.5904236750550343,
           0.47098763508128905,
           0.946396905301572,
           0.7502325443509613,
           0.33028816380860637,
           0.8423338209538398,
           0.9559330546012843,
           0.6815290702502466,
           0.5531860396322329,
           0.5175956636711198,
           0.8118602408705511,
           0.765857357867019,
           0.6489157146628433,
           0.6853550008595671,
           0.679900696791122,
           0.6073182907434158,
           0.8996411555295155,
           0.6323910190467831,
           0.49725692515647746,
           0.7679120407772364,
           0.9407101788096438,
           0.9155126500005738,
           2.767767876349104,
           5.335129434355087,
           6.711793796844352,
           1.8141679292854547,
           1.3229172995848368,
           1.0255038518145205,
           0.8548720733253892,
           0.6843430481863204,
           0.536784329575629,
           0.49678087232513524,
           0.4210569772836683,
           0.4191709132398747,
           0.4844786996397833,
           0.5219718316759641,
           0.6695207289862855,
           0.6138078142290744,
           0.4055828363074777,
           0.8418665006655189,
           0.5151438263701107,
           0.878468495639652,
           0.656045644076906,
           0.6330092385663212,
           0.7720961711608894,
           0.44448151449795475,
           0.9132961076937468,
           0.27663078976077127,
           0.8330591441038055
          ],
          [
           1.4474339099482025,
           0.5795451085213638,
           0.8693725706886903,
           0.6642914256450555,
           0.7336400817752956,
           0.5980069635316252,
           0.6249552621205904,
           0.33544501483282746,
           0.7539290698160352,
           0.32461405964568346,
           0.7105362488212679,
           0.5635174112537178,
           0.5298574025809115,
           0.5077851653653137,
           0.6234283590632089,
           0.6787304820374989,
           0.5013921696235919,
           0.617147646828192,
           0.6264837759426601,
           0.8409268468865485,
           1.131968703423032,
           0.7080052179683514,
           1.6097209115960225,
           1.0077153636978011,
           4.440643330762275,
           4.9542624542193066,
           2.096446267925173,
           1.241132734332101,
           1.1954312599569814,
           0.6924688295382394,
           0.9263965310098109,
           0.4719495608033991,
           0.6944422478652518,
           0.6536312684137312,
           0.4056890618653543,
           0.6306362501606049,
           0.49616547701591424,
           0.8093041280207782,
           0.47078551374681243,
           0.41123784277181424,
           0.7733899967944857,
           0.3734435424402774,
           0.81509448362219,
           0.6330596765369587,
           0.7786249340296963,
           0.8011383533331721,
           0.7634452890075357,
           0.9171643005075008,
           1.1046323274620915,
           1.023852537506388
          ],
          [
           1.1512854818248601,
           1.0938186675161676,
           1.1462097115349694,
           1.076149870217766,
           0.7587355934587184,
           0.9268388785865422,
           0.8868936243747705,
           0.6103491000691235,
           0.808063948935925,
           0.8810621215624268,
           0.28824321413599135,
           0.7451914131010007,
           0.8032546722174325,
           0.6104565282275166,
           0.6313211322426341,
           0.4662743824673902,
           0.4067760080807434,
           0.6477386161494492,
           0.49854484492862455,
           0.7148816505669157,
           0.6214605958389383,
           0.7426070411572446,
           0.8988561613605149,
           1.5752735096629402,
           6.050616393495394,
           3.1223204312664885,
           2.149754289799936,
           1.424995678968844,
           0.4749685776068542,
           0.7481053802711796,
           0.31532056137456654,
           0.692155042437738,
           0.3882719804862261,
           0.4148607536937672,
           0.8086214141534173,
           0.46822011550016585,
           0.734517366506274,
           0.9609010531070037,
           0.7326665839181461,
           0.42099463918883395,
           0.7090707039430979,
           0.8810403308816074,
           0.5501228724719308,
           0.6507637724979906,
           0.9412099252602851,
           1.478296528516586,
           0.7333942079110111,
           1.0281357023372308,
           1.155899191234746,
           1.1631589988457618
          ],
          [
           0.7930420214199714,
           1.4093109670584465,
           0.7489686682128998,
           1.129734605976591,
           0.7032767145657938,
           1.265878592339415,
           0.8992263159021653,
           0.9850008759980373,
           1.0881542265871282,
           0.7464008631178028,
           0.7430018337413759,
           0.8782467362960054,
           0.8580310623160724,
           0.48444721690103953,
           0.5242834336535235,
           0.8740840218130104,
           0.5771589386080926,
           0.3755866961602523,
           0.24404382616601605,
           0.8892128577512557,
           0.9161165525322376,
           0.7144229963725256,
           0.9081984481102129,
           2.1664868321295137,
           5.222874004076725,
           3.33602963674996,
           1.7084472897215055,
           0.7807000084016977,
           0.8998041628979556,
           0.46304165438760875,
           0.8440364391802289,
           0.7595529662881746,
           0.5294541884063243,
           0.5968002049645065,
           0.6675976974521489,
           0.8541429668042055,
           0.8347158168538299,
           0.8618770477436466,
           0.7104735685416141,
           0.8179869331785212,
           0.6959066005959585,
           0.7616279153004533,
           0.7162087814057948,
           1.0280067585136823,
           1.0773643653612153,
           0.8994338358571529,
           0.8599633963070855,
           1.2299910796301112,
           1.2736973129509153,
           1.3594331759471063
          ],
          [
           1.5018439088960036,
           1.3079482085309098,
           1.2384931176206826,
           1.3385344627930138,
           1.2863754018428601,
           0.7137423177522677,
           0.930238718506124,
           0.6806609865081193,
           1.1078142040522627,
           1.0041865490446746,
           0.5230644709707402,
           0.3992004654085651,
           0.46688211680497604,
           1.066113234266559,
           0.5660824059430617,
           0.6447788630008827,
           0.8086861195153983,
           0.637372418119948,
           0.5223457352671386,
           0.7868804731794744,
           0.8297315815345001,
           0.6106149352274131,
           0.12560508392944975,
           1.4823051029540342,
           1.850615455541267,
           4.871266346441577,
           1.981175881580822,
           0.9736793584536255,
           0.9162392054121351,
           0.7085245007175767,
           0.8445019594676024,
           0.32780667000233576,
           0.5704981843560409,
           0.5941385895927338,
           0.868438311160717,
           0.5879838426895718,
           0.3767180010752136,
           0.4442020823198884,
           0.6897918717221931,
           1.0485640309382154,
           0.6218425781109271,
           1.0515903449492028,
           1.1571724421306937,
           0.9727087387257466,
           1.1543761403023194,
           1.5582162976754466,
           1.6397387250602495,
           0.5924907402032219,
           1.532179347501355,
           0.7733186692903568
          ],
          [
           0.9760568469036175,
           0.8183652755889463,
           0.8939132496049804,
           0.9199171262071952,
           1.4298265938719432,
           0.8339398517048308,
           0.9808496340690556,
           0.9951714244556941,
           0.9905647868116075,
           0.8189194356601663,
           1.2273083817807935,
           1.3087257439233828,
           0.8485875052531707,
           0.517704026661244,
           1.0864662978761708,
           0.7202381360453681,
           0.714661081924523,
           0.6662114344051463,
           0.8333586480119332,
           0.4932724406306731,
           0.27181368324330524,
           0.619922193279866,
           0.8006759171532691,
           1.163872072082004,
           0.9321961241132574,
           1.9651985129331122,
           1.6181116353857865,
           0.8956323291337297,
           0.7224934421738137,
           0.4097360611465786,
           0.46321653638545635,
           0.52655815503391,
           0.43300696864726396,
           0.7351171829710672,
           0.6325734706086338,
           0.4728991208037621,
           0.8383698141487899,
           0.92452518878475,
           0.7843003895968367,
           0.8836072992014506,
           0.5598373116197031,
           0.8624123446115987,
           1.3503438745553231,
           1.5862288712901067,
           1.7565669812121458,
           1.841275814115716,
           1.23198030402657,
           0.9993284332137874,
           1.1661522929654116,
           1.6425794114792733
          ],
          [
           2.0214405427976296,
           1.3930401101551688,
           1.722488439126059,
           1.227683276510653,
           1.7706203139225642,
           1.1171431551141642,
           1.554101647060058,
           1.2136432765327205,
           1.6044000509035252,
           1.4566208363577156,
           1.1997560336980564,
           1.023531065617901,
           0.745047743072584,
           0.7874522608260575,
           1.2007045600336415,
           1.1578418618880175,
           0.31786890911739707,
           1.0528388160491373,
           0.6365278880464392,
           0.7194334061503077,
           0.5228132762065553,
           0.7516864401745001,
           0.7993867062857496,
           0.34891906295497227,
           2.857086404317657,
           1.28227199883274,
           1.2987068881712287,
           0.5828399564266974,
           0.6022631232945362,
           0.569257787578622,
           0.7526288636839452,
           0.3187390818592226,
           0.7448322502285135,
           0.8113818292647864,
           0.7534115893550736,
           0.5255080997793713,
           0.7762544084772093,
           1.0337648555857926,
           1.1775093381974988,
           1.3806036633163439,
           0.8664030135302531,
           1.0175063738857946,
           1.3919297788729605,
           1.2009505648434036,
           1.3651014709492435,
           1.6791450495348221,
           1.5373573472402384,
           0.45493288679448357,
           0.8634555986065131,
           1.0319365134409846
          ],
          [
           1.573331213454505,
           2.0161133151347745,
           1.2103640351779004,
           1.4964775898012916,
           2.4786398218009857,
           1.5227602962848936,
           0.6819760472297266,
           0.5372138016120881,
           1.8042783762888477,
           1.7627738681945908,
           0.8442082606845438,
           1.7095539580284553,
           1.4744801902103226,
           1.1694787513616685,
           0.6307171526387093,
           1.1136266817871616,
           1.0133184321721869,
           0.7696570754656027,
           0.552347551615536,
           0.5589001443498995,
           0.6539589667243481,
           0.5211113756736407,
           0.24175475733442844,
           1.0833759865655066,
           2.019082973146779,
           2.165762738440774,
           1.147879733200351,
           0.2750002128557589,
           0.7146625023169323,
           0.7259297073852834,
           0.7029285508925949,
           1.0694580504398126,
           0.41670458787221326,
           0.7860078578930454,
           1.1247476439230368,
           0.6753542506605537,
           0.7333224317646373,
           1.0254745925553501,
           1.5258051935514345,
           1.597167515757528,
           0.8750562358957927,
           2.222403883315793,
           1.0714942648845338,
           1.0454439169747083,
           1.9705108598697594,
           2.806992556130046,
           1.0911292422810626,
           2.6778728135794374,
           1.8044516868029135,
           1.739491930605171
          ],
          [
           1.6002753446558309,
           3.0990036178355207,
           2.720401348275278,
           3.114166828168524,
           2.3870665635604382,
           3.1899916947518383,
           3.3915329964483516,
           1.1284923267006732,
           3.1806006327694756,
           1.5330823980138997,
           1.5493949124905606,
           2.180526679705072,
           0.9531829195641339,
           1.1317339102892177,
           1.232334073612522,
           1.114928056750721,
           1.2643152581543848,
           1.5465638094084373,
           1.068428905917196,
           0.9209425314617348,
           0.8314308636140193,
           0.48650242395733456,
           0.34437449441279094,
           0.8937504531588709,
           1.8258118203512264,
           1.6061312889173815,
           0.7249261808792512,
           0.39070418123399164,
           0.5354988049000591,
           0.635845083660246,
           0.9882563070909687,
           0.9661504049776232,
           1.3539299436375876,
           1.0996435296400706,
           0.9721261851588853,
           1.3237617615985038,
           1.3318544838156503,
           1.6128775617760096,
           1.9656883093896125,
           2.132701351247998,
           2.0278965795147315,
           2.765794593768325,
           1.4765904210861425,
           2.7052913802020138,
           2.140171440007979,
           0.742451120983161,
           2.742876970949365,
           2.9532739317324537,
           2.1850345557410122,
           3.1622966406553306
          ],
          [
           4.794032021406928,
           4.200804240291425,
           5.1754656301150685,
           1.9772196756097256,
           5.360250916265051,
           3.448777132241364,
           3.557694501826472,
           2.410889961263519,
           2.825688417301537,
           4.15530701926949,
           2.006354729797407,
           3.636754443710693,
           1.607253032350411,
           1.4857527531492876,
           1.4398915607441745,
           2.044712025568635,
           1.2244470592271868,
           1.8252960239515883,
           0.9712401619314903,
           0.7544430616367002,
           1.0314914440010452,
           0.7109379728717696,
           0.7595672402688947,
           0.4821682425146115,
           1.2790938705671464,
           1.0848450090826955,
           0.3354223411228562,
           0.5989630827302924,
           0.8539842351011606,
           0.8163081622522053,
           0.8783639926873347,
           1.2437892279763176,
           1.2448184251985739,
           1.4018979579185429,
           1.0274496943421592,
           0.7789593207015435,
           3.1771826103071046,
           2.4225508617591065,
           1.734772989421011,
           3.8163272561542025,
           2.5620291376410638,
           4.6289875115133805,
           3.173456863859506,
           2.736587440109469,
           5.64353120758363,
           5.235018141520097,
           5.020296031301434,
           6.26395106849223,
           6.970598592626754,
           5.397062191096304
          ],
          [
           15.049718601020054,
           12.414891766425216,
           17.540881040831376,
           14.834568259106602,
           4.549564736859113,
           10.376564835754689,
           4.119331087569221,
           11.813328990898752,
           8.15797045264364,
           14.378963118830109,
           11.308774991456957,
           10.072562196869615,
           4.044107097530508,
           5.910066373262081,
           5.616351517118875,
           4.18145872020277,
           7.14465767266856,
           0.9782017232887363,
           3.638354040901738,
           3.8955734485637636,
           3.9446087544195,
           1.5458758063072175,
           1.6772041472840067,
           0.7318148072392818,
           0.5984723143967474,
           0.6335075506973176,
           1.1501294362628445,
           1.5991575747861662,
           1.3809943750499527,
           2.6996134969139045,
           4.201076132611646,
           2.4617974319787903,
           5.022371257099194,
           6.392050062146298,
           5.26131036662828,
           7.936592318449171,
           8.311249633065332,
           8.224105001336191,
           7.999509149430086,
           5.497879413053418,
           2.555092255957089,
           10.706450979431905,
           13.18104097490721,
           11.794561501978436,
           3.2995741483207595,
           6.955333201431252,
           9.724557951116322,
           4.254670731779963,
           6.172143548845254,
           21.23644913101636
          ],
          [
           20.983878347560843,
           19.51548074734581,
           15.016653371822889,
           18.83032688357608,
           9.480938405087873,
           14.99569178369078,
           8.796686566767512,
           5.158840795410974,
           10.814974119372293,
           9.70744411320999,
           8.564182819478068,
           12.097793832042257,
           4.981865880024135,
           2.283553204158073,
           1.8462047594022275,
           6.617602335751238,
           5.199857013979521,
           2.972890279382486,
           1.56493111076254,
           3.8368986620008223,
           1.8203423051647472,
           3.0152473625415546,
           1.105583091132271,
           1.295378258246721,
           0.43200254117167886,
           0.16378411538273852,
           0.9471713650049495,
           1.3480094964423457,
           1.4484308779215211,
           2.165031442267258,
           4.109042143439894,
           4.6324152932773295,
           4.031101579986399,
           5.837610719812023,
           8.030659990383532,
           3.7534135704943052,
           2.78535661713382,
           7.555613019902243,
           5.282781134967615,
           9.050071586240916,
           6.877234890054763,
           6.324044531286891,
           10.907550252754605,
           15.169287637518712,
           11.766244673975743,
           7.1464116540705716,
           18.425038840248835,
           1.9907612196752205,
           4.596125805172731,
           13.583390354974568
          ],
          [
           1.9075049221180107,
           3.501460835787453,
           5.700494724575679,
           1.1438606034772039,
           2.991962261587299,
           1.658394682940909,
           1.9206851707237433,
           3.9115353482264252,
           1.8250977109101856,
           3.829443407923931,
           3.5726468639578615,
           2.5924447295164375,
           0.9591336062383331,
           1.6854828481498332,
           1.8521653957468702,
           2.6263969808477503,
           1.5730949580294353,
           1.9422645470622812,
           1.6262857979559184,
           1.743868226940318,
           0.7711190825675751,
           1.0609570706494953,
           1.0454110180043075,
           0.44875440495748714,
           1.2697413508772633,
           1.3451238640409549,
           0.4094552520036978,
           0.5994243977338651,
           0.9451731089677259,
           1.0019421362201784,
           1.7131650057827292,
           1.7526804198960733,
           1.4758405623191218,
           1.3881707803734629,
           1.2711872619535967,
           2.423464670891528,
           3.0558571990367516,
           1.9281853689602633,
           3.604255702455795,
           2.2037181380306023,
           2.595218673950555,
           3.3089135445350837,
           3.627465868601954,
           3.6587395940699983,
           2.8374227177195754,
           4.451943643417458,
           1.41443282508075,
           2.5082100523331543,
           3.1516714883460155,
           6.088339853664999
          ],
          [
           1.3326047634533555,
           0.8305977155959174,
           2.7700646565892098,
           3.1362766170040945,
           1.1699361205734993,
           3.21889284815863,
           3.3010118989353976,
           2.8506729634388637,
           0.6751651710985392,
           1.5853133401406614,
           2.1604956390843504,
           1.6048488114581774,
           1.777745732258008,
           1.0447596276390119,
           0.5726613231048313,
           1.462064675144684,
           0.9876719927315962,
           1.4288868277882298,
           0.7264687814420199,
           0.6922976537595887,
           0.5747572965243265,
           0.3426861665984194,
           0.5435800357019699,
           1.0457905398502443,
           0.8751222043304703,
           1.6154701645500404,
           0.5656358902211303,
           0.586061365766534,
           0.7078891253215275,
           0.9184714160696728,
           0.9016550547181823,
           1.0189951978021587,
           1.3502154029951603,
           1.1652466971055404,
           0.8417939603996236,
           0.8126668907548241,
           0.9209653847901235,
           1.662620669615251,
           1.2255036288315238,
           2.5365302768852884,
           1.509355840344512,
           1.4814048535489708,
           1.7308696942519908,
           1.90981804685329,
           1.8933345935068255,
           1.8123796932203866,
           2.95314172796091,
           2.113704206992176,
           2.978694931987551,
           1.3378180403736222
          ],
          [
           2.9067838953141654,
           1.9076687393414038,
           1.4044569050128468,
           3.079291857415718,
           1.702504125955132,
           2.1009466568905353,
           1.6316526865413206,
           1.582283150484424,
           2.1117450589814397,
           1.801114895564636,
           0.9935991185990377,
           1.237971640615526,
           1.674778989074883,
           1.3474000796434489,
           1.2499427399426455,
           1.0510594252957903,
           1.091501617755498,
           0.8028957278459329,
           0.553002290417413,
           0.7503262874536,
           0.7090205254276432,
           0.6247121863417061,
           0.5203113960414694,
           0.7786345364843067,
           1.4373220878914486,
           2.5077648206325307,
           1.2916192992362632,
           0.7684356260601629,
           0.3751560322731968,
           0.8481006726678906,
           0.6601497523528836,
           0.8011384004854073,
           0.7221976905342752,
           0.9587632802298027,
           1.3663446480784334,
           1.0159524977383432,
           1.4582298526829134,
           0.6989842099227301,
           1.5602399647004372,
           2.1103735519489613,
           2.074273477521575,
           1.5420727261846734,
           1.523252846150589,
           1.5660956946012417,
           0.6833695948854501,
           2.4825221205735697,
           1.5314735925896994,
           1.0266117674884212,
           1.7076721161712947,
           2.2537733195091216
          ],
          [
           1.7884691575438398,
           1.7863613647740109,
           2.031460372563682,
           1.1131506866484253,
           1.3611403856996884,
           1.6180293267025525,
           1.3880928841330622,
           1.6279746703108853,
           1.5950033119098241,
           1.159649580902033,
           1.3086633742369649,
           1.0248417714969644,
           0.4707862959744688,
           0.6424180751996644,
           0.8857028399257563,
           0.6459067858294146,
           1.060516760672885,
           0.5028668080525774,
           0.5062181861495947,
           0.8308082880078911,
           0.5269593280164072,
           0.847258793745492,
           0.9718639390332047,
           1.060929669434564,
           1.591225934487024,
           1.9919294152440041,
           1.1030084882955429,
           0.8126417778152518,
           0.5332982229233826,
           0.6643108091080674,
           0.5345116580114774,
           0.8443022975818357,
           0.42795661881489094,
           0.7423760852081481,
           0.7746314965061962,
           0.32746480170370895,
           0.8105978819776396,
           0.9450735019805997,
           0.9028516357389736,
           1.1365598453046861,
           0.8417295861561995,
           1.2775787159319403,
           1.4956509273125593,
           0.7258439112983451,
           1.26745702566937,
           1.4838472533003002,
           0.7747842625530886,
           1.6498580798670348,
           0.771558761535853,
           1.282824195358088
          ],
          [
           1.2087309952692464,
           1.326010863401981,
           1.6258948034642293,
           1.3173749409551874,
           1.1304986453026298,
           1.259130444474526,
           1.5586346588175495,
           1.1729000321089533,
           1.5872439503075366,
           1.0908826380040715,
           0.9127352324762691,
           0.95151605814687,
           0.9254979464758111,
           0.7305766900328002,
           0.6941622145102473,
           0.5470456909119216,
           0.831140335080138,
           0.5128212656439967,
           0.4476896066426434,
           0.49274065440425696,
           0.26058912366451153,
           0.5848691178380592,
           0.6558960376877536,
           1.6022891564875859,
           4.067726960643875,
           2.1392817420024572,
           1.2220688653830647,
           0.910896308116652,
           0.7220784925744078,
           0.5961952267682333,
           0.1345730756500953,
           0.38331151891370996,
           0.5311103822641811,
           0.5059437327829255,
           0.661848564404935,
           0.840043478440884,
           1.032255780754955,
           0.40264103925524436,
           0.9948234950412986,
           1.1460753921874474,
           0.6683074802188275,
           1.1697666515845102,
           1.0908040145266016,
           1.2520430699923255,
           1.2018459978463396,
           1.30348753395393,
           1.4232967668648435,
           1.7071148890503682,
           2.084939526926829,
           1.1111061916770513
          ],
          [
           0.9575618750866198,
           1.0267102302594713,
           1.506565459248265,
           0.5731400440364682,
           0.8617599658494581,
           1.4529315683473478,
           0.7213721989199241,
           0.9175081642199214,
           1.0770513104250379,
           1.0047987211262277,
           1.1431241172918698,
           0.7364522616388668,
           0.6063147987818336,
           0.4938732096319875,
           0.6613896665706089,
           0.6701923069041605,
           0.5676904139240571,
           0.20124636256104847,
           0.6969201772018281,
           0.6136612113505487,
           0.5135540758098367,
           0.8186174768243639,
           0.9877835279207925,
           1.0047905034007454,
           2.224481431277878,
           4.90536342692341,
           1.4581133648713953,
           1.2022356545057853,
           1.037461847211423,
           0.5059709407412267,
           0.643647578527825,
           0.5205169483318601,
           0.5381213923367962,
           0.8930174874509511,
           0.7258155150936313,
           0.7838766099352941,
           0.40073252331877984,
           0.2895824079907166,
           1.0260258808771705,
           0.5279494300931452,
           1.0295287366251489,
           1.0244411979398806,
           1.2317052855615682,
           0.8828376080799668,
           1.3511161681910984,
           0.744195871936528,
           0.803577674819472,
           0.7169153215513273,
           1.3850137668173523,
           1.4391821310782944
          ],
          [
           0.9542874164247332,
           1.380847480821378,
           1.0075502457497303,
           1.1923868588093403,
           1.2874416078946704,
           0.4555044895525846,
           0.5537799209911378,
           0.9439582384411789,
           0.9939829215876443,
           0.8270623694608743,
           0.9418940141326045,
           0.7903115281294786,
           0.6135097671070417,
           1.0420440329039806,
           0.7356820072153152,
           0.31571634403032195,
           0.5013707483936208,
           0.3701478120013982,
           0.7271990860148336,
           0.9172096596709451,
           0.611721239959371,
           0.6729381815686383,
           1.2296482113077658,
           1.4743023975554188,
           3.063310190862266,
           3.0277497631215224,
           2.148875446061172,
           0.49465548607716214,
           0.4804903339725332,
           0.5817146093440427,
           0.6260191058640189,
           0.4587246909263085,
           0.5554899170584578,
           0.5922404033153899,
           0.4486084028453964,
           0.8175029925572938,
           0.5699812856139819,
           0.7344480518005321,
           0.24477245169907128,
           0.5177299782884993,
           0.7642552665004928,
           0.8800816216155786,
           1.2306309507977025,
           0.6187449474294271,
           1.1549668119208605,
           0.7214208537916095,
           0.7801179549618505,
           1.051426461022052,
           0.6949335609469834,
           1.175407728305002
          ],
          [
           1.2576074515955287,
           0.7920158802323833,
           1.2006363268275766,
           1.1320394418316442,
           0.9724195562597291,
           0.30049930950740666,
           0.35500510443707556,
           0.7701587606153097,
           0.6756179130331768,
           0.7391727453636933,
           0.8239557288290424,
           0.5533420432186003,
           0.5490085100004395,
           0.4546288524810128,
           0.597460300245186,
           0.6320163496748052,
           0.6529988416185168,
           0.7132344354931609,
           0.7174776887575619,
           0.7830625249761549,
           0.7532310634073479,
           0.8396096321515865,
           1.008464885957745,
           1.117797163230783,
           6.006541398712248,
           5.248560026126774,
           1.9875410986224364,
           1.0686345507012882,
           1.071782050956252,
           0.6513697859819741,
           0.533946591712286,
           0.8232683813285487,
           0.31588827431156147,
           0.5356634691831696,
           0.7429545216368826,
           0.7648417177330799,
           0.8466309581205176,
           0.6358906352193051,
           0.8041484906890491,
           0.6279569957026305,
           0.3967072218760843,
           0.9986813303897577,
           0.9476687813201529,
           0.582493682640796,
           0.6210295627283303,
           1.55691968150323,
           0.7511198196603451,
           0.9366321486035574,
           1.13515716081183,
           0.8834793942953961
          ],
          [
           1.2286043947330694,
           0.5577310816444002,
           0.6672722020228744,
           0.8580390109032191,
           1.0516560462554132,
           0.7811420759074836,
           0.8480919751733828,
           0.6733722145035765,
           0.5533801339477998,
           0.8173200061599114,
           0.7014337748124421,
           0.3549525410551489,
           0.09091315572957838,
           0.7266328073767424,
           0.6959627298369646,
           0.6269016826170575,
           0.5810586591239241,
           0.469099674670289,
           0.7499293441826557,
           0.6530524517040884,
           0.9020750074052301,
           0.8845331725995005,
           1.6533122621581926,
           1.5190371617876106,
           5.615072203704538,
           4.09818611686874,
           1.0971904811260347,
           1.337102963180556,
           1.1247059074578645,
           1.0151064444419735,
           0.5981593667386736,
           0.45687527055724797,
           0.7528759168818508,
           0.3796693500642169,
           0.7022188896809625,
           0.6592530117420885,
           0.4147974456067879,
           0.4213159744956992,
           0.5797654098993146,
           0.5850295373769762,
           1.1107658560693165,
           0.6216585488802737,
           1.0148707202636342,
           0.7686127518407349,
           0.5263048990526996,
           0.806315223783065,
           0.9706852040865469,
           1.036001611886911,
           1.2627487955328456,
           0.766231565762577
          ],
          [
           1.0449528613047445,
           1.0823538860779827,
           0.3736572624515318,
           0.9688644762626738,
           0.4688199050508826,
           0.7125874645634486,
           0.8493721095979637,
           0.8140866455564144,
           0.7251791888176262,
           0.6823836933033735,
           0.9607316357339497,
           0.6955112528895949,
           0.7369125105178296,
           0.7334061364812279,
           0.5318168284045145,
           0.7685604052495272,
           0.2380193948921379,
           0.4026240826961476,
           0.742399665760482,
           0.957576367368996,
           1.138383379747548,
           1.271860355755091,
           1.532981479875698,
           1.7899063268666016,
           5.080931938014023,
           7.346366488978707,
           3.4419013808446945,
           1.0160732439005389,
           0.8256756008849847,
           1.012459752128452,
           0.5709834316683398,
           0.46437475438519293,
           0.8889466867257112,
           0.3135254924466895,
           0.6703339839641627,
           0.4541930727694442,
           0.47302459774974526,
           0.4264725993929699,
           0.9793715706399287,
           0.41339894998102444,
           0.7429261589921079,
           0.9072503161142489,
           0.7716263562188338,
           0.789231287221261,
           0.7242341534636194,
           0.90568185223918,
           0.8082350459400631,
           0.760626664485426,
           1.0811468462652924,
           1.000682214628091
          ],
          [
           1.1086120251966953,
           0.9784929484523262,
           0.48838290116939576,
           0.5887257275620924,
           0.7210987080821971,
           0.9393291192718805,
           0.791815321075899,
           0.515758771285756,
           0.7529233631699436,
           0.38034674915850686,
           0.5411334550716569,
           0.6110901751906231,
           0.40640381777301543,
           0.5201033896327708,
           0.6343809465204281,
           0.35048426116259773,
           0.6117541904797742,
           0.8560496143638818,
           0.7347638434250755,
           0.7682384930956357,
           1.2950346941741464,
           0.701060513275856,
           1.6536737065534977,
           3.0406742356913727,
           2.7838067915909206,
           4.399197086263668,
           1.3934915699278791,
           1.094581621306901,
           1.0621246043522665,
           0.9968130951163142,
           1.0442806059122156,
           0.9445519015460672,
           0.5195143676874762,
           0.7253980904910154,
           0.4955235187982201,
           0.6027768604009763,
           0.5230723914108759,
           0.6365515862132307,
           0.7404649402465755,
           0.46666608774878066,
           0.9002654759557227,
           0.5002748859548225,
           0.4937203971428118,
           0.6671312779106882,
           0.8033909543639272,
           0.7829362154235285,
           0.6386975864454861,
           0.6681056138428382,
           1.030245064317194,
           1.009363698653225
          ],
          [
           0.7015713104372415,
           0.8058803444763747,
           0.7127370258847682,
           0.6730395418828647,
           0.6192479251421396,
           0.7391973998562282,
           0.5017068595452642,
           0.49930378111637974,
           0.6380321107642224,
           0.44443737818710816,
           0.44605600155310465,
           0.694995455111276,
           0.47845427383745703,
           0.4737770802920457,
           0.5313946587341649,
           0.787895176730522,
           0.6721641273990485,
           0.8357881919276752,
           0.7592836857412684,
           0.8079413382864106,
           1.3771414881642596,
           1.3052734298625164,
           0.8941538852122087,
           3.6996297962294022,
           4.507184059246656,
           6.9992184992513655,
           1.3579832150357496,
           1.588116848052926,
           0.8717398550348885,
           1.042490327002573,
           1.0004609580403638,
           0.955434146577961,
           0.6911997199851521,
           0.7666645142721383,
           0.811927342658997,
           0.8216016344580348,
           0.520706799520927,
           0.5899323436667568,
           0.4255125807352086,
           0.4527831320053569,
           0.2198531321453961,
           0.8808338282118793,
           0.6442830717180817,
           0.8333329764006389,
           0.8147458719145217,
           0.6531663477555179,
           0.6498469707337964,
           0.7187295407684035,
           0.348641941771156,
           1.0241131307085678
          ],
          [
           0.7186382630003916,
           0.5003172779471815,
           0.9463613398165575,
           0.6258880525361566,
           1.0457876067192184,
           0.505535395144587,
           0.7870001846237625,
           0.49815064925206975,
           0.6438506467572329,
           0.587234334315816,
           0.596255175453037,
           0.5659693692987973,
           0.3011423114863678,
           0.7940017934217563,
           0.8696815297888802,
           0.5968592694180347,
           0.5688105541073871,
           0.6865693507776977,
           0.4439055908817497,
           0.25189062828105213,
           1.1565681439669384,
           0.7250414224537627,
           1.554519022097195,
           2.9027038992053478,
           2.32023603811809,
           6.688535196199354,
           1.4717986859216416,
           1.4453744398815471,
           1.604156600699393,
           1.1178168049231862,
           0.9109799014701123,
           1.113556842374712,
           0.9823583378971364,
           0.9062806039534221,
           0.6527045752366597,
           0.5906345103698369,
           0.701707927951125,
           0.697997025416613,
           0.6629778070851206,
           0.7841264307178466,
           0.4770691399824858,
           0.4279077488883279,
           0.7402780047504427,
           0.6557833538162396,
           0.6578935335907421,
           0.36220584708558545,
           0.6215429814540707,
           0.9731239585781297,
           0.6099438006082017,
           0.581520825961286
          ],
          [
           0.540252807465786,
           0.7614875524632575,
           0.6801981056236984,
           0.3939570735752345,
           0.5463287822652575,
           0.5634278987749297,
           0.5183832222189875,
           0.5790294761338697,
           0.5241494197626322,
           0.42433362600775026,
           0.21582717189718878,
           0.5836861784966236,
           0.7064608639813209,
           0.4776541584597981,
           0.767674581770661,
           0.4238125609853496,
           0.4656379606486801,
           1.0227604203381728,
           0.8030725207637076,
           0.7667743434152395,
           1.1156931637589718,
           1.645279575816214,
           1.1961052963318795,
           2.834869698440585,
           6.061592108278671,
           11.679980162524522,
           2.1597504069746787,
           2.6409666390061766,
           0.9002789118568468,
           0.9295679387327155,
           1.149541206960386,
           0.9688050441482872,
           0.9224268023871318,
           0.6581894594108111,
           0.23413491461416314,
           0.40202626585893103,
           0.6123229431803697,
           0.8929567383092438,
           0.4114925062006554,
           0.5590561321036035,
           0.6934638999926189,
           0.5188695342286831,
           0.23275331575861807,
           0.8274015204833294,
           0.6679057239613375,
           0.5796504246164117,
           0.54477790778537,
           0.7370593549825617,
           0.6794331790191738,
           0.8660209952724495
          ],
          [
           0.6923024595562631,
           0.6025409200943315,
           0.8366721395347285,
           0.8220115264114123,
           0.4643587885809595,
           0.5936519921509161,
           0.7929035859720319,
           0.8030245188999514,
           0.7516902314199797,
           0.47978926999838906,
           0.6029512338683641,
           0.4362132526401055,
           0.6239105485335664,
           0.5655506791196921,
           0.6394450718653522,
           0.8638967382327819,
           0.5784491215564656,
           0.9321010336094027,
           0.9504701038151937,
           1.3216312666420837,
           1.1933119162804162,
           0.10866564579471721,
           2.4079688348517054,
           2.796867084010821,
           10.189039525333925,
           6.428326149701194,
           2.9029154432493653,
           2.401215603726614,
           1.685982901162571,
           0.8196008268441343,
           1.0969012654138857,
           0.7415525865223952,
           0.749187289696275,
           0.8698817814509787,
           0.6650701970717798,
           1.0515412784831937,
           0.44054601811107386,
           0.6377022720293968,
           0.669302511309479,
           0.7199830791472501,
           0.33618177189993986,
           0.7508520607167003,
           0.5379814653578109,
           0.9137537840331427,
           0.5875210011151127,
           0.49462685277186774,
           0.3969362880097774,
           0.28064395941708925,
           0.8016298660242924,
           0.5936186791506056
          ],
          [
           0.3658089649420036,
           0.49685785576017294,
           0.6035050955057658,
           0.5478160699974802,
           0.5836236431988128,
           0.29288417150609325,
           0.4266623731180572,
           0.7466952633402897,
           0.6469114813854072,
           0.5542242808977185,
           0.5157332964416528,
           0.6313635856644512,
           0.3278134599166803,
           0.6268366386187311,
           0.9273602567796682,
           0.6158505713615967,
           0.6684932293256458,
           1.0710096482349059,
           0.9556887062005672,
           0.9530849071965585,
           1.1519991451855456,
           1.7193262071843614,
           1.9242233320652198,
           3.2390206755576143,
           7.7914915969070035,
           6.479753640093605,
           1.8749763570849836,
           1.475133983786396,
           1.7475946101101354,
           1.0204520983526462,
           1.5045284893932154,
           0.7582258322966702,
           0.9238431013197325,
           0.7780597929617609,
           1.0071862925746689,
           0.5463551401273484,
           0.8987634666237527,
           0.5254127013234845,
           0.22005196246812295,
           0.5520678893382315,
           0.5118584705599005,
           0.5968639466630132,
           0.5583063460573726,
           0.8733332885232274,
           0.6490721815762703,
           0.721329825212112,
           0.6659049690312052,
           0.6802267889798381,
           0.6910833607821316,
           0.9259421653155157
          ],
          [
           0.7046931661753383,
           0.6459703249192417,
           0.7045921624810291,
           0.6295459151886181,
           0.707300010101923,
           0.3070730333756744,
           0.43894559335181144,
           0.48887168082310806,
           0.6160241073585594,
           0.629997946315876,
           0.40423801065420534,
           0.8471881664703583,
           0.4121656530638677,
           0.5901829136609871,
           0.4978545639764811,
           0.8990744795972105,
           0.4397790675348666,
           0.9591827848415483,
           0.8820793410547074,
           0.6515519517075932,
           1.1919093692114264,
           1.5647694940068206,
           2.472806070820543,
           1.9149515248828595,
           13.18698126505745,
           6.2228940806778,
           3.6559886617733013,
           2.13564865588516,
           1.8579075816790365,
           1.1482154471100146,
           0.526437241499849,
           1.260649176708375,
           0.8314172979922168,
           1.2135779866504406,
           0.8946289454901066,
           0.6790114204003215,
           0.40814959280809593,
           0.7830629948118384,
           0.5271003729546097,
           0.32954717008950696,
           0.5281443781425513,
           0.7733280485249219,
           0.6564189623972543,
           0.5709050068208957,
           0.5632895471191955,
           0.5489591273123393,
           0.5996889012817644,
           0.6894078302098906,
           0.7729969022760534,
           0.4168992846678462
          ],
          [
           0.8113716375881326,
           0.39017374737540533,
           0.7011350284732903,
           0.6396635564411624,
           0.7024489001107375,
           0.5090898310953683,
           0.39856103126436526,
           0.451808044913173,
           0.4882317020379703,
           0.7205781450911671,
           0.47324796883809245,
           0.8347091611895457,
           0.29421380412290377,
           0.6536545629006677,
           0.656625179903621,
           0.626321663547446,
           0.9355505356644696,
           1.0820813191163023,
           1.161552474317389,
           1.6280822197592737,
           1.4114032109174888,
           1.330435729452194,
           1.7199468736739696,
           1.6697243002978839,
           7.304091695788847,
           7.952531485516217,
           4.630771748290228,
           1.7692492344512596,
           1.8444674107728771,
           1.6341723754944268,
           0.6485001895719545,
           0.6395531167355427,
           1.2222568166994878,
           0.646805603705153,
           0.324652826040944,
           0.7904344920473969,
           0.5198011512038491,
           0.732474651370889,
           0.5113688868320937,
           0.3214855320306486,
           0.7739148504600859,
           0.54293109789616,
           0.39023387533470555,
           0.48503280945864036,
           0.5509657057641897,
           0.6440688224733724,
           0.5174270925281929,
           0.6544127177758112,
           0.46246180498043526,
           0.6275087977045111
          ],
          [
           0.7557360160882747,
           0.44090894171480066,
           0.6635661993841828,
           0.5115340454953067,
           0.47632009829207667,
           0.5818152142064381,
           0.6415910102254135,
           0.40324164064103735,
           0.46190607990100657,
           0.4574065704136595,
           0.6981082717307965,
           0.5115097194901782,
           0.5196456712442836,
           0.1580770649436701,
           0.9195701101907812,
           0.9680376117933726,
           1.1951538446257688,
           0.39171496833210323,
           0.9629875963455229,
           1.4094524157645976,
           1.5493668610222306,
           0.9645810951886669,
           3.118306427194176,
           2.679607648258908,
           9.916276817108931,
           10.386763022718458,
           4.2496408392860054,
           2.1652780117498227,
           1.156609115510159,
           1.4227023344313428,
           1.2781942885269089,
           1.0522636460639987,
           0.9891616382663093,
           1.0539015241422423,
           0.5650608941030129,
           0.8439662788605661,
           0.7912408114032897,
           0.42821737735951637,
           0.6216765562688971,
           0.7381009168557648,
           0.36999002934246583,
           0.37478824522802706,
           0.49354595423143843,
           0.6713586533888785,
           0.5375047833540139,
           0.5385360449160389,
           0.5987899999351495,
           0.31687989306894326,
           0.5529174022729638,
           0.4443170941597008
          ],
          [
           0.4732670152240018,
           0.2543691129702512,
           0.3564372237556364,
           0.37600965515256524,
           0.646896635154399,
           0.4810475816897016,
           0.5079140898228331,
           0.5401751119494068,
           0.47600216478269375,
           0.7348922977794304,
           0.5012849533801319,
           0.5669270571945977,
           0.6341898571584677,
           0.8454752974649917,
           0.4820699764704126,
           0.9082770197907595,
           0.9510315691739921,
           0.5769242081927347,
           1.1449223164295967,
           1.0676964099065518,
           1.2269758723614266,
           2.201037663323484,
           2.5897140704637382,
           2.472394169073637,
           7.644134327719441,
           3.9456525219351737,
           3.7846456258067573,
           2.1997450829872065,
           2.148830963640476,
           1.4984941540875638,
           1.4675383992375246,
           1.5559615451207458,
           1.1542081845497516,
           0.6639711849548587,
           0.609051794127335,
           0.8579265346236827,
           0.9343459705956588,
           0.7890066008833947,
           0.5623774749268295,
           0.7026557622489069,
           0.543420193901231,
           0.4649006750088713,
           0.3014675644265663,
           0.760269605647911,
           0.6602976942724011,
           0.3308330290837553,
           0.2718990023262104,
           0.6371329711629753,
           0.4117412932622416,
           0.6814069461303639
          ],
          [
           0.2965838776571867,
           0.23194007320131801,
           0.7642583391013347,
           0.5318691950624945,
           0.5155871119054285,
           0.491296863357179,
           0.5587205171803183,
           0.694502436226997,
           0.5633363948039972,
           0.793680245282386,
           0.592973717644417,
           0.680267690786867,
           0.6708700390568213,
           0.9721890353012684,
           0.7883500241405428,
           0.7115544575766831,
           1.089216194400754,
           1.2121283480299947,
           1.2460883481298202,
           1.2406495032717775,
           1.353240268652727,
           1.685337132720994,
           2.2570887352567377,
           4.5012518622897675,
           11.155619345921199,
           20.027583140071243,
           2.6459714319868115,
           2.372892069843593,
           2.2842476482419656,
           1.5688789344147367,
           1.296667266768084,
           1.4286158695358249,
           0.5228806665608486,
           1.3979596326225965,
           1.008036200729959,
           0.5345790384672163,
           0.8261979621156894,
           0.5280315440736294,
           0.44398095481600874,
           1.1009326082988864,
           0.7102847654724093,
           0.4626632221806544,
           0.43057042645071153,
           0.48541859980182844,
           0.6375835297005904,
           0.6884877830037887,
           0.41801414285676985,
           0.6120258417889184,
           0.8135153488322298,
           0.6060846749058698
          ],
          [
           0.4610622612531195,
           0.48813797773554357,
           0.5892078304101291,
           0.6775920811924158,
           0.5310020019307112,
           0.7263581726894988,
           0.8547590272606062,
           0.6063879637911576,
           0.6351425324043284,
           0.8692429310522135,
           0.7482560782529417,
           0.8346144268594958,
           0.7399876979031444,
           0.5764852369604401,
           0.4511161359693556,
           1.1026913337603381,
           1.1798743443563036,
           0.7686828795094877,
           1.3402088997081862,
           1.8700509335220434,
           2.095119723038657,
           2.129103212622464,
           2.113386707836579,
           2.8400277574552795,
           15.26030279220343,
           16.619402890337184,
           6.299563647388679,
           3.810215952536664,
           2.2658197866520746,
           1.4834318749806497,
           1.3547841275735377,
           1.2276403772203968,
           1.1953794725762863,
           1.3374585959632694,
           0.5400366920918579,
           1.0220244065638502,
           0.3591055347457694,
           1.0108950117703626,
           0.7616996789774105,
           0.8698254979102157,
           0.47292121008324445,
           0.6293304066543551,
           0.577036638748799,
           0.7707937358647304,
           0.8723097148419244,
           0.31945324650030504,
           0.5967382334511807,
           0.4097137432236743,
           0.4872055965862066,
           0.4032215748053678
          ],
          [
           0.6607098351571463,
           0.3122340240266903,
           0.615884562306372,
           0.8384699046488129,
           0.7510732971244763,
           0.2848741958669987,
           0.596301038074936,
           0.7806747881467844,
           0.4079602213272224,
           0.749276984850788,
           0.8260977718869601,
           0.7744316736273825,
           0.7668056841146768,
           0.8757453753712269,
           1.0584072811247003,
           0.8816579123159257,
           1.2060507535015792,
           1.348843123751996,
           1.531932238264338,
           0.7948685755713876,
           1.0938905018144267,
           2.2192077779583905,
           3.2704395240411097,
           2.452862570322803,
           15.968755357910528,
           6.940181872224256,
           3.1373999469064966,
           3.0089679760025536,
           1.8445962303324226,
           1.4815359138266782,
           2.062430403346476,
           1.612288908958025,
           1.2503648290040688,
           1.3476049339871605,
           1.0716447792281023,
           0.6352957981383553,
           0.7769799383115039,
           1.0270463062929511,
           0.845459314412111,
           0.3012231322763381,
           0.7157680244906525,
           0.6030821449158127,
           0.6680903378252748,
           0.613474234571345,
           0.72212560854084,
           0.5953728828955503,
           0.06616059335599592,
           0.6136193422315351,
           0.44583499063748205,
           0.7296385956838322
          ],
          [
           0.7075003045133443,
           0.5569433072618768,
           0.45939653573716727,
           0.3289691555577317,
           0.7240313773356469,
           0.6104462720810026,
           0.6349782393214781,
           0.6836567433497119,
           0.5975699862701545,
           0.7522327462532087,
           0.5892423080562729,
           0.9448150962721332,
           0.9209492141221731,
           0.859193387095414,
           0.688542369541603,
           1.0783468925631012,
           1.442939808382078,
           1.2800853042144709,
           1.1339567067571656,
           1.820961134700792,
           2.288658250548184,
           0.875723642418243,
           3.7604974615726,
           3.3874172585433784,
           10.320955628228905,
           13.061031668727384,
           2.9064310833552134,
           2.793159238785202,
           1.975033974364611,
           1.739223649385215,
           0.9546911382436943,
           1.207848538017996,
           1.0359159343707716,
           1.0184855234407602,
           0.9994547034489937,
           1.027462992635282,
           0.8840319862235169,
           0.6169022498142136,
           0.7894135832379782,
           0.8323456527233192,
           0.9525153925618869,
           0.6004558972788416,
           0.38923968544022974,
           0.7481604655770963,
           0.6940004680159567,
           0.17756249922736192,
           0.6806233155103425,
           0.8138212926837781,
           0.4507539624147715,
           0.6179025638728746
          ]
         ]
        }
       ],
       "layout": {
        "autosize": false,
        "height": 650,
        "template": {
         "data": {
          "bar": [
           {
            "error_x": {
             "color": "#2a3f5f"
            },
            "error_y": {
             "color": "#2a3f5f"
            },
            "marker": {
             "line": {
              "color": "#E5ECF6",
              "width": 0.5
             },
             "pattern": {
              "fillmode": "overlay",
              "size": 10,
              "solidity": 0.2
             }
            },
            "type": "bar"
           }
          ],
          "barpolar": [
           {
            "marker": {
             "line": {
              "color": "#E5ECF6",
              "width": 0.5
             },
             "pattern": {
              "fillmode": "overlay",
              "size": 10,
              "solidity": 0.2
             }
            },
            "type": "barpolar"
           }
          ],
          "carpet": [
           {
            "aaxis": {
             "endlinecolor": "#2a3f5f",
             "gridcolor": "white",
             "linecolor": "white",
             "minorgridcolor": "white",
             "startlinecolor": "#2a3f5f"
            },
            "baxis": {
             "endlinecolor": "#2a3f5f",
             "gridcolor": "white",
             "linecolor": "white",
             "minorgridcolor": "white",
             "startlinecolor": "#2a3f5f"
            },
            "type": "carpet"
           }
          ],
          "choropleth": [
           {
            "colorbar": {
             "outlinewidth": 0,
             "ticks": ""
            },
            "type": "choropleth"
           }
          ],
          "contour": [
           {
            "colorbar": {
             "outlinewidth": 0,
             "ticks": ""
            },
            "colorscale": [
             [
              0,
              "#0d0887"
             ],
             [
              0.1111111111111111,
              "#46039f"
             ],
             [
              0.2222222222222222,
              "#7201a8"
             ],
             [
              0.3333333333333333,
              "#9c179e"
             ],
             [
              0.4444444444444444,
              "#bd3786"
             ],
             [
              0.5555555555555556,
              "#d8576b"
             ],
             [
              0.6666666666666666,
              "#ed7953"
             ],
             [
              0.7777777777777778,
              "#fb9f3a"
             ],
             [
              0.8888888888888888,
              "#fdca26"
             ],
             [
              1,
              "#f0f921"
             ]
            ],
            "type": "contour"
           }
          ],
          "contourcarpet": [
           {
            "colorbar": {
             "outlinewidth": 0,
             "ticks": ""
            },
            "type": "contourcarpet"
           }
          ],
          "heatmap": [
           {
            "colorbar": {
             "outlinewidth": 0,
             "ticks": ""
            },
            "colorscale": [
             [
              0,
              "#0d0887"
             ],
             [
              0.1111111111111111,
              "#46039f"
             ],
             [
              0.2222222222222222,
              "#7201a8"
             ],
             [
              0.3333333333333333,
              "#9c179e"
             ],
             [
              0.4444444444444444,
              "#bd3786"
             ],
             [
              0.5555555555555556,
              "#d8576b"
             ],
             [
              0.6666666666666666,
              "#ed7953"
             ],
             [
              0.7777777777777778,
              "#fb9f3a"
             ],
             [
              0.8888888888888888,
              "#fdca26"
             ],
             [
              1,
              "#f0f921"
             ]
            ],
            "type": "heatmap"
           }
          ],
          "heatmapgl": [
           {
            "colorbar": {
             "outlinewidth": 0,
             "ticks": ""
            },
            "colorscale": [
             [
              0,
              "#0d0887"
             ],
             [
              0.1111111111111111,
              "#46039f"
             ],
             [
              0.2222222222222222,
              "#7201a8"
             ],
             [
              0.3333333333333333,
              "#9c179e"
             ],
             [
              0.4444444444444444,
              "#bd3786"
             ],
             [
              0.5555555555555556,
              "#d8576b"
             ],
             [
              0.6666666666666666,
              "#ed7953"
             ],
             [
              0.7777777777777778,
              "#fb9f3a"
             ],
             [
              0.8888888888888888,
              "#fdca26"
             ],
             [
              1,
              "#f0f921"
             ]
            ],
            "type": "heatmapgl"
           }
          ],
          "histogram": [
           {
            "marker": {
             "pattern": {
              "fillmode": "overlay",
              "size": 10,
              "solidity": 0.2
             }
            },
            "type": "histogram"
           }
          ],
          "histogram2d": [
           {
            "colorbar": {
             "outlinewidth": 0,
             "ticks": ""
            },
            "colorscale": [
             [
              0,
              "#0d0887"
             ],
             [
              0.1111111111111111,
              "#46039f"
             ],
             [
              0.2222222222222222,
              "#7201a8"
             ],
             [
              0.3333333333333333,
              "#9c179e"
             ],
             [
              0.4444444444444444,
              "#bd3786"
             ],
             [
              0.5555555555555556,
              "#d8576b"
             ],
             [
              0.6666666666666666,
              "#ed7953"
             ],
             [
              0.7777777777777778,
              "#fb9f3a"
             ],
             [
              0.8888888888888888,
              "#fdca26"
             ],
             [
              1,
              "#f0f921"
             ]
            ],
            "type": "histogram2d"
           }
          ],
          "histogram2dcontour": [
           {
            "colorbar": {
             "outlinewidth": 0,
             "ticks": ""
            },
            "colorscale": [
             [
              0,
              "#0d0887"
             ],
             [
              0.1111111111111111,
              "#46039f"
             ],
             [
              0.2222222222222222,
              "#7201a8"
             ],
             [
              0.3333333333333333,
              "#9c179e"
             ],
             [
              0.4444444444444444,
              "#bd3786"
             ],
             [
              0.5555555555555556,
              "#d8576b"
             ],
             [
              0.6666666666666666,
              "#ed7953"
             ],
             [
              0.7777777777777778,
              "#fb9f3a"
             ],
             [
              0.8888888888888888,
              "#fdca26"
             ],
             [
              1,
              "#f0f921"
             ]
            ],
            "type": "histogram2dcontour"
           }
          ],
          "mesh3d": [
           {
            "colorbar": {
             "outlinewidth": 0,
             "ticks": ""
            },
            "type": "mesh3d"
           }
          ],
          "parcoords": [
           {
            "line": {
             "colorbar": {
              "outlinewidth": 0,
              "ticks": ""
             }
            },
            "type": "parcoords"
           }
          ],
          "pie": [
           {
            "automargin": true,
            "type": "pie"
           }
          ],
          "scatter": [
           {
            "fillpattern": {
             "fillmode": "overlay",
             "size": 10,
             "solidity": 0.2
            },
            "type": "scatter"
           }
          ],
          "scatter3d": [
           {
            "line": {
             "colorbar": {
              "outlinewidth": 0,
              "ticks": ""
             }
            },
            "marker": {
             "colorbar": {
              "outlinewidth": 0,
              "ticks": ""
             }
            },
            "type": "scatter3d"
           }
          ],
          "scattercarpet": [
           {
            "marker": {
             "colorbar": {
              "outlinewidth": 0,
              "ticks": ""
             }
            },
            "type": "scattercarpet"
           }
          ],
          "scattergeo": [
           {
            "marker": {
             "colorbar": {
              "outlinewidth": 0,
              "ticks": ""
             }
            },
            "type": "scattergeo"
           }
          ],
          "scattergl": [
           {
            "marker": {
             "colorbar": {
              "outlinewidth": 0,
              "ticks": ""
             }
            },
            "type": "scattergl"
           }
          ],
          "scattermapbox": [
           {
            "marker": {
             "colorbar": {
              "outlinewidth": 0,
              "ticks": ""
             }
            },
            "type": "scattermapbox"
           }
          ],
          "scatterpolar": [
           {
            "marker": {
             "colorbar": {
              "outlinewidth": 0,
              "ticks": ""
             }
            },
            "type": "scatterpolar"
           }
          ],
          "scatterpolargl": [
           {
            "marker": {
             "colorbar": {
              "outlinewidth": 0,
              "ticks": ""
             }
            },
            "type": "scatterpolargl"
           }
          ],
          "scatterternary": [
           {
            "marker": {
             "colorbar": {
              "outlinewidth": 0,
              "ticks": ""
             }
            },
            "type": "scatterternary"
           }
          ],
          "surface": [
           {
            "colorbar": {
             "outlinewidth": 0,
             "ticks": ""
            },
            "colorscale": [
             [
              0,
              "#0d0887"
             ],
             [
              0.1111111111111111,
              "#46039f"
             ],
             [
              0.2222222222222222,
              "#7201a8"
             ],
             [
              0.3333333333333333,
              "#9c179e"
             ],
             [
              0.4444444444444444,
              "#bd3786"
             ],
             [
              0.5555555555555556,
              "#d8576b"
             ],
             [
              0.6666666666666666,
              "#ed7953"
             ],
             [
              0.7777777777777778,
              "#fb9f3a"
             ],
             [
              0.8888888888888888,
              "#fdca26"
             ],
             [
              1,
              "#f0f921"
             ]
            ],
            "type": "surface"
           }
          ],
          "table": [
           {
            "cells": {
             "fill": {
              "color": "#EBF0F8"
             },
             "line": {
              "color": "white"
             }
            },
            "header": {
             "fill": {
              "color": "#C8D4E3"
             },
             "line": {
              "color": "white"
             }
            },
            "type": "table"
           }
          ]
         },
         "layout": {
          "annotationdefaults": {
           "arrowcolor": "#2a3f5f",
           "arrowhead": 0,
           "arrowwidth": 1
          },
          "autotypenumbers": "strict",
          "coloraxis": {
           "colorbar": {
            "outlinewidth": 0,
            "ticks": ""
           }
          },
          "colorscale": {
           "diverging": [
            [
             0,
             "#8e0152"
            ],
            [
             0.1,
             "#c51b7d"
            ],
            [
             0.2,
             "#de77ae"
            ],
            [
             0.3,
             "#f1b6da"
            ],
            [
             0.4,
             "#fde0ef"
            ],
            [
             0.5,
             "#f7f7f7"
            ],
            [
             0.6,
             "#e6f5d0"
            ],
            [
             0.7,
             "#b8e186"
            ],
            [
             0.8,
             "#7fbc41"
            ],
            [
             0.9,
             "#4d9221"
            ],
            [
             1,
             "#276419"
            ]
           ],
           "sequential": [
            [
             0,
             "#0d0887"
            ],
            [
             0.1111111111111111,
             "#46039f"
            ],
            [
             0.2222222222222222,
             "#7201a8"
            ],
            [
             0.3333333333333333,
             "#9c179e"
            ],
            [
             0.4444444444444444,
             "#bd3786"
            ],
            [
             0.5555555555555556,
             "#d8576b"
            ],
            [
             0.6666666666666666,
             "#ed7953"
            ],
            [
             0.7777777777777778,
             "#fb9f3a"
            ],
            [
             0.8888888888888888,
             "#fdca26"
            ],
            [
             1,
             "#f0f921"
            ]
           ],
           "sequentialminus": [
            [
             0,
             "#0d0887"
            ],
            [
             0.1111111111111111,
             "#46039f"
            ],
            [
             0.2222222222222222,
             "#7201a8"
            ],
            [
             0.3333333333333333,
             "#9c179e"
            ],
            [
             0.4444444444444444,
             "#bd3786"
            ],
            [
             0.5555555555555556,
             "#d8576b"
            ],
            [
             0.6666666666666666,
             "#ed7953"
            ],
            [
             0.7777777777777778,
             "#fb9f3a"
            ],
            [
             0.8888888888888888,
             "#fdca26"
            ],
            [
             1,
             "#f0f921"
            ]
           ]
          },
          "colorway": [
           "#636efa",
           "#EF553B",
           "#00cc96",
           "#ab63fa",
           "#FFA15A",
           "#19d3f3",
           "#FF6692",
           "#B6E880",
           "#FF97FF",
           "#FECB52"
          ],
          "font": {
           "color": "#2a3f5f"
          },
          "geo": {
           "bgcolor": "white",
           "lakecolor": "white",
           "landcolor": "#E5ECF6",
           "showlakes": true,
           "showland": true,
           "subunitcolor": "white"
          },
          "hoverlabel": {
           "align": "left"
          },
          "hovermode": "closest",
          "mapbox": {
           "style": "light"
          },
          "paper_bgcolor": "white",
          "plot_bgcolor": "#E5ECF6",
          "polar": {
           "angularaxis": {
            "gridcolor": "white",
            "linecolor": "white",
            "ticks": ""
           },
           "bgcolor": "#E5ECF6",
           "radialaxis": {
            "gridcolor": "white",
            "linecolor": "white",
            "ticks": ""
           }
          },
          "scene": {
           "xaxis": {
            "backgroundcolor": "#E5ECF6",
            "gridcolor": "white",
            "gridwidth": 2,
            "linecolor": "white",
            "showbackground": true,
            "ticks": "",
            "zerolinecolor": "white"
           },
           "yaxis": {
            "backgroundcolor": "#E5ECF6",
            "gridcolor": "white",
            "gridwidth": 2,
            "linecolor": "white",
            "showbackground": true,
            "ticks": "",
            "zerolinecolor": "white"
           },
           "zaxis": {
            "backgroundcolor": "#E5ECF6",
            "gridcolor": "white",
            "gridwidth": 2,
            "linecolor": "white",
            "showbackground": true,
            "ticks": "",
            "zerolinecolor": "white"
           }
          },
          "shapedefaults": {
           "line": {
            "color": "#2a3f5f"
           }
          },
          "ternary": {
           "aaxis": {
            "gridcolor": "white",
            "linecolor": "white",
            "ticks": ""
           },
           "baxis": {
            "gridcolor": "white",
            "linecolor": "white",
            "ticks": ""
           },
           "bgcolor": "#E5ECF6",
           "caxis": {
            "gridcolor": "white",
            "linecolor": "white",
            "ticks": ""
           }
          },
          "title": {
           "x": 0.05
          },
          "xaxis": {
           "automargin": true,
           "gridcolor": "white",
           "linecolor": "white",
           "ticks": "",
           "title": {
            "standoff": 15
           },
           "zerolinecolor": "white",
           "zerolinewidth": 2
          },
          "yaxis": {
           "automargin": true,
           "gridcolor": "white",
           "linecolor": "white",
           "ticks": "",
           "title": {
            "standoff": 15
           },
           "zerolinecolor": "white",
           "zerolinewidth": 2
          }
         }
        },
        "title": {
         "text": "Estimated Relative Condition Numbers"
        },
        "width": 650
       }
      }
     },
     "metadata": {},
     "output_type": "display_data"
    }
   ],
   "source": [
    "prob4()"
   ]
  },
  {
   "attachments": {},
   "cell_type": "markdown",
   "metadata": {},
   "source": [
    "<hr>\n",
    "\n",
    "## Stability\n",
    "\n",
    "The stability of an algorithm refers to the property that small changes in the input should lead to only small changes in the output. In other words, a stable algorithm is one that produces consistent results even when the input data is perturbed slightly.\n",
    "\n",
    "A stable algorithm is desirable because it ensures that the output is reliable and accurate. On the other hand, an unstable algorithm may produce results that are significantly different from the correct values if the input data is even slightly perturbed. Such algorithms are generally considered to be unreliable and may not be suitable for use in many applications.\n",
    "\n",
    "For numerical algorithms, stability is often closely related to the condition number of the problem being solved. A problem with a high condition number is said to be ill-conditioned, and algorithms that solve such problems may be prone to numerical instability. Therefore, it is important to consider both the stability of the algorithm and the condition number of the problem when choosing a numerical method for a particular application.\n",
    "\n",
    "Let $f : \\R^m \\to \\R^n$ be a problem to be solved, as in the previous section on conditioning, and let $\\tilde{f}$ be an actual algorithm for solving the problem. The forward error of $f$ at $x$ is $\\| f(x) − \\tilde{f}(x) \\| $, and the relative forward error of $f$ at $x$ is $$\\frac{\\|f(x) - \\tilde{f}(x)\\|}{\\|f(x)\\|}$$ An algorithm is called *stable* if its relative forward error is small.\n",
    "\n",
    "## Least Squares\n",
    "Ordinary Least Squares (OLS) is a common method used in regression analysis to estimate the parameters of a linear regression model. The goal of OLS is to find the line that best fits the data by minimizing the sum of the squared errors between the observed data points and the predicted values.\n",
    "\n",
    "In the context of algorithm stability, OLS is considered a stable algorithm because it is well-behaved and has a unique solution. This means that small changes in the input data will only lead to small changes in the output, and the algorithm is not likely to produce widely varying or unpredictable results.\n",
    "\n",
    "One reason for the stability of OLS is that it is a deterministic algorithm that uses a closed-form solution to calculate the model parameters. This means that the same input data will always produce the same output, which can be helpful for debugging and testing.\n",
    "\n",
    "Another factor that contributes to the stability of OLS is the fact that it is a linear algorithm. This means that the relationship between the input variables and the output is linear and can be easily modeled using a straight line. Linear models tend to be more stable than non-linear models because they are less susceptible to overfitting and can be more easily interpreted.\n",
    "\n",
    "Mathematically, the OLS problem is to find the $x$ that  minimizes $\\| Ax − b \\|_2$ for fixed $A$ and $b$. It can be shown that an equivalent problem is finding the solution of $A^HAx = A^Hb$, called the normal equations. A common application of least squares is polynomial approximation. Given a set of $m$ data points $\\{(x_k, y_k)\\}_{m}^{k=1}$, the goal is to find the set of coefficients $\\{c_i\\}_{n}^{i=0}$ such that \n",
    "\n",
    "$$y_k \\approx c_nx^n_k + c_{n−1}x^{n−1}_k + \\ldots + c_2x^2_k + c_1x_k + c_0$$\n",
    "for all $k$, with the smallest possible error. These $m$ linear equations yield the linear system\n",
    "\n",
    "$$ Ax = \n",
    "\n",
    "\\begin{bmatrix}\n",
    "x^{n}_1 & x^{n-1}_1 & \\ldots & x^{2}_1 & x_1 & 1\\\\\n",
    "x^{n}_2 & x^{n-1}_2 & \\ldots & x^{2}_2 & x_2 & 1\\\\\n",
    "x^{n}_3 & x^{n-1}_3 & \\ldots & x^{2}_3 & x_3 & 1\\\\\n",
    "\\vdots & \\vdots &            & \\vdots & \\vdots & \\vdots\\\\\n",
    "x^{n}_m & x^{n-1}_m & \\ldots & x^{2}_m & x_m & 1\\\\\n",
    "\\end{bmatrix}\n",
    "\n",
    "\\begin{bmatrix}\n",
    "c_{n}\\\\\n",
    "c_{n-1}\\\\\n",
    "\\vdots\\\\\n",
    "c_2\\\\\n",
    "c_1\\\\\n",
    "c_0\\\\\n",
    "\\end{bmatrix}\n",
    "\n",
    "=\n",
    "\n",
    "\\begin{bmatrix}\n",
    "y_1\\\\\n",
    "y_2\\\\\n",
    "y_3\\\\\n",
    "\\vdots\\\\\n",
    "y_m\\\\\n",
    "\\end{bmatrix}\n",
    "\n",
    "= \n",
    "b\n",
    "\n",
    "$$"
   ]
  },
  {
   "cell_type": "code",
   "execution_count": 16,
   "metadata": {},
   "outputs": [],
   "source": [
    "def prob5(n, show_plot=False):\n",
    "    \"\"\"Approximate the data from \"stability_data.npy\" on the interval [0,1]\n",
    "    with a least squares polynomial of degree n. Solve the least squares\n",
    "    problem using the normal equation and the QR decomposition, then compare\n",
    "    the two solutions by plotting them together with the data. Return\n",
    "    the mean squared error of both solutions, ||Ax-b||_2.\n",
    "\n",
    "    Parameters:\n",
    "        n (int): The degree of the polynomial to be used in the approximation.\n",
    "        show_plot (bool): Whether or not to show the plot.\n",
    "\n",
    "    Returns:\n",
    "        (float): The forward error using the normal equations.\n",
    "        (float): The forward error using the QR decomposition.\n",
    "        (plotly.graph_objects.Figure): A plot of the data and the two approximations.\n",
    "    \"\"\"\n",
    "    # Load data\n",
    "    xk, yk = np.load(\"stability_data.npy\").T\n",
    "    \n",
    "    # Construct Vandermonde matrix\n",
    "    A = np.vander(xk, n+1)\n",
    "\n",
    "    # Solve using la.inv() for normal equations.\n",
    "    x_vals1 = la.inv(A.T @ A) @ A.T @ yk\n",
    "\n",
    "    # Solve using la.qr\n",
    "    q, r = la.qr(A, mode='economic')\n",
    "    x_vals2 = la.solve_triangular(r, q.T@yk)\n",
    "\n",
    "    # Plot\n",
    "    fig = go.Figure()\n",
    "    fig.add_trace(go.Scatter(x=xk, y=yk, mode='markers', marker=dict(color='black', size=3), name=\"Data vals\", showlegend=False))\n",
    "    fig.add_trace(go.Scatter(x=xk, y=np.polyval(x_vals1, xk), mode='lines', name=\"Least Squares\", line=dict(color='red'), showlegend=False))\n",
    "    fig.add_trace(go.Scatter(x=xk, y=np.polyval(x_vals2, xk), mode='lines', name=\"QR\", line=dict(color='blue'), showlegend=False))\n",
    "    fig.update_layout(title=\"Problem 5 Plot\", xaxis_title=\"x\", yaxis_title=\"y\", legend=dict(yanchor=\"top\", y=0.99, xanchor=\"left\", x=0.01))\n",
    "    \n",
    "    if show_plot:\n",
    "        fig.show()\n",
    "    \n",
    "    #Calculate forward error using the normal equations\n",
    "    forward_normal = la.norm((A@x_vals1 - yk), ord=2)\n",
    "\n",
    "    #Calculate forward error using the QR decomposition\n",
    "    forward_qr = la.norm((A@x_vals2 - yk), ord=2)\n",
    "\n",
    "    return forward_normal, forward_qr, fig"
   ]
  },
  {
   "cell_type": "code",
   "execution_count": 22,
   "metadata": {},
   "outputs": [
    {
     "data": {
      "application/vnd.plotly.v1+json": {
       "config": {
        "plotlyServerURL": "https://plot.ly"
       },
       "data": [
        {
         "line": {
          "color": "red"
         },
         "mode": "lines",
         "name": "Least Squares",
         "showlegend": true,
         "type": "scatter",
         "x": [
          0,
          0.010101010101010102,
          0.020202020202020204,
          0.030303030303030304,
          0.04040404040404041,
          0.05050505050505051,
          0.06060606060606061,
          0.07070707070707072,
          0.08080808080808081,
          0.09090909090909091,
          0.10101010101010102,
          0.11111111111111112,
          0.12121212121212122,
          0.13131313131313133,
          0.14141414141414144,
          0.15151515151515152,
          0.16161616161616163,
          0.17171717171717174,
          0.18181818181818182,
          0.19191919191919193,
          0.20202020202020204,
          0.21212121212121213,
          0.22222222222222224,
          0.23232323232323235,
          0.24242424242424243,
          0.25252525252525254,
          0.26262626262626265,
          0.27272727272727276,
          0.2828282828282829,
          0.29292929292929293,
          0.30303030303030304,
          0.31313131313131315,
          0.32323232323232326,
          0.33333333333333337,
          0.3434343434343435,
          0.3535353535353536,
          0.36363636363636365,
          0.37373737373737376,
          0.38383838383838387,
          0.393939393939394,
          0.4040404040404041,
          0.4141414141414142,
          0.42424242424242425,
          0.43434343434343436,
          0.4444444444444445,
          0.4545454545454546,
          0.4646464646464647,
          0.4747474747474748,
          0.48484848484848486,
          0.494949494949495,
          0.5050505050505051,
          0.5151515151515152,
          0.5252525252525253,
          0.5353535353535354,
          0.5454545454545455,
          0.5555555555555556,
          0.5656565656565657,
          0.5757575757575758,
          0.5858585858585859,
          0.595959595959596,
          0.6060606060606061,
          0.6161616161616162,
          0.6262626262626263,
          0.6363636363636365,
          0.6464646464646465,
          0.6565656565656566,
          0.6666666666666667,
          0.6767676767676768,
          0.686868686868687,
          0.696969696969697,
          0.7070707070707072,
          0.7171717171717172,
          0.7272727272727273,
          0.7373737373737375,
          0.7474747474747475,
          0.7575757575757577,
          0.7676767676767677,
          0.7777777777777778,
          0.787878787878788,
          0.797979797979798,
          0.8080808080808082,
          0.8181818181818182,
          0.8282828282828284,
          0.8383838383838385,
          0.8484848484848485,
          0.8585858585858587,
          0.8686868686868687,
          0.8787878787878789,
          0.888888888888889,
          0.8989898989898991,
          0.9090909090909092,
          0.9191919191919192,
          0.9292929292929294,
          0.9393939393939394,
          0.9494949494949496,
          0.9595959595959597,
          0.9696969696969697,
          0.9797979797979799,
          0.98989898989899,
          1
         ],
         "xaxis": "x",
         "y": [
          0.9159311094877488,
          0.9569028397039635,
          1.0013520392159108,
          1.0489438585983584,
          1.09935177809006,
          1.1522576075937558,
          1.2073514866761714,
          1.2643318845680191,
          1.3229056001639965,
          1.382787762022788,
          1.4437018283670635,
          1.5053795870834792,
          1.567561155722677,
          1.6299949814992853,
          1.692437841291918,
          1.754654841643176,
          1.816419418759645,
          1.8775133385118976,
          1.937726696434492,
          1.9968579177259724,
          2.0547137572488703,
          2.1111092995297005,
          2.165867958758967,
          2.2188214787911575,
          2.2698099331447468,
          2.318681725002196,
          2.3652935872099508,
          2.4095105822784446,
          2.451206102382096,
          2.49026186935931,
          2.526567934712477,
          2.560022679607974,
          2.5905328148761635,
          2.6180133810113952,
          2.6423877481720037,
          2.66358761618031,
          2.681553014522621,
          2.69623230234923,
          2.7075821684744157,
          2.7155676313764436,
          2.720162039197566,
          2.721347069744017,
          2.719112730486023,
          2.713457358557791,
          2.7043876207575193,
          2.6919185135473853,
          2.67607336305356,
          2.656883825066194,
          2.6343898850394294,
          2.6086398580913897,
          2.579690389004188,
          2.5476064522239192,
          2.512461351860671,
          2.4743367216885086,
          2.4333225251454924,
          2.3895170553336604,
          2.343026935019041,
          2.29396711663165,
          2.2424608822654872,
          2.1886398436785335,
          2.132643942292767,
          2.0746214491941424,
          2.0147289651326057,
          1.9531314205220864,
          1.890002075440497,
          1.8255225196297455,
          1.7598826724957142,
          1.693280783108282,
          1.625923430201307,
          1.5580255221726378,
          1.4898102970840998,
          1.4215093226615219,
          1.353362496294699,
          1.2856180450374253,
          1.2185325256074795,
          1.1523708243866218,
          1.087406157420597,
          1.0239200704191482,
          0.9622024387559863,
          0.9025514674688278,
          0.8452736912593583,
          0.7906839744932561,
          0.7391055112001912,
          0.6908698250738122,
          0.6463167694717534,
          0.6057945274156411,
          0.5696596115910844,
          0.5382768643476727,
          0.512019457698992,
          0.4912688933226106,
          0.4764150025600732,
          0.46785594641693157,
          0.46599821556270093,
          0.471256630330893,
          0.48405434071901304,
          0.5048228263885333,
          0.5340018966649327,
          0.5720396905376579,
          0.6193926766601554,
          0.6765256533498555
         ],
         "yaxis": "y"
        },
        {
         "line": {
          "color": "blue"
         },
         "mode": "lines",
         "name": "QR",
         "showlegend": true,
         "type": "scatter",
         "x": [
          0,
          0.010101010101010102,
          0.020202020202020204,
          0.030303030303030304,
          0.04040404040404041,
          0.05050505050505051,
          0.06060606060606061,
          0.07070707070707072,
          0.08080808080808081,
          0.09090909090909091,
          0.10101010101010102,
          0.11111111111111112,
          0.12121212121212122,
          0.13131313131313133,
          0.14141414141414144,
          0.15151515151515152,
          0.16161616161616163,
          0.17171717171717174,
          0.18181818181818182,
          0.19191919191919193,
          0.20202020202020204,
          0.21212121212121213,
          0.22222222222222224,
          0.23232323232323235,
          0.24242424242424243,
          0.25252525252525254,
          0.26262626262626265,
          0.27272727272727276,
          0.2828282828282829,
          0.29292929292929293,
          0.30303030303030304,
          0.31313131313131315,
          0.32323232323232326,
          0.33333333333333337,
          0.3434343434343435,
          0.3535353535353536,
          0.36363636363636365,
          0.37373737373737376,
          0.38383838383838387,
          0.393939393939394,
          0.4040404040404041,
          0.4141414141414142,
          0.42424242424242425,
          0.43434343434343436,
          0.4444444444444445,
          0.4545454545454546,
          0.4646464646464647,
          0.4747474747474748,
          0.48484848484848486,
          0.494949494949495,
          0.5050505050505051,
          0.5151515151515152,
          0.5252525252525253,
          0.5353535353535354,
          0.5454545454545455,
          0.5555555555555556,
          0.5656565656565657,
          0.5757575757575758,
          0.5858585858585859,
          0.595959595959596,
          0.6060606060606061,
          0.6161616161616162,
          0.6262626262626263,
          0.6363636363636365,
          0.6464646464646465,
          0.6565656565656566,
          0.6666666666666667,
          0.6767676767676768,
          0.686868686868687,
          0.696969696969697,
          0.7070707070707072,
          0.7171717171717172,
          0.7272727272727273,
          0.7373737373737375,
          0.7474747474747475,
          0.7575757575757577,
          0.7676767676767677,
          0.7777777777777778,
          0.787878787878788,
          0.797979797979798,
          0.8080808080808082,
          0.8181818181818182,
          0.8282828282828284,
          0.8383838383838385,
          0.8484848484848485,
          0.8585858585858587,
          0.8686868686868687,
          0.8787878787878789,
          0.888888888888889,
          0.8989898989898991,
          0.9090909090909092,
          0.9191919191919192,
          0.9292929292929294,
          0.9393939393939394,
          0.9494949494949496,
          0.9595959595959597,
          0.9696969696969697,
          0.9797979797979799,
          0.98989898989899,
          1
         ],
         "xaxis": "x",
         "y": [
          0.9159311094850835,
          0.9569028397017447,
          1.001352039214098,
          1.0489438585969129,
          1.0993517780889452,
          1.1522576075929367,
          1.207351486675615,
          1.2643318845676939,
          1.3229056001638728,
          1.382787762022838,
          1.4437018283672607,
          1.505379587083799,
          1.5675611557230962,
          1.6299949814997827,
          1.6924378412924737,
          1.7546548416437708,
          1.8164194187602627,
          1.8775133385125222,
          1.9377266964351094,
          1.9968579177265704,
          2.054713757249436,
          2.1111092995302254,
          2.1658679587594416,
          2.2188214787915745,
          2.2698099331450994,
          2.318681725002479,
          2.3652935872101604,
          2.4095105822785774,
          2.4512061023821508,
          2.4902618693592853,
          2.5265679347123733,
          2.560022679607793,
          2.5905328148759073,
          2.6180133810110666,
          2.6423877481716063,
          2.663587616179849,
          2.681553014522102,
          2.696232302348659,
          2.7075821684738006,
          2.7155676313757935,
          2.720162039196887,
          2.72134706974332,
          2.7191127304853175,
          2.713457358557089,
          2.7043876207568296,
          2.691918513546721,
          2.6760733630529328,
          2.6568838250656173,
          2.6343898850389156,
          2.608639858090953,
          2.57969038900384,
          2.547606452223679,
          2.5124613518605488,
          2.4743367216885224,
          2.433322525145655,
          2.389517055333988,
          2.3430269350195494,
          2.293967116632354,
          2.2424608822664016,
          2.1886398436796766,
          2.1326439422941537,
          2.07462144919579,
          2.0147289651345273,
          1.953131420524299,
          1.890002075443019,
          1.8255225196325886,
          1.7598826724988994,
          1.6932807831118204,
          1.6259234302052148,
          1.558025522176929,
          1.489810297088793,
          1.4215093226666249,
          1.3533624963002324,
          1.285618045043402,
          1.2185325256139115,
          1.1523708243935211,
          1.087406157427981,
          1.0239200704270228,
          0.9622024387643666,
          0.9025514674777235,
          0.8452736912687804,
          0.7906839745032137,
          0.7391055112106932,
          0.6908698250848687,
          0.6463167694833724,
          0.6057945274278259,
          0.5696596116038442,
          0.5382768643610124,
          0.5120194577129191,
          0.4912688933371222,
          0.4764150025751823,
          0.46785594643263173,
          0.4659982155789933,
          0.47125663034778276,
          0.48405434073649084,
          0.5048228264066046,
          0.534001896683591,
          0.5720396905569013,
          0.6193926766799823,
          0.6765256533702477
         ],
         "yaxis": "y"
        },
        {
         "marker": {
          "color": "black",
          "size": 3
         },
         "mode": "markers",
         "name": "Data vals",
         "showlegend": true,
         "type": "scatter",
         "x": [
          0,
          0.010101010101010102,
          0.020202020202020204,
          0.030303030303030304,
          0.04040404040404041,
          0.05050505050505051,
          0.06060606060606061,
          0.07070707070707072,
          0.08080808080808081,
          0.09090909090909091,
          0.10101010101010102,
          0.11111111111111112,
          0.12121212121212122,
          0.13131313131313133,
          0.14141414141414144,
          0.15151515151515152,
          0.16161616161616163,
          0.17171717171717174,
          0.18181818181818182,
          0.19191919191919193,
          0.20202020202020204,
          0.21212121212121213,
          0.22222222222222224,
          0.23232323232323235,
          0.24242424242424243,
          0.25252525252525254,
          0.26262626262626265,
          0.27272727272727276,
          0.2828282828282829,
          0.29292929292929293,
          0.30303030303030304,
          0.31313131313131315,
          0.32323232323232326,
          0.33333333333333337,
          0.3434343434343435,
          0.3535353535353536,
          0.36363636363636365,
          0.37373737373737376,
          0.38383838383838387,
          0.393939393939394,
          0.4040404040404041,
          0.4141414141414142,
          0.42424242424242425,
          0.43434343434343436,
          0.4444444444444445,
          0.4545454545454546,
          0.4646464646464647,
          0.4747474747474748,
          0.48484848484848486,
          0.494949494949495,
          0.5050505050505051,
          0.5151515151515152,
          0.5252525252525253,
          0.5353535353535354,
          0.5454545454545455,
          0.5555555555555556,
          0.5656565656565657,
          0.5757575757575758,
          0.5858585858585859,
          0.595959595959596,
          0.6060606060606061,
          0.6161616161616162,
          0.6262626262626263,
          0.6363636363636365,
          0.6464646464646465,
          0.6565656565656566,
          0.6666666666666667,
          0.6767676767676768,
          0.686868686868687,
          0.696969696969697,
          0.7070707070707072,
          0.7171717171717172,
          0.7272727272727273,
          0.7373737373737375,
          0.7474747474747475,
          0.7575757575757577,
          0.7676767676767677,
          0.7777777777777778,
          0.787878787878788,
          0.797979797979798,
          0.8080808080808082,
          0.8181818181818182,
          0.8282828282828284,
          0.8383838383838385,
          0.8484848484848485,
          0.8585858585858587,
          0.8686868686868687,
          0.8787878787878789,
          0.888888888888889,
          0.8989898989898991,
          0.9090909090909092,
          0.9191919191919192,
          0.9292929292929294,
          0.9393939393939394,
          0.9494949494949496,
          0.9595959595959597,
          0.9696969696969697,
          0.9797979797979799,
          0.98989898989899,
          1
         ],
         "xaxis": "x",
         "y": [
          1.1001633025152375,
          1.1033680791541978,
          1.1321139228853518,
          0.4847517790304545,
          1.0289766390488952,
          0.751927064673495,
          0.7014163265606369,
          1.6218457324008386,
          1.540748280334422,
          1.6433608548800334,
          1.1009027262073836,
          2.1273392607698973,
          1.3700052113241175,
          2.6947949069271724,
          1.9345257765457595,
          1.8470219074990148,
          1.8188153921986787,
          2.861701765333228,
          1.1283751152803467,
          1.3360528510270007,
          1.865310030907325,
          1.9165314264655517,
          2.2804051105652277,
          1.1920606565000562,
          2.0319499114204778,
          2.6882815908134865,
          1.9864564874442805,
          2.2067250659662148,
          2.1734260736784448,
          3.1804554766220297,
          2.156066513233559,
          2.979340270596603,
          3.227113114612935,
          2.670167556828368,
          0.8631499220130763,
          2.7508721954913025,
          3.2187439849293984,
          2.165060928147345,
          3.861152284319245,
          2.85466265498644,
          3.3760460980645313,
          0.9525918352009284,
          2.3047119857048384,
          3.17578493426535,
          3.6583634270116696,
          3.2599122791918917,
          2.8316382208464663,
          2.5937155336016553,
          2.7765059268012324,
          3.0530889015531177,
          2.720924868546051,
          3.0789225755826193,
          1.9076631425411452,
          2.4665289763598257,
          1.7876178998840102,
          2.78278449030979,
          2.7173121995875054,
          2.1457769414127683,
          2.163122103272552,
          2.3460952975407827,
          1.46915134020289,
          2.3801311394078155,
          2.3263456323120115,
          2.019787751634754,
          2.106288067573277,
          1.2957490611501497,
          1.932806271243118,
          2.128947130943733,
          1.0878496703442975,
          1.2464043057880139,
          1.6912306469069112,
          0.7651223247974431,
          1.1481226877366406,
          0.8130614374131426,
          0.865619868106454,
          0.8359904024735231,
          0.7620523189880644,
          0.6351457919234095,
          1.3082307118502066,
          0.5631509135677591,
          1.2423069446159254,
          1.2124991167033485,
          1.0431958545542561,
          0.7158138052206954,
          1.103989834215397,
          0.8146121842985515,
          0.5901099906052781,
          0.6883467172435429,
          0.9057471100718268,
          0.5859430772699392,
          0.5877221860269222,
          0.7152603115516541,
          0.37999736413905605,
          0.273180443128889,
          0.3807294357991912,
          0.5321813439495799,
          0.505867587943727,
          0.4769113593437951,
          0.5902563648503992,
          0.38866283200173796
         ],
         "yaxis": "y"
        },
        {
         "line": {
          "color": "red"
         },
         "mode": "lines",
         "name": "Least Squares",
         "showlegend": false,
         "type": "scatter",
         "x": [
          0,
          0.010101010101010102,
          0.020202020202020204,
          0.030303030303030304,
          0.04040404040404041,
          0.05050505050505051,
          0.06060606060606061,
          0.07070707070707072,
          0.08080808080808081,
          0.09090909090909091,
          0.10101010101010102,
          0.11111111111111112,
          0.12121212121212122,
          0.13131313131313133,
          0.14141414141414144,
          0.15151515151515152,
          0.16161616161616163,
          0.17171717171717174,
          0.18181818181818182,
          0.19191919191919193,
          0.20202020202020204,
          0.21212121212121213,
          0.22222222222222224,
          0.23232323232323235,
          0.24242424242424243,
          0.25252525252525254,
          0.26262626262626265,
          0.27272727272727276,
          0.2828282828282829,
          0.29292929292929293,
          0.30303030303030304,
          0.31313131313131315,
          0.32323232323232326,
          0.33333333333333337,
          0.3434343434343435,
          0.3535353535353536,
          0.36363636363636365,
          0.37373737373737376,
          0.38383838383838387,
          0.393939393939394,
          0.4040404040404041,
          0.4141414141414142,
          0.42424242424242425,
          0.43434343434343436,
          0.4444444444444445,
          0.4545454545454546,
          0.4646464646464647,
          0.4747474747474748,
          0.48484848484848486,
          0.494949494949495,
          0.5050505050505051,
          0.5151515151515152,
          0.5252525252525253,
          0.5353535353535354,
          0.5454545454545455,
          0.5555555555555556,
          0.5656565656565657,
          0.5757575757575758,
          0.5858585858585859,
          0.595959595959596,
          0.6060606060606061,
          0.6161616161616162,
          0.6262626262626263,
          0.6363636363636365,
          0.6464646464646465,
          0.6565656565656566,
          0.6666666666666667,
          0.6767676767676768,
          0.686868686868687,
          0.696969696969697,
          0.7070707070707072,
          0.7171717171717172,
          0.7272727272727273,
          0.7373737373737375,
          0.7474747474747475,
          0.7575757575757577,
          0.7676767676767677,
          0.7777777777777778,
          0.787878787878788,
          0.797979797979798,
          0.8080808080808082,
          0.8181818181818182,
          0.8282828282828284,
          0.8383838383838385,
          0.8484848484848485,
          0.8585858585858587,
          0.8686868686868687,
          0.8787878787878789,
          0.888888888888889,
          0.8989898989898991,
          0.9090909090909092,
          0.9191919191919192,
          0.9292929292929294,
          0.9393939393939394,
          0.9494949494949496,
          0.9595959595959597,
          0.9696969696969697,
          0.9797979797979799,
          0.98989898989899,
          1
         ],
         "xaxis": "x2",
         "y": [
          0.9970462103036994,
          0.94570460594294,
          0.9408409303911632,
          0.9706875585186842,
          1.0254514948907933,
          1.09708656697267,
          1.1790831145758347,
          1.266274358500097,
          1.3546586491020438,
          1.4412368132982196,
          1.5238638362882533,
          1.601114132060267,
          1.6721596745180336,
          1.7366602788464092,
          1.7946653405087014,
          1.846526357046719,
          1.8928195756313348,
          1.9342781270885254,
          1.971733024902905,
          2.006062425477934,
          2.0381485637090067,
          2.068841795702773,
          2.0989311982531547,
          2.129121192461563,
          2.1600136766659745,
          2.1920951716206183,
          2.2257284986450787,
          2.2611485292387625,
          2.2984615624338103,
          2.3376479039364995,
          2.3785672388845067,
          2.420966407824128,
          2.4644892132892933,
          2.508687902140343,
          2.5530359865988594,
          2.596942084690661,
          2.6397644785871996,
          2.680826107112186,
          2.7194297264573777,
          2.7548729909288534,
          2.786463223321489,
          2.813531662298191,
          2.835446991924382,
          2.8516279762892998,
          2.861555039919243,
          2.864780652467255,
          2.860938393939758,
          2.8497505944983264,
          2.831034460651216,
          2.804706617427212,
          2.7707860139007954,
          2.7293951572145394,
          2.680759658023529,
          2.6252060880601666,
          2.563158168299508,
          2.4951313239770694,
          2.421725660493837,
          2.3436174320148364,
          2.2615490923491968,
          2.176318035472602,
          2.088764150836848,
          1.999756336376104,
          1.9101781299137346,
          1.8209126374321702,
          1.7328269544614905,
          1.6467562946100094,
          1.5634880570348315,
          1.483746082442412,
          1.408175364966399,
          1.3373275050623443,
          1.2716472063301238,
          1.2114601369482243,
          1.1569624941917214,
          1.1082126282703415,
          1.0651250995123662,
          1.0274675606829413,
          0.9948608740187929,
          0.9667828903263684,
          0.9425763352725441,
          0.9214612657677947,
          0.9025525771351367,
          0.8848830595109876,
          0.8674325197291186,
          0.8491635026811792,
          0.8290641639699999,
          0.8061988633946557,
          0.7797670666437785,
          0.7491711602863468,
          0.7140938029836092,
          0.674585453585631,
          0.6311627345793367,
          0.5849183070884179,
          0.5376429514745762,
          0.4919605652856638,
          0.45147680814096824,
          0.42094214087058623,
          0.40643002404872886,
          0.41553105878039687,
          0.4575638704473639,
          0.543803553833691
         ],
         "yaxis": "y2"
        },
        {
         "line": {
          "color": "blue"
         },
         "mode": "lines",
         "name": "QR",
         "showlegend": false,
         "type": "scatter",
         "x": [
          0,
          0.010101010101010102,
          0.020202020202020204,
          0.030303030303030304,
          0.04040404040404041,
          0.05050505050505051,
          0.06060606060606061,
          0.07070707070707072,
          0.08080808080808081,
          0.09090909090909091,
          0.10101010101010102,
          0.11111111111111112,
          0.12121212121212122,
          0.13131313131313133,
          0.14141414141414144,
          0.15151515151515152,
          0.16161616161616163,
          0.17171717171717174,
          0.18181818181818182,
          0.19191919191919193,
          0.20202020202020204,
          0.21212121212121213,
          0.22222222222222224,
          0.23232323232323235,
          0.24242424242424243,
          0.25252525252525254,
          0.26262626262626265,
          0.27272727272727276,
          0.2828282828282829,
          0.29292929292929293,
          0.30303030303030304,
          0.31313131313131315,
          0.32323232323232326,
          0.33333333333333337,
          0.3434343434343435,
          0.3535353535353536,
          0.36363636363636365,
          0.37373737373737376,
          0.38383838383838387,
          0.393939393939394,
          0.4040404040404041,
          0.4141414141414142,
          0.42424242424242425,
          0.43434343434343436,
          0.4444444444444445,
          0.4545454545454546,
          0.4646464646464647,
          0.4747474747474748,
          0.48484848484848486,
          0.494949494949495,
          0.5050505050505051,
          0.5151515151515152,
          0.5252525252525253,
          0.5353535353535354,
          0.5454545454545455,
          0.5555555555555556,
          0.5656565656565657,
          0.5757575757575758,
          0.5858585858585859,
          0.595959595959596,
          0.6060606060606061,
          0.6161616161616162,
          0.6262626262626263,
          0.6363636363636365,
          0.6464646464646465,
          0.6565656565656566,
          0.6666666666666667,
          0.6767676767676768,
          0.686868686868687,
          0.696969696969697,
          0.7070707070707072,
          0.7171717171717172,
          0.7272727272727273,
          0.7373737373737375,
          0.7474747474747475,
          0.7575757575757577,
          0.7676767676767677,
          0.7777777777777778,
          0.787878787878788,
          0.797979797979798,
          0.8080808080808082,
          0.8181818181818182,
          0.8282828282828284,
          0.8383838383838385,
          0.8484848484848485,
          0.8585858585858587,
          0.8686868686868687,
          0.8787878787878789,
          0.888888888888889,
          0.8989898989898991,
          0.9090909090909092,
          0.9191919191919192,
          0.9292929292929294,
          0.9393939393939394,
          0.9494949494949496,
          0.9595959595959597,
          0.9696969696969697,
          0.9797979797979799,
          0.98989898989899,
          1
         ],
         "xaxis": "x2",
         "y": [
          0.9970478899733016,
          0.9457051005352213,
          0.9408406529529899,
          0.9706868302681143,
          1.0254505593280923,
          1.097085602468035,
          1.1790822455458976,
          1.2662736652801563,
          1.354658176615985,
          1.441236578623188,
          1.5238638352063547,
          1.6011143446849203,
          1.6721600700780122,
          1.7366608197061848,
          1.7946659854993463,
          1.8465270641773865,
          1.8928203042472478,
          1.9342788395373491,
          1.9717336877675267,
          2.0060630104298376,
          2.03814904803278,
          2.0688421625387257,
          2.098931436601504,
          2.1291212969883837,
          2.160013647347805,
          2.192095013261483,
          2.2257282202967246,
          2.2611481435519676,
          2.29846108496575,
          2.3376473524366563,
          2.3785666325787416,
          2.420965766714457,
          2.4644885574840676,
          2.5086872512277893,
          2.553035359074347,
          2.596941497446427,
          2.6397639464710188,
          2.680825642559782,
          2.719429339201888,
          2.7548726877886307,
          2.78646300806669,
          2.8135315355940005,
          2.8354469513496166,
          2.8516280164252223,
          2.861555152505012,
          2.8647808266157093,
          2.8609386164070587,
          2.8497508500004596,
          2.8310347322195955,
          2.8047068867947362,
          2.7707862619097567,
          2.7293953642381727,
          2.680759804391288,
          2.6252061544773553,
          2.5631581362533895,
          2.495131176119437,
          2.4217253809920662,
          2.3436170068626883,
          2.261548509630005,
          2.176317285568586,
          2.088763226575237,
          1.9997552331107031,
          1.9101768455332127,
          1.820911172296011,
          1.732825311256775,
          1.6467544781284515,
          1.5634860738760985,
          1.483743940637645,
          1.408173073529959,
          1.3373250734748063,
          1.2716446439623779,
          1.211457452431681,
          1.1569596947487373,
          1.1082097190159972,
          1.0651220827414536,
          1.0274644351653135,
          0.9948576343190151,
          0.9667795261701556,
          0.9425728309852248,
          0.9214575998191072,
          0.902548721812472,
          0.8848789807635127,
          0.8674281772086058,
          0.8491588500423587,
          0.8290591494453475,
          0.8061934307186857,
          0.7797611563507292,
          0.7491647114664812,
          0.7140867555287644,
          0.6745777510079912,
          0.6311543274493647,
          0.5849091571881606,
          0.5376330367091724,
          0.4919498854694554,
          0.45146539170609823,
          0.42093005262375927,
          0.4064173740131366,
          0.4155180122957325,
          0.45755065956814756,
          0.5437904901557086
         ],
         "yaxis": "y2"
        },
        {
         "marker": {
          "color": "black",
          "size": 3
         },
         "mode": "markers",
         "name": "Data vals",
         "showlegend": false,
         "type": "scatter",
         "x": [
          0,
          0.010101010101010102,
          0.020202020202020204,
          0.030303030303030304,
          0.04040404040404041,
          0.05050505050505051,
          0.06060606060606061,
          0.07070707070707072,
          0.08080808080808081,
          0.09090909090909091,
          0.10101010101010102,
          0.11111111111111112,
          0.12121212121212122,
          0.13131313131313133,
          0.14141414141414144,
          0.15151515151515152,
          0.16161616161616163,
          0.17171717171717174,
          0.18181818181818182,
          0.19191919191919193,
          0.20202020202020204,
          0.21212121212121213,
          0.22222222222222224,
          0.23232323232323235,
          0.24242424242424243,
          0.25252525252525254,
          0.26262626262626265,
          0.27272727272727276,
          0.2828282828282829,
          0.29292929292929293,
          0.30303030303030304,
          0.31313131313131315,
          0.32323232323232326,
          0.33333333333333337,
          0.3434343434343435,
          0.3535353535353536,
          0.36363636363636365,
          0.37373737373737376,
          0.38383838383838387,
          0.393939393939394,
          0.4040404040404041,
          0.4141414141414142,
          0.42424242424242425,
          0.43434343434343436,
          0.4444444444444445,
          0.4545454545454546,
          0.4646464646464647,
          0.4747474747474748,
          0.48484848484848486,
          0.494949494949495,
          0.5050505050505051,
          0.5151515151515152,
          0.5252525252525253,
          0.5353535353535354,
          0.5454545454545455,
          0.5555555555555556,
          0.5656565656565657,
          0.5757575757575758,
          0.5858585858585859,
          0.595959595959596,
          0.6060606060606061,
          0.6161616161616162,
          0.6262626262626263,
          0.6363636363636365,
          0.6464646464646465,
          0.6565656565656566,
          0.6666666666666667,
          0.6767676767676768,
          0.686868686868687,
          0.696969696969697,
          0.7070707070707072,
          0.7171717171717172,
          0.7272727272727273,
          0.7373737373737375,
          0.7474747474747475,
          0.7575757575757577,
          0.7676767676767677,
          0.7777777777777778,
          0.787878787878788,
          0.797979797979798,
          0.8080808080808082,
          0.8181818181818182,
          0.8282828282828284,
          0.8383838383838385,
          0.8484848484848485,
          0.8585858585858587,
          0.8686868686868687,
          0.8787878787878789,
          0.888888888888889,
          0.8989898989898991,
          0.9090909090909092,
          0.9191919191919192,
          0.9292929292929294,
          0.9393939393939394,
          0.9494949494949496,
          0.9595959595959597,
          0.9696969696969697,
          0.9797979797979799,
          0.98989898989899,
          1
         ],
         "xaxis": "x2",
         "y": [
          1.1001633025152375,
          1.1033680791541978,
          1.1321139228853518,
          0.4847517790304545,
          1.0289766390488952,
          0.751927064673495,
          0.7014163265606369,
          1.6218457324008386,
          1.540748280334422,
          1.6433608548800334,
          1.1009027262073836,
          2.1273392607698973,
          1.3700052113241175,
          2.6947949069271724,
          1.9345257765457595,
          1.8470219074990148,
          1.8188153921986787,
          2.861701765333228,
          1.1283751152803467,
          1.3360528510270007,
          1.865310030907325,
          1.9165314264655517,
          2.2804051105652277,
          1.1920606565000562,
          2.0319499114204778,
          2.6882815908134865,
          1.9864564874442805,
          2.2067250659662148,
          2.1734260736784448,
          3.1804554766220297,
          2.156066513233559,
          2.979340270596603,
          3.227113114612935,
          2.670167556828368,
          0.8631499220130763,
          2.7508721954913025,
          3.2187439849293984,
          2.165060928147345,
          3.861152284319245,
          2.85466265498644,
          3.3760460980645313,
          0.9525918352009284,
          2.3047119857048384,
          3.17578493426535,
          3.6583634270116696,
          3.2599122791918917,
          2.8316382208464663,
          2.5937155336016553,
          2.7765059268012324,
          3.0530889015531177,
          2.720924868546051,
          3.0789225755826193,
          1.9076631425411452,
          2.4665289763598257,
          1.7876178998840102,
          2.78278449030979,
          2.7173121995875054,
          2.1457769414127683,
          2.163122103272552,
          2.3460952975407827,
          1.46915134020289,
          2.3801311394078155,
          2.3263456323120115,
          2.019787751634754,
          2.106288067573277,
          1.2957490611501497,
          1.932806271243118,
          2.128947130943733,
          1.0878496703442975,
          1.2464043057880139,
          1.6912306469069112,
          0.7651223247974431,
          1.1481226877366406,
          0.8130614374131426,
          0.865619868106454,
          0.8359904024735231,
          0.7620523189880644,
          0.6351457919234095,
          1.3082307118502066,
          0.5631509135677591,
          1.2423069446159254,
          1.2124991167033485,
          1.0431958545542561,
          0.7158138052206954,
          1.103989834215397,
          0.8146121842985515,
          0.5901099906052781,
          0.6883467172435429,
          0.9057471100718268,
          0.5859430772699392,
          0.5877221860269222,
          0.7152603115516541,
          0.37999736413905605,
          0.273180443128889,
          0.3807294357991912,
          0.5321813439495799,
          0.505867587943727,
          0.4769113593437951,
          0.5902563648503992,
          0.38866283200173796
         ],
         "yaxis": "y2"
        },
        {
         "line": {
          "color": "red"
         },
         "mode": "lines",
         "name": "Least Squares",
         "showlegend": false,
         "type": "scatter",
         "x": [
          0,
          0.010101010101010102,
          0.020202020202020204,
          0.030303030303030304,
          0.04040404040404041,
          0.05050505050505051,
          0.06060606060606061,
          0.07070707070707072,
          0.08080808080808081,
          0.09090909090909091,
          0.10101010101010102,
          0.11111111111111112,
          0.12121212121212122,
          0.13131313131313133,
          0.14141414141414144,
          0.15151515151515152,
          0.16161616161616163,
          0.17171717171717174,
          0.18181818181818182,
          0.19191919191919193,
          0.20202020202020204,
          0.21212121212121213,
          0.22222222222222224,
          0.23232323232323235,
          0.24242424242424243,
          0.25252525252525254,
          0.26262626262626265,
          0.27272727272727276,
          0.2828282828282829,
          0.29292929292929293,
          0.30303030303030304,
          0.31313131313131315,
          0.32323232323232326,
          0.33333333333333337,
          0.3434343434343435,
          0.3535353535353536,
          0.36363636363636365,
          0.37373737373737376,
          0.38383838383838387,
          0.393939393939394,
          0.4040404040404041,
          0.4141414141414142,
          0.42424242424242425,
          0.43434343434343436,
          0.4444444444444445,
          0.4545454545454546,
          0.4646464646464647,
          0.4747474747474748,
          0.48484848484848486,
          0.494949494949495,
          0.5050505050505051,
          0.5151515151515152,
          0.5252525252525253,
          0.5353535353535354,
          0.5454545454545455,
          0.5555555555555556,
          0.5656565656565657,
          0.5757575757575758,
          0.5858585858585859,
          0.595959595959596,
          0.6060606060606061,
          0.6161616161616162,
          0.6262626262626263,
          0.6363636363636365,
          0.6464646464646465,
          0.6565656565656566,
          0.6666666666666667,
          0.6767676767676768,
          0.686868686868687,
          0.696969696969697,
          0.7070707070707072,
          0.7171717171717172,
          0.7272727272727273,
          0.7373737373737375,
          0.7474747474747475,
          0.7575757575757577,
          0.7676767676767677,
          0.7777777777777778,
          0.787878787878788,
          0.797979797979798,
          0.8080808080808082,
          0.8181818181818182,
          0.8282828282828284,
          0.8383838383838385,
          0.8484848484848485,
          0.8585858585858587,
          0.8686868686868687,
          0.8787878787878789,
          0.888888888888889,
          0.8989898989898991,
          0.9090909090909092,
          0.9191919191919192,
          0.9292929292929294,
          0.9393939393939394,
          0.9494949494949496,
          0.9595959595959597,
          0.9696969696969697,
          0.9797979797979799,
          0.98989898989899,
          1
         ],
         "xaxis": "x3",
         "y": [
          1.275401924173046,
          0.9403434049073967,
          0.7919172430205333,
          0.7754125967623716,
          0.8466870597390175,
          0.9709048420351153,
          1.1213287667572576,
          1.278175212862004,
          1.4275397110524963,
          1.5603994332153215,
          1.6716973351369648,
          1.7595112431556652,
          1.824309742053774,
          1.8682953457793918,
          1.8948341340658392,
          1.9079698337969908,
          1.9120192286085462,
          1.9112448056955746,
          1.9095997044880804,
          1.9105393245455529,
          1.9168933839532745,
          1.9307917964510528,
          1.9536374548894087,
          1.9861188675293984,
          2.0282555872077994,
          2.0794694945432806,
          2.138675236440634,
          2.204383469845439,
          2.2748110062955083,
          2.347992482415572,
          2.421888781252708,
          2.4944880846573647,
          2.5638961326885665,
          2.628412986898023,
          2.6865943249319733,
          2.7372960189907234,
          2.7797014555403163,
          2.813331724171097,
          2.83803942642285,
          2.8539874185840697,
          2.861614295073214,
          2.8615888315916083,
          2.854755932068983,
          2.842076854454332,
          2.824566623619088,
          2.803231572941489,
          2.7790098895928175,
          2.7527178743924985,
          2.7250043697441324,
          2.6963154652833468,
          2.6668711692285605,
          2.636655245049133,
          2.6054188708520405,
          2.572698197726516,
          2.537845279798048,
          2.5000712409140613,
          2.4584999502214506,
          2.412229921471103,
          2.3604016497698224,
          2.3022671756581587,
          2.2372583406824456,
          2.165049991060215,
          2.08561431552389,
          1.9992625864038076,
          1.9066708242032098,
          1.8088863356102198,
          1.707312690158382,
          1.6036715030876394,
          1.499940377102837,
          1.3982675124670143,
          1.3008648038400472,
          1.2098826750482607,
          1.1272714209489856,
          1.0546353772729613,
          0.9930877626428704,
          0.943115451900357,
          0.9044641535415909,
          0.8760553634031933,
          0.8559469215537636,
          0.8413488544590451,
          0.8287052675518618,
          0.8138511596626272,
          0.7922499348828322,
          0.7593128295204995,
          0.710795164500016,
          0.6432559513486727,
          0.554556564144512,
          0.44436054066460995,
          0.31457965215361994,
          0.16969069730656194,
          0.016822498124680285,
          -0.13451727967442562,
          -0.2732412317608053,
          -0.3882145762185054,
          -0.4707766508637867,
          -0.5185637614726761,
          -0.5410105995744054,
          -0.5669820917832094,
          -0.6550728399652133,
          -0.9072083955800281
         ],
         "yaxis": "y3"
        },
        {
         "line": {
          "color": "blue"
         },
         "mode": "lines",
         "name": "QR",
         "showlegend": false,
         "type": "scatter",
         "x": [
          0,
          0.010101010101010102,
          0.020202020202020204,
          0.030303030303030304,
          0.04040404040404041,
          0.05050505050505051,
          0.06060606060606061,
          0.07070707070707072,
          0.08080808080808081,
          0.09090909090909091,
          0.10101010101010102,
          0.11111111111111112,
          0.12121212121212122,
          0.13131313131313133,
          0.14141414141414144,
          0.15151515151515152,
          0.16161616161616163,
          0.17171717171717174,
          0.18181818181818182,
          0.19191919191919193,
          0.20202020202020204,
          0.21212121212121213,
          0.22222222222222224,
          0.23232323232323235,
          0.24242424242424243,
          0.25252525252525254,
          0.26262626262626265,
          0.27272727272727276,
          0.2828282828282829,
          0.29292929292929293,
          0.30303030303030304,
          0.31313131313131315,
          0.32323232323232326,
          0.33333333333333337,
          0.3434343434343435,
          0.3535353535353536,
          0.36363636363636365,
          0.37373737373737376,
          0.38383838383838387,
          0.393939393939394,
          0.4040404040404041,
          0.4141414141414142,
          0.42424242424242425,
          0.43434343434343436,
          0.4444444444444445,
          0.4545454545454546,
          0.4646464646464647,
          0.4747474747474748,
          0.48484848484848486,
          0.494949494949495,
          0.5050505050505051,
          0.5151515151515152,
          0.5252525252525253,
          0.5353535353535354,
          0.5454545454545455,
          0.5555555555555556,
          0.5656565656565657,
          0.5757575757575758,
          0.5858585858585859,
          0.595959595959596,
          0.6060606060606061,
          0.6161616161616162,
          0.6262626262626263,
          0.6363636363636365,
          0.6464646464646465,
          0.6565656565656566,
          0.6666666666666667,
          0.6767676767676768,
          0.686868686868687,
          0.696969696969697,
          0.7070707070707072,
          0.7171717171717172,
          0.7272727272727273,
          0.7373737373737375,
          0.7474747474747475,
          0.7575757575757577,
          0.7676767676767677,
          0.7777777777777778,
          0.787878787878788,
          0.797979797979798,
          0.8080808080808082,
          0.8181818181818182,
          0.8282828282828284,
          0.8383838383838385,
          0.8484848484848485,
          0.8585858585858587,
          0.8686868686868687,
          0.8787878787878789,
          0.888888888888889,
          0.8989898989898991,
          0.9090909090909092,
          0.9191919191919192,
          0.9292929292929294,
          0.9393939393939394,
          0.9494949494949496,
          0.9595959595959597,
          0.9696969696969697,
          0.9797979797979799,
          0.98989898989899,
          1
         ],
         "xaxis": "x3",
         "y": [
          1.1525149868612359,
          1.0664965028955482,
          0.9131251105316991,
          0.809636119343928,
          0.7978660959667505,
          0.8764472572493958,
          1.0226371916884132,
          1.206422902905803,
          1.3989973690453852,
          1.5772552167912068,
          1.7255800422657137,
          1.8358888730464153,
          1.9066498453543428,
          1.9413889653074012,
          1.9470433600426897,
          1.932395086360931,
          1.906725519789925,
          1.8787604831172913,
          1.8559261341615803,
          1.8439013582368027,
          1.8464306825728505,
          1.8653497171401408,
          1.9007704368425373,
          1.9513742542024395,
          2.01476513895701,
          2.0878416797035406,
          2.167154882626984,
          2.249226829767673,
          2.3308134453652256,
          2.4091020897644486,
          2.4818412107814853,
          2.547404650213424,
          2.6047973478545563,
          2.653612107319411,
          2.6939488504711457,
          2.7263085015204274,
          2.7514734498680022,
          2.7703856082900273,
          2.7840315817374846,
          2.7933425682057917,
          2.7991144929704355,
          2.8019516883210294,
          2.802235307833312,
          2.8001157266180328,
          2.7955265176545976,
          2.788216281906295,
          2.7777936850261007,
          2.763780539918355,
          2.7456676701439737,
          2.7229685581306717,
          2.695266399666159,
          2.6622510711437712,
          2.623743617226917,
          2.579707086211339,
          2.530243804166325,
          2.4755804026864143,
          2.416042996742431,
          2.3520258068566244,
          2.283957124009299,
          2.212266828942915,
          2.137359602687812,
          2.059597547953494,
          1.9792951574879862,
          1.8967284278475294,
          1.8121585408570045,
          1.7258689205116728,
          1.6382127859225881,
          1.5496666300788475,
          1.460883549307065,
          1.3727390969217683,
          1.2863615791773304,
          1.2031385832294161,
          1.1246920409242305,
          1.052815699446434,
          0.9893711771903477,
          0.9361423337427717,
          0.8946519473511856,
          0.8659501310274232,
          0.8503896922080216,
          0.8474102034389243,
          0.8553584660075586,
          0.8713786099163772,
          0.8914090552479664,
          0.9103241852045041,
          0.922256293614053,
          0.9211240106123562,
          0.9013776743270354,
          0.8589452837244818,
          0.7923231478834939,
          0.7037000626750203,
          0.5999276106433152,
          0.4930491055917232,
          0.399969714633995,
          0.34068441162906904,
          0.3342735558617146,
          0.39161837147954137,
          0.5034737626696392,
          0.6221542471867906,
          0.6346282654428765,
          0.3242678080407142
         ],
         "yaxis": "y3"
        },
        {
         "marker": {
          "color": "black",
          "size": 3
         },
         "mode": "markers",
         "name": "Data vals",
         "showlegend": false,
         "type": "scatter",
         "x": [
          0,
          0.010101010101010102,
          0.020202020202020204,
          0.030303030303030304,
          0.04040404040404041,
          0.05050505050505051,
          0.06060606060606061,
          0.07070707070707072,
          0.08080808080808081,
          0.09090909090909091,
          0.10101010101010102,
          0.11111111111111112,
          0.12121212121212122,
          0.13131313131313133,
          0.14141414141414144,
          0.15151515151515152,
          0.16161616161616163,
          0.17171717171717174,
          0.18181818181818182,
          0.19191919191919193,
          0.20202020202020204,
          0.21212121212121213,
          0.22222222222222224,
          0.23232323232323235,
          0.24242424242424243,
          0.25252525252525254,
          0.26262626262626265,
          0.27272727272727276,
          0.2828282828282829,
          0.29292929292929293,
          0.30303030303030304,
          0.31313131313131315,
          0.32323232323232326,
          0.33333333333333337,
          0.3434343434343435,
          0.3535353535353536,
          0.36363636363636365,
          0.37373737373737376,
          0.38383838383838387,
          0.393939393939394,
          0.4040404040404041,
          0.4141414141414142,
          0.42424242424242425,
          0.43434343434343436,
          0.4444444444444445,
          0.4545454545454546,
          0.4646464646464647,
          0.4747474747474748,
          0.48484848484848486,
          0.494949494949495,
          0.5050505050505051,
          0.5151515151515152,
          0.5252525252525253,
          0.5353535353535354,
          0.5454545454545455,
          0.5555555555555556,
          0.5656565656565657,
          0.5757575757575758,
          0.5858585858585859,
          0.595959595959596,
          0.6060606060606061,
          0.6161616161616162,
          0.6262626262626263,
          0.6363636363636365,
          0.6464646464646465,
          0.6565656565656566,
          0.6666666666666667,
          0.6767676767676768,
          0.686868686868687,
          0.696969696969697,
          0.7070707070707072,
          0.7171717171717172,
          0.7272727272727273,
          0.7373737373737375,
          0.7474747474747475,
          0.7575757575757577,
          0.7676767676767677,
          0.7777777777777778,
          0.787878787878788,
          0.797979797979798,
          0.8080808080808082,
          0.8181818181818182,
          0.8282828282828284,
          0.8383838383838385,
          0.8484848484848485,
          0.8585858585858587,
          0.8686868686868687,
          0.8787878787878789,
          0.888888888888889,
          0.8989898989898991,
          0.9090909090909092,
          0.9191919191919192,
          0.9292929292929294,
          0.9393939393939394,
          0.9494949494949496,
          0.9595959595959597,
          0.9696969696969697,
          0.9797979797979799,
          0.98989898989899,
          1
         ],
         "xaxis": "x3",
         "y": [
          1.1001633025152375,
          1.1033680791541978,
          1.1321139228853518,
          0.4847517790304545,
          1.0289766390488952,
          0.751927064673495,
          0.7014163265606369,
          1.6218457324008386,
          1.540748280334422,
          1.6433608548800334,
          1.1009027262073836,
          2.1273392607698973,
          1.3700052113241175,
          2.6947949069271724,
          1.9345257765457595,
          1.8470219074990148,
          1.8188153921986787,
          2.861701765333228,
          1.1283751152803467,
          1.3360528510270007,
          1.865310030907325,
          1.9165314264655517,
          2.2804051105652277,
          1.1920606565000562,
          2.0319499114204778,
          2.6882815908134865,
          1.9864564874442805,
          2.2067250659662148,
          2.1734260736784448,
          3.1804554766220297,
          2.156066513233559,
          2.979340270596603,
          3.227113114612935,
          2.670167556828368,
          0.8631499220130763,
          2.7508721954913025,
          3.2187439849293984,
          2.165060928147345,
          3.861152284319245,
          2.85466265498644,
          3.3760460980645313,
          0.9525918352009284,
          2.3047119857048384,
          3.17578493426535,
          3.6583634270116696,
          3.2599122791918917,
          2.8316382208464663,
          2.5937155336016553,
          2.7765059268012324,
          3.0530889015531177,
          2.720924868546051,
          3.0789225755826193,
          1.9076631425411452,
          2.4665289763598257,
          1.7876178998840102,
          2.78278449030979,
          2.7173121995875054,
          2.1457769414127683,
          2.163122103272552,
          2.3460952975407827,
          1.46915134020289,
          2.3801311394078155,
          2.3263456323120115,
          2.019787751634754,
          2.106288067573277,
          1.2957490611501497,
          1.932806271243118,
          2.128947130943733,
          1.0878496703442975,
          1.2464043057880139,
          1.6912306469069112,
          0.7651223247974431,
          1.1481226877366406,
          0.8130614374131426,
          0.865619868106454,
          0.8359904024735231,
          0.7620523189880644,
          0.6351457919234095,
          1.3082307118502066,
          0.5631509135677591,
          1.2423069446159254,
          1.2124991167033485,
          1.0431958545542561,
          0.7158138052206954,
          1.103989834215397,
          0.8146121842985515,
          0.5901099906052781,
          0.6883467172435429,
          0.9057471100718268,
          0.5859430772699392,
          0.5877221860269222,
          0.7152603115516541,
          0.37999736413905605,
          0.273180443128889,
          0.3807294357991912,
          0.5321813439495799,
          0.505867587943727,
          0.4769113593437951,
          0.5902563648503992,
          0.38866283200173796
         ],
         "yaxis": "y3"
        },
        {
         "line": {
          "color": "red"
         },
         "mode": "lines",
         "name": "Least Squares",
         "showlegend": false,
         "type": "scatter",
         "x": [
          0,
          0.010101010101010102,
          0.020202020202020204,
          0.030303030303030304,
          0.04040404040404041,
          0.05050505050505051,
          0.06060606060606061,
          0.07070707070707072,
          0.08080808080808081,
          0.09090909090909091,
          0.10101010101010102,
          0.11111111111111112,
          0.12121212121212122,
          0.13131313131313133,
          0.14141414141414144,
          0.15151515151515152,
          0.16161616161616163,
          0.17171717171717174,
          0.18181818181818182,
          0.19191919191919193,
          0.20202020202020204,
          0.21212121212121213,
          0.22222222222222224,
          0.23232323232323235,
          0.24242424242424243,
          0.25252525252525254,
          0.26262626262626265,
          0.27272727272727276,
          0.2828282828282829,
          0.29292929292929293,
          0.30303030303030304,
          0.31313131313131315,
          0.32323232323232326,
          0.33333333333333337,
          0.3434343434343435,
          0.3535353535353536,
          0.36363636363636365,
          0.37373737373737376,
          0.38383838383838387,
          0.393939393939394,
          0.4040404040404041,
          0.4141414141414142,
          0.42424242424242425,
          0.43434343434343436,
          0.4444444444444445,
          0.4545454545454546,
          0.4646464646464647,
          0.4747474747474748,
          0.48484848484848486,
          0.494949494949495,
          0.5050505050505051,
          0.5151515151515152,
          0.5252525252525253,
          0.5353535353535354,
          0.5454545454545455,
          0.5555555555555556,
          0.5656565656565657,
          0.5757575757575758,
          0.5858585858585859,
          0.595959595959596,
          0.6060606060606061,
          0.6161616161616162,
          0.6262626262626263,
          0.6363636363636365,
          0.6464646464646465,
          0.6565656565656566,
          0.6666666666666667,
          0.6767676767676768,
          0.686868686868687,
          0.696969696969697,
          0.7070707070707072,
          0.7171717171717172,
          0.7272727272727273,
          0.7373737373737375,
          0.7474747474747475,
          0.7575757575757577,
          0.7676767676767677,
          0.7777777777777778,
          0.787878787878788,
          0.797979797979798,
          0.8080808080808082,
          0.8181818181818182,
          0.8282828282828284,
          0.8383838383838385,
          0.8484848484848485,
          0.8585858585858587,
          0.8686868686868687,
          0.8787878787878789,
          0.888888888888889,
          0.8989898989898991,
          0.9090909090909092,
          0.9191919191919192,
          0.9292929292929294,
          0.9393939393939394,
          0.9494949494949496,
          0.9595959595959597,
          0.9696969696969697,
          0.9797979797979799,
          0.98989898989899,
          1
         ],
         "xaxis": "x4",
         "y": [
          1.3432672086348898,
          0.9035928811508458,
          0.7309966027351303,
          0.7305940804892512,
          0.832318648667143,
          0.985975210765742,
          1.157027091072509,
          1.3230451416162803,
          1.4707500935948508,
          1.5935814831764505,
          1.6897294154993248,
          1.7605688566286555,
          1.8094399641129022,
          1.8407220899991565,
          1.8591534278791682,
          1.8693527449510738,
          1.875504163703138,
          1.8811704637057423,
          1.8892047959960716,
          1.9017349805925043,
          1.9201986380975153,
          1.9454112421316565,
          1.9776527304687561,
          2.0167615464790627,
          2.062227873636837,
          2.1132803569759613,
          2.168962766927683,
          2.2281988513131274,
          2.289845046596874,
          2.352731793673041,
          2.415694947484163,
          2.477599211458913,
          2.537355700811962,
          2.5939356820091897,
          2.6463822920385893,
          2.6938216562009014,
          2.735474344124419,
          2.7706675777839584,
          2.798848078146801,
          2.8195949513607106,
          2.83263160915236,
          2.8378354234167533,
          2.835243656534639,
          2.8250542029072823,
          2.8076198304810154,
          2.783434920356849,
          2.7531141547872764,
          2.717363175489334,
          2.6769418926329145,
          2.632621828926834,
          2.5851395854646206,
          2.5351491635977297,
          2.4831764157405334,
          2.429579273677634,
          2.3745175652076256,
          2.3179361368687132,
          2.2595646189778646,
          2.1989364829803884,
          2.1354290491159467,
          2.0683248257876703,
          1.9968930434142331,
          1.9204885518919008,
          1.8386634733749254,
          1.751285253566394,
          1.6586531699992848,
          1.5616040815580545,
          1.4615973987031723,
          1.3607690729863957,
          1.2619449927390096,
          1.168605649315998,
          1.0847963821905209,
          1.0149809468841513,
          0.9638405210560914,
          0.9360254302502691,
          0.9358725782133634,
          0.9671074340714645,
          1.0325549481080165,
          1.1338882986511576,
          1.27144714469979,
          1.4441571974416523,
          1.649579502838392,
          1.8841099038383202,
          2.1433359107110004,
          2.42253904988205,
          2.7173055175917016,
          3.0241771391409467,
          3.3412396849879586,
          3.6685093868463348,
          4.007945769806321,
          4.362896876779983,
          4.73678215232567,
          5.1308533393775075,
          5.54096477126499,
          5.953458080929727,
          6.340557601154911,
          6.656126691847011,
          6.83330957023754,
          6.786550480439081,
          6.421833128082046,
          5.660830676516644
         ],
         "yaxis": "y4"
        },
        {
         "line": {
          "color": "blue"
         },
         "mode": "lines",
         "name": "QR",
         "showlegend": false,
         "type": "scatter",
         "x": [
          0,
          0.010101010101010102,
          0.020202020202020204,
          0.030303030303030304,
          0.04040404040404041,
          0.05050505050505051,
          0.06060606060606061,
          0.07070707070707072,
          0.08080808080808081,
          0.09090909090909091,
          0.10101010101010102,
          0.11111111111111112,
          0.12121212121212122,
          0.13131313131313133,
          0.14141414141414144,
          0.15151515151515152,
          0.16161616161616163,
          0.17171717171717174,
          0.18181818181818182,
          0.19191919191919193,
          0.20202020202020204,
          0.21212121212121213,
          0.22222222222222224,
          0.23232323232323235,
          0.24242424242424243,
          0.25252525252525254,
          0.26262626262626265,
          0.27272727272727276,
          0.2828282828282829,
          0.29292929292929293,
          0.30303030303030304,
          0.31313131313131315,
          0.32323232323232326,
          0.33333333333333337,
          0.3434343434343435,
          0.3535353535353536,
          0.36363636363636365,
          0.37373737373737376,
          0.38383838383838387,
          0.393939393939394,
          0.4040404040404041,
          0.4141414141414142,
          0.42424242424242425,
          0.43434343434343436,
          0.4444444444444445,
          0.4545454545454546,
          0.4646464646464647,
          0.4747474747474748,
          0.48484848484848486,
          0.494949494949495,
          0.5050505050505051,
          0.5151515151515152,
          0.5252525252525253,
          0.5353535353535354,
          0.5454545454545455,
          0.5555555555555556,
          0.5656565656565657,
          0.5757575757575758,
          0.5858585858585859,
          0.595959595959596,
          0.6060606060606061,
          0.6161616161616162,
          0.6262626262626263,
          0.6363636363636365,
          0.6464646464646465,
          0.6565656565656566,
          0.6666666666666667,
          0.6767676767676768,
          0.686868686868687,
          0.696969696969697,
          0.7070707070707072,
          0.7171717171717172,
          0.7272727272727273,
          0.7373737373737375,
          0.7474747474747475,
          0.7575757575757577,
          0.7676767676767677,
          0.7777777777777778,
          0.787878787878788,
          0.797979797979798,
          0.8080808080808082,
          0.8181818181818182,
          0.8282828282828284,
          0.8383838383838385,
          0.8484848484848485,
          0.8585858585858587,
          0.8686868686868687,
          0.8787878787878789,
          0.888888888888889,
          0.8989898989898991,
          0.9090909090909092,
          0.9191919191919192,
          0.9292929292929294,
          0.9393939393939394,
          0.9494949494949496,
          0.9595959595959597,
          0.9696969696969697,
          0.9797979797979799,
          0.98989898989899,
          1
         ],
         "xaxis": "x4",
         "y": [
          1.07198796518672,
          1.2372680978577848,
          0.8801116943344003,
          0.7190402460107639,
          0.7717915258483503,
          0.9174394604285595,
          1.074257960398677,
          1.219262619941527,
          1.3605021329347202,
          1.5090448272229968,
          1.6646675232897925,
          1.8145392458033707,
          1.9393823225625282,
          2.0215746048343344,
          2.051466478248328,
          2.0302564141121326,
          1.9693927044115846,
          1.8874396293102935,
          1.805716480712419,
          1.7439500415995086,
          1.7168590946617395,
          1.7321723085759926,
          1.7901836094821229,
          1.8846406935305666,
          2.0045713921532746,
          2.1365780234293146,
          2.2671515083579843,
          2.3846453870159197,
          2.4806737130723344,
          2.5508283901730002,
          2.594729487332465,
          2.615512834445404,
          2.6189164764120987,
          2.612151106093301,
          2.602734248016725,
          2.5974405320236986,
          2.601479424486342,
          2.6179658320584114,
          2.6477033655431015,
          2.68926254768542,
          2.739306265842221,
          2.793096967560217,
          2.8451120959418184,
          2.889693340105709,
          2.9216654334910794,
          2.9368682787661435,
          2.932561204095898,
          2.907673109062039,
          2.8628872742126026,
          2.8005545848956785,
          2.7244546444961095,
          2.6394200613298793,
          2.5508556649857193,
          2.46419379666283,
          2.3843296616324183,
          2.315091946339444,
          2.2587876904088877,
          2.215888182413919,
          2.184907932038136,
          2.1624527254578982,
          2.143543164392607,
          2.1220923360103816,
          2.0916381870693708,
          2.046104089794836,
          1.980679928614212,
          1.8925660552960468,
          1.7816311451758824,
          1.650623504437244,
          1.5052354081888437,
          1.3536925457749192,
          1.205743455863554,
          1.0717630051447353,
          0.9612756006286113,
          0.8815675694512699,
          0.8363747668758874,
          0.8253974992976671,
          0.8440655128398005,
          0.8836344015417882,
          0.9326163210877034,
          0.9788762889763858,
          1.011167623450308,
          1.0211401175541484,
          1.005833730740228,
          0.9673405614222887,
          0.9108664385759062,
          0.8481134164533664,
          0.7866881438844517,
          0.7329591942831997,
          0.6879529805170344,
          0.6451387162599566,
          0.5989479116034699,
          0.53976185360847,
          0.46873631145991634,
          0.40356233633057115,
          0.37217033377874087,
          0.39838795965315477,
          0.48452809302682576,
          0.5647812280857287,
          0.5372927068096983,
          0.38876727953154777
         ],
         "yaxis": "y4"
        },
        {
         "marker": {
          "color": "black",
          "size": 3
         },
         "mode": "markers",
         "name": "Data vals",
         "showlegend": false,
         "type": "scatter",
         "x": [
          0,
          0.010101010101010102,
          0.020202020202020204,
          0.030303030303030304,
          0.04040404040404041,
          0.05050505050505051,
          0.06060606060606061,
          0.07070707070707072,
          0.08080808080808081,
          0.09090909090909091,
          0.10101010101010102,
          0.11111111111111112,
          0.12121212121212122,
          0.13131313131313133,
          0.14141414141414144,
          0.15151515151515152,
          0.16161616161616163,
          0.17171717171717174,
          0.18181818181818182,
          0.19191919191919193,
          0.20202020202020204,
          0.21212121212121213,
          0.22222222222222224,
          0.23232323232323235,
          0.24242424242424243,
          0.25252525252525254,
          0.26262626262626265,
          0.27272727272727276,
          0.2828282828282829,
          0.29292929292929293,
          0.30303030303030304,
          0.31313131313131315,
          0.32323232323232326,
          0.33333333333333337,
          0.3434343434343435,
          0.3535353535353536,
          0.36363636363636365,
          0.37373737373737376,
          0.38383838383838387,
          0.393939393939394,
          0.4040404040404041,
          0.4141414141414142,
          0.42424242424242425,
          0.43434343434343436,
          0.4444444444444445,
          0.4545454545454546,
          0.4646464646464647,
          0.4747474747474748,
          0.48484848484848486,
          0.494949494949495,
          0.5050505050505051,
          0.5151515151515152,
          0.5252525252525253,
          0.5353535353535354,
          0.5454545454545455,
          0.5555555555555556,
          0.5656565656565657,
          0.5757575757575758,
          0.5858585858585859,
          0.595959595959596,
          0.6060606060606061,
          0.6161616161616162,
          0.6262626262626263,
          0.6363636363636365,
          0.6464646464646465,
          0.6565656565656566,
          0.6666666666666667,
          0.6767676767676768,
          0.686868686868687,
          0.696969696969697,
          0.7070707070707072,
          0.7171717171717172,
          0.7272727272727273,
          0.7373737373737375,
          0.7474747474747475,
          0.7575757575757577,
          0.7676767676767677,
          0.7777777777777778,
          0.787878787878788,
          0.797979797979798,
          0.8080808080808082,
          0.8181818181818182,
          0.8282828282828284,
          0.8383838383838385,
          0.8484848484848485,
          0.8585858585858587,
          0.8686868686868687,
          0.8787878787878789,
          0.888888888888889,
          0.8989898989898991,
          0.9090909090909092,
          0.9191919191919192,
          0.9292929292929294,
          0.9393939393939394,
          0.9494949494949496,
          0.9595959595959597,
          0.9696969696969697,
          0.9797979797979799,
          0.98989898989899,
          1
         ],
         "xaxis": "x4",
         "y": [
          1.1001633025152375,
          1.1033680791541978,
          1.1321139228853518,
          0.4847517790304545,
          1.0289766390488952,
          0.751927064673495,
          0.7014163265606369,
          1.6218457324008386,
          1.540748280334422,
          1.6433608548800334,
          1.1009027262073836,
          2.1273392607698973,
          1.3700052113241175,
          2.6947949069271724,
          1.9345257765457595,
          1.8470219074990148,
          1.8188153921986787,
          2.861701765333228,
          1.1283751152803467,
          1.3360528510270007,
          1.865310030907325,
          1.9165314264655517,
          2.2804051105652277,
          1.1920606565000562,
          2.0319499114204778,
          2.6882815908134865,
          1.9864564874442805,
          2.2067250659662148,
          2.1734260736784448,
          3.1804554766220297,
          2.156066513233559,
          2.979340270596603,
          3.227113114612935,
          2.670167556828368,
          0.8631499220130763,
          2.7508721954913025,
          3.2187439849293984,
          2.165060928147345,
          3.861152284319245,
          2.85466265498644,
          3.3760460980645313,
          0.9525918352009284,
          2.3047119857048384,
          3.17578493426535,
          3.6583634270116696,
          3.2599122791918917,
          2.8316382208464663,
          2.5937155336016553,
          2.7765059268012324,
          3.0530889015531177,
          2.720924868546051,
          3.0789225755826193,
          1.9076631425411452,
          2.4665289763598257,
          1.7876178998840102,
          2.78278449030979,
          2.7173121995875054,
          2.1457769414127683,
          2.163122103272552,
          2.3460952975407827,
          1.46915134020289,
          2.3801311394078155,
          2.3263456323120115,
          2.019787751634754,
          2.106288067573277,
          1.2957490611501497,
          1.932806271243118,
          2.128947130943733,
          1.0878496703442975,
          1.2464043057880139,
          1.6912306469069112,
          0.7651223247974431,
          1.1481226877366406,
          0.8130614374131426,
          0.865619868106454,
          0.8359904024735231,
          0.7620523189880644,
          0.6351457919234095,
          1.3082307118502066,
          0.5631509135677591,
          1.2423069446159254,
          1.2124991167033485,
          1.0431958545542561,
          0.7158138052206954,
          1.103989834215397,
          0.8146121842985515,
          0.5901099906052781,
          0.6883467172435429,
          0.9057471100718268,
          0.5859430772699392,
          0.5877221860269222,
          0.7152603115516541,
          0.37999736413905605,
          0.273180443128889,
          0.3807294357991912,
          0.5321813439495799,
          0.505867587943727,
          0.4769113593437951,
          0.5902563648503992,
          0.38866283200173796
         ],
         "yaxis": "y4"
        }
       ],
       "layout": {
        "annotations": [
         {
          "font": {
           "size": 16
          },
          "showarrow": false,
          "text": "n=4",
          "x": 0.10625,
          "xanchor": "center",
          "xref": "paper",
          "y": 1,
          "yanchor": "bottom",
          "yref": "paper"
         },
         {
          "font": {
           "size": 16
          },
          "showarrow": false,
          "text": "n=8",
          "x": 0.36875,
          "xanchor": "center",
          "xref": "paper",
          "y": 1,
          "yanchor": "bottom",
          "yref": "paper"
         },
         {
          "font": {
           "size": 16
          },
          "showarrow": false,
          "text": "n=14",
          "x": 0.6312500000000001,
          "xanchor": "center",
          "xref": "paper",
          "y": 1,
          "yanchor": "bottom",
          "yref": "paper"
         },
         {
          "font": {
           "size": 16
          },
          "showarrow": false,
          "text": "n=21",
          "x": 0.89375,
          "xanchor": "center",
          "xref": "paper",
          "y": 1,
          "yanchor": "bottom",
          "yref": "paper"
         }
        ],
        "template": {
         "data": {
          "bar": [
           {
            "error_x": {
             "color": "#2a3f5f"
            },
            "error_y": {
             "color": "#2a3f5f"
            },
            "marker": {
             "line": {
              "color": "#E5ECF6",
              "width": 0.5
             },
             "pattern": {
              "fillmode": "overlay",
              "size": 10,
              "solidity": 0.2
             }
            },
            "type": "bar"
           }
          ],
          "barpolar": [
           {
            "marker": {
             "line": {
              "color": "#E5ECF6",
              "width": 0.5
             },
             "pattern": {
              "fillmode": "overlay",
              "size": 10,
              "solidity": 0.2
             }
            },
            "type": "barpolar"
           }
          ],
          "carpet": [
           {
            "aaxis": {
             "endlinecolor": "#2a3f5f",
             "gridcolor": "white",
             "linecolor": "white",
             "minorgridcolor": "white",
             "startlinecolor": "#2a3f5f"
            },
            "baxis": {
             "endlinecolor": "#2a3f5f",
             "gridcolor": "white",
             "linecolor": "white",
             "minorgridcolor": "white",
             "startlinecolor": "#2a3f5f"
            },
            "type": "carpet"
           }
          ],
          "choropleth": [
           {
            "colorbar": {
             "outlinewidth": 0,
             "ticks": ""
            },
            "type": "choropleth"
           }
          ],
          "contour": [
           {
            "colorbar": {
             "outlinewidth": 0,
             "ticks": ""
            },
            "colorscale": [
             [
              0,
              "#0d0887"
             ],
             [
              0.1111111111111111,
              "#46039f"
             ],
             [
              0.2222222222222222,
              "#7201a8"
             ],
             [
              0.3333333333333333,
              "#9c179e"
             ],
             [
              0.4444444444444444,
              "#bd3786"
             ],
             [
              0.5555555555555556,
              "#d8576b"
             ],
             [
              0.6666666666666666,
              "#ed7953"
             ],
             [
              0.7777777777777778,
              "#fb9f3a"
             ],
             [
              0.8888888888888888,
              "#fdca26"
             ],
             [
              1,
              "#f0f921"
             ]
            ],
            "type": "contour"
           }
          ],
          "contourcarpet": [
           {
            "colorbar": {
             "outlinewidth": 0,
             "ticks": ""
            },
            "type": "contourcarpet"
           }
          ],
          "heatmap": [
           {
            "colorbar": {
             "outlinewidth": 0,
             "ticks": ""
            },
            "colorscale": [
             [
              0,
              "#0d0887"
             ],
             [
              0.1111111111111111,
              "#46039f"
             ],
             [
              0.2222222222222222,
              "#7201a8"
             ],
             [
              0.3333333333333333,
              "#9c179e"
             ],
             [
              0.4444444444444444,
              "#bd3786"
             ],
             [
              0.5555555555555556,
              "#d8576b"
             ],
             [
              0.6666666666666666,
              "#ed7953"
             ],
             [
              0.7777777777777778,
              "#fb9f3a"
             ],
             [
              0.8888888888888888,
              "#fdca26"
             ],
             [
              1,
              "#f0f921"
             ]
            ],
            "type": "heatmap"
           }
          ],
          "heatmapgl": [
           {
            "colorbar": {
             "outlinewidth": 0,
             "ticks": ""
            },
            "colorscale": [
             [
              0,
              "#0d0887"
             ],
             [
              0.1111111111111111,
              "#46039f"
             ],
             [
              0.2222222222222222,
              "#7201a8"
             ],
             [
              0.3333333333333333,
              "#9c179e"
             ],
             [
              0.4444444444444444,
              "#bd3786"
             ],
             [
              0.5555555555555556,
              "#d8576b"
             ],
             [
              0.6666666666666666,
              "#ed7953"
             ],
             [
              0.7777777777777778,
              "#fb9f3a"
             ],
             [
              0.8888888888888888,
              "#fdca26"
             ],
             [
              1,
              "#f0f921"
             ]
            ],
            "type": "heatmapgl"
           }
          ],
          "histogram": [
           {
            "marker": {
             "pattern": {
              "fillmode": "overlay",
              "size": 10,
              "solidity": 0.2
             }
            },
            "type": "histogram"
           }
          ],
          "histogram2d": [
           {
            "colorbar": {
             "outlinewidth": 0,
             "ticks": ""
            },
            "colorscale": [
             [
              0,
              "#0d0887"
             ],
             [
              0.1111111111111111,
              "#46039f"
             ],
             [
              0.2222222222222222,
              "#7201a8"
             ],
             [
              0.3333333333333333,
              "#9c179e"
             ],
             [
              0.4444444444444444,
              "#bd3786"
             ],
             [
              0.5555555555555556,
              "#d8576b"
             ],
             [
              0.6666666666666666,
              "#ed7953"
             ],
             [
              0.7777777777777778,
              "#fb9f3a"
             ],
             [
              0.8888888888888888,
              "#fdca26"
             ],
             [
              1,
              "#f0f921"
             ]
            ],
            "type": "histogram2d"
           }
          ],
          "histogram2dcontour": [
           {
            "colorbar": {
             "outlinewidth": 0,
             "ticks": ""
            },
            "colorscale": [
             [
              0,
              "#0d0887"
             ],
             [
              0.1111111111111111,
              "#46039f"
             ],
             [
              0.2222222222222222,
              "#7201a8"
             ],
             [
              0.3333333333333333,
              "#9c179e"
             ],
             [
              0.4444444444444444,
              "#bd3786"
             ],
             [
              0.5555555555555556,
              "#d8576b"
             ],
             [
              0.6666666666666666,
              "#ed7953"
             ],
             [
              0.7777777777777778,
              "#fb9f3a"
             ],
             [
              0.8888888888888888,
              "#fdca26"
             ],
             [
              1,
              "#f0f921"
             ]
            ],
            "type": "histogram2dcontour"
           }
          ],
          "mesh3d": [
           {
            "colorbar": {
             "outlinewidth": 0,
             "ticks": ""
            },
            "type": "mesh3d"
           }
          ],
          "parcoords": [
           {
            "line": {
             "colorbar": {
              "outlinewidth": 0,
              "ticks": ""
             }
            },
            "type": "parcoords"
           }
          ],
          "pie": [
           {
            "automargin": true,
            "type": "pie"
           }
          ],
          "scatter": [
           {
            "fillpattern": {
             "fillmode": "overlay",
             "size": 10,
             "solidity": 0.2
            },
            "type": "scatter"
           }
          ],
          "scatter3d": [
           {
            "line": {
             "colorbar": {
              "outlinewidth": 0,
              "ticks": ""
             }
            },
            "marker": {
             "colorbar": {
              "outlinewidth": 0,
              "ticks": ""
             }
            },
            "type": "scatter3d"
           }
          ],
          "scattercarpet": [
           {
            "marker": {
             "colorbar": {
              "outlinewidth": 0,
              "ticks": ""
             }
            },
            "type": "scattercarpet"
           }
          ],
          "scattergeo": [
           {
            "marker": {
             "colorbar": {
              "outlinewidth": 0,
              "ticks": ""
             }
            },
            "type": "scattergeo"
           }
          ],
          "scattergl": [
           {
            "marker": {
             "colorbar": {
              "outlinewidth": 0,
              "ticks": ""
             }
            },
            "type": "scattergl"
           }
          ],
          "scattermapbox": [
           {
            "marker": {
             "colorbar": {
              "outlinewidth": 0,
              "ticks": ""
             }
            },
            "type": "scattermapbox"
           }
          ],
          "scatterpolar": [
           {
            "marker": {
             "colorbar": {
              "outlinewidth": 0,
              "ticks": ""
             }
            },
            "type": "scatterpolar"
           }
          ],
          "scatterpolargl": [
           {
            "marker": {
             "colorbar": {
              "outlinewidth": 0,
              "ticks": ""
             }
            },
            "type": "scatterpolargl"
           }
          ],
          "scatterternary": [
           {
            "marker": {
             "colorbar": {
              "outlinewidth": 0,
              "ticks": ""
             }
            },
            "type": "scatterternary"
           }
          ],
          "surface": [
           {
            "colorbar": {
             "outlinewidth": 0,
             "ticks": ""
            },
            "colorscale": [
             [
              0,
              "#0d0887"
             ],
             [
              0.1111111111111111,
              "#46039f"
             ],
             [
              0.2222222222222222,
              "#7201a8"
             ],
             [
              0.3333333333333333,
              "#9c179e"
             ],
             [
              0.4444444444444444,
              "#bd3786"
             ],
             [
              0.5555555555555556,
              "#d8576b"
             ],
             [
              0.6666666666666666,
              "#ed7953"
             ],
             [
              0.7777777777777778,
              "#fb9f3a"
             ],
             [
              0.8888888888888888,
              "#fdca26"
             ],
             [
              1,
              "#f0f921"
             ]
            ],
            "type": "surface"
           }
          ],
          "table": [
           {
            "cells": {
             "fill": {
              "color": "#EBF0F8"
             },
             "line": {
              "color": "white"
             }
            },
            "header": {
             "fill": {
              "color": "#C8D4E3"
             },
             "line": {
              "color": "white"
             }
            },
            "type": "table"
           }
          ]
         },
         "layout": {
          "annotationdefaults": {
           "arrowcolor": "#2a3f5f",
           "arrowhead": 0,
           "arrowwidth": 1
          },
          "autotypenumbers": "strict",
          "coloraxis": {
           "colorbar": {
            "outlinewidth": 0,
            "ticks": ""
           }
          },
          "colorscale": {
           "diverging": [
            [
             0,
             "#8e0152"
            ],
            [
             0.1,
             "#c51b7d"
            ],
            [
             0.2,
             "#de77ae"
            ],
            [
             0.3,
             "#f1b6da"
            ],
            [
             0.4,
             "#fde0ef"
            ],
            [
             0.5,
             "#f7f7f7"
            ],
            [
             0.6,
             "#e6f5d0"
            ],
            [
             0.7,
             "#b8e186"
            ],
            [
             0.8,
             "#7fbc41"
            ],
            [
             0.9,
             "#4d9221"
            ],
            [
             1,
             "#276419"
            ]
           ],
           "sequential": [
            [
             0,
             "#0d0887"
            ],
            [
             0.1111111111111111,
             "#46039f"
            ],
            [
             0.2222222222222222,
             "#7201a8"
            ],
            [
             0.3333333333333333,
             "#9c179e"
            ],
            [
             0.4444444444444444,
             "#bd3786"
            ],
            [
             0.5555555555555556,
             "#d8576b"
            ],
            [
             0.6666666666666666,
             "#ed7953"
            ],
            [
             0.7777777777777778,
             "#fb9f3a"
            ],
            [
             0.8888888888888888,
             "#fdca26"
            ],
            [
             1,
             "#f0f921"
            ]
           ],
           "sequentialminus": [
            [
             0,
             "#0d0887"
            ],
            [
             0.1111111111111111,
             "#46039f"
            ],
            [
             0.2222222222222222,
             "#7201a8"
            ],
            [
             0.3333333333333333,
             "#9c179e"
            ],
            [
             0.4444444444444444,
             "#bd3786"
            ],
            [
             0.5555555555555556,
             "#d8576b"
            ],
            [
             0.6666666666666666,
             "#ed7953"
            ],
            [
             0.7777777777777778,
             "#fb9f3a"
            ],
            [
             0.8888888888888888,
             "#fdca26"
            ],
            [
             1,
             "#f0f921"
            ]
           ]
          },
          "colorway": [
           "#636efa",
           "#EF553B",
           "#00cc96",
           "#ab63fa",
           "#FFA15A",
           "#19d3f3",
           "#FF6692",
           "#B6E880",
           "#FF97FF",
           "#FECB52"
          ],
          "font": {
           "color": "#2a3f5f"
          },
          "geo": {
           "bgcolor": "white",
           "lakecolor": "white",
           "landcolor": "#E5ECF6",
           "showlakes": true,
           "showland": true,
           "subunitcolor": "white"
          },
          "hoverlabel": {
           "align": "left"
          },
          "hovermode": "closest",
          "mapbox": {
           "style": "light"
          },
          "paper_bgcolor": "white",
          "plot_bgcolor": "#E5ECF6",
          "polar": {
           "angularaxis": {
            "gridcolor": "white",
            "linecolor": "white",
            "ticks": ""
           },
           "bgcolor": "#E5ECF6",
           "radialaxis": {
            "gridcolor": "white",
            "linecolor": "white",
            "ticks": ""
           }
          },
          "scene": {
           "xaxis": {
            "backgroundcolor": "#E5ECF6",
            "gridcolor": "white",
            "gridwidth": 2,
            "linecolor": "white",
            "showbackground": true,
            "ticks": "",
            "zerolinecolor": "white"
           },
           "yaxis": {
            "backgroundcolor": "#E5ECF6",
            "gridcolor": "white",
            "gridwidth": 2,
            "linecolor": "white",
            "showbackground": true,
            "ticks": "",
            "zerolinecolor": "white"
           },
           "zaxis": {
            "backgroundcolor": "#E5ECF6",
            "gridcolor": "white",
            "gridwidth": 2,
            "linecolor": "white",
            "showbackground": true,
            "ticks": "",
            "zerolinecolor": "white"
           }
          },
          "shapedefaults": {
           "line": {
            "color": "#2a3f5f"
           }
          },
          "ternary": {
           "aaxis": {
            "gridcolor": "white",
            "linecolor": "white",
            "ticks": ""
           },
           "baxis": {
            "gridcolor": "white",
            "linecolor": "white",
            "ticks": ""
           },
           "bgcolor": "#E5ECF6",
           "caxis": {
            "gridcolor": "white",
            "linecolor": "white",
            "ticks": ""
           }
          },
          "title": {
           "x": 0.05
          },
          "xaxis": {
           "automargin": true,
           "gridcolor": "white",
           "linecolor": "white",
           "ticks": "",
           "title": {
            "standoff": 15
           },
           "zerolinecolor": "white",
           "zerolinewidth": 2
          },
          "yaxis": {
           "automargin": true,
           "gridcolor": "white",
           "linecolor": "white",
           "ticks": "",
           "title": {
            "standoff": 15
           },
           "zerolinecolor": "white",
           "zerolinewidth": 2
          }
         }
        },
        "title": {
         "text": "Stability of Least Squares Polynomial Approximation using Polynomials of degree n"
        },
        "xaxis": {
         "anchor": "y",
         "domain": [
          0,
          0.2125
         ],
         "range": [
          0,
          1
         ]
        },
        "xaxis2": {
         "anchor": "y2",
         "domain": [
          0.2625,
          0.475
         ],
         "range": [
          0,
          1
         ]
        },
        "xaxis3": {
         "anchor": "y3",
         "domain": [
          0.525,
          0.7375
         ],
         "range": [
          0,
          1
         ]
        },
        "xaxis4": {
         "anchor": "y4",
         "domain": [
          0.7875,
          1
         ],
         "range": [
          0,
          1
         ]
        },
        "yaxis": {
         "anchor": "x",
         "domain": [
          0,
          1
         ],
         "range": [
          0,
          4
         ]
        },
        "yaxis2": {
         "anchor": "x2",
         "domain": [
          0,
          1
         ],
         "range": [
          0,
          4
         ]
        },
        "yaxis3": {
         "anchor": "x3",
         "domain": [
          0,
          1
         ],
         "range": [
          0,
          4
         ]
        },
        "yaxis4": {
         "anchor": "x4",
         "domain": [
          0,
          1
         ],
         "range": [
          0,
          4
         ]
        }
       }
      }
     },
     "metadata": {},
     "output_type": "display_data"
    },
    {
     "data": {
      "application/vnd.plotly.v1+json": {
       "config": {
        "plotlyServerURL": "https://plot.ly"
       },
       "data": [
        {
         "name": "n=21",
         "type": "bar",
         "x": [
          "Least Squares",
          "QR"
         ],
         "xaxis": "x",
         "y": [
          4.870230929407568,
          4.870230929407567
         ],
         "yaxis": "y"
        },
        {
         "name": "n=21",
         "type": "bar",
         "x": [
          "Least Squares",
          "QR"
         ],
         "xaxis": "x2",
         "y": [
          4.6998500880587075,
          4.6998500878692
         ],
         "yaxis": "y2"
        },
        {
         "name": "n=21",
         "type": "bar",
         "x": [
          "Least Squares",
          "QR"
         ],
         "xaxis": "x3",
         "y": [
          5.564833717240016,
          4.568370944943435
         ],
         "yaxis": "y3"
        },
        {
         "name": "n=21",
         "type": "bar",
         "x": [
          "Least Squares",
          "QR"
         ],
         "xaxis": "x4",
         "y": [
          19.616994044290685,
          4.456900620349043
         ],
         "yaxis": "y4"
        }
       ],
       "layout": {
        "annotations": [
         {
          "font": {
           "size": 16
          },
          "showarrow": false,
          "text": "n=4",
          "x": 0.10625,
          "xanchor": "center",
          "xref": "paper",
          "y": 1,
          "yanchor": "bottom",
          "yref": "paper"
         },
         {
          "font": {
           "size": 16
          },
          "showarrow": false,
          "text": "n=8",
          "x": 0.36875,
          "xanchor": "center",
          "xref": "paper",
          "y": 1,
          "yanchor": "bottom",
          "yref": "paper"
         },
         {
          "font": {
           "size": 16
          },
          "showarrow": false,
          "text": "n=14",
          "x": 0.6312500000000001,
          "xanchor": "center",
          "xref": "paper",
          "y": 1,
          "yanchor": "bottom",
          "yref": "paper"
         }
        ],
        "template": {
         "data": {
          "bar": [
           {
            "error_x": {
             "color": "#2a3f5f"
            },
            "error_y": {
             "color": "#2a3f5f"
            },
            "marker": {
             "line": {
              "color": "#E5ECF6",
              "width": 0.5
             },
             "pattern": {
              "fillmode": "overlay",
              "size": 10,
              "solidity": 0.2
             }
            },
            "type": "bar"
           }
          ],
          "barpolar": [
           {
            "marker": {
             "line": {
              "color": "#E5ECF6",
              "width": 0.5
             },
             "pattern": {
              "fillmode": "overlay",
              "size": 10,
              "solidity": 0.2
             }
            },
            "type": "barpolar"
           }
          ],
          "carpet": [
           {
            "aaxis": {
             "endlinecolor": "#2a3f5f",
             "gridcolor": "white",
             "linecolor": "white",
             "minorgridcolor": "white",
             "startlinecolor": "#2a3f5f"
            },
            "baxis": {
             "endlinecolor": "#2a3f5f",
             "gridcolor": "white",
             "linecolor": "white",
             "minorgridcolor": "white",
             "startlinecolor": "#2a3f5f"
            },
            "type": "carpet"
           }
          ],
          "choropleth": [
           {
            "colorbar": {
             "outlinewidth": 0,
             "ticks": ""
            },
            "type": "choropleth"
           }
          ],
          "contour": [
           {
            "colorbar": {
             "outlinewidth": 0,
             "ticks": ""
            },
            "colorscale": [
             [
              0,
              "#0d0887"
             ],
             [
              0.1111111111111111,
              "#46039f"
             ],
             [
              0.2222222222222222,
              "#7201a8"
             ],
             [
              0.3333333333333333,
              "#9c179e"
             ],
             [
              0.4444444444444444,
              "#bd3786"
             ],
             [
              0.5555555555555556,
              "#d8576b"
             ],
             [
              0.6666666666666666,
              "#ed7953"
             ],
             [
              0.7777777777777778,
              "#fb9f3a"
             ],
             [
              0.8888888888888888,
              "#fdca26"
             ],
             [
              1,
              "#f0f921"
             ]
            ],
            "type": "contour"
           }
          ],
          "contourcarpet": [
           {
            "colorbar": {
             "outlinewidth": 0,
             "ticks": ""
            },
            "type": "contourcarpet"
           }
          ],
          "heatmap": [
           {
            "colorbar": {
             "outlinewidth": 0,
             "ticks": ""
            },
            "colorscale": [
             [
              0,
              "#0d0887"
             ],
             [
              0.1111111111111111,
              "#46039f"
             ],
             [
              0.2222222222222222,
              "#7201a8"
             ],
             [
              0.3333333333333333,
              "#9c179e"
             ],
             [
              0.4444444444444444,
              "#bd3786"
             ],
             [
              0.5555555555555556,
              "#d8576b"
             ],
             [
              0.6666666666666666,
              "#ed7953"
             ],
             [
              0.7777777777777778,
              "#fb9f3a"
             ],
             [
              0.8888888888888888,
              "#fdca26"
             ],
             [
              1,
              "#f0f921"
             ]
            ],
            "type": "heatmap"
           }
          ],
          "heatmapgl": [
           {
            "colorbar": {
             "outlinewidth": 0,
             "ticks": ""
            },
            "colorscale": [
             [
              0,
              "#0d0887"
             ],
             [
              0.1111111111111111,
              "#46039f"
             ],
             [
              0.2222222222222222,
              "#7201a8"
             ],
             [
              0.3333333333333333,
              "#9c179e"
             ],
             [
              0.4444444444444444,
              "#bd3786"
             ],
             [
              0.5555555555555556,
              "#d8576b"
             ],
             [
              0.6666666666666666,
              "#ed7953"
             ],
             [
              0.7777777777777778,
              "#fb9f3a"
             ],
             [
              0.8888888888888888,
              "#fdca26"
             ],
             [
              1,
              "#f0f921"
             ]
            ],
            "type": "heatmapgl"
           }
          ],
          "histogram": [
           {
            "marker": {
             "pattern": {
              "fillmode": "overlay",
              "size": 10,
              "solidity": 0.2
             }
            },
            "type": "histogram"
           }
          ],
          "histogram2d": [
           {
            "colorbar": {
             "outlinewidth": 0,
             "ticks": ""
            },
            "colorscale": [
             [
              0,
              "#0d0887"
             ],
             [
              0.1111111111111111,
              "#46039f"
             ],
             [
              0.2222222222222222,
              "#7201a8"
             ],
             [
              0.3333333333333333,
              "#9c179e"
             ],
             [
              0.4444444444444444,
              "#bd3786"
             ],
             [
              0.5555555555555556,
              "#d8576b"
             ],
             [
              0.6666666666666666,
              "#ed7953"
             ],
             [
              0.7777777777777778,
              "#fb9f3a"
             ],
             [
              0.8888888888888888,
              "#fdca26"
             ],
             [
              1,
              "#f0f921"
             ]
            ],
            "type": "histogram2d"
           }
          ],
          "histogram2dcontour": [
           {
            "colorbar": {
             "outlinewidth": 0,
             "ticks": ""
            },
            "colorscale": [
             [
              0,
              "#0d0887"
             ],
             [
              0.1111111111111111,
              "#46039f"
             ],
             [
              0.2222222222222222,
              "#7201a8"
             ],
             [
              0.3333333333333333,
              "#9c179e"
             ],
             [
              0.4444444444444444,
              "#bd3786"
             ],
             [
              0.5555555555555556,
              "#d8576b"
             ],
             [
              0.6666666666666666,
              "#ed7953"
             ],
             [
              0.7777777777777778,
              "#fb9f3a"
             ],
             [
              0.8888888888888888,
              "#fdca26"
             ],
             [
              1,
              "#f0f921"
             ]
            ],
            "type": "histogram2dcontour"
           }
          ],
          "mesh3d": [
           {
            "colorbar": {
             "outlinewidth": 0,
             "ticks": ""
            },
            "type": "mesh3d"
           }
          ],
          "parcoords": [
           {
            "line": {
             "colorbar": {
              "outlinewidth": 0,
              "ticks": ""
             }
            },
            "type": "parcoords"
           }
          ],
          "pie": [
           {
            "automargin": true,
            "type": "pie"
           }
          ],
          "scatter": [
           {
            "fillpattern": {
             "fillmode": "overlay",
             "size": 10,
             "solidity": 0.2
            },
            "type": "scatter"
           }
          ],
          "scatter3d": [
           {
            "line": {
             "colorbar": {
              "outlinewidth": 0,
              "ticks": ""
             }
            },
            "marker": {
             "colorbar": {
              "outlinewidth": 0,
              "ticks": ""
             }
            },
            "type": "scatter3d"
           }
          ],
          "scattercarpet": [
           {
            "marker": {
             "colorbar": {
              "outlinewidth": 0,
              "ticks": ""
             }
            },
            "type": "scattercarpet"
           }
          ],
          "scattergeo": [
           {
            "marker": {
             "colorbar": {
              "outlinewidth": 0,
              "ticks": ""
             }
            },
            "type": "scattergeo"
           }
          ],
          "scattergl": [
           {
            "marker": {
             "colorbar": {
              "outlinewidth": 0,
              "ticks": ""
             }
            },
            "type": "scattergl"
           }
          ],
          "scattermapbox": [
           {
            "marker": {
             "colorbar": {
              "outlinewidth": 0,
              "ticks": ""
             }
            },
            "type": "scattermapbox"
           }
          ],
          "scatterpolar": [
           {
            "marker": {
             "colorbar": {
              "outlinewidth": 0,
              "ticks": ""
             }
            },
            "type": "scatterpolar"
           }
          ],
          "scatterpolargl": [
           {
            "marker": {
             "colorbar": {
              "outlinewidth": 0,
              "ticks": ""
             }
            },
            "type": "scatterpolargl"
           }
          ],
          "scatterternary": [
           {
            "marker": {
             "colorbar": {
              "outlinewidth": 0,
              "ticks": ""
             }
            },
            "type": "scatterternary"
           }
          ],
          "surface": [
           {
            "colorbar": {
             "outlinewidth": 0,
             "ticks": ""
            },
            "colorscale": [
             [
              0,
              "#0d0887"
             ],
             [
              0.1111111111111111,
              "#46039f"
             ],
             [
              0.2222222222222222,
              "#7201a8"
             ],
             [
              0.3333333333333333,
              "#9c179e"
             ],
             [
              0.4444444444444444,
              "#bd3786"
             ],
             [
              0.5555555555555556,
              "#d8576b"
             ],
             [
              0.6666666666666666,
              "#ed7953"
             ],
             [
              0.7777777777777778,
              "#fb9f3a"
             ],
             [
              0.8888888888888888,
              "#fdca26"
             ],
             [
              1,
              "#f0f921"
             ]
            ],
            "type": "surface"
           }
          ],
          "table": [
           {
            "cells": {
             "fill": {
              "color": "#EBF0F8"
             },
             "line": {
              "color": "white"
             }
            },
            "header": {
             "fill": {
              "color": "#C8D4E3"
             },
             "line": {
              "color": "white"
             }
            },
            "type": "table"
           }
          ]
         },
         "layout": {
          "annotationdefaults": {
           "arrowcolor": "#2a3f5f",
           "arrowhead": 0,
           "arrowwidth": 1
          },
          "autotypenumbers": "strict",
          "coloraxis": {
           "colorbar": {
            "outlinewidth": 0,
            "ticks": ""
           }
          },
          "colorscale": {
           "diverging": [
            [
             0,
             "#8e0152"
            ],
            [
             0.1,
             "#c51b7d"
            ],
            [
             0.2,
             "#de77ae"
            ],
            [
             0.3,
             "#f1b6da"
            ],
            [
             0.4,
             "#fde0ef"
            ],
            [
             0.5,
             "#f7f7f7"
            ],
            [
             0.6,
             "#e6f5d0"
            ],
            [
             0.7,
             "#b8e186"
            ],
            [
             0.8,
             "#7fbc41"
            ],
            [
             0.9,
             "#4d9221"
            ],
            [
             1,
             "#276419"
            ]
           ],
           "sequential": [
            [
             0,
             "#0d0887"
            ],
            [
             0.1111111111111111,
             "#46039f"
            ],
            [
             0.2222222222222222,
             "#7201a8"
            ],
            [
             0.3333333333333333,
             "#9c179e"
            ],
            [
             0.4444444444444444,
             "#bd3786"
            ],
            [
             0.5555555555555556,
             "#d8576b"
            ],
            [
             0.6666666666666666,
             "#ed7953"
            ],
            [
             0.7777777777777778,
             "#fb9f3a"
            ],
            [
             0.8888888888888888,
             "#fdca26"
            ],
            [
             1,
             "#f0f921"
            ]
           ],
           "sequentialminus": [
            [
             0,
             "#0d0887"
            ],
            [
             0.1111111111111111,
             "#46039f"
            ],
            [
             0.2222222222222222,
             "#7201a8"
            ],
            [
             0.3333333333333333,
             "#9c179e"
            ],
            [
             0.4444444444444444,
             "#bd3786"
            ],
            [
             0.5555555555555556,
             "#d8576b"
            ],
            [
             0.6666666666666666,
             "#ed7953"
            ],
            [
             0.7777777777777778,
             "#fb9f3a"
            ],
            [
             0.8888888888888888,
             "#fdca26"
            ],
            [
             1,
             "#f0f921"
            ]
           ]
          },
          "colorway": [
           "#636efa",
           "#EF553B",
           "#00cc96",
           "#ab63fa",
           "#FFA15A",
           "#19d3f3",
           "#FF6692",
           "#B6E880",
           "#FF97FF",
           "#FECB52"
          ],
          "font": {
           "color": "#2a3f5f"
          },
          "geo": {
           "bgcolor": "white",
           "lakecolor": "white",
           "landcolor": "#E5ECF6",
           "showlakes": true,
           "showland": true,
           "subunitcolor": "white"
          },
          "hoverlabel": {
           "align": "left"
          },
          "hovermode": "closest",
          "mapbox": {
           "style": "light"
          },
          "paper_bgcolor": "white",
          "plot_bgcolor": "#E5ECF6",
          "polar": {
           "angularaxis": {
            "gridcolor": "white",
            "linecolor": "white",
            "ticks": ""
           },
           "bgcolor": "#E5ECF6",
           "radialaxis": {
            "gridcolor": "white",
            "linecolor": "white",
            "ticks": ""
           }
          },
          "scene": {
           "xaxis": {
            "backgroundcolor": "#E5ECF6",
            "gridcolor": "white",
            "gridwidth": 2,
            "linecolor": "white",
            "showbackground": true,
            "ticks": "",
            "zerolinecolor": "white"
           },
           "yaxis": {
            "backgroundcolor": "#E5ECF6",
            "gridcolor": "white",
            "gridwidth": 2,
            "linecolor": "white",
            "showbackground": true,
            "ticks": "",
            "zerolinecolor": "white"
           },
           "zaxis": {
            "backgroundcolor": "#E5ECF6",
            "gridcolor": "white",
            "gridwidth": 2,
            "linecolor": "white",
            "showbackground": true,
            "ticks": "",
            "zerolinecolor": "white"
           }
          },
          "shapedefaults": {
           "line": {
            "color": "#2a3f5f"
           }
          },
          "ternary": {
           "aaxis": {
            "gridcolor": "white",
            "linecolor": "white",
            "ticks": ""
           },
           "baxis": {
            "gridcolor": "white",
            "linecolor": "white",
            "ticks": ""
           },
           "bgcolor": "#E5ECF6",
           "caxis": {
            "gridcolor": "white",
            "linecolor": "white",
            "ticks": ""
           }
          },
          "title": {
           "x": 0.05
          },
          "xaxis": {
           "automargin": true,
           "gridcolor": "white",
           "linecolor": "white",
           "ticks": "",
           "title": {
            "standoff": 15
           },
           "zerolinecolor": "white",
           "zerolinewidth": 2
          },
          "yaxis": {
           "automargin": true,
           "gridcolor": "white",
           "linecolor": "white",
           "ticks": "",
           "title": {
            "standoff": 15
           },
           "zerolinecolor": "white",
           "zerolinewidth": 2
          }
         }
        },
        "title": {
         "text": "Approximation Error Comparison"
        },
        "xaxis": {
         "anchor": "y",
         "domain": [
          0,
          0.2125
         ]
        },
        "xaxis2": {
         "anchor": "y2",
         "domain": [
          0.2625,
          0.475
         ]
        },
        "xaxis3": {
         "anchor": "y3",
         "domain": [
          0.525,
          0.7375
         ]
        },
        "xaxis4": {
         "anchor": "y4",
         "domain": [
          0.7875,
          1
         ]
        },
        "yaxis": {
         "anchor": "x",
         "domain": [
          0,
          1
         ]
        },
        "yaxis2": {
         "anchor": "x2",
         "domain": [
          0,
          1
         ]
        },
        "yaxis3": {
         "anchor": "x3",
         "domain": [
          0,
          1
         ]
        },
        "yaxis4": {
         "anchor": "x4",
         "domain": [
          0,
          1
         ]
        }
       }
      }
     },
     "metadata": {},
     "output_type": "display_data"
    }
   ],
   "source": [
    "fig = make_subplots(rows=1, cols=4, subplot_titles=(\"n=4\", \"n=8\", \"n=14\", \"n=21\"))\n",
    "total_error_ls = []\n",
    "total_error_qr = []\n",
    "\n",
    "# Plot the approximations for n=4, 8, 14, 21\n",
    "for i, n in enumerate([4, 8, 14, 21]):\n",
    "    # Solve the least squares problem using the normal equations and the QR decomposition\n",
    "    forward_error1, forward_error2, fig_i = prob5(n)\n",
    "    \n",
    "    # Add the plots to the subplot\n",
    "    fig.add_trace(fig_i.data[1], row=1, col=i+1)\n",
    "    fig.add_trace(fig_i.data[2], row=1, col=i+1)\n",
    "    fig.add_trace(fig_i.data[0], row=1, col=i+1)\n",
    "    \n",
    "    fig.update_yaxes(range=[0, 4], row=1, col=i+1)\n",
    "    fig.update_xaxes(range=[0, 1], row=1, col=i+1)\n",
    "\n",
    "    # Store the forward errors\n",
    "    total_error_ls.append(forward_error1)\n",
    "    total_error_qr.append(forward_error2)\n",
    "\n",
    "# Show\n",
    "fig.update_traces(showlegend=True, col=1, row=1)\n",
    "fig.update_layout(title_text=\"Stability of Least Squares Polynomial Approximation using Polynomials of degree n\")\n",
    "fig.show()\n",
    "\n",
    "# Plot the forward error for n=4, 8, 14, 21\n",
    "fig = make_subplots(rows=1, cols=4, subplot_titles=(\"n=4\", \"n=8\", \"n=14\"))\n",
    "for err1, err2, i in zip(total_error_ls, total_error_qr, range(4)):\n",
    "    fig.add_trace(go.Bar(x=[\"Least Squares\", \"QR\"], y=[err1, err2], name=f\"n={n}\"), row=1, col=i+1)\n",
    "fig.update_layout(title=\"Approximation Error Comparison\")\n",
    "fig.show()"
   ]
  },
  {
   "attachments": {},
   "cell_type": "markdown",
   "metadata": {},
   "source": [
    "## Catastrophic Cancellation\n",
    "\n",
    "Catastrophic cancellation is a phenomenon that can occur in numerical computations where the subtraction of two nearly equal numbers produces a result that has lost significant digits of precision. This loss of precision can result in errors that are much larger than the actual accuracy of the computation, hence the term \"catastrophic\".\n",
    "\n",
    "When two numbers are subtracted, the relative error of the result is magnified when the numbers being subtracted are very close in value. This can happen, for example, when subtracting two floating-point numbers that differ only in their least significant bits. In this case, the result may be a number that has lost many of its least significant bits, which can significantly affect the accuracy of subsequent calculations that depend on this result.\n",
    "\n",
    "For example, consider the simple problem of computing  $\\sqrt{a} - \\sqrt{b}$ The computation can be done directly with subtraction, or by performing the equivalent division \n",
    "\n",
    "$$\\begin{align*}\n",
    "\n",
    "\\sqrt{a} - \\sqrt{b} &= (\\sqrt{a} - \\sqrt{b}) * \\frac{\\sqrt{a} + \\sqrt{b}}{\\sqrt{a} + \\sqrt{b}}\\\\ &= \\frac{a-b}{\\sqrt{a} + \\sqrt{b}}\n",
    "\n",
    "\\end{align*}$$\n"
   ]
  },
  {
   "cell_type": "code",
   "execution_count": 41,
   "metadata": {},
   "outputs": [
    {
     "name": "stdout",
     "output_type": "stream",
     "text": [
      "0.0\n",
      "Information has been lost!\n",
      "\n",
      "5e-11\n",
      "Much better!\n"
     ]
    }
   ],
   "source": [
    "from math import sqrt # np.sqrt() fails for very large numbers.\n",
    "\n",
    "a = 10**20 + 1\n",
    "b = 10**20\n",
    "print(sqrt(a) - sqrt(b)) # Do the subtraction directly.\n",
    "if a != b:\n",
    "    print(\"Information has been lost!\\n\")\n",
    "\n",
    "print((a - b) / (sqrt(a) + sqrt(b))) # Use the alternative formulation.\n",
    "print('Much better!')\n"
   ]
  },
  {
   "attachments": {},
   "cell_type": "markdown",
   "metadata": {},
   "source": [
    "### Problem 6\n",
    "\n",
    "Let $I(n) = \\int_{0}^{1} x^ne^{x-1}dx$. It can be shown that for a positive integer n, $$I(n) = (-1)^n(!n - \\frac{n!}{e})$$ where  $!n = n!\\sum_{k=0}^{n} \\frac{(-1)^k}{k!}$ Write a function to do the following:\n",
    "\n",
    "- Use SymPy’s *sy.integrate()* to evaluate the integral form of $I(n)$ for $n = 5, 10, \\ldots , 50$. Convert the symbolic results of each integration to a float. Since this is done symbolically, these values can be accepted as the true values of $I(n)$.\n",
    "\n",
    "- Use the definition above to compute $I(n)$ for the same values of $n$.\n",
    "\n",
    "- Plot the relative forward error of the results computed in step 2 at each of the given values of $n$."
   ]
  },
  {
   "cell_type": "code",
   "execution_count": 36,
   "metadata": {},
   "outputs": [],
   "source": [
    "def prob6():\n",
    "    \"\"\"For n = 5, 10, ..., 50, compute the integral I(n) using SymPy (the\n",
    "    true values) and the subfactorial formula (may or may not be correct).\n",
    "    Plot the relative forward error of the subfactorial formula for each\n",
    "    value of n. Use a log scale for the y-axis.\n",
    "    \"\"\"\n",
    "    # Create the list of n\n",
    "    n = np.arange(5, 51, 5)\n",
    "\n",
    "    # Init vars\n",
    "    rel_forward_error = []\n",
    "    x, N = sy.symbols('x, N')\n",
    "    integral = x**N * sy.exp(x - 1)\n",
    "    sub = (-1)**N*(sy.subfactorial(N) - sy.factorial(N)/np.e)\n",
    "\n",
    "    # For each n\n",
    "    for i in tqdm(n):\n",
    "        # Compute integral\n",
    "        int_val = integral.subs({N:i})\n",
    "        result = float(sy.integrate(int_val, (x, 0, 1)))\n",
    "\n",
    "        # Compute the subfactorial way, and compute relative forward error\n",
    "        sub_res = sub.subs({N:i})\n",
    "        rel_for = np.abs(sub_res - result)/np.abs(result)\n",
    "        rel_forward_error.append(float(rel_for))\n",
    "\n",
    "\n",
    "    # Add the scatter trace to the figure\n",
    "    fig = go.Figure(go.Scatter(x=n, \n",
    "                               y=rel_forward_error, \n",
    "                               mode='lines+markers',\n",
    "                               name='Relative Forward Error'))\n",
    "\n",
    "    # Update the layout \n",
    "    fig.update_layout(title='Problem 6 Plot',\n",
    "                      xaxis_title='n',\n",
    "                      yaxis_title='Relative Forward Error',\n",
    "                      yaxis_type='log')\n",
    "    \n",
    "    # Show\n",
    "    fig.show()"
   ]
  },
  {
   "cell_type": "code",
   "execution_count": 37,
   "metadata": {},
   "outputs": [
    {
     "data": {
      "application/vnd.jupyter.widget-view+json": {
       "model_id": "268a91760c4345fc9c5e2a6f9f090ac0",
       "version_major": 2,
       "version_minor": 0
      },
      "text/plain": [
       "  0%|          | 0/10 [00:00<?, ?it/s]"
      ]
     },
     "metadata": {},
     "output_type": "display_data"
    },
    {
     "data": {
      "application/vnd.plotly.v1+json": {
       "config": {
        "plotlyServerURL": "https://plot.ly"
       },
       "data": [
        {
         "mode": "lines+markers",
         "name": "Relative Forward Error",
         "type": "scatter",
         "x": [
          5,
          10,
          15,
          20,
          25,
          30,
          35,
          40,
          45,
          50
         ],
         "y": [
          1.4113042638104178e-14,
          6.002154342118966e-11,
          0.000058545551047150865,
          1,
          1,
          575913884158362050,
          2.234919920677968e+25,
          1,
          1,
          7.597049033551043e+49
         ]
        }
       ],
       "layout": {
        "template": {
         "data": {
          "bar": [
           {
            "error_x": {
             "color": "#2a3f5f"
            },
            "error_y": {
             "color": "#2a3f5f"
            },
            "marker": {
             "line": {
              "color": "#E5ECF6",
              "width": 0.5
             },
             "pattern": {
              "fillmode": "overlay",
              "size": 10,
              "solidity": 0.2
             }
            },
            "type": "bar"
           }
          ],
          "barpolar": [
           {
            "marker": {
             "line": {
              "color": "#E5ECF6",
              "width": 0.5
             },
             "pattern": {
              "fillmode": "overlay",
              "size": 10,
              "solidity": 0.2
             }
            },
            "type": "barpolar"
           }
          ],
          "carpet": [
           {
            "aaxis": {
             "endlinecolor": "#2a3f5f",
             "gridcolor": "white",
             "linecolor": "white",
             "minorgridcolor": "white",
             "startlinecolor": "#2a3f5f"
            },
            "baxis": {
             "endlinecolor": "#2a3f5f",
             "gridcolor": "white",
             "linecolor": "white",
             "minorgridcolor": "white",
             "startlinecolor": "#2a3f5f"
            },
            "type": "carpet"
           }
          ],
          "choropleth": [
           {
            "colorbar": {
             "outlinewidth": 0,
             "ticks": ""
            },
            "type": "choropleth"
           }
          ],
          "contour": [
           {
            "colorbar": {
             "outlinewidth": 0,
             "ticks": ""
            },
            "colorscale": [
             [
              0,
              "#0d0887"
             ],
             [
              0.1111111111111111,
              "#46039f"
             ],
             [
              0.2222222222222222,
              "#7201a8"
             ],
             [
              0.3333333333333333,
              "#9c179e"
             ],
             [
              0.4444444444444444,
              "#bd3786"
             ],
             [
              0.5555555555555556,
              "#d8576b"
             ],
             [
              0.6666666666666666,
              "#ed7953"
             ],
             [
              0.7777777777777778,
              "#fb9f3a"
             ],
             [
              0.8888888888888888,
              "#fdca26"
             ],
             [
              1,
              "#f0f921"
             ]
            ],
            "type": "contour"
           }
          ],
          "contourcarpet": [
           {
            "colorbar": {
             "outlinewidth": 0,
             "ticks": ""
            },
            "type": "contourcarpet"
           }
          ],
          "heatmap": [
           {
            "colorbar": {
             "outlinewidth": 0,
             "ticks": ""
            },
            "colorscale": [
             [
              0,
              "#0d0887"
             ],
             [
              0.1111111111111111,
              "#46039f"
             ],
             [
              0.2222222222222222,
              "#7201a8"
             ],
             [
              0.3333333333333333,
              "#9c179e"
             ],
             [
              0.4444444444444444,
              "#bd3786"
             ],
             [
              0.5555555555555556,
              "#d8576b"
             ],
             [
              0.6666666666666666,
              "#ed7953"
             ],
             [
              0.7777777777777778,
              "#fb9f3a"
             ],
             [
              0.8888888888888888,
              "#fdca26"
             ],
             [
              1,
              "#f0f921"
             ]
            ],
            "type": "heatmap"
           }
          ],
          "heatmapgl": [
           {
            "colorbar": {
             "outlinewidth": 0,
             "ticks": ""
            },
            "colorscale": [
             [
              0,
              "#0d0887"
             ],
             [
              0.1111111111111111,
              "#46039f"
             ],
             [
              0.2222222222222222,
              "#7201a8"
             ],
             [
              0.3333333333333333,
              "#9c179e"
             ],
             [
              0.4444444444444444,
              "#bd3786"
             ],
             [
              0.5555555555555556,
              "#d8576b"
             ],
             [
              0.6666666666666666,
              "#ed7953"
             ],
             [
              0.7777777777777778,
              "#fb9f3a"
             ],
             [
              0.8888888888888888,
              "#fdca26"
             ],
             [
              1,
              "#f0f921"
             ]
            ],
            "type": "heatmapgl"
           }
          ],
          "histogram": [
           {
            "marker": {
             "pattern": {
              "fillmode": "overlay",
              "size": 10,
              "solidity": 0.2
             }
            },
            "type": "histogram"
           }
          ],
          "histogram2d": [
           {
            "colorbar": {
             "outlinewidth": 0,
             "ticks": ""
            },
            "colorscale": [
             [
              0,
              "#0d0887"
             ],
             [
              0.1111111111111111,
              "#46039f"
             ],
             [
              0.2222222222222222,
              "#7201a8"
             ],
             [
              0.3333333333333333,
              "#9c179e"
             ],
             [
              0.4444444444444444,
              "#bd3786"
             ],
             [
              0.5555555555555556,
              "#d8576b"
             ],
             [
              0.6666666666666666,
              "#ed7953"
             ],
             [
              0.7777777777777778,
              "#fb9f3a"
             ],
             [
              0.8888888888888888,
              "#fdca26"
             ],
             [
              1,
              "#f0f921"
             ]
            ],
            "type": "histogram2d"
           }
          ],
          "histogram2dcontour": [
           {
            "colorbar": {
             "outlinewidth": 0,
             "ticks": ""
            },
            "colorscale": [
             [
              0,
              "#0d0887"
             ],
             [
              0.1111111111111111,
              "#46039f"
             ],
             [
              0.2222222222222222,
              "#7201a8"
             ],
             [
              0.3333333333333333,
              "#9c179e"
             ],
             [
              0.4444444444444444,
              "#bd3786"
             ],
             [
              0.5555555555555556,
              "#d8576b"
             ],
             [
              0.6666666666666666,
              "#ed7953"
             ],
             [
              0.7777777777777778,
              "#fb9f3a"
             ],
             [
              0.8888888888888888,
              "#fdca26"
             ],
             [
              1,
              "#f0f921"
             ]
            ],
            "type": "histogram2dcontour"
           }
          ],
          "mesh3d": [
           {
            "colorbar": {
             "outlinewidth": 0,
             "ticks": ""
            },
            "type": "mesh3d"
           }
          ],
          "parcoords": [
           {
            "line": {
             "colorbar": {
              "outlinewidth": 0,
              "ticks": ""
             }
            },
            "type": "parcoords"
           }
          ],
          "pie": [
           {
            "automargin": true,
            "type": "pie"
           }
          ],
          "scatter": [
           {
            "fillpattern": {
             "fillmode": "overlay",
             "size": 10,
             "solidity": 0.2
            },
            "type": "scatter"
           }
          ],
          "scatter3d": [
           {
            "line": {
             "colorbar": {
              "outlinewidth": 0,
              "ticks": ""
             }
            },
            "marker": {
             "colorbar": {
              "outlinewidth": 0,
              "ticks": ""
             }
            },
            "type": "scatter3d"
           }
          ],
          "scattercarpet": [
           {
            "marker": {
             "colorbar": {
              "outlinewidth": 0,
              "ticks": ""
             }
            },
            "type": "scattercarpet"
           }
          ],
          "scattergeo": [
           {
            "marker": {
             "colorbar": {
              "outlinewidth": 0,
              "ticks": ""
             }
            },
            "type": "scattergeo"
           }
          ],
          "scattergl": [
           {
            "marker": {
             "colorbar": {
              "outlinewidth": 0,
              "ticks": ""
             }
            },
            "type": "scattergl"
           }
          ],
          "scattermapbox": [
           {
            "marker": {
             "colorbar": {
              "outlinewidth": 0,
              "ticks": ""
             }
            },
            "type": "scattermapbox"
           }
          ],
          "scatterpolar": [
           {
            "marker": {
             "colorbar": {
              "outlinewidth": 0,
              "ticks": ""
             }
            },
            "type": "scatterpolar"
           }
          ],
          "scatterpolargl": [
           {
            "marker": {
             "colorbar": {
              "outlinewidth": 0,
              "ticks": ""
             }
            },
            "type": "scatterpolargl"
           }
          ],
          "scatterternary": [
           {
            "marker": {
             "colorbar": {
              "outlinewidth": 0,
              "ticks": ""
             }
            },
            "type": "scatterternary"
           }
          ],
          "surface": [
           {
            "colorbar": {
             "outlinewidth": 0,
             "ticks": ""
            },
            "colorscale": [
             [
              0,
              "#0d0887"
             ],
             [
              0.1111111111111111,
              "#46039f"
             ],
             [
              0.2222222222222222,
              "#7201a8"
             ],
             [
              0.3333333333333333,
              "#9c179e"
             ],
             [
              0.4444444444444444,
              "#bd3786"
             ],
             [
              0.5555555555555556,
              "#d8576b"
             ],
             [
              0.6666666666666666,
              "#ed7953"
             ],
             [
              0.7777777777777778,
              "#fb9f3a"
             ],
             [
              0.8888888888888888,
              "#fdca26"
             ],
             [
              1,
              "#f0f921"
             ]
            ],
            "type": "surface"
           }
          ],
          "table": [
           {
            "cells": {
             "fill": {
              "color": "#EBF0F8"
             },
             "line": {
              "color": "white"
             }
            },
            "header": {
             "fill": {
              "color": "#C8D4E3"
             },
             "line": {
              "color": "white"
             }
            },
            "type": "table"
           }
          ]
         },
         "layout": {
          "annotationdefaults": {
           "arrowcolor": "#2a3f5f",
           "arrowhead": 0,
           "arrowwidth": 1
          },
          "autotypenumbers": "strict",
          "coloraxis": {
           "colorbar": {
            "outlinewidth": 0,
            "ticks": ""
           }
          },
          "colorscale": {
           "diverging": [
            [
             0,
             "#8e0152"
            ],
            [
             0.1,
             "#c51b7d"
            ],
            [
             0.2,
             "#de77ae"
            ],
            [
             0.3,
             "#f1b6da"
            ],
            [
             0.4,
             "#fde0ef"
            ],
            [
             0.5,
             "#f7f7f7"
            ],
            [
             0.6,
             "#e6f5d0"
            ],
            [
             0.7,
             "#b8e186"
            ],
            [
             0.8,
             "#7fbc41"
            ],
            [
             0.9,
             "#4d9221"
            ],
            [
             1,
             "#276419"
            ]
           ],
           "sequential": [
            [
             0,
             "#0d0887"
            ],
            [
             0.1111111111111111,
             "#46039f"
            ],
            [
             0.2222222222222222,
             "#7201a8"
            ],
            [
             0.3333333333333333,
             "#9c179e"
            ],
            [
             0.4444444444444444,
             "#bd3786"
            ],
            [
             0.5555555555555556,
             "#d8576b"
            ],
            [
             0.6666666666666666,
             "#ed7953"
            ],
            [
             0.7777777777777778,
             "#fb9f3a"
            ],
            [
             0.8888888888888888,
             "#fdca26"
            ],
            [
             1,
             "#f0f921"
            ]
           ],
           "sequentialminus": [
            [
             0,
             "#0d0887"
            ],
            [
             0.1111111111111111,
             "#46039f"
            ],
            [
             0.2222222222222222,
             "#7201a8"
            ],
            [
             0.3333333333333333,
             "#9c179e"
            ],
            [
             0.4444444444444444,
             "#bd3786"
            ],
            [
             0.5555555555555556,
             "#d8576b"
            ],
            [
             0.6666666666666666,
             "#ed7953"
            ],
            [
             0.7777777777777778,
             "#fb9f3a"
            ],
            [
             0.8888888888888888,
             "#fdca26"
            ],
            [
             1,
             "#f0f921"
            ]
           ]
          },
          "colorway": [
           "#636efa",
           "#EF553B",
           "#00cc96",
           "#ab63fa",
           "#FFA15A",
           "#19d3f3",
           "#FF6692",
           "#B6E880",
           "#FF97FF",
           "#FECB52"
          ],
          "font": {
           "color": "#2a3f5f"
          },
          "geo": {
           "bgcolor": "white",
           "lakecolor": "white",
           "landcolor": "#E5ECF6",
           "showlakes": true,
           "showland": true,
           "subunitcolor": "white"
          },
          "hoverlabel": {
           "align": "left"
          },
          "hovermode": "closest",
          "mapbox": {
           "style": "light"
          },
          "paper_bgcolor": "white",
          "plot_bgcolor": "#E5ECF6",
          "polar": {
           "angularaxis": {
            "gridcolor": "white",
            "linecolor": "white",
            "ticks": ""
           },
           "bgcolor": "#E5ECF6",
           "radialaxis": {
            "gridcolor": "white",
            "linecolor": "white",
            "ticks": ""
           }
          },
          "scene": {
           "xaxis": {
            "backgroundcolor": "#E5ECF6",
            "gridcolor": "white",
            "gridwidth": 2,
            "linecolor": "white",
            "showbackground": true,
            "ticks": "",
            "zerolinecolor": "white"
           },
           "yaxis": {
            "backgroundcolor": "#E5ECF6",
            "gridcolor": "white",
            "gridwidth": 2,
            "linecolor": "white",
            "showbackground": true,
            "ticks": "",
            "zerolinecolor": "white"
           },
           "zaxis": {
            "backgroundcolor": "#E5ECF6",
            "gridcolor": "white",
            "gridwidth": 2,
            "linecolor": "white",
            "showbackground": true,
            "ticks": "",
            "zerolinecolor": "white"
           }
          },
          "shapedefaults": {
           "line": {
            "color": "#2a3f5f"
           }
          },
          "ternary": {
           "aaxis": {
            "gridcolor": "white",
            "linecolor": "white",
            "ticks": ""
           },
           "baxis": {
            "gridcolor": "white",
            "linecolor": "white",
            "ticks": ""
           },
           "bgcolor": "#E5ECF6",
           "caxis": {
            "gridcolor": "white",
            "linecolor": "white",
            "ticks": ""
           }
          },
          "title": {
           "x": 0.05
          },
          "xaxis": {
           "automargin": true,
           "gridcolor": "white",
           "linecolor": "white",
           "ticks": "",
           "title": {
            "standoff": 15
           },
           "zerolinecolor": "white",
           "zerolinewidth": 2
          },
          "yaxis": {
           "automargin": true,
           "gridcolor": "white",
           "linecolor": "white",
           "ticks": "",
           "title": {
            "standoff": 15
           },
           "zerolinecolor": "white",
           "zerolinewidth": 2
          }
         }
        },
        "title": {
         "text": "Problem 6 Plot"
        },
        "xaxis": {
         "title": {
          "text": "n"
         }
        },
        "yaxis": {
         "title": {
          "text": "Relative Forward Error"
         },
         "type": "log"
        }
       }
      }
     },
     "metadata": {},
     "output_type": "display_data"
    }
   ],
   "source": [
    "prob6()"
   ]
  }
 ],
 "metadata": {
  "kernelspec": {
   "display_name": "Python 3",
   "language": "python",
   "name": "python3"
  },
  "language_info": {
   "codemirror_mode": {
    "name": "ipython",
    "version": 3
   },
   "file_extension": ".py",
   "mimetype": "text/x-python",
   "name": "python",
   "nbconvert_exporter": "python",
   "pygments_lexer": "ipython3",
   "version": "3.9.12"
  },
  "orig_nbformat": 4
 },
 "nbformat": 4,
 "nbformat_minor": 2
}

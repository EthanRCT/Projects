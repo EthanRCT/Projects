{
  "cells": [
    {
      "cell_type": "markdown",
      "metadata": {
        "id": "xQ1tKnrK4TcN"
      },
      "source": [
        "\n",
        "# Volume 2: OpenGym\n",
        "Ethan Crawford\n",
        "\n",
        "Math 347\n",
        "\n",
        "3/7/23\n"
      ]
    },
    {
      "cell_type": "code",
      "execution_count": 1,
      "metadata": {
        "id": "lLj-kDVSHyIp",
        "colab": {
          "base_uri": "https://localhost:8080/"
        },
        "outputId": "e073f62f-4c1a-4898-b8d9-953c158a04a5"
      },
      "outputs": [
        {
          "output_type": "stream",
          "name": "stdout",
          "text": [
            "Looking in indexes: https://pypi.org/simple, https://us-python.pkg.dev/colab-wheels/public/simple/\n",
            "Requirement already satisfied: gym[classic_control] in /usr/local/lib/python3.9/dist-packages (0.25.2)\n",
            "Requirement already satisfied: numpy>=1.18.0 in /usr/local/lib/python3.9/dist-packages (from gym[classic_control]) (1.22.4)\n",
            "Requirement already satisfied: gym-notices>=0.0.4 in /usr/local/lib/python3.9/dist-packages (from gym[classic_control]) (0.0.8)\n",
            "Requirement already satisfied: importlib-metadata>=4.8.0 in /usr/local/lib/python3.9/dist-packages (from gym[classic_control]) (6.0.0)\n",
            "Requirement already satisfied: cloudpickle>=1.2.0 in /usr/local/lib/python3.9/dist-packages (from gym[classic_control]) (2.2.1)\n",
            "Collecting pygame==2.1.0\n",
            "  Downloading pygame-2.1.0-cp39-cp39-manylinux_2_17_x86_64.manylinux2014_x86_64.whl (18.3 MB)\n",
            "\u001b[2K     \u001b[90m━━━━━━━━━━━━━━━━━━━━━━━━━━━━━━━━━━━━━━━━\u001b[0m \u001b[32m18.3/18.3 MB\u001b[0m \u001b[31m40.8 MB/s\u001b[0m eta \u001b[36m0:00:00\u001b[0m\n",
            "\u001b[?25hRequirement already satisfied: zipp>=0.5 in /usr/local/lib/python3.9/dist-packages (from importlib-metadata>=4.8.0->gym[classic_control]) (3.15.0)\n",
            "Installing collected packages: pygame\n",
            "Successfully installed pygame-2.1.0\n",
            "Looking in indexes: https://pypi.org/simple, https://us-python.pkg.dev/colab-wheels/public/simple/\n",
            "Collecting gym-toytext\n",
            "  Downloading gym_toytext-0.26.0-py3-none-any.whl (10 kB)\n",
            "Collecting gym>=0.26.0\n",
            "  Downloading gym-0.26.2.tar.gz (721 kB)\n",
            "\u001b[2K     \u001b[90m━━━━━━━━━━━━━━━━━━━━━━━━━━━━━━━━━━━━━━━\u001b[0m \u001b[32m721.7/721.7 KB\u001b[0m \u001b[31m9.0 MB/s\u001b[0m eta \u001b[36m0:00:00\u001b[0m\n",
            "\u001b[?25h  Installing build dependencies ... \u001b[?25l\u001b[?25hdone\n",
            "  Getting requirements to build wheel ... \u001b[?25l\u001b[?25hdone\n",
            "  Preparing metadata (pyproject.toml) ... \u001b[?25l\u001b[?25hdone\n",
            "Requirement already satisfied: cloudpickle>=1.2.0 in /usr/local/lib/python3.9/dist-packages (from gym>=0.26.0->gym-toytext) (2.2.1)\n",
            "Requirement already satisfied: numpy>=1.18.0 in /usr/local/lib/python3.9/dist-packages (from gym>=0.26.0->gym-toytext) (1.22.4)\n",
            "Requirement already satisfied: importlib-metadata>=4.8.0 in /usr/local/lib/python3.9/dist-packages (from gym>=0.26.0->gym-toytext) (6.0.0)\n",
            "Requirement already satisfied: gym-notices>=0.0.4 in /usr/local/lib/python3.9/dist-packages (from gym>=0.26.0->gym-toytext) (0.0.8)\n",
            "Requirement already satisfied: zipp>=0.5 in /usr/local/lib/python3.9/dist-packages (from importlib-metadata>=4.8.0->gym>=0.26.0->gym-toytext) (3.15.0)\n",
            "Building wheels for collected packages: gym\n",
            "  Building wheel for gym (pyproject.toml) ... \u001b[?25l\u001b[?25hdone\n",
            "  Created wheel for gym: filename=gym-0.26.2-py3-none-any.whl size=827650 sha256=f553ccb49af84a9af5784a79b8524d80535c76671757264b667c788147919a55\n",
            "  Stored in directory: /root/.cache/pip/wheels/af/2b/30/5e78b8b9599f2a2286a582b8da80594f654bf0e18d825a4405\n",
            "Successfully built gym\n",
            "Installing collected packages: gym, gym-toytext\n",
            "  Attempting uninstall: gym\n",
            "    Found existing installation: gym 0.25.2\n",
            "    Uninstalling gym-0.25.2:\n",
            "      Successfully uninstalled gym-0.25.2\n",
            "Successfully installed gym-0.26.2 gym-toytext-0.26.0\n",
            "Reading package lists... Done\n",
            "Building dependency tree       \n",
            "Reading state information... Done\n",
            "The following additional packages will be installed:\n",
            "  libpython3.10-minimal libpython3.10-stdlib python3.10-minimal\n",
            "Suggested packages:\n",
            "  python3.10-venv binfmt-support\n",
            "The following NEW packages will be installed:\n",
            "  libpython3.10-minimal libpython3.10-stdlib python3.10 python3.10-minimal\n",
            "0 upgraded, 4 newly installed, 0 to remove and 22 not upgraded.\n",
            "Need to get 5,225 kB of archives.\n",
            "After this operation, 20.2 MB of additional disk space will be used.\n",
            "Get:1 http://ppa.launchpad.net/deadsnakes/ppa/ubuntu focal/main amd64 libpython3.10-minimal amd64 3.10.10-1+focal1 [822 kB]\n",
            "Get:2 http://ppa.launchpad.net/deadsnakes/ppa/ubuntu focal/main amd64 python3.10-minimal amd64 3.10.10-1+focal1 [2,093 kB]\n",
            "Get:3 http://ppa.launchpad.net/deadsnakes/ppa/ubuntu focal/main amd64 libpython3.10-stdlib amd64 3.10.10-1+focal1 [1,759 kB]\n",
            "Get:4 http://ppa.launchpad.net/deadsnakes/ppa/ubuntu focal/main amd64 python3.10 amd64 3.10.10-1+focal1 [551 kB]\n",
            "Fetched 5,225 kB in 3s (1,736 kB/s)\n",
            "debconf: unable to initialize frontend: Dialog\n",
            "debconf: (No usable dialog-like program is installed, so the dialog based frontend cannot be used. at /usr/share/perl5/Debconf/FrontEnd/Dialog.pm line 76, <> line 4.)\n",
            "debconf: falling back to frontend: Readline\n",
            "debconf: unable to initialize frontend: Readline\n",
            "debconf: (This frontend requires a controlling tty.)\n",
            "debconf: falling back to frontend: Teletype\n",
            "dpkg-preconfigure: unable to re-open stdin: \n",
            "Selecting previously unselected package libpython3.10-minimal:amd64.\n",
            "(Reading database ... 130699 files and directories currently installed.)\n",
            "Preparing to unpack .../libpython3.10-minimal_3.10.10-1+focal1_amd64.deb ...\n",
            "Unpacking libpython3.10-minimal:amd64 (3.10.10-1+focal1) ...\n",
            "Selecting previously unselected package python3.10-minimal.\n",
            "Preparing to unpack .../python3.10-minimal_3.10.10-1+focal1_amd64.deb ...\n",
            "Unpacking python3.10-minimal (3.10.10-1+focal1) ...\n",
            "Selecting previously unselected package libpython3.10-stdlib:amd64.\n",
            "Preparing to unpack .../libpython3.10-stdlib_3.10.10-1+focal1_amd64.deb ...\n",
            "Unpacking libpython3.10-stdlib:amd64 (3.10.10-1+focal1) ...\n",
            "Selecting previously unselected package python3.10.\n",
            "Preparing to unpack .../python3.10_3.10.10-1+focal1_amd64.deb ...\n",
            "Unpacking python3.10 (3.10.10-1+focal1) ...\n",
            "Setting up libpython3.10-minimal:amd64 (3.10.10-1+focal1) ...\n",
            "Setting up python3.10-minimal (3.10.10-1+focal1) ...\n",
            "Setting up libpython3.10-stdlib:amd64 (3.10.10-1+focal1) ...\n",
            "Setting up python3.10 (3.10.10-1+focal1) ...\n",
            "Processing triggers for mime-support (3.64ubuntu1) ...\n",
            "Processing triggers for man-db (2.9.1-1) ...\n",
            "update-alternatives: using /usr/bin/python3.10 to provide /usr/bin/python3 (python3) in manual mode\n"
          ]
        }
      ],
      "source": [
        "!pip install gym pyvirtualdisplay > /dev/null 2>&1\n",
        "!apt-get install -y xvfb python-opengl ffmpeg > /dev/null 2>&1\n",
        "!pip install gym[classic_control]\n",
        "!pip install gym-toytext\n",
        "\n",
        "!sudo apt-get install python3.10\n",
        "!sudo update-alternatives --install /usr/bin/python3 python3 /usr/bin/python3.10 1\n",
        "!sudo update-alternatives --set python3 /usr/bin/python3.10"
      ]
    },
    {
      "cell_type": "code",
      "execution_count": 2,
      "metadata": {
        "id": "ZlMKi7Fx35TI"
      },
      "outputs": [],
      "source": [
        "import gym\n",
        "import gym_toytext\n",
        "import random\n",
        "import numpy as np\n",
        "from IPython import display\n",
        "from matplotlib import pyplot as plt\n",
        "from tqdm.auto import tqdm"
      ]
    },
    {
      "cell_type": "markdown",
      "metadata": {
        "id": "W-rNQLwd429z"
      },
      "source": [
        "# Problem 1\n",
        "\n",
        "*   Implement `random_blackjack()`.\n",
        "*   Run the game 50,000 times and print the percentage of games that are wins.\n",
        "\n"
      ]
    },
    {
      "cell_type": "code",
      "execution_count": 3,
      "metadata": {
        "id": "lrhUolvq45vh"
      },
      "outputs": [],
      "source": [
        "# Problem 1\n",
        "def random_blackjack(n):\n",
        "    \"\"\"\n",
        "    Play a random game of Blackjack. Determine the\n",
        "    percentage the player wins out of n times.\n",
        "    Parameters:\n",
        "        n (int): number of iterations\n",
        "    Returns:\n",
        "        percent (float): percentage that the player\n",
        "                         wins\n",
        "    \"\"\"\n",
        "    wins = 0\n",
        "\n",
        "    for _ in tqdm(range(n)):\n",
        "        # Init a new Blackjack environment\n",
        "        env = gym.make('Blackjack-v1')\n",
        "\n",
        "\n",
        "        try:\n",
        "            # Reset the environment\n",
        "            env.reset()\n",
        "\n",
        "            # Take random actions until the game terminates\n",
        "            done = False\n",
        "            while not done:\n",
        "                # The actions in the action space are 0 to stop \n",
        "                # drawing and 1 to draw another card.\n",
        "                random_action = env.action_space.sample()\n",
        "\n",
        "                # The observation (first entry in the tuple returned \n",
        "                # by step) is a tuple containing the total sum of the \n",
        "                # player’s hand, the first card of the computer’s hand, \n",
        "                # and whether the player has an ace.\n",
        "\n",
        "                # The reward (second entry in the tuple returned by step) \n",
        "                # is 1 if the player wins, -1 if the player loses, and 0 \n",
        "                # if there is a draw.\n",
        "                obs, reward, done, trunc, info = env.step(random_action)\n",
        "\n",
        "                if done:\n",
        "                    break\n",
        "        finally:\n",
        "            env.close()\n",
        "        \n",
        "        # Determine if the player or the computer won\n",
        "        if reward == 1.0:\n",
        "            wins += 1\n",
        "  \n",
        "    # Return the win percentage\n",
        "    return wins/n"
      ]
    },
    {
      "cell_type": "code",
      "execution_count": 4,
      "metadata": {
        "id": "JF-bS3gyIx4k",
        "colab": {
          "base_uri": "https://localhost:8080/",
          "height": 66,
          "referenced_widgets": [
            "c807663571744a3998dd75aec1d0bb84",
            "f77e14c1962248689b77cc3e7d98f09b",
            "ff38d1b516e9459791994177a3646959",
            "df13f102092b4ada80d3ec7c90bafc72",
            "5c9ff5e6357e42bd81e6fec8856f983b",
            "2fd911779fad4b0db1ef5d2379aded6d",
            "8d34b5ebc70249a2bc1cb58b60f0644e",
            "9cf4e03d60154873864af19ff43cb632",
            "28246397ea0e401ab742383f7c8a114b",
            "c21c51687b564b7d92828fb823d58739",
            "60274fae53d04b0885e2703276ff3c02"
          ]
        },
        "outputId": "8e3eb145-eb84-451f-8bd4-da0bdfa0ec02"
      },
      "outputs": [
        {
          "output_type": "display_data",
          "data": {
            "text/plain": [
              "  0%|          | 0/50000 [00:00<?, ?it/s]"
            ],
            "application/vnd.jupyter.widget-view+json": {
              "version_major": 2,
              "version_minor": 0,
              "model_id": "c807663571744a3998dd75aec1d0bb84"
            }
          },
          "metadata": {}
        },
        {
          "output_type": "stream",
          "name": "stdout",
          "text": [
            "Win percentage after 50000 games: 0.28068\n"
          ]
        }
      ],
      "source": [
        "n = 50000\n",
        "print(f\"Win percentage after {n} games: {random_blackjack(n)}\")"
      ]
    },
    {
      "cell_type": "markdown",
      "metadata": {
        "id": "xfZPCIMC5JmB"
      },
      "source": [
        "# Problem 2\n",
        "\n",
        "* Implement `blackjack()`.\n",
        "* For `n` = 1, 2, ..., 21, plot the win percentage after 10,000 games of Blackjack.\n",
        "* Identify which value of `n` gives the highest win rate."
      ]
    },
    {
      "cell_type": "code",
      "execution_count": 5,
      "metadata": {
        "id": "6Uv7AD8I5LWk"
      },
      "outputs": [],
      "source": [
        "# Problem 2\n",
        "def blackjack(n=11):\n",
        "    \"\"\"\n",
        "    Play blackjack with naive algorithm.\n",
        "    Parameters:\n",
        "        n (int): maximum accepted player hand\n",
        "    Return:\n",
        "        percent (float): percentage of 10000 iterations\n",
        "                         that the player wins\n",
        "    \"\"\"\n",
        "    wins = 0\n",
        "    iterations = 10000\n",
        "\n",
        "    # Run 10,000 iterations of each n\n",
        "    for _ in range(iterations):\n",
        "        # Init a new Blackjack environment\n",
        "        env = gym.make('Blackjack-v1')\n",
        "\n",
        "        try:\n",
        "            # Reset the environment\n",
        "            env.reset()\n",
        "\n",
        "            done = False\n",
        "            action = 1\n",
        "            while not done:\n",
        "                \n",
        "                obs, reward, done, trunc, info = env.step(action)\n",
        "                \n",
        "                # Draw cards until the player’s hand is more than n,\n",
        "                # then stop drawing cards until the game terminates\n",
        "                if obs[0] > n:\n",
        "                  action=0\n",
        "\n",
        "                if done:\n",
        "                    break\n",
        "        finally:\n",
        "            env.close()\n",
        "        \n",
        "        # Determine if the player or the computer won\n",
        "        if reward == 1.0:\n",
        "            wins += 1\n",
        "  \n",
        "    # Return the win percentage\n",
        "    return wins/iterations\n"
      ]
    },
    {
      "cell_type": "code",
      "execution_count": 6,
      "metadata": {
        "id": "miBtqMaVIjFJ",
        "colab": {
          "base_uri": "https://localhost:8080/",
          "height": 49,
          "referenced_widgets": [
            "ffe0bd4f83af4c75a72791ce2f9e03b6",
            "76561580adb04b97a29fe11ceac4bb5f",
            "ebad02693f2f4e33b1a6ed008cc639e0",
            "4c7e8839c2834a49851eb471b6b99d66",
            "70966f2dcac54580920d2af6cc8b15b3",
            "6cd238ab511b47428bbea7abaaf2a784",
            "900b1668dffb4cd39deb6e0575cad297",
            "8d4e160fd1d245d984866e5772dd95cc",
            "4bd6780e682249f687f3b114d8d0b581",
            "a095ba8e763547e6a2aee971b06ddb21",
            "c048b344a4324255a30310559dfd5633"
          ]
        },
        "outputId": "b51331e4-745b-476b-d7e7-e60d1f56667e"
      },
      "outputs": [
        {
          "output_type": "display_data",
          "data": {
            "text/plain": [
              "  0%|          | 0/21 [00:00<?, ?it/s]"
            ],
            "application/vnd.jupyter.widget-view+json": {
              "version_major": 2,
              "version_minor": 0,
              "model_id": "ffe0bd4f83af4c75a72791ce2f9e03b6"
            }
          },
          "metadata": {}
        }
      ],
      "source": [
        "# Calculate averages\n",
        "averages = []\n",
        "for i in tqdm(range(1,22)):\n",
        "    averages.append(blackjack(i))"
      ]
    },
    {
      "cell_type": "code",
      "source": [
        "# Plot\n",
        "plt.plot(range(1,22), averages)\n",
        "plt.title(\"Blackjack win rate using a fixed card tolerance\")\n",
        "plt.xlabel(\"Maximum card value accepted\")\n",
        "plt.ylabel(\"Percentage of wins\")\n",
        "plt.xticks(range(1,22,2))\n",
        "plt.ylim(0,1)\n",
        "plt.gca().yaxis.set_major_formatter(plt.FuncFormatter(lambda x, loc: \"{:.0%}\".format(x)))\n",
        "plt.show()\n",
        "\n",
        "# Find the top 3 values of the averages\n",
        "highest = np.argsort(averages)[-3:]\n",
        "\n",
        "print(\"Card hand maximums that had the highest win-rate:\")\n",
        "for i in range(len(highest)):\n",
        "    print(f'{i+1}: {highest[i]+1}')\n"
      ],
      "metadata": {
        "id": "X2rZ4vdDK9GG",
        "colab": {
          "base_uri": "https://localhost:8080/",
          "height": 364
        },
        "outputId": "7c10e920-ff92-4a05-f33e-316c69947ac8"
      },
      "execution_count": 7,
      "outputs": [
        {
          "output_type": "display_data",
          "data": {
            "text/plain": [
              "<Figure size 432x288 with 1 Axes>"
            ],
            "image/png": "[encoded data removed]"
          },
          "metadata": {
            "needs_background": "light"
          }
        },
        {
          "output_type": "stream",
          "name": "stdout",
          "text": [
            "Card hand maximums that had the highest win-rate:\n",
            "1: 14\n",
            "2: 3\n",
            "3: 13\n"
          ]
        }
      ]
    },
    {
      "cell_type": "markdown",
      "metadata": {
        "id": "i9xB1KaZ5OJ3"
      },
      "source": [
        "# Problem 3\n",
        "\n",
        "* Implement `cartpole()`.\n",
        "* Render the game and run your function once.\n",
        "* Run Cartpole 100 times (without rendering) and print out the average number of steps before it terminates."
      ]
    },
    {
      "cell_type": "code",
      "execution_count": 8,
      "metadata": {
        "id": "AGEUkBOx5Qbk"
      },
      "outputs": [],
      "source": [
        "# Problem 3\n",
        "def cartpole(render=False):\n",
        "    \"\"\"\n",
        "    Solve CartPole-v1 by checking the velocity\n",
        "    of the tip of the pole.\n",
        "    Parameters: \n",
        "        render (bool): If True, render environment at each step\n",
        "    Return:\n",
        "        iterations (integer): number of steps or iterations\n",
        "                              to solve the environment\n",
        "    \"\"\"\n",
        "    # Init a new CartPole environment\n",
        "    count = 0\n",
        "    render_mode = 'rgb_array' if render else None\n",
        "    env = gym.make('CartPole-v1', render_mode=render_mode)\n",
        "\n",
        "    try:\n",
        "        # Reset the environment\n",
        "        env.reset()\n",
        "\n",
        "        # Display the plot if requested\n",
        "        if render:\n",
        "          img = plt.imshow(env.render())\n",
        "          plt.axis('off')\n",
        "\n",
        "        done = False\n",
        "        action = 1\n",
        "        while not done:\n",
        "            # Get the environment space\n",
        "            obs, reward, done, trunc, info = env.step(action)\n",
        "            \n",
        "            # If the velocity is positive, move the cart\n",
        "            # to the right to balance.\n",
        "            if obs[3] > 0:\n",
        "              action=1\n",
        "            # If the velocity is negative, move the cart\n",
        "            # to the right to left.\n",
        "            else:\n",
        "              action=0\n",
        "\n",
        "              # Update visualization\n",
        "              if render:\n",
        "                  img.set_data(env.render())\n",
        "                  display.display(plt.gcf())\n",
        "                  display.clear_output(wait=True)\n",
        "            count += 1\n",
        "            \n",
        "            if done:\n",
        "                break\n",
        "    finally:\n",
        "        env.close()\n",
        "      \n",
        "    return count"
      ]
    },
    {
      "cell_type": "code",
      "execution_count": 9,
      "metadata": {
        "id": "78iSdRs6wZKb",
        "colab": {
          "base_uri": "https://localhost:8080/",
          "height": 265
        },
        "outputId": "3edf2a8e-ab7a-41b8-ff0b-497ce7523bf9"
      },
      "outputs": [
        {
          "output_type": "execute_result",
          "data": {
            "text/plain": [
              "247"
            ]
          },
          "metadata": {},
          "execution_count": 9
        },
        {
          "output_type": "display_data",
          "data": {
            "text/plain": [
              "<Figure size 432x288 with 1 Axes>"
            ],
            "image/png": "[encoded data removed]"
          },
          "metadata": {
            "needs_background": "light"
          }
        }
      ],
      "source": [
        "cartpole(True)"
      ]
    },
    {
      "cell_type": "code",
      "execution_count": 10,
      "metadata": {
        "id": "EaNbYfsuIhxN",
        "colab": {
          "base_uri": "https://localhost:8080/"
        },
        "outputId": "b1a171c3-2886-4562-bb72-4c48c3378276"
      },
      "outputs": [
        {
          "output_type": "stream",
          "name": "stdout",
          "text": [
            "Average steps before termination: 200.72277227722773\n"
          ]
        }
      ],
      "source": [
        "avg = []\n",
        "for _ in range(101):\n",
        "    avg.append(cartpole())\n",
        "\n",
        "print(f'Average steps before termination: {sum(avg)/len(avg)}')"
      ]
    },
    {
      "cell_type": "markdown",
      "metadata": {
        "id": "TPFFk0nX5U_b"
      },
      "source": [
        "# Problem 4\n",
        "\n",
        "* Implement `car()`.\n",
        "* Render the game and run your function once.\n",
        "* Run MountainCar 100 times (without rendering) and print out the average number of steps before it terminates."
      ]
    },
    {
      "cell_type": "code",
      "execution_count": 11,
      "metadata": {
        "id": "Lqq3Q6EO5Wgq"
      },
      "outputs": [],
      "source": [
        "# Problem 4\n",
        "def car(render=False):\n",
        "    \"\"\"\n",
        "    Solve MountainCar-v0 by checking the position\n",
        "    of the car.\n",
        "    Parameters: \n",
        "        render (bool): If True, render environment at each step\n",
        "    Return:\n",
        "        iterations (integer): number of steps or iterations\n",
        "                              to solve the environment\n",
        "    \"\"\"\n",
        "    # Init a new MountainCar environment\n",
        "    count = 0\n",
        "    render_mode = 'rgb_array' if render else None\n",
        "    env = gym.make('MountainCar-v0', render_mode=render_mode)\n",
        "\n",
        "    try:\n",
        "        # Reset the environment\n",
        "        env.reset()\n",
        "\n",
        "        # Display the plot if requested\n",
        "        if render:\n",
        "          img = plt.imshow(env.render())\n",
        "          plt.axis('off')\n",
        "\n",
        "        done = False\n",
        "        action = 2\n",
        "        while not done:\n",
        "            # Get the environment space\n",
        "            obs, reward, done, trunc, info = env.step(action)\n",
        "            \n",
        "            # Move to the right until the velocity is 0, then stop\n",
        "            # acceleration until velocity is 0 again\n",
        "            if obs[1] < 0:\n",
        "              action=0\n",
        "            else:\n",
        "              action=2\n",
        "        \n",
        "            # Update visualization\n",
        "            if render:\n",
        "                img.set_data(env.render())\n",
        "                display.display(plt.gcf())\n",
        "                display.clear_output(wait=True)\n",
        "            count += 1\n",
        "            \n",
        "            if done:\n",
        "                break\n",
        "    finally:\n",
        "        env.close()\n",
        "      \n",
        "    return count"
      ]
    },
    {
      "cell_type": "code",
      "execution_count": 12,
      "metadata": {
        "id": "4_kSEBYdwgnc",
        "colab": {
          "base_uri": "https://localhost:8080/",
          "height": 265
        },
        "outputId": "ce7f4f1a-d741-460b-f83a-65deaf8de278"
      },
      "outputs": [
        {
          "output_type": "execute_result",
          "data": {
            "text/plain": [
              "122"
            ]
          },
          "metadata": {},
          "execution_count": 12
        },
        {
          "output_type": "display_data",
          "data": {
            "text/plain": [
              "<Figure size 432x288 with 1 Axes>"
            ],
            "image/png": "[encoded data removed]"
          },
          "metadata": {
            "needs_background": "light"
          }
        }
      ],
      "source": [
        "car(True)"
      ]
    },
    {
      "cell_type": "code",
      "execution_count": 13,
      "metadata": {
        "id": "fUsBDn6KIgw5",
        "colab": {
          "base_uri": "https://localhost:8080/"
        },
        "outputId": "da7e8669-e467-49ca-e1b5-f379a2ecdc20"
      },
      "outputs": [
        {
          "output_type": "stream",
          "name": "stdout",
          "text": [
            "Average steps before termination: 119.12871287128714\n"
          ]
        }
      ],
      "source": [
        "avg = []\n",
        "for _ in range(101):\n",
        "    avg.append(car())\n",
        "\n",
        "print(f'Average steps before termination: {sum(avg)/len(avg)}')"
      ]
    },
    {
      "cell_type": "markdown",
      "metadata": {
        "id": "U5tSd-zE4sHZ"
      },
      "source": [
        "## Helper Function for Problem 5"
      ]
    },
    {
      "cell_type": "code",
      "execution_count": 14,
      "metadata": {
        "id": "zNNc3x9x09Zr"
      },
      "outputs": [],
      "source": [
        "def find_qvalues(env,alpha=.1,gamma=.6,epsilon=.1):\n",
        "    \"\"\"\n",
        "    Use the Q-learning algorithm to find qvalues.\n",
        "    Parameters:\n",
        "        env (str): environment name\n",
        "        alpha (float): learning rate\n",
        "        gamma (float): discount factor\n",
        "        epsilon (float): maximum value\n",
        "    Returns:\n",
        "        q_table (ndarray nxm)\n",
        "    \"\"\"\n",
        "    # Make environment\n",
        "    env = gym.make(env)\n",
        "    # Make Q-table\n",
        "    q_table = np.zeros((env.observation_space.n, env.action_space.n))\n",
        "\n",
        "    # Train\n",
        "    for i in range(1,100001):\n",
        "        # Reset state\n",
        "        state, info = env.reset()\n",
        "\n",
        "        epochs, penalties, reward, = 0,0,0\n",
        "        done = False\n",
        "\n",
        "        while not done:\n",
        "            # Accept based on alpha\n",
        "            if random.uniform(0,1) < epsilon:\n",
        "                action = env.action_space.sample()\n",
        "            else:\n",
        "                action = np.argmax(q_table[state])\n",
        "\n",
        "            # Take action\n",
        "            next_state, reward, done, truncated, info = env.step(action)\n",
        "\n",
        "            # Calculate new qvalue\n",
        "            old_value = q_table[state,action]\n",
        "            next_max = np.max(q_table[next_state])\n",
        "\n",
        "            new_value = (1-alpha) * old_value + alpha * (reward + gamma * next_max)\n",
        "            q_table[state, action] = new_value\n",
        "\n",
        "            # Check if penalty is made\n",
        "            if reward == -10:\n",
        "                penalties += 1\n",
        "\n",
        "            # Get next observation\n",
        "            state = next_state\n",
        "            epochs += 1\n",
        "\n",
        "        # Print episode number\n",
        "        if i % 100 == 0:\n",
        "            display.clear_output(wait=True)\n",
        "            print(f\"Episode: {i}\")\n",
        "\n",
        "    print(\"Training finished.\")\n",
        "    return q_table"
      ]
    },
    {
      "cell_type": "markdown",
      "metadata": {
        "id": "ZODhO4AS5YQq"
      },
      "source": [
        "# Problem 5\n",
        "\n",
        "* Initialize the \"`Taxi-v3`\" environment (without rendering), act randomly until it terminates, and print the total reward\n",
        "* Render the \"`Taxi-v3`\" environment, use the Q-table to act optimally until it terminates, and print the total reward\n",
        "* Implement `taxi()`, then use it to print the average total reward for each algorithm.\n"
      ]
    },
    {
      "cell_type": "code",
      "execution_count": 15,
      "metadata": {
        "id": "e3i-LEnYKHyz",
        "colab": {
          "base_uri": "https://localhost:8080/"
        },
        "outputId": "26a03516-90f6-4350-cb8d-24acfaa68caa"
      },
      "outputs": [
        {
          "output_type": "stream",
          "name": "stdout",
          "text": [
            "-8851\n"
          ]
        }
      ],
      "source": [
        "# Random actions Taxi game\n",
        "def taxi_random():\n",
        "    total_reward = 0\n",
        "    env = gym.make('Taxi-v3')\n",
        "\n",
        "    try:\n",
        "        # Reset the environment\n",
        "        env.reset()\n",
        "\n",
        "        # Take random actions until the game terminates\n",
        "        done = False\n",
        "        while not done:\n",
        "            random_action = env.action_space.sample()\n",
        "            obs, reward, done, trunc, info = env.step(random_action)\n",
        "            \n",
        "            # Get the total reward for all\n",
        "            total_reward += reward\n",
        "\n",
        "            if done:\n",
        "                break\n",
        "    finally:\n",
        "        env.close()\n",
        "    return total_reward\n",
        "\n",
        "print(taxi_random())"
      ]
    },
    {
      "cell_type": "code",
      "source": [
        "qtable = find_qvalues('Taxi-v3')"
      ],
      "metadata": {
        "colab": {
          "base_uri": "https://localhost:8080/"
        },
        "id": "9x2sP6aGzkUy",
        "outputId": "28a73449-cda4-45dd-aedc-3af2ce97f175"
      },
      "execution_count": 16,
      "outputs": [
        {
          "output_type": "stream",
          "name": "stdout",
          "text": [
            "Episode: 100000\n",
            "Training finished.\n"
          ]
        }
      ]
    },
    {
      "cell_type": "code",
      "execution_count": 27,
      "metadata": {
        "id": "0ejXeML7KJSJ"
      },
      "outputs": [],
      "source": [
        "# Q-table actions Taxi game\n",
        "def taxi_qtable(qtable, render=False):\n",
        "    # Reset the environment\n",
        "    render_mode = 'rgb_array' if render else None\n",
        "    env = gym.make('Taxi-v3', render_mode=render_mode)\n",
        "    \n",
        "    try:\n",
        "        # Reset the environment\n",
        "        env.reset()\n",
        "\n",
        "        # Display the plot if requested\n",
        "        if render:\n",
        "          img = plt.imshow(env.render())\n",
        "          plt.axis('off')\n",
        "\n",
        "        obs, reward, done, trunc, info = env.step(env.action_space.sample())\n",
        "        total_reward = reward\n",
        "\n",
        "        while not done:\n",
        "            # Get the environment space\n",
        "            obs, reward, done, trunc, info = env.step(np.argmax(qtable[obs]))\n",
        "            total_reward += reward\n",
        "        \n",
        "            # Update visualization\n",
        "            if render:\n",
        "                img.set_data(env.render())\n",
        "                display.display(plt.gcf())\n",
        "                display.clear_output(wait=True)\n",
        "            \n",
        "            if done:\n",
        "                break\n",
        "    finally:\n",
        "        env.close()\n",
        "        \n",
        "    return total_reward"
      ]
    },
    {
      "cell_type": "code",
      "source": [
        "print(taxi_qtable(qtable, render=True))"
      ],
      "metadata": {
        "colab": {
          "base_uri": "https://localhost:8080/",
          "height": 261
        },
        "id": "nj7qkDRcATie",
        "outputId": "ca2a99fd-fa17-4b9b-d6d9-122127b1a313"
      },
      "execution_count": 21,
      "outputs": [
        {
          "output_type": "stream",
          "name": "stdout",
          "text": [
            "13\n"
          ]
        },
        {
          "output_type": "display_data",
          "data": {
            "text/plain": [
              "<Figure size 432x288 with 1 Axes>"
            ],
            "image/png": "[encoded data removed]"
          },
          "metadata": {
            "needs_background": "light"
          }
        }
      ]
    },
    {
      "cell_type": "code",
      "execution_count": 38,
      "metadata": {
        "id": "APK2iYQV5aR4"
      },
      "outputs": [],
      "source": [
        "def taxi(q_table):\n",
        "    \"\"\"\n",
        "    Compare naive and q-learning algorithms.\n",
        "    Parameters:\n",
        "        q_table (ndarray nxm): table of qvalues\n",
        "    Returns:\n",
        "        naive (float): mean reward of naive algorithm\n",
        "                       of 1000 runs\n",
        "        q_reward (float): mean reward of Q-learning algorithm\n",
        "                          of 1000 runs\n",
        "    \"\"\"\n",
        "    def avg(arr):\n",
        "      return sum(arr)/len(arr)\n",
        "    # Declare arrays\n",
        "    iterations = 1000\n",
        "    random_avg = []\n",
        "    qtable_random = []\n",
        "\n",
        "    # Compute iterations of the game\n",
        "    for _ in tqdm(range(iterations)):\n",
        "        random_avg.append(taxi_random())\n",
        "        qtable_random.append(taxi_qtable(q_table))\n",
        "    \n",
        "    # Return the averages\n",
        "    return avg(random_avg), avg(qtable_random)"
      ]
    },
    {
      "cell_type": "code",
      "execution_count": 42,
      "metadata": {
        "id": "PhS7JR1JKOQu",
        "colab": {
          "base_uri": "https://localhost:8080/",
          "height": 49,
          "referenced_widgets": [
            "ca8d874e49e147e8bb712948bbe83586",
            "93115cbb2f184e65a89903b2769c94d5",
            "ebca0418091f4e0f8d2beabef160b7ef",
            "d5234ea17cbb422a8b5cf9958d3573bd",
            "ba8a1e7384a64f4d98f1f9d291f170e4",
            "b02951f9d9604874a299401275000f88",
            "217d0fd152b84c7fa60dc5314ab3aea3",
            "073feef7cef544d6bc61f3d489d46269",
            "6dfd9848e90949c284b69658d5c3858c",
            "c530039d0305480d9ad223c3fecf76db",
            "13dbbd30170a4dcb9baae62c106981a6"
          ]
        },
        "outputId": "06b4d360-e005-4619-ff3c-4f2ba7004e53"
      },
      "outputs": [
        {
          "output_type": "display_data",
          "data": {
            "text/plain": [
              "  0%|          | 0/1000 [00:00<?, ?it/s]"
            ],
            "application/vnd.jupyter.widget-view+json": {
              "version_major": 2,
              "version_minor": 0,
              "model_id": "ca8d874e49e147e8bb712948bbe83586"
            }
          },
          "metadata": {}
        }
      ],
      "source": [
        "# Print the average rewards of the Taxi game for both algorithms run 1000 times\n",
        "avgs = taxi(qtable)\n"
      ]
    },
    {
      "cell_type": "code",
      "source": [
        "for name, avg in zip(['naive', 'q table'], avgs):\n",
        "  print(f'Average reward for {name} algorithm: {avg}')"
      ],
      "metadata": {
        "colab": {
          "base_uri": "https://localhost:8080/"
        },
        "id": "hJPdluSwEhRD",
        "outputId": "4586e076-b9a5-4d95-db30-8a1e6eb0cf79"
      },
      "execution_count": 44,
      "outputs": [
        {
          "output_type": "stream",
          "name": "stdout",
          "text": [
            "Average reward for naive algorithm: -9594.592\n",
            "Average reward for q table algorithm: 4.086\n"
          ]
        }
      ]
    }
  ],
  "metadata": {
    "colab": {
      "provenance": []
    },
    "kernelspec": {
      "display_name": "Python 3 (ipykernel)",
      "language": "python",
      "name": "python3"
    },
    "language_info": {
      "codemirror_mode": {
        "name": "ipython",
        "version": 3
      },
      "file_extension": ".py",
      "mimetype": "text/x-python",
      "name": "python",
      "nbconvert_exporter": "python",
      "pygments_lexer": "ipython3",
      "version": "3.9.12"
    },
    "widgets": {
      "application/vnd.jupyter.widget-state+json": {
        "c807663571744a3998dd75aec1d0bb84": {
          "model_module": "@jupyter-widgets/controls",
          "model_name": "HBoxModel",
          "model_module_version": "1.5.0",
          "state": {
            "_dom_classes": [],
            "_model_module": "@jupyter-widgets/controls",
            "_model_module_version": "1.5.0",
            "_model_name": "HBoxModel",
            "_view_count": null,
            "_view_module": "@jupyter-widgets/controls",
            "_view_module_version": "1.5.0",
            "_view_name": "HBoxView",
            "box_style": "",
            "children": [
              "IPY_MODEL_f77e14c1962248689b77cc3e7d98f09b",
              "IPY_MODEL_ff38d1b516e9459791994177a3646959",
              "IPY_MODEL_df13f102092b4ada80d3ec7c90bafc72"
            ],
            "layout": "IPY_MODEL_5c9ff5e6357e42bd81e6fec8856f983b"
          }
        },
        "f77e14c1962248689b77cc3e7d98f09b": {
          "model_module": "@jupyter-widgets/controls",
          "model_name": "HTMLModel",
          "model_module_version": "1.5.0",
          "state": {
            "_dom_classes": [],
            "_model_module": "@jupyter-widgets/controls",
            "_model_module_version": "1.5.0",
            "_model_name": "HTMLModel",
            "_view_count": null,
            "_view_module": "@jupyter-widgets/controls",
            "_view_module_version": "1.5.0",
            "_view_name": "HTMLView",
            "description": "",
            "description_tooltip": null,
            "layout": "IPY_MODEL_2fd911779fad4b0db1ef5d2379aded6d",
            "placeholder": "​",
            "style": "IPY_MODEL_8d34b5ebc70249a2bc1cb58b60f0644e",
            "value": "100%"
          }
        },
        "ff38d1b516e9459791994177a3646959": {
          "model_module": "@jupyter-widgets/controls",
          "model_name": "FloatProgressModel",
          "model_module_version": "1.5.0",
          "state": {
            "_dom_classes": [],
            "_model_module": "@jupyter-widgets/controls",
            "_model_module_version": "1.5.0",
            "_model_name": "FloatProgressModel",
            "_view_count": null,
            "_view_module": "@jupyter-widgets/controls",
            "_view_module_version": "1.5.0",
            "_view_name": "ProgressView",
            "bar_style": "success",
            "description": "",
            "description_tooltip": null,
            "layout": "IPY_MODEL_9cf4e03d60154873864af19ff43cb632",
            "max": 50000,
            "min": 0,
            "orientation": "horizontal",
            "style": "IPY_MODEL_28246397ea0e401ab742383f7c8a114b",
            "value": 50000
          }
        },
        "df13f102092b4ada80d3ec7c90bafc72": {
          "model_module": "@jupyter-widgets/controls",
          "model_name": "HTMLModel",
          "model_module_version": "1.5.0",
          "state": {
            "_dom_classes": [],
            "_model_module": "@jupyter-widgets/controls",
            "_model_module_version": "1.5.0",
            "_model_name": "HTMLModel",
            "_view_count": null,
            "_view_module": "@jupyter-widgets/controls",
            "_view_module_version": "1.5.0",
            "_view_name": "HTMLView",
            "description": "",
            "description_tooltip": null,
            "layout": "IPY_MODEL_c21c51687b564b7d92828fb823d58739",
            "placeholder": "​",
            "style": "IPY_MODEL_60274fae53d04b0885e2703276ff3c02",
            "value": " 50000/50000 [00:37&lt;00:00, 1064.44it/s]"
          }
        },
        "5c9ff5e6357e42bd81e6fec8856f983b": {
          "model_module": "@jupyter-widgets/base",
          "model_name": "LayoutModel",
          "model_module_version": "1.2.0",
          "state": {
            "_model_module": "@jupyter-widgets/base",
            "_model_module_version": "1.2.0",
            "_model_name": "LayoutModel",
            "_view_count": null,
            "_view_module": "@jupyter-widgets/base",
            "_view_module_version": "1.2.0",
            "_view_name": "LayoutView",
            "align_content": null,
            "align_items": null,
            "align_self": null,
            "border": null,
            "bottom": null,
            "display": null,
            "flex": null,
            "flex_flow": null,
            "grid_area": null,
            "grid_auto_columns": null,
            "grid_auto_flow": null,
            "grid_auto_rows": null,
            "grid_column": null,
            "grid_gap": null,
            "grid_row": null,
            "grid_template_areas": null,
            "grid_template_columns": null,
            "grid_template_rows": null,
            "height": null,
            "justify_content": null,
            "justify_items": null,
            "left": null,
            "margin": null,
            "max_height": null,
            "max_width": null,
            "min_height": null,
            "min_width": null,
            "object_fit": null,
            "object_position": null,
            "order": null,
            "overflow": null,
            "overflow_x": null,
            "overflow_y": null,
            "padding": null,
            "right": null,
            "top": null,
            "visibility": null,
            "width": null
          }
        },
        "2fd911779fad4b0db1ef5d2379aded6d": {
          "model_module": "@jupyter-widgets/base",
          "model_name": "LayoutModel",
          "model_module_version": "1.2.0",
          "state": {
            "_model_module": "@jupyter-widgets/base",
            "_model_module_version": "1.2.0",
            "_model_name": "LayoutModel",
            "_view_count": null,
            "_view_module": "@jupyter-widgets/base",
            "_view_module_version": "1.2.0",
            "_view_name": "LayoutView",
            "align_content": null,
            "align_items": null,
            "align_self": null,
            "border": null,
            "bottom": null,
            "display": null,
            "flex": null,
            "flex_flow": null,
            "grid_area": null,
            "grid_auto_columns": null,
            "grid_auto_flow": null,
            "grid_auto_rows": null,
            "grid_column": null,
            "grid_gap": null,
            "grid_row": null,
            "grid_template_areas": null,
            "grid_template_columns": null,
            "grid_template_rows": null,
            "height": null,
            "justify_content": null,
            "justify_items": null,
            "left": null,
            "margin": null,
            "max_height": null,
            "max_width": null,
            "min_height": null,
            "min_width": null,
            "object_fit": null,
            "object_position": null,
            "order": null,
            "overflow": null,
            "overflow_x": null,
            "overflow_y": null,
            "padding": null,
            "right": null,
            "top": null,
            "visibility": null,
            "width": null
          }
        },
        "8d34b5ebc70249a2bc1cb58b60f0644e": {
          "model_module": "@jupyter-widgets/controls",
          "model_name": "DescriptionStyleModel",
          "model_module_version": "1.5.0",
          "state": {
            "_model_module": "@jupyter-widgets/controls",
            "_model_module_version": "1.5.0",
            "_model_name": "DescriptionStyleModel",
            "_view_count": null,
            "_view_module": "@jupyter-widgets/base",
            "_view_module_version": "1.2.0",
            "_view_name": "StyleView",
            "description_width": ""
          }
        },
        "9cf4e03d60154873864af19ff43cb632": {
          "model_module": "@jupyter-widgets/base",
          "model_name": "LayoutModel",
          "model_module_version": "1.2.0",
          "state": {
            "_model_module": "@jupyter-widgets/base",
            "_model_module_version": "1.2.0",
            "_model_name": "LayoutModel",
            "_view_count": null,
            "_view_module": "@jupyter-widgets/base",
            "_view_module_version": "1.2.0",
            "_view_name": "LayoutView",
            "align_content": null,
            "align_items": null,
            "align_self": null,
            "border": null,
            "bottom": null,
            "display": null,
            "flex": null,
            "flex_flow": null,
            "grid_area": null,
            "grid_auto_columns": null,
            "grid_auto_flow": null,
            "grid_auto_rows": null,
            "grid_column": null,
            "grid_gap": null,
            "grid_row": null,
            "grid_template_areas": null,
            "grid_template_columns": null,
            "grid_template_rows": null,
            "height": null,
            "justify_content": null,
            "justify_items": null,
            "left": null,
            "margin": null,
            "max_height": null,
            "max_width": null,
            "min_height": null,
            "min_width": null,
            "object_fit": null,
            "object_position": null,
            "order": null,
            "overflow": null,
            "overflow_x": null,
            "overflow_y": null,
            "padding": null,
            "right": null,
            "top": null,
            "visibility": null,
            "width": null
          }
        },
        "28246397ea0e401ab742383f7c8a114b": {
          "model_module": "@jupyter-widgets/controls",
          "model_name": "ProgressStyleModel",
          "model_module_version": "1.5.0",
          "state": {
            "_model_module": "@jupyter-widgets/controls",
            "_model_module_version": "1.5.0",
            "_model_name": "ProgressStyleModel",
            "_view_count": null,
            "_view_module": "@jupyter-widgets/base",
            "_view_module_version": "1.2.0",
            "_view_name": "StyleView",
            "bar_color": null,
            "description_width": ""
          }
        },
        "c21c51687b564b7d92828fb823d58739": {
          "model_module": "@jupyter-widgets/base",
          "model_name": "LayoutModel",
          "model_module_version": "1.2.0",
          "state": {
            "_model_module": "@jupyter-widgets/base",
            "_model_module_version": "1.2.0",
            "_model_name": "LayoutModel",
            "_view_count": null,
            "_view_module": "@jupyter-widgets/base",
            "_view_module_version": "1.2.0",
            "_view_name": "LayoutView",
            "align_content": null,
            "align_items": null,
            "align_self": null,
            "border": null,
            "bottom": null,
            "display": null,
            "flex": null,
            "flex_flow": null,
            "grid_area": null,
            "grid_auto_columns": null,
            "grid_auto_flow": null,
            "grid_auto_rows": null,
            "grid_column": null,
            "grid_gap": null,
            "grid_row": null,
            "grid_template_areas": null,
            "grid_template_columns": null,
            "grid_template_rows": null,
            "height": null,
            "justify_content": null,
            "justify_items": null,
            "left": null,
            "margin": null,
            "max_height": null,
            "max_width": null,
            "min_height": null,
            "min_width": null,
            "object_fit": null,
            "object_position": null,
            "order": null,
            "overflow": null,
            "overflow_x": null,
            "overflow_y": null,
            "padding": null,
            "right": null,
            "top": null,
            "visibility": null,
            "width": null
          }
        },
        "60274fae53d04b0885e2703276ff3c02": {
          "model_module": "@jupyter-widgets/controls",
          "model_name": "DescriptionStyleModel",
          "model_module_version": "1.5.0",
          "state": {
            "_model_module": "@jupyter-widgets/controls",
            "_model_module_version": "1.5.0",
            "_model_name": "DescriptionStyleModel",
            "_view_count": null,
            "_view_module": "@jupyter-widgets/base",
            "_view_module_version": "1.2.0",
            "_view_name": "StyleView",
            "description_width": ""
          }
        },
        "ffe0bd4f83af4c75a72791ce2f9e03b6": {
          "model_module": "@jupyter-widgets/controls",
          "model_name": "HBoxModel",
          "model_module_version": "1.5.0",
          "state": {
            "_dom_classes": [],
            "_model_module": "@jupyter-widgets/controls",
            "_model_module_version": "1.5.0",
            "_model_name": "HBoxModel",
            "_view_count": null,
            "_view_module": "@jupyter-widgets/controls",
            "_view_module_version": "1.5.0",
            "_view_name": "HBoxView",
            "box_style": "",
            "children": [
              "IPY_MODEL_76561580adb04b97a29fe11ceac4bb5f",
              "IPY_MODEL_ebad02693f2f4e33b1a6ed008cc639e0",
              "IPY_MODEL_4c7e8839c2834a49851eb471b6b99d66"
            ],
            "layout": "IPY_MODEL_70966f2dcac54580920d2af6cc8b15b3"
          }
        },
        "76561580adb04b97a29fe11ceac4bb5f": {
          "model_module": "@jupyter-widgets/controls",
          "model_name": "HTMLModel",
          "model_module_version": "1.5.0",
          "state": {
            "_dom_classes": [],
            "_model_module": "@jupyter-widgets/controls",
            "_model_module_version": "1.5.0",
            "_model_name": "HTMLModel",
            "_view_count": null,
            "_view_module": "@jupyter-widgets/controls",
            "_view_module_version": "1.5.0",
            "_view_name": "HTMLView",
            "description": "",
            "description_tooltip": null,
            "layout": "IPY_MODEL_6cd238ab511b47428bbea7abaaf2a784",
            "placeholder": "​",
            "style": "IPY_MODEL_900b1668dffb4cd39deb6e0575cad297",
            "value": "100%"
          }
        },
        "ebad02693f2f4e33b1a6ed008cc639e0": {
          "model_module": "@jupyter-widgets/controls",
          "model_name": "FloatProgressModel",
          "model_module_version": "1.5.0",
          "state": {
            "_dom_classes": [],
            "_model_module": "@jupyter-widgets/controls",
            "_model_module_version": "1.5.0",
            "_model_name": "FloatProgressModel",
            "_view_count": null,
            "_view_module": "@jupyter-widgets/controls",
            "_view_module_version": "1.5.0",
            "_view_name": "ProgressView",
            "bar_style": "success",
            "description": "",
            "description_tooltip": null,
            "layout": "IPY_MODEL_8d4e160fd1d245d984866e5772dd95cc",
            "max": 21,
            "min": 0,
            "orientation": "horizontal",
            "style": "IPY_MODEL_4bd6780e682249f687f3b114d8d0b581",
            "value": 21
          }
        },
        "4c7e8839c2834a49851eb471b6b99d66": {
          "model_module": "@jupyter-widgets/controls",
          "model_name": "HTMLModel",
          "model_module_version": "1.5.0",
          "state": {
            "_dom_classes": [],
            "_model_module": "@jupyter-widgets/controls",
            "_model_module_version": "1.5.0",
            "_model_name": "HTMLModel",
            "_view_count": null,
            "_view_module": "@jupyter-widgets/controls",
            "_view_module_version": "1.5.0",
            "_view_name": "HTMLView",
            "description": "",
            "description_tooltip": null,
            "layout": "IPY_MODEL_a095ba8e763547e6a2aee971b06ddb21",
            "placeholder": "​",
            "style": "IPY_MODEL_c048b344a4324255a30310559dfd5633",
            "value": " 21/21 [01:50&lt;00:00,  5.38s/it]"
          }
        },
        "70966f2dcac54580920d2af6cc8b15b3": {
          "model_module": "@jupyter-widgets/base",
          "model_name": "LayoutModel",
          "model_module_version": "1.2.0",
          "state": {
            "_model_module": "@jupyter-widgets/base",
            "_model_module_version": "1.2.0",
            "_model_name": "LayoutModel",
            "_view_count": null,
            "_view_module": "@jupyter-widgets/base",
            "_view_module_version": "1.2.0",
            "_view_name": "LayoutView",
            "align_content": null,
            "align_items": null,
            "align_self": null,
            "border": null,
            "bottom": null,
            "display": null,
            "flex": null,
            "flex_flow": null,
            "grid_area": null,
            "grid_auto_columns": null,
            "grid_auto_flow": null,
            "grid_auto_rows": null,
            "grid_column": null,
            "grid_gap": null,
            "grid_row": null,
            "grid_template_areas": null,
            "grid_template_columns": null,
            "grid_template_rows": null,
            "height": null,
            "justify_content": null,
            "justify_items": null,
            "left": null,
            "margin": null,
            "max_height": null,
            "max_width": null,
            "min_height": null,
            "min_width": null,
            "object_fit": null,
            "object_position": null,
            "order": null,
            "overflow": null,
            "overflow_x": null,
            "overflow_y": null,
            "padding": null,
            "right": null,
            "top": null,
            "visibility": null,
            "width": null
          }
        },
        "6cd238ab511b47428bbea7abaaf2a784": {
          "model_module": "@jupyter-widgets/base",
          "model_name": "LayoutModel",
          "model_module_version": "1.2.0",
          "state": {
            "_model_module": "@jupyter-widgets/base",
            "_model_module_version": "1.2.0",
            "_model_name": "LayoutModel",
            "_view_count": null,
            "_view_module": "@jupyter-widgets/base",
            "_view_module_version": "1.2.0",
            "_view_name": "LayoutView",
            "align_content": null,
            "align_items": null,
            "align_self": null,
            "border": null,
            "bottom": null,
            "display": null,
            "flex": null,
            "flex_flow": null,
            "grid_area": null,
            "grid_auto_columns": null,
            "grid_auto_flow": null,
            "grid_auto_rows": null,
            "grid_column": null,
            "grid_gap": null,
            "grid_row": null,
            "grid_template_areas": null,
            "grid_template_columns": null,
            "grid_template_rows": null,
            "height": null,
            "justify_content": null,
            "justify_items": null,
            "left": null,
            "margin": null,
            "max_height": null,
            "max_width": null,
            "min_height": null,
            "min_width": null,
            "object_fit": null,
            "object_position": null,
            "order": null,
            "overflow": null,
            "overflow_x": null,
            "overflow_y": null,
            "padding": null,
            "right": null,
            "top": null,
            "visibility": null,
            "width": null
          }
        },
        "900b1668dffb4cd39deb6e0575cad297": {
          "model_module": "@jupyter-widgets/controls",
          "model_name": "DescriptionStyleModel",
          "model_module_version": "1.5.0",
          "state": {
            "_model_module": "@jupyter-widgets/controls",
            "_model_module_version": "1.5.0",
            "_model_name": "DescriptionStyleModel",
            "_view_count": null,
            "_view_module": "@jupyter-widgets/base",
            "_view_module_version": "1.2.0",
            "_view_name": "StyleView",
            "description_width": ""
          }
        },
        "8d4e160fd1d245d984866e5772dd95cc": {
          "model_module": "@jupyter-widgets/base",
          "model_name": "LayoutModel",
          "model_module_version": "1.2.0",
          "state": {
            "_model_module": "@jupyter-widgets/base",
            "_model_module_version": "1.2.0",
            "_model_name": "LayoutModel",
            "_view_count": null,
            "_view_module": "@jupyter-widgets/base",
            "_view_module_version": "1.2.0",
            "_view_name": "LayoutView",
            "align_content": null,
            "align_items": null,
            "align_self": null,
            "border": null,
            "bottom": null,
            "display": null,
            "flex": null,
            "flex_flow": null,
            "grid_area": null,
            "grid_auto_columns": null,
            "grid_auto_flow": null,
            "grid_auto_rows": null,
            "grid_column": null,
            "grid_gap": null,
            "grid_row": null,
            "grid_template_areas": null,
            "grid_template_columns": null,
            "grid_template_rows": null,
            "height": null,
            "justify_content": null,
            "justify_items": null,
            "left": null,
            "margin": null,
            "max_height": null,
            "max_width": null,
            "min_height": null,
            "min_width": null,
            "object_fit": null,
            "object_position": null,
            "order": null,
            "overflow": null,
            "overflow_x": null,
            "overflow_y": null,
            "padding": null,
            "right": null,
            "top": null,
            "visibility": null,
            "width": null
          }
        },
        "4bd6780e682249f687f3b114d8d0b581": {
          "model_module": "@jupyter-widgets/controls",
          "model_name": "ProgressStyleModel",
          "model_module_version": "1.5.0",
          "state": {
            "_model_module": "@jupyter-widgets/controls",
            "_model_module_version": "1.5.0",
            "_model_name": "ProgressStyleModel",
            "_view_count": null,
            "_view_module": "@jupyter-widgets/base",
            "_view_module_version": "1.2.0",
            "_view_name": "StyleView",
            "bar_color": null,
            "description_width": ""
          }
        },
        "a095ba8e763547e6a2aee971b06ddb21": {
          "model_module": "@jupyter-widgets/base",
          "model_name": "LayoutModel",
          "model_module_version": "1.2.0",
          "state": {
            "_model_module": "@jupyter-widgets/base",
            "_model_module_version": "1.2.0",
            "_model_name": "LayoutModel",
            "_view_count": null,
            "_view_module": "@jupyter-widgets/base",
            "_view_module_version": "1.2.0",
            "_view_name": "LayoutView",
            "align_content": null,
            "align_items": null,
            "align_self": null,
            "border": null,
            "bottom": null,
            "display": null,
            "flex": null,
            "flex_flow": null,
            "grid_area": null,
            "grid_auto_columns": null,
            "grid_auto_flow": null,
            "grid_auto_rows": null,
            "grid_column": null,
            "grid_gap": null,
            "grid_row": null,
            "grid_template_areas": null,
            "grid_template_columns": null,
            "grid_template_rows": null,
            "height": null,
            "justify_content": null,
            "justify_items": null,
            "left": null,
            "margin": null,
            "max_height": null,
            "max_width": null,
            "min_height": null,
            "min_width": null,
            "object_fit": null,
            "object_position": null,
            "order": null,
            "overflow": null,
            "overflow_x": null,
            "overflow_y": null,
            "padding": null,
            "right": null,
            "top": null,
            "visibility": null,
            "width": null
          }
        },
        "c048b344a4324255a30310559dfd5633": {
          "model_module": "@jupyter-widgets/controls",
          "model_name": "DescriptionStyleModel",
          "model_module_version": "1.5.0",
          "state": {
            "_model_module": "@jupyter-widgets/controls",
            "_model_module_version": "1.5.0",
            "_model_name": "DescriptionStyleModel",
            "_view_count": null,
            "_view_module": "@jupyter-widgets/base",
            "_view_module_version": "1.2.0",
            "_view_name": "StyleView",
            "description_width": ""
          }
        },
        "ca8d874e49e147e8bb712948bbe83586": {
          "model_module": "@jupyter-widgets/controls",
          "model_name": "HBoxModel",
          "model_module_version": "1.5.0",
          "state": {
            "_dom_classes": [],
            "_model_module": "@jupyter-widgets/controls",
            "_model_module_version": "1.5.0",
            "_model_name": "HBoxModel",
            "_view_count": null,
            "_view_module": "@jupyter-widgets/controls",
            "_view_module_version": "1.5.0",
            "_view_name": "HBoxView",
            "box_style": "",
            "children": [
              "IPY_MODEL_93115cbb2f184e65a89903b2769c94d5",
              "IPY_MODEL_ebca0418091f4e0f8d2beabef160b7ef",
              "IPY_MODEL_d5234ea17cbb422a8b5cf9958d3573bd"
            ],
            "layout": "IPY_MODEL_ba8a1e7384a64f4d98f1f9d291f170e4"
          }
        },
        "93115cbb2f184e65a89903b2769c94d5": {
          "model_module": "@jupyter-widgets/controls",
          "model_name": "HTMLModel",
          "model_module_version": "1.5.0",
          "state": {
            "_dom_classes": [],
            "_model_module": "@jupyter-widgets/controls",
            "_model_module_version": "1.5.0",
            "_model_name": "HTMLModel",
            "_view_count": null,
            "_view_module": "@jupyter-widgets/controls",
            "_view_module_version": "1.5.0",
            "_view_name": "HTMLView",
            "description": "",
            "description_tooltip": null,
            "layout": "IPY_MODEL_b02951f9d9604874a299401275000f88",
            "placeholder": "​",
            "style": "IPY_MODEL_217d0fd152b84c7fa60dc5314ab3aea3",
            "value": "100%"
          }
        },
        "ebca0418091f4e0f8d2beabef160b7ef": {
          "model_module": "@jupyter-widgets/controls",
          "model_name": "FloatProgressModel",
          "model_module_version": "1.5.0",
          "state": {
            "_dom_classes": [],
            "_model_module": "@jupyter-widgets/controls",
            "_model_module_version": "1.5.0",
            "_model_name": "FloatProgressModel",
            "_view_count": null,
            "_view_module": "@jupyter-widgets/controls",
            "_view_module_version": "1.5.0",
            "_view_name": "ProgressView",
            "bar_style": "success",
            "description": "",
            "description_tooltip": null,
            "layout": "IPY_MODEL_073feef7cef544d6bc61f3d489d46269",
            "max": 1000,
            "min": 0,
            "orientation": "horizontal",
            "style": "IPY_MODEL_6dfd9848e90949c284b69658d5c3858c",
            "value": 1000
          }
        },
        "d5234ea17cbb422a8b5cf9958d3573bd": {
          "model_module": "@jupyter-widgets/controls",
          "model_name": "HTMLModel",
          "model_module_version": "1.5.0",
          "state": {
            "_dom_classes": [],
            "_model_module": "@jupyter-widgets/controls",
            "_model_module_version": "1.5.0",
            "_model_name": "HTMLModel",
            "_view_count": null,
            "_view_module": "@jupyter-widgets/controls",
            "_view_module_version": "1.5.0",
            "_view_name": "HTMLView",
            "description": "",
            "description_tooltip": null,
            "layout": "IPY_MODEL_c530039d0305480d9ad223c3fecf76db",
            "placeholder": "​",
            "style": "IPY_MODEL_13dbbd30170a4dcb9baae62c106981a6",
            "value": " 1000/1000 [02:04&lt;00:00, 12.27it/s]"
          }
        },
        "ba8a1e7384a64f4d98f1f9d291f170e4": {
          "model_module": "@jupyter-widgets/base",
          "model_name": "LayoutModel",
          "model_module_version": "1.2.0",
          "state": {
            "_model_module": "@jupyter-widgets/base",
            "_model_module_version": "1.2.0",
            "_model_name": "LayoutModel",
            "_view_count": null,
            "_view_module": "@jupyter-widgets/base",
            "_view_module_version": "1.2.0",
            "_view_name": "LayoutView",
            "align_content": null,
            "align_items": null,
            "align_self": null,
            "border": null,
            "bottom": null,
            "display": null,
            "flex": null,
            "flex_flow": null,
            "grid_area": null,
            "grid_auto_columns": null,
            "grid_auto_flow": null,
            "grid_auto_rows": null,
            "grid_column": null,
            "grid_gap": null,
            "grid_row": null,
            "grid_template_areas": null,
            "grid_template_columns": null,
            "grid_template_rows": null,
            "height": null,
            "justify_content": null,
            "justify_items": null,
            "left": null,
            "margin": null,
            "max_height": null,
            "max_width": null,
            "min_height": null,
            "min_width": null,
            "object_fit": null,
            "object_position": null,
            "order": null,
            "overflow": null,
            "overflow_x": null,
            "overflow_y": null,
            "padding": null,
            "right": null,
            "top": null,
            "visibility": null,
            "width": null
          }
        },
        "b02951f9d9604874a299401275000f88": {
          "model_module": "@jupyter-widgets/base",
          "model_name": "LayoutModel",
          "model_module_version": "1.2.0",
          "state": {
            "_model_module": "@jupyter-widgets/base",
            "_model_module_version": "1.2.0",
            "_model_name": "LayoutModel",
            "_view_count": null,
            "_view_module": "@jupyter-widgets/base",
            "_view_module_version": "1.2.0",
            "_view_name": "LayoutView",
            "align_content": null,
            "align_items": null,
            "align_self": null,
            "border": null,
            "bottom": null,
            "display": null,
            "flex": null,
            "flex_flow": null,
            "grid_area": null,
            "grid_auto_columns": null,
            "grid_auto_flow": null,
            "grid_auto_rows": null,
            "grid_column": null,
            "grid_gap": null,
            "grid_row": null,
            "grid_template_areas": null,
            "grid_template_columns": null,
            "grid_template_rows": null,
            "height": null,
            "justify_content": null,
            "justify_items": null,
            "left": null,
            "margin": null,
            "max_height": null,
            "max_width": null,
            "min_height": null,
            "min_width": null,
            "object_fit": null,
            "object_position": null,
            "order": null,
            "overflow": null,
            "overflow_x": null,
            "overflow_y": null,
            "padding": null,
            "right": null,
            "top": null,
            "visibility": null,
            "width": null
          }
        },
        "217d0fd152b84c7fa60dc5314ab3aea3": {
          "model_module": "@jupyter-widgets/controls",
          "model_name": "DescriptionStyleModel",
          "model_module_version": "1.5.0",
          "state": {
            "_model_module": "@jupyter-widgets/controls",
            "_model_module_version": "1.5.0",
            "_model_name": "DescriptionStyleModel",
            "_view_count": null,
            "_view_module": "@jupyter-widgets/base",
            "_view_module_version": "1.2.0",
            "_view_name": "StyleView",
            "description_width": ""
          }
        },
        "073feef7cef544d6bc61f3d489d46269": {
          "model_module": "@jupyter-widgets/base",
          "model_name": "LayoutModel",
          "model_module_version": "1.2.0",
          "state": {
            "_model_module": "@jupyter-widgets/base",
            "_model_module_version": "1.2.0",
            "_model_name": "LayoutModel",
            "_view_count": null,
            "_view_module": "@jupyter-widgets/base",
            "_view_module_version": "1.2.0",
            "_view_name": "LayoutView",
            "align_content": null,
            "align_items": null,
            "align_self": null,
            "border": null,
            "bottom": null,
            "display": null,
            "flex": null,
            "flex_flow": null,
            "grid_area": null,
            "grid_auto_columns": null,
            "grid_auto_flow": null,
            "grid_auto_rows": null,
            "grid_column": null,
            "grid_gap": null,
            "grid_row": null,
            "grid_template_areas": null,
            "grid_template_columns": null,
            "grid_template_rows": null,
            "height": null,
            "justify_content": null,
            "justify_items": null,
            "left": null,
            "margin": null,
            "max_height": null,
            "max_width": null,
            "min_height": null,
            "min_width": null,
            "object_fit": null,
            "object_position": null,
            "order": null,
            "overflow": null,
            "overflow_x": null,
            "overflow_y": null,
            "padding": null,
            "right": null,
            "top": null,
            "visibility": null,
            "width": null
          }
        },
        "6dfd9848e90949c284b69658d5c3858c": {
          "model_module": "@jupyter-widgets/controls",
          "model_name": "ProgressStyleModel",
          "model_module_version": "1.5.0",
          "state": {
            "_model_module": "@jupyter-widgets/controls",
            "_model_module_version": "1.5.0",
            "_model_name": "ProgressStyleModel",
            "_view_count": null,
            "_view_module": "@jupyter-widgets/base",
            "_view_module_version": "1.2.0",
            "_view_name": "StyleView",
            "bar_color": null,
            "description_width": ""
          }
        },
        "c530039d0305480d9ad223c3fecf76db": {
          "model_module": "@jupyter-widgets/base",
          "model_name": "LayoutModel",
          "model_module_version": "1.2.0",
          "state": {
            "_model_module": "@jupyter-widgets/base",
            "_model_module_version": "1.2.0",
            "_model_name": "LayoutModel",
            "_view_count": null,
            "_view_module": "@jupyter-widgets/base",
            "_view_module_version": "1.2.0",
            "_view_name": "LayoutView",
            "align_content": null,
            "align_items": null,
            "align_self": null,
            "border": null,
            "bottom": null,
            "display": null,
            "flex": null,
            "flex_flow": null,
            "grid_area": null,
            "grid_auto_columns": null,
            "grid_auto_flow": null,
            "grid_auto_rows": null,
            "grid_column": null,
            "grid_gap": null,
            "grid_row": null,
            "grid_template_areas": null,
            "grid_template_columns": null,
            "grid_template_rows": null,
            "height": null,
            "justify_content": null,
            "justify_items": null,
            "left": null,
            "margin": null,
            "max_height": null,
            "max_width": null,
            "min_height": null,
            "min_width": null,
            "object_fit": null,
            "object_position": null,
            "order": null,
            "overflow": null,
            "overflow_x": null,
            "overflow_y": null,
            "padding": null,
            "right": null,
            "top": null,
            "visibility": null,
            "width": null
          }
        },
        "13dbbd30170a4dcb9baae62c106981a6": {
          "model_module": "@jupyter-widgets/controls",
          "model_name": "DescriptionStyleModel",
          "model_module_version": "1.5.0",
          "state": {
            "_model_module": "@jupyter-widgets/controls",
            "_model_module_version": "1.5.0",
            "_model_name": "DescriptionStyleModel",
            "_view_count": null,
            "_view_module": "@jupyter-widgets/base",
            "_view_module_version": "1.2.0",
            "_view_name": "StyleView",
            "description_width": ""
          }
        }
      }
    }
  },
  "nbformat": 4,
  "nbformat_minor": 0
}